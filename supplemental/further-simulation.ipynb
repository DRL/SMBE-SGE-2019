{
 "cells": [
  {
   "cell_type": "code",
   "execution_count": 12,
   "metadata": {},
   "outputs": [],
   "source": [
    "import msprime\n",
    "import tskit\n",
    "import allel\n",
    "import numpy as np\n",
    "from IPython.display import SVG"
   ]
  },
  {
   "cell_type": "markdown",
   "metadata": {},
   "source": [
    "# More simulations\n",
    "\n",
    "This notebook gives some examples of more indepth simulation examples with msprime."
   ]
  },
  {
   "cell_type": "markdown",
   "metadata": {},
   "source": [
    "## Discrete time Wright-Fisher model\n",
    "\n",
    "Msprime has very recently gained support for a backwards time Wright-Fisher model. This is useful in cases where the coalescent is no longer a good approximation.\n"
   ]
  },
  {
   "cell_type": "code",
   "execution_count": 6,
   "metadata": {},
   "outputs": [
    {
     "name": "stdout",
     "output_type": "stream",
     "text": [
      "id\tflags\tpopulation\tindividual\ttime\tmetadata\n",
      "0\t1\t0\t-1\t0.00000000000000\t\n",
      "1\t1\t0\t-1\t0.00000000000000\t\n",
      "2\t1\t0\t-1\t0.00000000000000\t\n",
      "3\t1\t0\t-1\t0.00000000000000\t\n",
      "4\t1\t0\t-1\t0.00000000000000\t\n",
      "5\t1\t0\t-1\t0.00000000000000\t\n",
      "6\t0\t0\t-1\t78.00000000000000\t\n",
      "7\t0\t0\t-1\t227.00000000000000\t\n",
      "8\t0\t0\t-1\t261.00000000000000\t\n",
      "9\t0\t0\t-1\t272.00000000000000\t\n",
      "10\t0\t0\t-1\t3610.00000000000000\t\n"
     ]
    }
   ],
   "source": [
    "ts = msprime.simulate(\n",
    "    sample_size=6, Ne=1000, model=\"dtwf\", random_seed=2)\n",
    "print(ts.tables.nodes)"
   ]
  },
  {
   "cell_type": "markdown",
   "metadata": {},
   "source": [
    "Notices that all the node times are integer generations now.\n",
    "\n",
    "We can also combine the DTWF with the standard coalescent:"
   ]
  },
  {
   "cell_type": "code",
   "execution_count": 7,
   "metadata": {},
   "outputs": [
    {
     "name": "stdout",
     "output_type": "stream",
     "text": [
      "id\tflags\tpopulation\tindividual\ttime\tmetadata\n",
      "0\t1\t0\t-1\t0.00000000000000\t\n",
      "1\t1\t0\t-1\t0.00000000000000\t\n",
      "2\t1\t0\t-1\t0.00000000000000\t\n",
      "3\t1\t0\t-1\t0.00000000000000\t\n",
      "4\t1\t0\t-1\t0.00000000000000\t\n",
      "5\t1\t0\t-1\t0.00000000000000\t\n",
      "6\t0\t0\t-1\t78.00000000000000\t\n",
      "7\t0\t0\t-1\t227.00000000000000\t\n",
      "8\t0\t0\t-1\t261.00000000000000\t\n",
      "9\t0\t0\t-1\t272.00000000000000\t\n",
      "10\t0\t0\t-1\t1629.06982528980075\t\n"
     ]
    }
   ],
   "source": [
    "ts = msprime.simulate(\n",
    "    sample_size=6, Ne=1000, model=\"dtwf\", random_seed=2,\n",
    "    demographic_events=[\n",
    "        msprime.SimulationModelChange(time=500, model=\"hudson\")])\n",
    "print(ts.tables.nodes)"
   ]
  },
  {
   "cell_type": "markdown",
   "metadata": {},
   "source": [
    "If we're only interested in the recent past though, maybe we don't need to simulate the deep past **at all**. We can do this with the ``end_time`` option:"
   ]
  },
  {
   "cell_type": "code",
   "execution_count": 9,
   "metadata": {},
   "outputs": [
    {
     "name": "stdout",
     "output_type": "stream",
     "text": [
      "id\tflags\tpopulation\tindividual\ttime\tmetadata\n",
      "0\t1\t0\t-1\t0.00000000000000\t\n",
      "1\t1\t0\t-1\t0.00000000000000\t\n",
      "2\t1\t0\t-1\t0.00000000000000\t\n",
      "3\t1\t0\t-1\t0.00000000000000\t\n",
      "4\t1\t0\t-1\t0.00000000000000\t\n",
      "5\t1\t0\t-1\t0.00000000000000\t\n",
      "6\t0\t0\t-1\t78.00000000000000\t\n",
      "7\t0\t0\t-1\t227.00000000000000\t\n",
      "8\t0\t0\t-1\t261.00000000000000\t\n",
      "9\t0\t0\t-1\t272.00000000000000\t\n",
      "10\t0\t0\t-1\t500.00000000000000\t\n",
      "11\t0\t0\t-1\t500.00000000000000\t\n"
     ]
    }
   ],
   "source": [
    "ts = msprime.simulate(\n",
    "    sample_size=6, Ne=1000, model=\"dtwf\", random_seed=2, end_time=500)\n",
    "print(ts.tables.nodes)"
   ]
  },
  {
   "cell_type": "code",
   "execution_count": 13,
   "metadata": {
    "scrolled": true
   },
   "outputs": [
    {
     "data": {
      "image/svg+xml": [
       "<svg baseProfile=\"full\" height=\"200\" version=\"1.1\" width=\"200\" xmlns=\"http://www.w3.org/2000/svg\" xmlns:ev=\"http://www.w3.org/2001/xml-events\" xmlns:xlink=\"http://www.w3.org/1999/xlink\"><defs/><g id=\"lines\" stroke=\"black\"><line x1=\"65.625\" x2=\"65.625\" y1=\"92.96\" y2=\"20.0\"/><line x1=\"65.625\" x2=\"65.625\" y1=\"20.0\" y2=\"20.0\"/><line x1=\"37.5\" x2=\"37.5\" y1=\"107.36\" y2=\"92.96\"/><line x1=\"37.5\" x2=\"65.625\" y1=\"92.96\" y2=\"92.96\"/><line x1=\"25.0\" x2=\"25.0\" y1=\"180.0\" y2=\"107.36\"/><line x1=\"25.0\" x2=\"37.5\" y1=\"107.36\" y2=\"107.36\"/><line x1=\"50.0\" x2=\"50.0\" y1=\"180.0\" y2=\"107.36\"/><line x1=\"50.0\" x2=\"37.5\" y1=\"107.36\" y2=\"107.36\"/><line x1=\"93.75\" x2=\"93.75\" y1=\"96.48\" y2=\"92.96\"/><line x1=\"93.75\" x2=\"65.625\" y1=\"92.96\" y2=\"92.96\"/><line x1=\"75.0\" x2=\"75.0\" y1=\"180.0\" y2=\"96.48\"/><line x1=\"75.0\" x2=\"93.75\" y1=\"96.48\" y2=\"96.48\"/><line x1=\"112.5\" x2=\"112.5\" y1=\"155.04\" y2=\"96.48\"/><line x1=\"112.5\" x2=\"93.75\" y1=\"96.48\" y2=\"96.48\"/><line x1=\"100.0\" x2=\"100.0\" y1=\"180.0\" y2=\"155.04\"/><line x1=\"100.0\" x2=\"112.5\" y1=\"155.04\" y2=\"155.04\"/><line x1=\"125.0\" x2=\"125.0\" y1=\"180.0\" y2=\"155.04\"/><line x1=\"125.0\" x2=\"112.5\" y1=\"155.04\" y2=\"155.04\"/><line x1=\"150.0\" x2=\"150.0\" y1=\"180.0\" y2=\"20.0\"/><line x1=\"150.0\" x2=\"150.0\" y1=\"20.0\" y2=\"20.0\"/></g><g fill=\"black\" id=\"nodes\"><circle cx=\"65.625\" cy=\"20.0\" r=\"3\"/><circle cx=\"65.625\" cy=\"92.96\" r=\"3\"/><circle cx=\"37.5\" cy=\"107.36\" r=\"3\"/><circle cx=\"25.0\" cy=\"180.0\" r=\"3\"/><circle cx=\"50.0\" cy=\"180.0\" r=\"3\"/><circle cx=\"93.75\" cy=\"96.48\" r=\"3\"/><circle cx=\"75.0\" cy=\"180.0\" r=\"3\"/><circle cx=\"112.5\" cy=\"155.04\" r=\"3\"/><circle cx=\"100.0\" cy=\"180.0\" r=\"3\"/><circle cx=\"125.0\" cy=\"180.0\" r=\"3\"/><circle cx=\"150.0\" cy=\"20.0\" r=\"3\"/><circle cx=\"150.0\" cy=\"180.0\" r=\"3\"/></g><g fill=\"red\" id=\"mutations\"/><g font-size=\"14\" text-anchor=\"start\"><text x=\"98.75\" y=\"91.48\">8</text><text x=\"117.5\" y=\"150.04\">6</text></g><g font-size=\"14\" text-anchor=\"end\"><text x=\"60.625\" y=\"87.96\">9</text><text x=\"32.5\" y=\"102.36\">7</text></g><g font-size=\"14\" text-anchor=\"middle\"><text x=\"65.625\" y=\"15.0\">11</text><text x=\"25.0\" y=\"200.0\">3</text><text x=\"50.0\" y=\"200.0\">5</text><text x=\"75.0\" y=\"200.0\">1</text><text x=\"100.0\" y=\"200.0\">0</text><text x=\"125.0\" y=\"200.0\">2</text><text x=\"150.0\" y=\"15.0\">10</text><text x=\"150.0\" y=\"200.0\">4</text></g><g alignment-baseline=\"middle\" font-size=\"14\" font-style=\"italic\" text-anchor=\"start\"/><g alignment-baseline=\"middle\" font-size=\"14\" font-style=\"italic\" text-anchor=\"end\"/></svg>"
      ],
      "text/plain": [
       "<IPython.core.display.SVG object>"
      ]
     },
     "metadata": {},
     "output_type": "display_data"
    }
   ],
   "source": [
    "tree = ts.first()\n",
    "display(SVG(tree.draw()))"
   ]
  },
  {
   "cell_type": "markdown",
   "metadata": {},
   "source": [
    "This a peculiar looking tree! It has two roots, and two 'unary' edges, connecting simulated nodes to the time that the simulation finished. Tskit is perfectly happy working with trees of this type, and so you need to be aware of the possibility of trees with multiple roots."
   ]
  },
  {
   "cell_type": "code",
   "execution_count": 14,
   "metadata": {},
   "outputs": [
    {
     "name": "stdout",
     "output_type": "stream",
     "text": [
      "num roots =  2\n",
      "roots =  [11, 10]\n"
     ]
    }
   ],
   "source": [
    "print(\"num roots = \", tree.num_roots)\n",
    "print(\"roots = \", tree.roots)"
   ]
  },
  {
   "cell_type": "markdown",
   "metadata": {},
   "source": [
    "Most of the time we don't have to worry about this, so we can usually use the ``tree.root`` variable to get the root. If we try to do this when there are multiple roots, tskit will helpfully raise an error:"
   ]
  },
  {
   "cell_type": "code",
   "execution_count": 16,
   "metadata": {},
   "outputs": [
    {
     "ename": "ValueError",
     "evalue": "More than one root exists. Use tree.roots instead",
     "output_type": "error",
     "traceback": [
      "\u001b[0;31m---------------------------------------------------------------------------\u001b[0m",
      "\u001b[0;31mValueError\u001b[0m                                Traceback (most recent call last)",
      "\u001b[0;32m<ipython-input-16-cf01ff1f3aa8>\u001b[0m in \u001b[0;36m<module>\u001b[0;34m\u001b[0m\n\u001b[0;32m----> 1\u001b[0;31m \u001b[0mtree\u001b[0m\u001b[0;34m.\u001b[0m\u001b[0mroot\u001b[0m\u001b[0;34m\u001b[0m\u001b[0;34m\u001b[0m\u001b[0m\n\u001b[0m",
      "\u001b[0;32m~/.local/lib/python3.6/site-packages/tskit/trees.py\u001b[0m in \u001b[0;36mroot\u001b[0;34m(self)\u001b[0m\n\u001b[1;32m    881\u001b[0m         \u001b[0mroot\u001b[0m \u001b[0;34m=\u001b[0m \u001b[0mself\u001b[0m\u001b[0;34m.\u001b[0m\u001b[0mleft_root\u001b[0m\u001b[0;34m\u001b[0m\u001b[0;34m\u001b[0m\u001b[0m\n\u001b[1;32m    882\u001b[0m         \u001b[0;32mif\u001b[0m \u001b[0mroot\u001b[0m \u001b[0;34m!=\u001b[0m \u001b[0mNULL\u001b[0m \u001b[0;32mand\u001b[0m \u001b[0mself\u001b[0m\u001b[0;34m.\u001b[0m\u001b[0mright_sib\u001b[0m\u001b[0;34m(\u001b[0m\u001b[0mroot\u001b[0m\u001b[0;34m)\u001b[0m \u001b[0;34m!=\u001b[0m \u001b[0mNULL\u001b[0m\u001b[0;34m:\u001b[0m\u001b[0;34m\u001b[0m\u001b[0;34m\u001b[0m\u001b[0m\n\u001b[0;32m--> 883\u001b[0;31m             \u001b[0;32mraise\u001b[0m \u001b[0mValueError\u001b[0m\u001b[0;34m(\u001b[0m\u001b[0;34m\"More than one root exists. Use tree.roots instead\"\u001b[0m\u001b[0;34m)\u001b[0m\u001b[0;34m\u001b[0m\u001b[0;34m\u001b[0m\u001b[0m\n\u001b[0m\u001b[1;32m    884\u001b[0m         \u001b[0;32mreturn\u001b[0m \u001b[0mroot\u001b[0m\u001b[0;34m\u001b[0m\u001b[0;34m\u001b[0m\u001b[0m\n\u001b[1;32m    885\u001b[0m \u001b[0;34m\u001b[0m\u001b[0m\n",
      "\u001b[0;31mValueError\u001b[0m: More than one root exists. Use tree.roots instead"
     ]
    }
   ],
   "source": [
    "tree.root"
   ]
  },
  {
   "cell_type": "markdown",
   "metadata": {},
   "source": [
    "## Full ARG\n",
    "\n",
    "In msprime we usually want to simulate the coalescent with recombination and represent the output as efficiently as possible. As a result, we don’t store individual recombination events, but rather their effects on the output tree sequence. We also do not explicitly store common ancestor events that do not result in marginal coalescences. For some purposes, however, we want to get information on the full history of the simulation, not just the minimal representation of its outcome. The record_full_arg option to simulate() provides this functionality, as illustrated in the following example:"
   ]
  },
  {
   "cell_type": "code",
   "execution_count": 20,
   "metadata": {
    "scrolled": true
   },
   "outputs": [
    {
     "name": "stdout",
     "output_type": "stream",
     "text": [
      "id\tflags\tpopulation\tindividual\ttime\tmetadata\n",
      "0\t1\t0\t-1\t0.00000000000000\t\n",
      "1\t1\t0\t-1\t0.00000000000000\t\n",
      "2\t1\t0\t-1\t0.00000000000000\t\n",
      "3\t1\t0\t-1\t0.00000000000000\t\n",
      "4\t1\t0\t-1\t0.00000000000000\t\n",
      "5\t0\t0\t-1\t0.31846010419674\t\n",
      "6\t0\t0\t-1\t0.82270149120229\t\n",
      "7\t0\t0\t-1\t1.21622732856555\t\n",
      "8\t131072\t0\t-1\t1.51542116580501\t\n",
      "9\t131072\t0\t-1\t1.51542116580501\t\n",
      "10\t262144\t0\t-1\t2.12814260094490\t\n",
      "11\t0\t0\t-1\t2.16974122606933\t\n"
     ]
    },
    {
     "data": {
      "image/svg+xml": [
       "<svg baseProfile=\"full\" height=\"200\" version=\"1.1\" width=\"400\" xmlns=\"http://www.w3.org/2000/svg\" xmlns:ev=\"http://www.w3.org/2001/xml-events\" xmlns:xlink=\"http://www.w3.org/1999/xlink\"><defs><g id=\"tree_0\"><g fill=\"none\" id=\"edges\" stroke=\"black\"><path d=\"M 76.66666666666667 78.34057050915096 V 30.0 H 110.0\" id=\"edge_0_7\"/><path d=\"M 50.00000000000001 123.8549357680304 V 78.34057050915096 H 76.66666666666667\" id=\"edge_0_5\"/><path d=\"M 36.66666666666667 140.0 V 123.8549357680304 H 50.00000000000001\" id=\"edge_0_0\"/><path d=\"M 63.33333333333334 140.0 V 123.8549357680304 H 50.00000000000001\" id=\"edge_0_4\"/><path d=\"M 103.33333333333334 98.29126397888678 V 78.34057050915096 H 76.66666666666667\" id=\"edge_0_6\"/><path d=\"M 90.00000000000001 140.0 V 98.29126397888678 H 103.33333333333334\" id=\"edge_0_2\"/><path d=\"M 116.66666666666669 140.0 V 98.29126397888678 H 103.33333333333334\" id=\"edge_0_3\"/><path d=\"M 143.33333333333334 32.108937558409295 V 30.0 H 110.0\" id=\"edge_0_10\"/><path d=\"M 143.33333333333334 63.17225379888448 V 32.108937558409295 H 143.33333333333334\" id=\"edge_0_8\"/><path d=\"M 143.33333333333334 140.0 V 63.17225379888448 H 143.33333333333334\" id=\"edge_0_1\"/></g><g id=\"nodes\"><circle cx=\"110.0\" cy=\"30.0\" id=\"node_0_11\" r=\"3\"/><circle cx=\"76.66666666666667\" cy=\"78.34057050915096\" id=\"node_0_7\" r=\"3\"/><circle cx=\"50.00000000000001\" cy=\"123.8549357680304\" id=\"node_0_5\" r=\"3\"/><circle cx=\"36.66666666666667\" cy=\"140.0\" id=\"node_0_0\" r=\"3\"/><circle cx=\"63.33333333333334\" cy=\"140.0\" id=\"node_0_4\" r=\"3\"/><circle cx=\"103.33333333333334\" cy=\"98.29126397888678\" id=\"node_0_6\" r=\"3\"/><circle cx=\"90.00000000000001\" cy=\"140.0\" id=\"node_0_2\" r=\"3\"/><circle cx=\"116.66666666666669\" cy=\"140.0\" id=\"node_0_3\" r=\"3\"/><circle cx=\"143.33333333333334\" cy=\"32.108937558409295\" id=\"node_0_10\" r=\"3\"/><circle cx=\"143.33333333333334\" cy=\"63.17225379888448\" id=\"node_0_8\" r=\"3\"/><circle cx=\"143.33333333333334\" cy=\"140.0\" id=\"node_0_1\" r=\"3\"/></g><g fill=\"red\" id=\"mutations\"/><g font-size=\"14\" text-anchor=\"start\"><text x=\"108.33333333333334\" y=\"93.29126397888678\">6</text><text x=\"148.33333333333334\" y=\"27.108937558409295\">10</text></g><g font-size=\"14\" text-anchor=\"end\"><text x=\"71.66666666666667\" y=\"73.34057050915096\">7</text><text x=\"45.00000000000001\" y=\"118.8549357680304\">5</text><text x=\"138.33333333333334\" y=\"58.17225379888448\">8</text></g><g font-size=\"14\" text-anchor=\"middle\"><text x=\"110.0\" y=\"25.0\">11</text><text x=\"36.66666666666667\" y=\"160.0\">0</text><text x=\"63.33333333333334\" y=\"160.0\">4</text><text x=\"90.00000000000001\" y=\"160.0\">2</text><text x=\"116.66666666666669\" y=\"160.0\">3</text><text x=\"143.33333333333334\" y=\"160.0\">1</text></g><g alignment-baseline=\"middle\" font-size=\"14\" font-style=\"italic\" text-anchor=\"start\"/><g alignment-baseline=\"middle\" font-size=\"14\" font-style=\"italic\" text-anchor=\"end\"/></g><g id=\"tree_1\"><g fill=\"none\" id=\"edges\" stroke=\"black\"><path d=\"M 76.66666666666667 78.34057050915096 V 30.0 H 110.0\" id=\"edge_1_7\"/><path d=\"M 50.00000000000001 123.8549357680304 V 78.34057050915096 H 76.66666666666667\" id=\"edge_1_5\"/><path d=\"M 36.66666666666667 140.0 V 123.8549357680304 H 50.00000000000001\" id=\"edge_1_0\"/><path d=\"M 63.33333333333334 140.0 V 123.8549357680304 H 50.00000000000001\" id=\"edge_1_4\"/><path d=\"M 103.33333333333334 98.29126397888678 V 78.34057050915096 H 76.66666666666667\" id=\"edge_1_6\"/><path d=\"M 90.00000000000001 140.0 V 98.29126397888678 H 103.33333333333334\" id=\"edge_1_2\"/><path d=\"M 116.66666666666669 140.0 V 98.29126397888678 H 103.33333333333334\" id=\"edge_1_3\"/><path d=\"M 143.33333333333334 32.108937558409295 V 30.0 H 110.0\" id=\"edge_1_10\"/><path d=\"M 143.33333333333334 63.17225379888448 V 32.108937558409295 H 143.33333333333334\" id=\"edge_1_9\"/><path d=\"M 143.33333333333334 140.0 V 63.17225379888448 H 143.33333333333334\" id=\"edge_1_1\"/></g><g id=\"nodes\"><circle cx=\"110.0\" cy=\"30.0\" id=\"node_1_11\" r=\"3\"/><circle cx=\"76.66666666666667\" cy=\"78.34057050915096\" id=\"node_1_7\" r=\"3\"/><circle cx=\"50.00000000000001\" cy=\"123.8549357680304\" id=\"node_1_5\" r=\"3\"/><circle cx=\"36.66666666666667\" cy=\"140.0\" id=\"node_1_0\" r=\"3\"/><circle cx=\"63.33333333333334\" cy=\"140.0\" id=\"node_1_4\" r=\"3\"/><circle cx=\"103.33333333333334\" cy=\"98.29126397888678\" id=\"node_1_6\" r=\"3\"/><circle cx=\"90.00000000000001\" cy=\"140.0\" id=\"node_1_2\" r=\"3\"/><circle cx=\"116.66666666666669\" cy=\"140.0\" id=\"node_1_3\" r=\"3\"/><circle cx=\"143.33333333333334\" cy=\"32.108937558409295\" id=\"node_1_10\" r=\"3\"/><circle cx=\"143.33333333333334\" cy=\"63.17225379888448\" id=\"node_1_9\" r=\"3\"/><circle cx=\"143.33333333333334\" cy=\"140.0\" id=\"node_1_1\" r=\"3\"/></g><g fill=\"red\" id=\"mutations\"/><g font-size=\"14\" text-anchor=\"start\"><text x=\"108.33333333333334\" y=\"93.29126397888678\">6</text><text x=\"148.33333333333334\" y=\"27.108937558409295\">10</text></g><g font-size=\"14\" text-anchor=\"end\"><text x=\"71.66666666666667\" y=\"73.34057050915096\">7</text><text x=\"45.00000000000001\" y=\"118.8549357680304\">5</text><text x=\"138.33333333333334\" y=\"58.17225379888448\">9</text></g><g font-size=\"14\" text-anchor=\"middle\"><text x=\"110.0\" y=\"25.0\">11</text><text x=\"36.66666666666667\" y=\"160.0\">0</text><text x=\"63.33333333333334\" y=\"160.0\">4</text><text x=\"90.00000000000001\" y=\"160.0\">2</text><text x=\"116.66666666666669\" y=\"160.0\">3</text><text x=\"143.33333333333334\" y=\"160.0\">1</text></g><g alignment-baseline=\"middle\" font-size=\"14\" font-style=\"italic\" text-anchor=\"start\"/><g alignment-baseline=\"middle\" font-size=\"14\" font-style=\"italic\" text-anchor=\"end\"/></g></defs><use x=\"20\" xlink:href=\"#tree_0\" y=\"15\"/><use x=\"200.0\" xlink:href=\"#tree_1\" y=\"15\"/><line stroke=\"black\" x1=\"20\" x2=\"380\" y1=\"180\" y2=\"180\"/><line stroke=\"black\" x1=\"20\" x2=\"20\" y1=\"175\" y2=\"185\"/><text font-size=\"14\" font-weight=\"bold\" text-anchor=\"middle\" x=\"20\" y=\"200\">0.00</text><line stroke=\"black\" x1=\"200.0\" x2=\"200.0\" y1=\"175\" y2=\"185\"/><text font-size=\"14\" font-weight=\"bold\" text-anchor=\"middle\" x=\"200.0\" y=\"200\">0.73</text><line stroke=\"black\" x1=\"380.0\" x2=\"380.0\" y1=\"175\" y2=\"185\"/><text font-size=\"14\" font-weight=\"bold\" text-anchor=\"middle\" x=\"380.0\" y=\"200\">1.00</text></svg>"
      ],
      "text/plain": [
       "<IPython.core.display.SVG object>"
      ]
     },
     "execution_count": 20,
     "metadata": {},
     "output_type": "execute_result"
    }
   ],
   "source": [
    "ts = msprime.simulate(\n",
    "    sample_size=5, recombination_rate=0.1, record_full_arg=True, random_seed=42)\n",
    "print(ts.tables.nodes)\n",
    "\n",
    "SVG(ts.draw_svg())"
   ]
  },
  {
   "cell_type": "markdown",
   "metadata": {},
   "source": [
    "## Adding mutations to existing trees\n",
    "\n",
    "Usually in msprime we simulate mutations using the ``mutation_rate`` parameter to the simulate function. However, we can also add mutatations after the fact, using the [mutate function](https://msprime.readthedocs.io/en/latest/api.html#msprime.mutate). This approach is also a bit more flexible, as we can specify the mutation model and time interval over which we want mutations to fall."
   ]
  },
  {
   "cell_type": "code",
   "execution_count": 27,
   "metadata": {},
   "outputs": [
    {
     "name": "stdout",
     "output_type": "stream",
     "text": [
      "id\tflags\tpopulation\tindividual\ttime\tmetadata\n",
      "0\t1\t0\t-1\t0.00000000000000\t\n",
      "1\t1\t0\t-1\t0.00000000000000\t\n",
      "2\t1\t0\t-1\t0.00000000000000\t\n",
      "3\t1\t0\t-1\t0.00000000000000\t\n",
      "4\t1\t0\t-1\t0.00000000000000\t\n",
      "5\t0\t0\t-1\t0.39164207865467\t\n",
      "6\t0\t0\t-1\t0.57381488107735\t\n",
      "7\t0\t0\t-1\t2.65100837878677\t\n",
      "8\t0\t0\t-1\t5.28260394760454\t\n",
      "id\tposition\tancestral_state\tmetadata\n",
      "id\tsite\tnode\tderived_state\tparent\tmetadata\n"
     ]
    },
    {
     "data": {
      "image/svg+xml": [
       "<svg baseProfile=\"full\" height=\"200\" version=\"1.1\" width=\"200\" xmlns=\"http://www.w3.org/2000/svg\" xmlns:ev=\"http://www.w3.org/2001/xml-events\" xmlns:xlink=\"http://www.w3.org/1999/xlink\"><defs/><g id=\"tree_0\"><g fill=\"none\" id=\"edges\" stroke=\"black\"><path d=\"M 40.0 170.0 V 30.0 H 68.125\" id=\"edge_0_3\"/><path d=\"M 96.25 99.74276006467483 V 30.0 H 68.125\" id=\"edge_0_7\"/><path d=\"M 70.0 170.0 V 99.74276006467483 H 96.25\" id=\"edge_0_0\"/><path d=\"M 122.5 154.79271129397142 V 99.74276006467483 H 96.25\" id=\"edge_0_6\"/><path d=\"M 100.0 170.0 V 154.79271129397142 H 122.5\" id=\"edge_0_1\"/><path d=\"M 145.0 159.62066973873416 V 154.79271129397142 H 122.5\" id=\"edge_0_5\"/><path d=\"M 130.0 170.0 V 159.62066973873416 H 145.0\" id=\"edge_0_2\"/><path d=\"M 160.0 170.0 V 159.62066973873416 H 145.0\" id=\"edge_0_4\"/></g><g id=\"nodes\"><circle cx=\"68.125\" cy=\"30.0\" id=\"node_0_8\" r=\"3\"/><circle cx=\"40.0\" cy=\"170.0\" id=\"node_0_3\" r=\"3\"/><circle cx=\"96.25\" cy=\"99.74276006467483\" id=\"node_0_7\" r=\"3\"/><circle cx=\"70.0\" cy=\"170.0\" id=\"node_0_0\" r=\"3\"/><circle cx=\"122.5\" cy=\"154.79271129397142\" id=\"node_0_6\" r=\"3\"/><circle cx=\"100.0\" cy=\"170.0\" id=\"node_0_1\" r=\"3\"/><circle cx=\"145.0\" cy=\"159.62066973873416\" id=\"node_0_5\" r=\"3\"/><circle cx=\"130.0\" cy=\"170.0\" id=\"node_0_2\" r=\"3\"/><circle cx=\"160.0\" cy=\"170.0\" id=\"node_0_4\" r=\"3\"/></g><g fill=\"red\" id=\"mutations\"/><g font-size=\"14\" text-anchor=\"start\"><text x=\"101.25\" y=\"94.74276006467483\">7</text><text x=\"127.5\" y=\"149.79271129397142\">6</text><text x=\"150.0\" y=\"154.62066973873416\">5</text></g><g font-size=\"14\" text-anchor=\"end\"/><g font-size=\"14\" text-anchor=\"middle\"><text x=\"68.125\" y=\"25.0\">8</text><text x=\"40.0\" y=\"190.0\">3</text><text x=\"70.0\" y=\"190.0\">0</text><text x=\"100.0\" y=\"190.0\">1</text><text x=\"130.0\" y=\"190.0\">2</text><text x=\"160.0\" y=\"190.0\">4</text></g><g alignment-baseline=\"middle\" font-size=\"14\" font-style=\"italic\" text-anchor=\"start\"/><g alignment-baseline=\"middle\" font-size=\"14\" font-style=\"italic\" text-anchor=\"end\"/></g></svg>"
      ],
      "text/plain": [
       "<IPython.core.display.SVG object>"
      ]
     },
     "metadata": {},
     "output_type": "display_data"
    }
   ],
   "source": [
    "ts = msprime.simulate(5, random_seed=32)\n",
    "# Original TS has no mutations\n",
    "print(ts.tables.nodes)\n",
    "display(SVG(ts.first().draw_svg()))"
   ]
  },
  {
   "cell_type": "code",
   "execution_count": 30,
   "metadata": {},
   "outputs": [
    {
     "name": "stdout",
     "output_type": "stream",
     "text": [
      "id\tposition\tancestral_state\tmetadata\n",
      "0\t0.01376845\t0\t\n",
      "1\t0.11744338\t0\t\n",
      "2\t0.27646426\t0\t\n",
      "3\t0.39378235\t0\t\n",
      "4\t0.43772774\t0\t\n",
      "5\t0.45272981\t0\t\n",
      "6\t0.50099513\t0\t\n",
      "7\t0.50308317\t0\t\n",
      "8\t0.56119619\t0\t\n",
      "9\t0.77282662\t0\t\n",
      "10\t0.80187217\t0\t\n",
      "11\t0.87593264\t0\t\n",
      "12\t0.88264119\t0\t\n",
      "13\t0.95813936\t0\t\n",
      "14\t0.98713930\t0\t\n",
      "id\tsite\tnode\tderived_state\tparent\tmetadata\n",
      "0\t0\t3\t1\t-1\t\n",
      "1\t1\t7\t1\t-1\t\n",
      "2\t2\t0\t1\t-1\t\n",
      "3\t3\t7\t1\t-1\t\n",
      "4\t4\t1\t1\t-1\t\n",
      "5\t5\t7\t1\t-1\t\n",
      "6\t6\t6\t1\t-1\t\n",
      "7\t7\t3\t1\t-1\t\n",
      "8\t8\t3\t1\t-1\t\n",
      "9\t9\t3\t1\t-1\t\n",
      "10\t10\t0\t1\t-1\t\n",
      "11\t11\t0\t1\t-1\t\n",
      "12\t12\t3\t1\t-1\t\n",
      "13\t13\t0\t1\t-1\t\n",
      "14\t14\t7\t1\t-1\t\n"
     ]
    },
    {
     "data": {
      "image/svg+xml": [
       "<svg baseProfile=\"full\" height=\"200\" version=\"1.1\" width=\"200\" xmlns=\"http://www.w3.org/2000/svg\" xmlns:ev=\"http://www.w3.org/2001/xml-events\" xmlns:xlink=\"http://www.w3.org/1999/xlink\"><defs/><g id=\"tree_0\"><g fill=\"none\" id=\"edges\" stroke=\"black\"><path d=\"M 40.0 170.0 V 30.0 H 68.125\" id=\"edge_0_3\"/><path d=\"M 96.25 99.74276006467483 V 30.0 H 68.125\" id=\"edge_0_7\"/><path d=\"M 70.0 170.0 V 99.74276006467483 H 96.25\" id=\"edge_0_0\"/><path d=\"M 122.5 154.79271129397142 V 99.74276006467483 H 96.25\" id=\"edge_0_6\"/><path d=\"M 100.0 170.0 V 154.79271129397142 H 122.5\" id=\"edge_0_1\"/><path d=\"M 145.0 159.62066973873416 V 154.79271129397142 H 122.5\" id=\"edge_0_5\"/><path d=\"M 130.0 170.0 V 159.62066973873416 H 145.0\" id=\"edge_0_2\"/><path d=\"M 160.0 170.0 V 159.62066973873416 H 145.0\" id=\"edge_0_4\"/></g><g id=\"nodes\"><circle cx=\"68.125\" cy=\"30.0\" id=\"node_0_8\" r=\"3\"/><circle cx=\"40.0\" cy=\"170.0\" id=\"node_0_3\" r=\"3\"/><circle cx=\"96.25\" cy=\"99.74276006467483\" id=\"node_0_7\" r=\"3\"/><circle cx=\"70.0\" cy=\"170.0\" id=\"node_0_0\" r=\"3\"/><circle cx=\"122.5\" cy=\"154.79271129397142\" id=\"node_0_6\" r=\"3\"/><circle cx=\"100.0\" cy=\"170.0\" id=\"node_0_1\" r=\"3\"/><circle cx=\"145.0\" cy=\"159.62066973873416\" id=\"node_0_5\" r=\"3\"/><circle cx=\"130.0\" cy=\"170.0\" id=\"node_0_2\" r=\"3\"/><circle cx=\"160.0\" cy=\"170.0\" id=\"node_0_4\" r=\"3\"/></g><g fill=\"red\" id=\"mutations\"><rect height=\"6\" width=\"6\" x=\"37.0\" y=\"50.33333333333333\"/><rect height=\"6\" width=\"6\" x=\"37.0\" y=\"73.66666666666666\"/><rect height=\"6\" width=\"6\" x=\"37.0\" y=\"96.99999999999999\"/><rect height=\"6\" width=\"6\" x=\"37.0\" y=\"120.33333333333331\"/><rect height=\"6\" width=\"6\" x=\"37.0\" y=\"143.66666666666666\"/><rect height=\"6\" width=\"6\" x=\"93.25\" y=\"40.94855201293497\"/><rect height=\"6\" width=\"6\" x=\"93.25\" y=\"54.897104025869936\"/><rect height=\"6\" width=\"6\" x=\"93.25\" y=\"68.8456560388049\"/><rect height=\"6\" width=\"6\" x=\"93.25\" y=\"82.79420805173987\"/><rect height=\"6\" width=\"6\" x=\"67.0\" y=\"110.79420805173986\"/><rect height=\"6\" width=\"6\" x=\"67.0\" y=\"124.84565603880489\"/><rect height=\"6\" width=\"6\" x=\"67.0\" y=\"138.89710402586994\"/><rect height=\"6\" width=\"6\" x=\"67.0\" y=\"152.94855201293498\"/><rect height=\"6\" width=\"6\" x=\"119.5\" y=\"124.26773567932312\"/><rect height=\"6\" width=\"6\" x=\"97.0\" y=\"159.3963556469857\"/></g><g font-size=\"14\" text-anchor=\"start\"><text x=\"101.25\" y=\"94.74276006467483\">7</text><text x=\"127.5\" y=\"149.79271129397142\">6</text><text x=\"150.0\" y=\"154.62066973873416\">5</text></g><g font-size=\"14\" text-anchor=\"end\"/><g font-size=\"14\" text-anchor=\"middle\"><text x=\"68.125\" y=\"25.0\">8</text><text x=\"40.0\" y=\"190.0\">3</text><text x=\"70.0\" y=\"190.0\">0</text><text x=\"100.0\" y=\"190.0\">1</text><text x=\"130.0\" y=\"190.0\">2</text><text x=\"160.0\" y=\"190.0\">4</text></g><g alignment-baseline=\"middle\" font-size=\"14\" font-style=\"italic\" text-anchor=\"start\"><text x=\"101.25\" y=\"48.44855201293497\">1</text><text x=\"101.25\" y=\"62.397104025869936\">3</text><text x=\"101.25\" y=\"76.3456560388049\">5</text><text x=\"101.25\" y=\"90.29420805173987\">14</text><text x=\"127.5\" y=\"131.76773567932312\">6</text></g><g alignment-baseline=\"middle\" font-size=\"14\" font-style=\"italic\" text-anchor=\"end\"><text x=\"35.0\" y=\"57.83333333333333\">0</text><text x=\"35.0\" y=\"81.16666666666666\">7</text><text x=\"35.0\" y=\"104.49999999999999\">8</text><text x=\"35.0\" y=\"127.83333333333331\">9</text><text x=\"35.0\" y=\"151.16666666666666\">12</text><text x=\"65.0\" y=\"118.29420805173986\">2</text><text x=\"65.0\" y=\"132.3456560388049\">10</text><text x=\"65.0\" y=\"146.39710402586994\">11</text><text x=\"65.0\" y=\"160.44855201293498\">13</text><text x=\"95.0\" y=\"166.8963556469857\">4</text></g></g></svg>"
      ],
      "text/plain": [
       "<IPython.core.display.SVG object>"
      ]
     },
     "metadata": {},
     "output_type": "display_data"
    }
   ],
   "source": [
    "mutated_ts = msprime.mutate(ts, rate=1, random_seed=1234)\n",
    "print(mutated_ts.tables.sites)\n",
    "print(mutated_ts.tables.mbutations)\n",
    "display(SVG(mutated_ts.first().draw_svg()))"
   ]
  },
  {
   "cell_type": "markdown",
   "metadata": {},
   "source": [
    "We can limit the time span over which these mutations can fall:"
   ]
  },
  {
   "cell_type": "code",
   "execution_count": 31,
   "metadata": {
    "scrolled": false
   },
   "outputs": [
    {
     "name": "stdout",
     "output_type": "stream",
     "text": [
      "id\tposition\tancestral_state\tmetadata\n",
      "0\t0.77135992\t0\t\n",
      "1\t0.80187217\t0\t\n",
      "2\t0.86066977\t0\t\n",
      "id\tsite\tnode\tderived_state\tparent\tmetadata\n",
      "0\t0\t0\t1\t-1\t\n",
      "1\t1\t3\t1\t-1\t\n",
      "2\t2\t0\t1\t-1\t\n"
     ]
    },
    {
     "data": {
      "image/svg+xml": [
       "<svg baseProfile=\"full\" height=\"200\" version=\"1.1\" width=\"200\" xmlns=\"http://www.w3.org/2000/svg\" xmlns:ev=\"http://www.w3.org/2001/xml-events\" xmlns:xlink=\"http://www.w3.org/1999/xlink\"><defs/><g id=\"tree_0\"><g fill=\"none\" id=\"edges\" stroke=\"black\"><path d=\"M 40.0 170.0 V 30.0 H 68.125\" id=\"edge_0_3\"/><path d=\"M 96.25 99.74276006467483 V 30.0 H 68.125\" id=\"edge_0_7\"/><path d=\"M 70.0 170.0 V 99.74276006467483 H 96.25\" id=\"edge_0_0\"/><path d=\"M 122.5 154.79271129397142 V 99.74276006467483 H 96.25\" id=\"edge_0_6\"/><path d=\"M 100.0 170.0 V 154.79271129397142 H 122.5\" id=\"edge_0_1\"/><path d=\"M 145.0 159.62066973873416 V 154.79271129397142 H 122.5\" id=\"edge_0_5\"/><path d=\"M 130.0 170.0 V 159.62066973873416 H 145.0\" id=\"edge_0_2\"/><path d=\"M 160.0 170.0 V 159.62066973873416 H 145.0\" id=\"edge_0_4\"/></g><g id=\"nodes\"><circle cx=\"68.125\" cy=\"30.0\" id=\"node_0_8\" r=\"3\"/><circle cx=\"40.0\" cy=\"170.0\" id=\"node_0_3\" r=\"3\"/><circle cx=\"96.25\" cy=\"99.74276006467483\" id=\"node_0_7\" r=\"3\"/><circle cx=\"70.0\" cy=\"170.0\" id=\"node_0_0\" r=\"3\"/><circle cx=\"122.5\" cy=\"154.79271129397142\" id=\"node_0_6\" r=\"3\"/><circle cx=\"100.0\" cy=\"170.0\" id=\"node_0_1\" r=\"3\"/><circle cx=\"145.0\" cy=\"159.62066973873416\" id=\"node_0_5\" r=\"3\"/><circle cx=\"130.0\" cy=\"170.0\" id=\"node_0_2\" r=\"3\"/><circle cx=\"160.0\" cy=\"170.0\" id=\"node_0_4\" r=\"3\"/></g><g fill=\"red\" id=\"mutations\"><rect height=\"6\" width=\"6\" x=\"37.0\" y=\"97.0\"/><rect height=\"6\" width=\"6\" x=\"67.0\" y=\"120.16184004311656\"/><rect height=\"6\" width=\"6\" x=\"67.0\" y=\"143.58092002155828\"/></g><g font-size=\"14\" text-anchor=\"start\"><text x=\"101.25\" y=\"94.74276006467483\">7</text><text x=\"127.5\" y=\"149.79271129397142\">6</text><text x=\"150.0\" y=\"154.62066973873416\">5</text></g><g font-size=\"14\" text-anchor=\"end\"/><g font-size=\"14\" text-anchor=\"middle\"><text x=\"68.125\" y=\"25.0\">8</text><text x=\"40.0\" y=\"190.0\">3</text><text x=\"70.0\" y=\"190.0\">0</text><text x=\"100.0\" y=\"190.0\">1</text><text x=\"130.0\" y=\"190.0\">2</text><text x=\"160.0\" y=\"190.0\">4</text></g><g alignment-baseline=\"middle\" font-size=\"14\" font-style=\"italic\" text-anchor=\"start\"/><g alignment-baseline=\"middle\" font-size=\"14\" font-style=\"italic\" text-anchor=\"end\"><text x=\"35.0\" y=\"104.5\">1</text><text x=\"65.0\" y=\"127.66184004311656\">0</text><text x=\"65.0\" y=\"151.08092002155828\">2</text></g></g></svg>"
      ],
      "text/plain": [
       "<IPython.core.display.SVG object>"
      ]
     },
     "metadata": {},
     "output_type": "display_data"
    }
   ],
   "source": [
    "mutated_ts = msprime.mutate(ts, rate=1, start_time=0.5, end_time=2.0, random_seed=1234)\n",
    "print(mutated_ts.tables.sites)\n",
    "print(mutated_ts.tables.mutations)\n",
    "display(SVG(mutated_ts.first().draw_svg()))"
   ]
  },
  {
   "cell_type": "markdown",
   "metadata": {},
   "source": [
    "We can also use the ``model`` argument to tell msprime to use the ACGT alphabet rather than 0/1:"
   ]
  },
  {
   "cell_type": "code",
   "execution_count": 34,
   "metadata": {
    "scrolled": false
   },
   "outputs": [
    {
     "name": "stdout",
     "output_type": "stream",
     "text": [
      "id\tposition\tancestral_state\tmetadata\n",
      "0\t0.01376845\tA\t\n",
      "1\t0.11744338\tT\t\n",
      "2\t0.27646426\tA\t\n",
      "3\t0.39378235\tG\t\n",
      "4\t0.43772774\tG\t\n",
      "5\t0.45272981\tC\t\n",
      "6\t0.50099513\tC\t\n",
      "7\t0.50308317\tC\t\n",
      "8\t0.56119619\tA\t\n",
      "9\t0.77282662\tC\t\n",
      "10\t0.80187217\tT\t\n",
      "11\t0.87593264\tA\t\n",
      "12\t0.88264119\tA\t\n",
      "13\t0.95813936\tA\t\n",
      "14\t0.98713930\tC\t\n",
      "id\tsite\tnode\tderived_state\tparent\tmetadata\n",
      "0\t0\t3\tC\t-1\t\n",
      "1\t1\t7\tG\t-1\t\n",
      "2\t2\t0\tT\t-1\t\n",
      "3\t3\t7\tC\t-1\t\n",
      "4\t4\t1\tC\t-1\t\n",
      "5\t5\t7\tG\t-1\t\n",
      "6\t6\t6\tT\t-1\t\n",
      "7\t7\t3\tT\t-1\t\n",
      "8\t8\t3\tC\t-1\t\n",
      "9\t9\t3\tA\t-1\t\n",
      "10\t10\t0\tA\t-1\t\n",
      "11\t11\t0\tG\t-1\t\n",
      "12\t12\t3\tT\t-1\t\n",
      "13\t13\t0\tG\t-1\t\n",
      "14\t14\t7\tG\t-1\t\n"
     ]
    }
   ],
   "source": [
    "mutated_ts = msprime.mutate(\n",
    "    ts, rate=1, model=msprime.InfiniteSites(msprime.NUCLEOTIDES),\n",
    "    random_seed=1234)\n",
    "print(mutated_ts.tables.sites)\n",
    "print(mutated_ts.tables.mutations)"
   ]
  },
  {
   "cell_type": "code",
   "execution_count": 38,
   "metadata": {},
   "outputs": [
    {
     "name": "stdout",
     "output_type": "stream",
     "text": [
      "0.01376845221966505\t('A', 'C')\t[0 0 0 1 0]\n",
      "0.11744338320568204\t('T', 'G')\t[1 1 1 0 1]\n",
      "0.27646425971761346\t('A', 'T')\t[1 0 0 0 0]\n",
      "0.39378235023468733\t('G', 'C')\t[1 1 1 0 1]\n",
      "0.4377277372404933\t('G', 'C')\t[0 1 0 0 0]\n",
      "0.45272980886511505\t('C', 'G')\t[1 1 1 0 1]\n",
      "0.5009951256215572\t('C', 'T')\t[0 1 1 0 1]\n",
      "0.5030831657350063\t('C', 'T')\t[0 0 0 1 0]\n",
      "0.561196189140901\t('A', 'C')\t[0 0 0 1 0]\n",
      "0.7728266199119389\t('C', 'A')\t[0 0 0 1 0]\n",
      "0.8018721740227193\t('T', 'A')\t[1 0 0 0 0]\n",
      "0.8759326399303973\t('A', 'G')\t[1 0 0 0 0]\n",
      "0.8826411948539317\t('A', 'T')\t[0 0 0 1 0]\n",
      "0.9581393552944064\t('A', 'G')\t[1 0 0 0 0]\n",
      "0.9871393032371998\t('C', 'G')\t[1 1 1 0 1]\n"
     ]
    }
   ],
   "source": [
    "for var in mutated_ts.variants():\n",
    "    print(var.position, var.alleles, var.genotypes, sep=\"\\t\")"
   ]
  },
  {
   "cell_type": "markdown",
   "metadata": {},
   "source": [
    "Tskit can handle arbitrarily complex patterns of single-site mutations, but unfortunately msprime doesn't have support for mutation models like Jukes-Cantor. Hopefully someone will implement this some day..."
   ]
  }
 ],
 "metadata": {
  "kernelspec": {
   "display_name": "Python 3",
   "language": "python",
   "name": "python3"
  },
  "language_info": {
   "codemirror_mode": {
    "name": "ipython",
    "version": 3
   },
   "file_extension": ".py",
   "mimetype": "text/x-python",
   "name": "python",
   "nbconvert_exporter": "python",
   "pygments_lexer": "ipython3",
   "version": "3.6.7"
  }
 },
 "nbformat": 4,
 "nbformat_minor": 2
}
