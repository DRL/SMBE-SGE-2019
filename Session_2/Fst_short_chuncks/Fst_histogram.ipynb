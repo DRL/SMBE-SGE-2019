{
 "cells": [
  {
   "cell_type": "code",
   "execution_count": 1,
   "metadata": {},
   "outputs": [],
   "source": [
    "import pandas as pd\n",
    "import seaborn as sns\n",
    "import matplotlib.pyplot as plt\n",
    "import numpy as np\n",
    "%matplotlib inline"
   ]
  },
  {
   "cell_type": "code",
   "execution_count": 8,
   "metadata": {},
   "outputs": [],
   "source": [
    "#histogram for unlinked windows 32kb\n",
    "basic_short = pd.read_csv('basic_short_all.csv')\n",
    "basic_short.drop(basic_short.columns[[0, 1]], axis=1, inplace=True)\n",
    "current_winner_short = pd.read_csv('current_winner_short_all.csv')\n",
    "current_winner_short.drop(current_winner_short.columns[[0, 1]], axis=1, inplace=True)"
   ]
  },
  {
   "cell_type": "code",
   "execution_count": 11,
   "metadata": {},
   "outputs": [
    {
     "data": {
      "text/plain": [
       "(0.4104954085415107, 0.19562417742896332)"
      ]
     },
     "execution_count": 11,
     "metadata": {},
     "output_type": "execute_result"
    }
   ],
   "source": [
    "cutoff = (basic_short['Fst'].quantile(0.95), current_winner_short['Fst'].quantile(0.95))\n",
    "cutoff"
   ]
  },
  {
   "cell_type": "code",
   "execution_count": 6,
   "metadata": {},
   "outputs": [
    {
     "data": {
      "text/html": [
       "<div>\n",
       "<style scoped>\n",
       "    .dataframe tbody tr th:only-of-type {\n",
       "        vertical-align: middle;\n",
       "    }\n",
       "\n",
       "    .dataframe tbody tr th {\n",
       "        vertical-align: top;\n",
       "    }\n",
       "\n",
       "    .dataframe thead th {\n",
       "        text-align: right;\n",
       "    }\n",
       "</style>\n",
       "<table border=\"1\" class=\"dataframe\">\n",
       "  <thead>\n",
       "    <tr style=\"text-align: right;\">\n",
       "      <th></th>\n",
       "      <th>window_id</th>\n",
       "      <th>hetA</th>\n",
       "      <th>hetB</th>\n",
       "      <th>hetAB</th>\n",
       "      <th>fixed</th>\n",
       "      <th>multiallelic</th>\n",
       "      <th>missing</th>\n",
       "      <th>pi_A</th>\n",
       "      <th>pi_B</th>\n",
       "      <th>d_xy</th>\n",
       "      <th>f_st</th>\n",
       "    </tr>\n",
       "  </thead>\n",
       "  <tbody>\n",
       "    <tr>\n",
       "      <th>0</th>\n",
       "      <td>chr1_0_32000</td>\n",
       "      <td>0.014975</td>\n",
       "      <td>0.015242</td>\n",
       "      <td>0.003468</td>\n",
       "      <td>0.008766</td>\n",
       "      <td>0.0</td>\n",
       "      <td>0.0</td>\n",
       "      <td>0.018443</td>\n",
       "      <td>0.018710</td>\n",
       "      <td>0.025608</td>\n",
       "      <td>0.159145</td>\n",
       "    </tr>\n",
       "    <tr>\n",
       "      <th>1</th>\n",
       "      <td>chr1_6400_38400</td>\n",
       "      <td>0.014627</td>\n",
       "      <td>0.015073</td>\n",
       "      <td>0.003362</td>\n",
       "      <td>0.008500</td>\n",
       "      <td>0.0</td>\n",
       "      <td>0.0</td>\n",
       "      <td>0.017989</td>\n",
       "      <td>0.018435</td>\n",
       "      <td>0.025031</td>\n",
       "      <td>0.157697</td>\n",
       "    </tr>\n",
       "    <tr>\n",
       "      <th>2</th>\n",
       "      <td>chr1_12800_44800</td>\n",
       "      <td>0.014254</td>\n",
       "      <td>0.015976</td>\n",
       "      <td>0.003279</td>\n",
       "      <td>0.008618</td>\n",
       "      <td>0.0</td>\n",
       "      <td>0.0</td>\n",
       "      <td>0.017533</td>\n",
       "      <td>0.019255</td>\n",
       "      <td>0.025372</td>\n",
       "      <td>0.159446</td>\n",
       "    </tr>\n",
       "    <tr>\n",
       "      <th>3</th>\n",
       "      <td>chr1_19200_51200</td>\n",
       "      <td>0.014103</td>\n",
       "      <td>0.015471</td>\n",
       "      <td>0.003154</td>\n",
       "      <td>0.008766</td>\n",
       "      <td>0.0</td>\n",
       "      <td>0.0</td>\n",
       "      <td>0.017257</td>\n",
       "      <td>0.018625</td>\n",
       "      <td>0.025130</td>\n",
       "      <td>0.166899</td>\n",
       "    </tr>\n",
       "    <tr>\n",
       "      <th>4</th>\n",
       "      <td>chr1_25600_57600</td>\n",
       "      <td>0.013710</td>\n",
       "      <td>0.015622</td>\n",
       "      <td>0.002958</td>\n",
       "      <td>0.008710</td>\n",
       "      <td>0.0</td>\n",
       "      <td>0.0</td>\n",
       "      <td>0.016669</td>\n",
       "      <td>0.018581</td>\n",
       "      <td>0.024856</td>\n",
       "      <td>0.170214</td>\n",
       "    </tr>\n",
       "  </tbody>\n",
       "</table>\n",
       "</div>"
      ],
      "text/plain": [
       "          window_id      hetA      hetB     hetAB     fixed  multiallelic  \\\n",
       "0      chr1_0_32000  0.014975  0.015242  0.003468  0.008766           0.0   \n",
       "1   chr1_6400_38400  0.014627  0.015073  0.003362  0.008500           0.0   \n",
       "2  chr1_12800_44800  0.014254  0.015976  0.003279  0.008618           0.0   \n",
       "3  chr1_19200_51200  0.014103  0.015471  0.003154  0.008766           0.0   \n",
       "4  chr1_25600_57600  0.013710  0.015622  0.002958  0.008710           0.0   \n",
       "\n",
       "   missing      pi_A      pi_B      d_xy      f_st  \n",
       "0      0.0  0.018443  0.018710  0.025608  0.159145  \n",
       "1      0.0  0.017989  0.018435  0.025031  0.157697  \n",
       "2      0.0  0.017533  0.019255  0.025372  0.159446  \n",
       "3      0.0  0.017257  0.018625  0.025130  0.166899  \n",
       "4      0.0  0.016669  0.018581  0.024856  0.170214  "
      ]
     },
     "execution_count": 6,
     "metadata": {},
     "output_type": "execute_result"
    }
   ],
   "source": [
    "#Fst values from blocktools for same parameter settings but sequences of 3.2Mb\n",
    "basic_model_blocks = pd.read_csv('basic.window.variant.tsv', sep='\\t')\n",
    "current_winner_blocks = pd.read_csv('winner.window.variant.tsv', sep='\\t')\n",
    "current_winner_blocks.head()"
   ]
  },
  {
   "cell_type": "code",
   "execution_count": 12,
   "metadata": {},
   "outputs": [
    {
     "data": {
      "text/plain": [
       "(0, 0.5)"
      ]
     },
     "execution_count": 12,
     "metadata": {},
     "output_type": "execute_result"
    },
    {
     "data": {
      "image/png": "[encoded data removed]",
      "text/plain": [
       "<Figure size 1152x648 with 1 Axes>"
      ]
     },
     "metadata": {
      "needs_background": "light"
     },
     "output_type": "display_data"
    }
   ],
   "source": [
    "fig, ax = plt.subplots(figsize=(16,9))\n",
    "sns.distplot(current_winner_short['Fst'], label='current winner', norm_hist=True)\n",
    "sns.distplot(basic_short['Fst'], label='basic model', norm_hist=True)\n",
    "sns.distplot(current_winner_blocks['f_st'], label='current winner blocks', norm_hist=True)\n",
    "sns.distplot(basic_model_blocks['f_st'], label='basic model blocks', norm_hist=True)\n",
    "plt.legend()\n",
    "ax.set_xlim((0, 0.5))"
   ]
  },
  {
   "cell_type": "code",
   "execution_count": 29,
   "metadata": {},
   "outputs": [],
   "source": [
    "#for basic model expectation\n",
    "def expected_Fst(splitT, Ne):\n",
    "    within = 2*Ne\n",
    "    between = splitT + 2*Ne\n",
    "    total = np.mean([within, between])\n",
    "    return (total-within)/total"
   ]
  },
  {
   "cell_type": "code",
   "execution_count": 30,
   "metadata": {},
   "outputs": [
    {
     "data": {
      "text/plain": [
       "(0.41176407474101906, 0.4114637798971432)"
      ]
     },
     "execution_count": 30,
     "metadata": {},
     "output_type": "execute_result"
    }
   ],
   "source": [
    "#compare theoretically expected value to mean Fst value for simulated sequences\n",
    "(expected_Fst(splitT = 6.90789e6, Ne=2.46711e6), basic_model_blocks['f_st'].mean())"
   ]
  }
 ],
 "metadata": {
  "kernelspec": {
   "display_name": "slm",
   "language": "python",
   "name": "slm"
  },
  "language_info": {
   "codemirror_mode": {
    "name": "ipython",
    "version": 3
   },
   "file_extension": ".py",
   "mimetype": "text/x-python",
   "name": "python",
   "nbconvert_exporter": "python",
   "pygments_lexer": "ipython3",
   "version": "3.6.7"
  }
 },
 "nbformat": 4,
 "nbformat_minor": 2
}
