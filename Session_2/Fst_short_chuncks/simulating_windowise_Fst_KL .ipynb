{
 "cells": [
  {
   "cell_type": "markdown",
   "metadata": {},
   "source": [
    "# Simulating null distributions for outlier scans"
   ]
  },
  {
   "cell_type": "code",
   "execution_count": 240,
   "metadata": {},
   "outputs": [],
   "source": [
    "import msprime, tskit\n",
    "import pandas as pd\n",
    "import seaborn as sns\n",
    "import matplotlib.pyplot as plt\n",
    "import numpy as np\n",
    "%matplotlib inline"
   ]
  },
  {
   "cell_type": "markdown",
   "metadata": {},
   "source": [
    "#Fst measure of diff between two sets..\n",
    "\n",
    "We are interested in understanding the divergence between two species and have been analysing $F_{st}$ in windows of 32kb for a sample of 5 diploid individuals per species and have observed some tantalizing outliers:"
   ]
  },
  {
   "cell_type": "code",
   "execution_count": null,
   "metadata": {},
   "outputs": [],
   "source": [
    "#Import Fst scan for chromosome 18 for Heliconius melpomene and Heliconius cydno\n",
    "basic_short = pd.read_csv('basic_short_all.csv')\n",
    "fig, ax = plt.subplots(figsize=(16,9))\n",
    "sns.lineplot(slm_fwd_long['start'], slm_fwd_long['Fst'])\n",
    "ax.set_ylim((0,0.6))"
   ]
  },
  {
   "cell_type": "markdown",
   "metadata": {},
   "source": [
    "### A super simple toy example"
   ]
  },
  {
   "cell_type": "markdown",
   "metadata": {},
   "source": [
    "We want to get a feel for the distribution of $F_{st}$ under a really simple null model given 32kb windows and a realistic recombination rate of 1.84 10^-8 (average $r$ per base from Davey et al. 2017). To define a history of strict divergence (i.e. no gene flow) at time $T=0.5$ ($\\times 2N_e$ generations) between two populations of equal size ($N_e=500000$) in msprime:"
   ]
  },
  {
   "cell_type": "code",
   "execution_count": 241,
   "metadata": {},
   "outputs": [],
   "source": [
    "#number of samples (2Xof diploid individuals) per deme:\n",
    "sample_size = 10\n",
    "\n",
    "#Rates for migration, recombination and mutation are unscaled and per generation:\n",
    "seqLength = 32e3 \n",
    "recr = 1.84675e-8\n",
    "Ne = 5e5\n",
    "splitT = 5e5\n",
    "\n",
    "population_configurations = [\n",
    "    msprime.PopulationConfiguration(sample_size=sample_size, initial_size=Ne),\n",
    "    msprime.PopulationConfiguration(sample_size=sample_size, initial_size=Ne),\n",
    "    ]\n",
    "#demographic events are specified in the order they occur backwards in time:\n",
    "# MassMigration specifies the split between population 0 and 1: \n",
    "# backwards in time all lineages from the smaller population (1) are derived from pop (0)\n",
    "# at time T \n",
    "demographic_events = [\n",
    "    msprime.MassMigration(time=splitT, source=1, destination=0, proportion=1.0),\n",
    "    ]"
   ]
  },
  {
   "cell_type": "markdown",
   "metadata": {},
   "source": [
    "We want to simulate a largish - say 200 - number of replicate windows under this history in msprime. Simulations are pseudorandom, i.e. we start by generating a vector of random seeds:"
   ]
  },
  {
   "cell_type": "code",
   "execution_count": 266,
   "metadata": {},
   "outputs": [],
   "source": [
    "#Jerome, did we we use the seed correctly?  \n",
    "num_reps = 10\n",
    "seed = np.random.randint(1, 2**32 - 1, 1)\n",
    "#seed = np.random.randint(1, 2**32 - 1, 1)\n",
    "replicates = msprime.simulate(\n",
    "        num_replicates = num_reps,\n",
    "        length = seqLength, \n",
    "        recombination_rate = recr,\n",
    "        population_configurations = population_configurations,\n",
    "        demographic_events = demographic_events,\n",
    "        random_seed=seed)"
   ]
  },
  {
   "cell_type": "markdown",
   "metadata": {},
   "source": [
    "Note that we have not specified any mutation rate, the code-chunk above is a generator fpr simulating tree sequences only!\n",
    "\n",
    "We can compute any summary statistic that can be defined in terms of branch lenghts directly from the treesequences. We will use the following $F_{st}$ definition:\n",
    "\n",
    "$F_{st}= \\frac{T_b-T_w}{T_b+T_w}$\n",
    "\n",
    "where $T_w$ and $T_b$ are the average pairwise coalescence times for a pair of lineages sampled within and between species respectively. Therefore, an estimator of $F_{st}$ is:\n",
    "\n",
    "$\\hat{F_{st}}= \\frac{d_{xy}-\\pi}{d_{xy}+\\pi}$\n",
    "\n",
    "Note that the above follows from the general definition of $F_{st}$ in terms of expected pairwise coalescence times:\n",
    "\n",
    "$F_{st}= \\frac{T_t-T_w}{T_{t}}$\n",
    "\n",
    "Where $T_t$ is the average for a pairwise sample taken at random. For the case of pops/species we assume that we are equally likely to sample from within and between species, so:\n",
    "\n",
    "$T_t=(T_b + T_w)/2$"
   ]
  },
  {
   "cell_type": "markdown",
   "metadata": {},
   "source": [
    "We can use the tskit.BranchLengthStatCalculator(ts) to calculate any summary statistic than can be defined in terms of branch lengths in the ancestral recombination graph (this ignores the mutational variance in $F_{st}$ which however is small given the windowsize). A function for computing $F_{st}$ is built in:\n",
    "\n",
    "#KL: Insert pict of 1st 3 trees\n",
    "\n",
    "Simulating 200 replicates takes about 3 minutes: \n",
    "#KL Update with tskit version."
   ]
  },
  {
   "cell_type": "code",
   "execution_count": 246,
   "metadata": {},
   "outputs": [],
   "source": [
    "def Fst(div_entry):\n",
    "    A = np.mean((div_entry.diagonal()))\n",
    "    B = div_entry[1,0]\n",
    "    return (B-A)/(A+B)\n",
    "\n",
    "def calculate_Fst(ts, samplesets, function=Fst):\n",
    "    winlen = [0,ts.sequence_length]\n",
    "    BranchStat = tskit.BranchLengthStatCalculator(ts)\n",
    "    div_matrix = BranchStat.divergence_matrix(samplesets,winlen)\n",
    "    Fst_result = list(map(function, div_matrix))\n",
    "    return Fst_result"
   ]
  },
  {
   "cell_type": "markdown",
   "metadata": {},
   "source": [
    "We define an empty numpy array and insert $F_{st}$ estimates for each replicate: "
   ]
  },
  {
   "cell_type": "code",
   "execution_count": 247,
   "metadata": {},
   "outputs": [],
   "source": [
    "fstSims = np.zeros(num_reps)\n",
    "for index, ts in enumerate(replicates):\n",
    "    p1 = list(ts.get_samples(0))\n",
    "    p2 = list(ts.get_samples(1))\n",
    "    fstSims[index] = calculate_Fst(ts,samplesets=[p1,p2])[0]"
   ]
  },
  {
   "cell_type": "markdown",
   "metadata": {},
   "source": [
    "The mean $F_{st}$ is:"
   ]
  },
  {
   "cell_type": "code",
   "execution_count": 162,
   "metadata": {},
   "outputs": [
    {
     "data": {
      "text/plain": [
       "0.2068862870012268"
      ]
     },
     "execution_count": 162,
     "metadata": {},
     "output_type": "execute_result"
    }
   ],
   "source": [
    "fstSims.mean()"
   ]
  },
  {
   "cell_type": "markdown",
   "metadata": {},
   "source": [
    "The expectation for $F_{st}$ under the this model can be found using the coalescence definition above and $E[T_w]=1$ and $E[T_b]=T+1$. Check how well this matches the mean across simulations..."
   ]
  },
  {
   "cell_type": "code",
   "execution_count": 136,
   "metadata": {},
   "outputs": [
    {
     "data": {
      "text/plain": [
       "0.2"
      ]
     },
     "execution_count": 136,
     "metadata": {},
     "output_type": "execute_result"
    }
   ],
   "source": [
    "# KL: Remove..\n",
    "(0.5)/(0.5+2)"
   ]
  },
  {
   "cell_type": "code",
   "execution_count": 130,
   "metadata": {},
   "outputs": [],
   "source": [
    "# KL: Remove..\n",
    "def expected_Fst(splitT, Ne):\n",
    "    within = 2*Ne\n",
    "    between = splitT + 2*Ne\n",
    "    return (between-within)/(between+within)"
   ]
  },
  {
   "cell_type": "markdown",
   "metadata": {},
   "source": [
    "The distribution of $F_{st}$ across windows is wide (and no analytic results exist)."
   ]
  },
  {
   "cell_type": "code",
   "execution_count": 125,
   "metadata": {},
   "outputs": [
    {
     "data": {
      "text/plain": [
       "<matplotlib.axes._subplots.AxesSubplot at 0x7f6aa90e7898>"
      ]
     },
     "execution_count": 125,
     "metadata": {},
     "output_type": "execute_result"
    },
    {
     "data": {
      "image/png": "[encoded data removed]",
      "text/plain": [
       "<Figure size 432x288 with 1 Axes>"
      ]
     },
     "metadata": {
      "needs_background": "light"
     },
     "output_type": "display_data"
    }
   ],
   "source": [
    "sns.distplot(fstSims, label='Fst in 32kb wins, n=20', norm_hist=True)"
   ]
  },
  {
   "cell_type": "markdown",
   "metadata": {},
   "source": [
    "Note that the tree sequence for each window contains about 5,000 marginal trees, i.e. recombination breakpoints:"
   ]
  },
  {
   "cell_type": "code",
   "execution_count": 267,
   "metadata": {},
   "outputs": [
    {
     "name": "stdout",
     "output_type": "stream",
     "text": [
      "[4959, 4662, 4887, 5148, 5000, 4789, 5254, 4997, 4595, 4643]\n"
     ]
    },
    {
     "data": {
      "text/plain": [
       "6.452913893930228"
      ]
     },
     "execution_count": 267,
     "metadata": {},
     "output_type": "execute_result"
    }
   ],
   "source": [
    "#np.zeros(num_reps)\n",
    "#mutlist=[[tree.num_mutations for tree in ts.trees()] for ts in replicates]\n",
    "lenlist=[[tree.length for tree in ts.trees()] for ts in replicates]\n",
    "print([len(l) for l in lenlist])\n",
    "np.mean(lenlist[0])"
   ]
  },
  {
   "cell_type": "code",
   "execution_count": 264,
   "metadata": {},
   "outputs": [
    {
     "data": {
      "text/plain": [
       "<matplotlib.axes._subplots.AxesSubplot at 0x7f6aa8cb9390>"
      ]
     },
     "execution_count": 264,
     "metadata": {},
     "output_type": "execute_result"
    },
    {
     "data": {
      "image/png": "[encoded data removed]",
      "text/plain": [
       "<Figure size 432x288 with 1 Axes>"
      ]
     },
     "metadata": {
      "needs_background": "light"
     },
     "output_type": "display_data"
    }
   ],
   "source": [
    "sns.distplot(lenlist[1], norm_hist=True)"
   ]
  },
  {
   "cell_type": "markdown",
   "metadata": {},
   "source": [
    "## Divergence with constant migration"
   ]
  },
  {
   "cell_type": "markdown",
   "metadata": {},
   "source": [
    "Let's (for now) assume that we have very concrete information on the background demography and have estimated parameters under a simple null model of divergence with gene flow. Our cartoon history estimated from genome-wide data (we will give an example of how to do this using GimBL tomorrow) has four parameters: \n",
    "\n",
    "- a population split time $T$ (in generations) between pop0 and pop1.\n",
    "- a constant rate of unidirectional gene flow $m$ (per generation from pop1 to pop0).\n",
    "- two effective population sizes (we assume that the common ancestral pop has the same effective size as pop0). \n",
    "\n",
    "We will assume values estimated for two spevcies of Heliconius for the demography, i.e. $N_e$ on the order of $10^6$ and divergence $T \\approx 5 \\times 10^6$. Assuming the same window size (32kb) and $r$ (1.84675e-8) as before, use msprime to obtain an upper critical value of $F_{st}$. \n",
    "\n",
    "How many windows in the Hmel Hcyd data show a significant $F_{st}$ given this demographic history? \n",
    "\n",
    "Is this more or less than expected under the demography?\n",
    "\n",
    "The  code chunk below sets up msprime simulation under the msprime history: "
   ]
  },
  {
   "cell_type": "code",
   "execution_count": 233,
   "metadata": {},
   "outputs": [],
   "source": [
    "#number of samples (2Xof diploid individuals) per deme:\n",
    "sample_size = 10\n",
    "\n",
    "#Rates for migration, recombination and mutation are unscaled and per generation:\n",
    "mig = 3.8866e-7\n",
    "seqLength = 32e3 \n",
    "recr = 1.84675e-8\n",
    "Ne0 = 2.3241e6\n",
    "Ne1 = 9.8922e5 \n",
    "splitT = 4.8580e6\n",
    "\n",
    "population_configurations = [\n",
    "    msprime.PopulationConfiguration(sample_size=sample_size, initial_size=Ne0),\n",
    "    msprime.PopulationConfiguration(sample_size=sample_size, initial_size=Ne1),\n",
    "    ]\n",
    "#demographic events are specified in the order they occur backwards in time:\n",
    "# The MassMigration specifies the split between population 0 and 1: \n",
    "# backwards in time all lineages from the smaller population (1) are derived from pop (0)\n",
    "# at time T \n",
    "demographic_events = [\n",
    "    msprime.MassMigration(time=splitT, source=1, destination=0, proportion=1.0),\n",
    "    ]\n",
    "# migration matrix specifies a matrix of pairwise migration rates (backwards in time).\n",
    "migration_matrix = [[0,0], [mig,0]]"
   ]
  },
  {
   "cell_type": "code",
   "execution_count": 234,
   "metadata": {},
   "outputs": [],
   "source": [
    "#KL: Remove \n",
    "num_reps = 10\n",
    "seed = np.random.randint(1, 2**32 - 1, 1)\n",
    "#seed = np.random.randint(1, 2**32 - 1, 1)\n",
    "replicates = msprime.simulate(\n",
    "        num_replicates = num_reps,\n",
    "        length = seqLength, \n",
    "        recombination_rate = recr,\n",
    "        population_configurations = population_configurations,\n",
    "        demographic_events = demographic_events,\n",
    "        migration_matrix = [[0,0],[mig,0]],\n",
    "        random_seed=seed)"
   ]
  },
  {
   "cell_type": "markdown",
   "metadata": {},
   "source": [
    "We estimate $F_{st}$ for each replicate using the tskit function Fst() and store the results in a numpy array:"
   ]
  },
  {
   "cell_type": "code",
   "execution_count": null,
   "metadata": {},
   "outputs": [],
   "source": [
    "#histogram for unlinked windows 32kb\n",
    "basic_short = pd.read_csv('basic_short_all.csv')\n",
    "basic_short.drop(basic_short.columns[[0, 1]], axis=1, inplace=True)\n",
    "current_winner_short = pd.read_csv('current_winner_short_all.csv')\n",
    "current_winner_short.drop(current_winner_short.columns[[0, 1]], axis=1, inplace=True)"
   ]
  },
  {
   "cell_type": "code",
   "execution_count": null,
   "metadata": {},
   "outputs": [],
   "source": [
    "fig, ax = plt.subplots(figsize=(16,9))\n",
    "sns.distplot(current_winner_short['Fst'], label='current winner', norm_hist=True)\n",
    "sns.distplot(fstsim , label='Fst')\n",
    "plt.legend()\n",
    "ax.set_xlim((0, 0.5))"
   ]
  },
  {
   "cell_type": "markdown",
   "metadata": {},
   "source": [
    "A faster alternative is to compute $F_{st}$ from the tree sequence directly. "
   ]
  },
  {
   "cell_type": "code",
   "execution_count": 73,
   "metadata": {},
   "outputs": [],
   "source": [
    "current_winner_short = pd.read_csv('current_winner_short_all.csv')\n",
    "current_winner_short.drop(current_winner_short.columns[[0, 1]], axis=1, inplace=True)"
   ]
  },
  {
   "cell_type": "code",
   "execution_count": 75,
   "metadata": {},
   "outputs": [
    {
     "data": {
      "text/plain": [
       "(0, 0.5)"
      ]
     },
     "execution_count": 75,
     "metadata": {},
     "output_type": "execute_result"
    },
    {
     "data": {
      "image/png": "[encoded data removed]",
      "text/plain": [
       "<Figure size 1152x648 with 1 Axes>"
      ]
     },
     "metadata": {
      "needs_background": "light"
     },
     "output_type": "display_data"
    }
   ],
   "source": [
    "fig, ax = plt.subplots(figsize=(16,9))\n",
    "sns.distplot(current_winner_short['Fst'], label='Fst in 32kb wins, n=20', norm_hist=True)\n",
    "sns.distplot(fstSims , label='Fst in 32kb wins, n=2')\n",
    "plt.legend()\n",
    "ax.set_xlim((0, 0.4))"
   ]
  },
  {
   "cell_type": "code",
   "execution_count": 87,
   "metadata": {},
   "outputs": [
    {
     "data": {
      "text/plain": [
       "(0.18188027232511061, 0.2710669509428636, 0.20487587223560247)"
      ]
     },
     "execution_count": 87,
     "metadata": {},
     "output_type": "execute_result"
    }
   ],
   "source": [
    "fstSims.mean(), np.quantile(fstSims,0.99), current_winner_short['Fst'].quantile(0.99)"
   ]
  },
  {
   "cell_type": "code",
   "execution_count": null,
   "metadata": {},
   "outputs": [],
   "source": [
    "current_winner_blocks = pd.read_csv('winner.window.variant.tsv', sep='\\t')\n",
    "current_winner_blocks.head()"
   ]
  },
  {
   "cell_type": "markdown",
   "metadata": {},
   "source": [
    "or run all this in a script that can be run on multiple cores\n",
    "change parametes within sim_chuncks.py as desired"
   ]
  },
  {
   "cell_type": "code",
   "execution_count": null,
   "metadata": {},
   "outputs": [],
   "source": [
    "%run sim_chuncks.py"
   ]
  },
  {
   "cell_type": "markdown",
   "metadata": {},
   "source": [
    "run tskit Fst scan and\n",
    "analyse output using script as provided in the Fst_istogram notebook"
   ]
  },
  {
   "cell_type": "code",
   "execution_count": null,
   "metadata": {},
   "outputs": [],
   "source": [
    "recomb = abs(np.random.normal(loc=1.846, scale=0.1, size=300))/1e8\n",
    "replicates = msprime.simulate(\n",
    "        num_replicates = 1,\n",
    "        length = seqLength, \n",
    "        recombination_rate = recr,\n",
    "        population_configurations = population_configurations,\n",
    "        demographic_events = demographic_events,\n",
    "        migration_matrix = [[0,0],\n",
    "                            [mig,0]],\n",
    "        mutation_rate = mu)"
   ]
  },
  {
   "cell_type": "code",
   "execution_count": null,
   "metadata": {},
   "outputs": [],
   "source": [
    "fig, ax = plt.subplots(figsize=(16,9))\n",
    "sns.distplot(abs(np.random.normal(loc=1.846, scale=0.1, size=300))/1e8, label='r in 32kb')\n",
    "ax.set_xlim((1.2/1e8, 2.2/1e8))\n",
    "plt.legend()"
   ]
  },
  {
   "cell_type": "code",
   "execution_count": null,
   "metadata": {},
   "outputs": [],
   "source": [
    "#sliding window plot of current winner here"
   ]
  },
  {
   "cell_type": "markdown",
   "metadata": {},
   "source": [
    "## Divergence with secondary contact"
   ]
  },
  {
   "cell_type": "markdown",
   "metadata": {},
   "source": [
    "How different is the distribution of $F_{st}$ if we assume that divergence happened in allopatry and has been partially eroded by secondary contact? We assume the same split time $T_{s}$ and $N_e$ as before and a sudden admixture event which transfers a proportion of $f=0.389$ from pop0 to pop1 at time $T_{ad}$. This is specified as another MassMigration event."
   ]
  },
  {
   "cell_type": "code",
   "execution_count": 90,
   "metadata": {},
   "outputs": [],
   "source": [
    "T = 4.8580e6\n",
    "#time of secondary admixture\n",
    "adT = 5.0772e4 \n",
    "#proportion of lineages in source migrating into destination that split at time T:\n",
    "proportionf =0.389 \n",
    "\n",
    "population_configurations = [\n",
    "    msprime.PopulationConfiguration(sample_size=sample_size, initial_size=Ne0),\n",
    "    msprime.PopulationConfiguration(sample_size=sample_size, initial_size=Ne1),\n",
    "    ]\n",
    "    \n",
    "#demographic events: specify in the order they occur backwards in time.\n",
    "demographic_events = [\n",
    "    msprime.MassMigration(time=adT, source=1, destination=0, proportion=proportionf),\n",
    "    msprime.PopulationParametersChange(time=T, initial_size=Ne0, population_id=0),\n",
    "    msprime.MassMigration(time=T, source=1, destination=0, proportion=1.0)\n",
    "    ]\n",
    "\n",
    "replicatesAD = msprime.simulate(\n",
    "        num_replicates = num_reps,\n",
    "        length = seqLength, \n",
    "        recombination_rate = recr,\n",
    "        population_configurations = population_configurations,\n",
    "        demographic_events = demographic_events)"
   ]
  },
  {
   "cell_type": "code",
   "execution_count": 91,
   "metadata": {},
   "outputs": [],
   "source": [
    "fstSimsAD = np.zeros(num_reps)\n",
    "for index, ts in enumerate(replicatesAD):\n",
    "    p1 = list(ts.get_samples(0))\n",
    "    p2 = list(ts.get_samples(1))\n",
    "    fstSimsAD[index]= calculate_Fst(ts,samplesets=[p1,p2])[0]"
   ]
  },
  {
   "cell_type": "code",
   "execution_count": null,
   "metadata": {},
   "outputs": [],
   "source": [
    "add mean "
   ]
  },
  {
   "cell_type": "code",
   "execution_count": 276,
   "metadata": {},
   "outputs": [
    {
     "data": {
      "text/plain": [
       "(0, 0.4)"
      ]
     },
     "execution_count": 276,
     "metadata": {},
     "output_type": "execute_result"
    },
    {
     "data": {
      "image/png": "[encoded data removed]",
      "text/plain": [
       "<Figure size 1152x648 with 1 Axes>"
      ]
     },
     "metadata": {
      "needs_background": "light"
     },
     "output_type": "display_data"
    }
   ],
   "source": [
    "fig, ax = plt.subplots(figsize=(16,9))\n",
    "fstIM = pd.Series(fstSims, name=\"Fst\")\n",
    "fstAD = pd.Series(fstSimsAD, name=\"Fst\")\n",
    "sns.distplot(fstIM,   label='Divergence with constant M')\n",
    "sns.distplot(fstAD, label='Allopatry with secondary admixture')\n",
    "plt.axvline(x=0.19, linewidth=20, alpha=0.6)\n",
    "plt.legend()\n",
    "ax.set_xlim((0, 0.4))"
   ]
  },
  {
   "cell_type": "markdown",
   "metadata": {},
   "source": [
    "The mean Fst is very similar for both models, the distribution is much broader under a model of recent admixture:"
   ]
  },
  {
   "cell_type": "code",
   "execution_count": 97,
   "metadata": {},
   "outputs": [
    {
     "data": {
      "text/plain": [
       "(0.18188027232511061, 0.17625734232333878)"
      ]
     },
     "execution_count": 97,
     "metadata": {},
     "output_type": "execute_result"
    }
   ],
   "source": [
    "fstSims.mean(),fstSimsAD.mean()b"
   ]
  },
  {
   "cell_type": "markdown",
   "metadata": {},
   "source": [
    "What increases the width of the Fst distr? LD due to admixture. Check tree span distribution. How do we get two humps under the admixture model?"
   ]
  },
  {
   "cell_type": "markdown",
   "metadata": {},
   "source": [
    "## Recombination rate heterogeneity"
   ]
  },
  {
   "cell_type": "markdown",
   "metadata": {},
   "source": [
    "heli_32kb_Davey2017_rec is a dataframe with recombination rate estimates (cM/Mb) in 32kb windows estimated for Heliconius (Davey et al. 2017 generated three recombination maps for Hmel, Hcyd and the F1, the last column is the mean of these maps)."
   ]
  },
  {
   "cell_type": "code",
   "execution_count": 142,
   "metadata": {},
   "outputs": [
    {
     "data": {
      "text/html": [
       "<div>\n",
       "<style scoped>\n",
       "    .dataframe tbody tr th:only-of-type {\n",
       "        vertical-align: middle;\n",
       "    }\n",
       "\n",
       "    .dataframe tbody tr th {\n",
       "        vertical-align: top;\n",
       "    }\n",
       "\n",
       "    .dataframe thead th {\n",
       "        text-align: right;\n",
       "    }\n",
       "</style>\n",
       "<table border=\"1\" class=\"dataframe\">\n",
       "  <thead>\n",
       "    <tr style=\"text-align: right;\">\n",
       "      <th></th>\n",
       "      <th>chrom</th>\n",
       "      <th>start</th>\n",
       "      <th>end</th>\n",
       "      <th>Hmel</th>\n",
       "      <th>Hcyd</th>\n",
       "      <th>F1</th>\n",
       "      <th>mean</th>\n",
       "    </tr>\n",
       "  </thead>\n",
       "  <tbody>\n",
       "    <tr>\n",
       "      <th>0</th>\n",
       "      <td>1</td>\n",
       "      <td>66980</td>\n",
       "      <td>122860</td>\n",
       "      <td>1.6355</td>\n",
       "      <td>3.3415</td>\n",
       "      <td>1.5672</td>\n",
       "      <td>2.1814</td>\n",
       "    </tr>\n",
       "    <tr>\n",
       "      <th>1</th>\n",
       "      <td>1</td>\n",
       "      <td>122860</td>\n",
       "      <td>168185</td>\n",
       "      <td>1.6336</td>\n",
       "      <td>3.3067</td>\n",
       "      <td>1.7697</td>\n",
       "      <td>2.2367</td>\n",
       "    </tr>\n",
       "    <tr>\n",
       "      <th>2</th>\n",
       "      <td>1</td>\n",
       "      <td>168185</td>\n",
       "      <td>208610</td>\n",
       "      <td>1.6328</td>\n",
       "      <td>3.2851</td>\n",
       "      <td>1.9392</td>\n",
       "      <td>2.2857</td>\n",
       "    </tr>\n",
       "    <tr>\n",
       "      <th>3</th>\n",
       "      <td>1</td>\n",
       "      <td>208611</td>\n",
       "      <td>243766</td>\n",
       "      <td>1.6326</td>\n",
       "      <td>3.2541</td>\n",
       "      <td>2.0870</td>\n",
       "      <td>2.3246</td>\n",
       "    </tr>\n",
       "    <tr>\n",
       "      <th>4</th>\n",
       "      <td>1</td>\n",
       "      <td>243766</td>\n",
       "      <td>279430</td>\n",
       "      <td>1.6329</td>\n",
       "      <td>3.2302</td>\n",
       "      <td>2.2243</td>\n",
       "      <td>2.3624</td>\n",
       "    </tr>\n",
       "  </tbody>\n",
       "</table>\n",
       "</div>"
      ],
      "text/plain": [
       "   chrom   start     end    Hmel    Hcyd      F1    mean\n",
       "0      1   66980  122860  1.6355  3.3415  1.5672  2.1814\n",
       "1      1  122860  168185  1.6336  3.3067  1.7697  2.2367\n",
       "2      1  168185  208610  1.6328  3.2851  1.9392  2.2857\n",
       "3      1  208611  243766  1.6326  3.2541  2.0870  2.3246\n",
       "4      1  243766  279430  1.6329  3.2302  2.2243  2.3624"
      ]
     },
     "execution_count": 142,
     "metadata": {},
     "output_type": "execute_result"
    }
   ],
   "source": [
    "hapmap = pd.read_csv('heli_32kb_Davey2017_rec.csv', delimiter='\\t')\n",
    "hapmap.head()\n",
    "#hapmap[hapmap['Chrom']==18]"
   ]
  },
  {
   "cell_type": "markdown",
   "metadata": {},
   "source": [
    "Note that 32kb is the total length of sequence in a window after filtering (in this case only intergenic data). So windows are substantially longer than 32 kb in terms of physical span.\n",
    "\n",
    "- Note that using the postfiltering length rather than the span of windows is conservative: we are assuming a shorter map distance\n",
    "\n",
    "- To make this more realistic one could bin windows by their span measured on the map.\n"
   ]
  },
  {
   "cell_type": "code",
   "execution_count": 143,
   "metadata": {},
   "outputs": [
    {
     "name": "stdout",
     "output_type": "stream",
     "text": [
      "median = 70.672kb\n"
     ]
    },
    {
     "data": {
      "image/png": "[encoded data removed]",
      "text/plain": [
       "<Figure size 432x216 with 1 Axes>"
      ]
     },
     "metadata": {
      "needs_background": "light"
     },
     "output_type": "display_data"
    }
   ],
   "source": [
    "winspan=(hapmap['end']-hapmap['start'])/1000\n",
    "fig, ax = plt.subplots(figsize=(6,3))\n",
    "sns.distplot(winspan, label='window span')\n",
    "ax.set_xlim((0, 300))\n",
    "print(\"median = \"+ str(winspan.median())+\"kb\")"
   ]
  },
  {
   "cell_type": "markdown",
   "metadata": {},
   "source": [
    "The distribution of recombination rates across windows is wide:\n",
    "#telomere effect low rec?"
   ]
  },
  {
   "cell_type": "code",
   "execution_count": 145,
   "metadata": {},
   "outputs": [
    {
     "name": "stdout",
     "output_type": "stream",
     "text": [
      "2.014522756706753\n"
     ]
    },
    {
     "data": {
      "text/plain": [
       "<matplotlib.legend.Legend at 0x7f6aa8fb37b8>"
      ]
     },
     "execution_count": 145,
     "metadata": {},
     "output_type": "execute_result"
    },
    {
     "data": {
      "image/png": "[encoded data removed]",
      "text/plain": [
       "<Figure size 432x216 with 1 Axes>"
      ]
     },
     "metadata": {
      "needs_background": "light"
     },
     "output_type": "display_data"
    }
   ],
   "source": [
    "print(hapmap['mean'].mean()/2)\n",
    "fig, ax = plt.subplots(figsize=(6,3))\n",
    "sns.distplot(hapmap['mean']/2, label='r in 32kb')\n",
    "ax.set_xlim((0, 5.5))\n",
    "plt.legend()"
   ]
  },
  {
   "cell_type": "markdown",
   "metadata": {},
   "source": [
    "We can draw a random sample from the empirical $r$ values and repeat the msprime simulation (200 replicates) under the IM model:"
   ]
  },
  {
   "cell_type": "code",
   "execution_count": 147,
   "metadata": {},
   "outputs": [],
   "source": [
    "#simulate replicates with different recombination rates cfr. windows \n",
    "#specify a distribution to draw values from\n",
    "recomb = np.random.choice(hapmap['mean']/2,size=num_reps)"
   ]
  },
  {
   "cell_type": "markdown",
   "metadata": {},
   "source": [
    "Note that $r$ is in cM/Mb: to convert to recombination per base and generation, we divide by $10^{-8}$:"
   ]
  },
  {
   "cell_type": "code",
   "execution_count": 148,
   "metadata": {},
   "outputs": [],
   "source": [
    "#KL: Remove\n",
    "replicates_RecHet = [msprime.simulate(\n",
    "        length = seqLength, \n",
    "        recombination_rate = rate/10e8,\n",
    "        population_configurations = population_configurations,\n",
    "        demographic_events = demographic_events,\n",
    "        migration_matrix =  migration_matrix,\n",
    "        mutation_rate = mu) for rate in recomb]"
   ]
  },
  {
   "cell_type": "code",
   "execution_count": 150,
   "metadata": {},
   "outputs": [],
   "source": [
    "fstSims_RecHet = np.zeros(num_reps)\n",
    "pop = list(range(0,nsamp*2))\n",
    "p1, p2 = pop[:nsamp], pop[nsamp:]\n",
    "\n",
    "for index, ts in enumerate(replicates_RecHet):\n",
    "    fstSims_RecHet[index] = calculate_Fst(ts,samplesets=[p1,p2])[0]"
   ]
  },
  {
   "cell_type": "markdown",
   "metadata": {},
   "source": [
    "$F_{st}$ has a much wider distribution if we include heterogeneity in $r$. The distribution of windowise $F_{st}$ conditioned on the above divergence and gene flow history for Heliconus melpomene and H. cydno and the Heliconius recombination map for the first 8Mb of chromosome 18 is:"
   ]
  },
  {
   "cell_type": "code",
   "execution_count": 151,
   "metadata": {},
   "outputs": [
    {
     "data": {
      "text/plain": [
       "(0, 0.5)"
      ]
     },
     "execution_count": 151,
     "metadata": {},
     "output_type": "execute_result"
    },
    {
     "data": {
      "image/png": "[encoded data removed]",
      "text/plain": [
       "<Figure size 1152x648 with 1 Axes>"
      ]
     },
     "metadata": {
      "needs_background": "light"
     },
     "output_type": "display_data"
    }
   ],
   "source": [
    "fig, ax = plt.subplots(figsize=(16,9))\n",
    "sns.distplot(fstSims_RecHet, label='Fst in 32 kb, RecHet')\n",
    "sns.distplot(fstSims, label='Fst in 32 kb, no RecHet')\n",
    "plt.legend()\n",
    "ax.set_xlim((0, 0.5))"
   ]
  },
  {
   "cell_type": "markdown",
   "metadata": {},
   "source": [
    "Ideally we would want to condition any outlier scan (critical values for $F_{st}$ on the $r$ in each window) or even better simulate conditional on a recombination map:"
   ]
  },
  {
   "cell_type": "code",
   "execution_count": null,
   "metadata": {},
   "outputs": [],
   "source": [
    "#fst histogram for 32kb windows with rec variationc conditioned on chrom 18 mapb"
   ]
  },
  {
   "cell_type": "code",
   "execution_count": null,
   "metadata": {},
   "outputs": [],
   "source": [
    "#and sliding wins "
   ]
  }
 ],
 "metadata": {
  "kernelspec": {
   "display_name": "Python 3",
   "language": "python",
   "name": "python3"
  },
  "language_info": {
   "codemirror_mode": {
    "name": "ipython",
    "version": 3
   },
   "file_extension": ".py",
   "mimetype": "text/x-python",
   "name": "python",
   "nbconvert_exporter": "python",
   "pygments_lexer": "ipython3",
   "version": "3.6.7"
  }
 },
 "nbformat": 4,
 "nbformat_minor": 2
}
