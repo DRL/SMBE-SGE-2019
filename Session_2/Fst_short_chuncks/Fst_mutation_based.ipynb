{
 "cells": [
  {
   "cell_type": "code",
   "execution_count": 1,
   "metadata": {},
   "outputs": [],
   "source": [
    "import Fst_module as F\n",
    "import tskit, msprime\n",
    "import numpy as np\n",
    "import pandas as pd"
   ]
  },
  {
   "cell_type": "code",
   "execution_count": 2,
   "metadata": {},
   "outputs": [
    {
     "data": {
      "text/plain": [
       "32000.0"
      ]
     },
     "execution_count": 2,
     "metadata": {},
     "output_type": "execute_result"
    }
   ],
   "source": [
    "ts = msprime.load('sim0.trees')\n",
    "ts.sequence_length"
   ]
  },
  {
   "cell_type": "code",
   "execution_count": 6,
   "metadata": {},
   "outputs": [],
   "source": [
    "def comparisons(p1, p2):\n",
    "    num_sites = p1.shape[0]\n",
    "    num_comparisons = p1.shape[1]\n",
    "    result = []\n",
    "    for i in range(num_comparisons):\n",
    "        p2 = np.roll(p2,1, axis=1)\n",
    "        result.append(np.sum(np.mod(p1+p2, 2))/num_sites)\n",
    "    return result"
   ]
  },
  {
   "cell_type": "code",
   "execution_count": 20,
   "metadata": {},
   "outputs": [],
   "source": [
    "def Fst(ts):\n",
    "    G = ts.genotype_matrix()\n",
    "    p1 = G[:,:20]\n",
    "    p2 = G[:,20:40]\n",
    "    within = (np.mean(comparisons(p1,p1)) + np.mean(comparisons(p2,p2)))/2\n",
    "    between = np.mean(comparisons(p1, p2))\n",
    "    total = np.mean([between, within])\n",
    "    return (total - within)/total"
   ]
  },
  {
   "cell_type": "code",
   "execution_count": 21,
   "metadata": {},
   "outputs": [
    {
     "data": {
      "text/plain": [
       "0.4426530591479359"
      ]
     },
     "execution_count": 21,
     "metadata": {},
     "output_type": "execute_result"
    }
   ],
   "source": [
    "Fst(ts)"
   ]
  }
 ],
 "metadata": {
  "kernelspec": {
   "display_name": "slm",
   "language": "python",
   "name": "slm"
  },
  "language_info": {
   "codemirror_mode": {
    "name": "ipython",
    "version": 3
   },
   "file_extension": ".py",
   "mimetype": "text/x-python",
   "name": "python",
   "nbconvert_exporter": "python",
   "pygments_lexer": "ipython3",
   "version": "3.6.7"
  }
 },
 "nbformat": 4,
 "nbformat_minor": 2
}
