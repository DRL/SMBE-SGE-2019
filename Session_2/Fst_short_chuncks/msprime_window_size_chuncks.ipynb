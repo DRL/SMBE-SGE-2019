{
 "cells": [
  {
   "cell_type": "code",
   "execution_count": 1,
   "metadata": {},
   "outputs": [],
   "source": [
    "import msprime, tskit\n",
    "import pandas as pd\n",
    "import seaborn as sns\n",
    "import matplotlib.pyplot as plt\n",
    "import numpy as np\n",
    "%matplotlib inline"
   ]
  },
  {
   "cell_type": "markdown",
   "metadata": {},
   "source": [
    "intro"
   ]
  },
  {
   "cell_type": "code",
   "execution_count": 2,
   "metadata": {},
   "outputs": [],
   "source": [
    "sample_size = 20 #number of samples per deme\n",
    "\n",
    "mig = 3.8866e-7\n",
    "seqLength = 32e3 \n",
    "recr = 1.84675e-8\n",
    "Ne0 = 2.3241e6\n",
    "Ne1 = 9.8922e5 \n",
    "splitT = 4.8580e6\n",
    "mu = 1.9e-9\n",
    "\n",
    "population_configurations = [\n",
    "    msprime.PopulationConfiguration(sample_size=sample_size, initial_size=Ne0),\n",
    "    msprime.PopulationConfiguration(sample_size=sample_size, initial_size=Ne1),\n",
    "    ]\n",
    "    \n",
    "#demographic events: specify in the order they occur backwards in time\n",
    "demographic_events = [\n",
    "    msprime.PopulationParametersChange(time=splitT, initial_size=Ne0, population_id=0),\n",
    "    msprime.MassMigration(time=splitT, source=1, destination=0, proportion=1.0),\n",
    "    msprime.MigrationRateChange(splitT, 0)\n",
    "    ]"
   ]
  },
  {
   "cell_type": "code",
   "execution_count": null,
   "metadata": {},
   "outputs": [],
   "source": [
    "seed = np.random.randint(1, 2**32 - 1, num_replicates)\n",
    "\n",
    "replicates = msprime.simulate(\n",
    "        num_replicates = 1,\n",
    "        length = seqLength, \n",
    "        recombination_rate = recr,\n",
    "        population_configurations = population_configurations,\n",
    "        demographic_events = demographic_events,\n",
    "        migration_matrix = [[0,0],\n",
    "                            [mig,0]],\n",
    "        mutation_rate = mu,\n",
    "        random_seed=seed)"
   ]
  },
  {
   "cell_type": "code",
   "execution_count": null,
   "metadata": {},
   "outputs": [],
   "source": [
    "for ts, index in enumerate(replicates):\n",
    "    msprime.mutate(ts, rate=mu, keep=True)\n",
    "    with open(directory+'sim{}.vcf'.format(str(index)), 'w') as vcf_file:\n",
    "        ts.write_vcf(vcf_file, ploidy=2)\n",
    "    ts.dump(directory+'sim{}.trees'.format(str(index)))"
   ]
  },
  {
   "cell_type": "markdown",
   "metadata": {},
   "source": [
    "or run all this in in script that can be run on multiple cores\n",
    "change parametes within sim_chuncks.py as desired"
   ]
  },
  {
   "cell_type": "code",
   "execution_count": null,
   "metadata": {},
   "outputs": [],
   "source": [
    "%run sim_chuncks.py"
   ]
  },
  {
   "cell_type": "markdown",
   "metadata": {},
   "source": [
    "run tskit Fst scan and\n",
    "analyse output using script as provided in the Fst_istogram notebook"
   ]
  },
  {
   "cell_type": "code",
   "execution_count": null,
   "metadata": {},
   "outputs": [],
   "source": [
    "#simulate replicates with different recombination rates cfr. windows \n",
    "#specify a distribution to draw values from\n",
    "recomb = abs(np.random.normal(loc=1.846, scale=0.1, size=300))/1e8\n",
    "replicates = msprime.simulate(\n",
    "        num_replicates = 1,\n",
    "        length = seqLength, \n",
    "        recombination_rate = recr,\n",
    "        population_configurations = population_configurations,\n",
    "        demographic_events = demographic_events,\n",
    "        migration_matrix = [[0,0],\n",
    "                            [mig,0]],\n",
    "        mutation_rate = mu)"
   ]
  },
  {
   "cell_type": "code",
   "execution_count": 8,
   "metadata": {},
   "outputs": [
    {
     "data": {
      "text/plain": [
       "<matplotlib.axes._subplots.AxesSubplot at 0x123c07978>"
      ]
     },
     "execution_count": 8,
     "metadata": {},
     "output_type": "execute_result"
    },
    {
     "data": {
      "image/png": "[encoded data removed]",
      "text/plain": [
       "<Figure size 432x288 with 1 Axes>"
      ]
     },
     "metadata": {
      "needs_background": "light"
     },
     "output_type": "display_data"
    }
   ],
   "source": [
    "sns.distplot(abs(np.random.normal(loc=1.846, scale=0.1, size=300))/1e8)"
   ]
  }
 ],
 "metadata": {
  "kernelspec": {
   "display_name": "slm",
   "language": "python",
   "name": "slm"
  },
  "language_info": {
   "codemirror_mode": {
    "name": "ipython",
    "version": 3
   },
   "file_extension": ".py",
   "mimetype": "text/x-python",
   "name": "python",
   "nbconvert_exporter": "python",
   "pygments_lexer": "ipython3",
   "version": "3.6.7"
  }
 },
 "nbformat": 4,
 "nbformat_minor": 2
}
