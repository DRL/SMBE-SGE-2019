{
 "cells": [
  {
   "cell_type": "code",
   "execution_count": 2,
   "metadata": {},
   "outputs": [],
   "source": [
    "import msprime, tskit\n",
    "import pandas as pd\n",
    "import seaborn as sns\n",
    "import matplotlib.pyplot as plt\n",
    "import numpy as np\n",
    "%matplotlib inline"
   ]
  },
  {
   "cell_type": "markdown",
   "metadata": {},
   "source": [
    "intro"
   ]
  },
  {
   "cell_type": "code",
   "execution_count": 20,
   "metadata": {},
   "outputs": [],
   "source": [
    "sample_size = 20 #number of samples per deme\n",
    "\n",
    "mig = 3.8866e-7\n",
    "seqLength = 32e3 \n",
    "recr = 1.84675e-8\n",
    "Ne0 = 2.3241e6\n",
    "Ne1 = 9.8922e5 \n",
    "splitT = 4.8580e6\n",
    "mu = 1.9e-9\n",
    "\n",
    "population_configurations = [\n",
    "    msprime.PopulationConfiguration(sample_size=sample_size, initial_size=Ne0),\n",
    "    msprime.PopulationConfiguration(sample_size=sample_size, initial_size=Ne1),\n",
    "    ]\n",
    "    \n",
    "#demographic events: specify in the order they occur backwards in time\n",
    "demographic_events = [\n",
    "    msprime.PopulationParametersChange(time=splitT, initial_size=Ne0, population_id=0),\n",
    "    msprime.MassMigration(time=splitT, source=1, destination=0, proportion=1.0),\n",
    "    ]"
   ]
  },
  {
   "cell_type": "code",
   "execution_count": 21,
   "metadata": {},
   "outputs": [],
   "source": [
    "replicates = msprime.simulate(\n",
    "        num_replicates = 1,\n",
    "        length = seqLength, \n",
    "        recombination_rate = recr,\n",
    "        population_configurations = population_configurations,\n",
    "        demographic_events = demographic_events,\n",
    "        migration_matrix = [[0,0],\n",
    "                            [mig,0]],\n",
    "        mutation_rate = mu)"
   ]
  },
  {
   "cell_type": "code",
   "execution_count": null,
   "metadata": {},
   "outputs": [],
   "source": [
    "for index, ts in enumerate(replicates):\n",
    "    msprime.mutate(ts, rate=mu, keep=True)\n",
    "    with open('sim{}.vcf'.format(str(index)), 'w') as vcf_file:\n",
    "        ts.write_vcf(vcf_file, ploidy=2)\n",
    "    ts.dump('sim{}.trees'.format(str(index)))"
   ]
  },
  {
   "cell_type": "markdown",
   "metadata": {},
   "source": [
    "or run all this in in script that can be run on multiple cores\n",
    "change parametes within sim_chuncks.py as desired"
   ]
  },
  {
   "cell_type": "code",
   "execution_count": null,
   "metadata": {},
   "outputs": [],
   "source": [
    "%run sim_chuncks.py"
   ]
  },
  {
   "cell_type": "markdown",
   "metadata": {},
   "source": [
    "run tskit Fst scan and\n",
    "analyse output using script as provided in the Fst_istogram notebook"
   ]
  },
  {
   "cell_type": "code",
   "execution_count": null,
   "metadata": {},
   "outputs": [],
   "source": []
  },
  {
   "cell_type": "markdown",
   "metadata": {},
   "source": [
    "checking the impact of recombination rate variation\n",
    "\n",
    "hapmap is a dataframe with recombination rate estimates (cM/Mb) for our case study\n",
    "We can draw a random sample of those values, run the msprime simulation again and compare this to the outcome we obtained without recombination rate variation"
   ]
  },
  {
   "cell_type": "code",
   "execution_count": 8,
   "metadata": {},
   "outputs": [
    {
     "data": {
      "text/html": [
       "<div>\n",
       "<style scoped>\n",
       "    .dataframe tbody tr th:only-of-type {\n",
       "        vertical-align: middle;\n",
       "    }\n",
       "\n",
       "    .dataframe tbody tr th {\n",
       "        vertical-align: top;\n",
       "    }\n",
       "\n",
       "    .dataframe thead th {\n",
       "        text-align: right;\n",
       "    }\n",
       "</style>\n",
       "<table border=\"1\" class=\"dataframe\">\n",
       "  <thead>\n",
       "    <tr style=\"text-align: right;\">\n",
       "      <th></th>\n",
       "      <th>Start</th>\n",
       "      <th>cM/Mb</th>\n",
       "      <th>cM</th>\n",
       "      <th>Mb</th>\n",
       "      <th>relative length</th>\n",
       "      <th>recombination</th>\n",
       "    </tr>\n",
       "  </thead>\n",
       "  <tbody>\n",
       "    <tr>\n",
       "      <th>275</th>\n",
       "      <td>15279126</td>\n",
       "      <td>937.756243</td>\n",
       "      <td>52.836</td>\n",
       "      <td>0.056343</td>\n",
       "      <td>0.003353</td>\n",
       "      <td>1.664370e-04</td>\n",
       "    </tr>\n",
       "    <tr>\n",
       "      <th>276</th>\n",
       "      <td>15335469</td>\n",
       "      <td>178.868009</td>\n",
       "      <td>52.836</td>\n",
       "      <td>0.295391</td>\n",
       "      <td>0.017579</td>\n",
       "      <td>6.055296e-06</td>\n",
       "    </tr>\n",
       "    <tr>\n",
       "      <th>277</th>\n",
       "      <td>15630860</td>\n",
       "      <td>2493.313312</td>\n",
       "      <td>53.135</td>\n",
       "      <td>0.021311</td>\n",
       "      <td>0.001268</td>\n",
       "      <td>1.169965e-03</td>\n",
       "    </tr>\n",
       "    <tr>\n",
       "      <th>278</th>\n",
       "      <td>15652171</td>\n",
       "      <td>46.135385</td>\n",
       "      <td>53.135</td>\n",
       "      <td>1.151719</td>\n",
       "      <td>0.068539</td>\n",
       "      <td>4.005785e-07</td>\n",
       "    </tr>\n",
       "    <tr>\n",
       "      <th>279</th>\n",
       "      <td>16803890</td>\n",
       "      <td>0.000000</td>\n",
       "      <td>0.000</td>\n",
       "      <td>0.000000</td>\n",
       "      <td>0.000000</td>\n",
       "      <td>NaN</td>\n",
       "    </tr>\n",
       "  </tbody>\n",
       "</table>\n",
       "</div>"
      ],
      "text/plain": [
       "        Start        cM/Mb      cM        Mb  relative length  recombination\n",
       "275  15279126   937.756243  52.836  0.056343         0.003353   1.664370e-04\n",
       "276  15335469   178.868009  52.836  0.295391         0.017579   6.055296e-06\n",
       "277  15630860  2493.313312  53.135  0.021311         0.001268   1.169965e-03\n",
       "278  15652171    46.135385  53.135  1.151719         0.068539   4.005785e-07\n",
       "279  16803890     0.000000   0.000  0.000000         0.000000            NaN"
      ]
     },
     "execution_count": 8,
     "metadata": {},
     "output_type": "execute_result"
    }
   ],
   "source": [
    "hapmap = pd.read_csv('hapmap.csv')\n",
    "hapmap['relative length'] = hapmap['Mb']/hapmap['Mb'].sum()\n",
    "hapmap['recombination'] = hapmap['cM/Mb']/100/(hapmap['Mb']*1e6)\n",
    "hapmap.tail()"
   ]
  },
  {
   "cell_type": "code",
   "execution_count": 29,
   "metadata": {},
   "outputs": [],
   "source": [
    "#simulate replicates with different recombination rates cfr. windows \n",
    "#specify a distribution to draw values from\n",
    "#choice can be weighted by the length of each interval, not necessary when windowwise estimates are given\n",
    "\n",
    "recomb = np.random.choice(hapmap['recombination'],size=20, p=hapmap['relative length'])\n",
    "\n",
    "replicates = [msprime.simulate(\n",
    "        length = seqLength, \n",
    "        recombination_rate = rate,\n",
    "        population_configurations = population_configurations,\n",
    "        demographic_events = demographic_events,\n",
    "        migration_matrix = [[0,0],\n",
    "                            [mig,0]],\n",
    "        mutation_rate = mu) \n",
    "for rate in recomb]"
   ]
  },
  {
   "cell_type": "code",
   "execution_count": 13,
   "metadata": {},
   "outputs": [],
   "source": [
    "#results for when half the chromosome is simulated in its entirety "
   ]
  },
  {
   "cell_type": "code",
   "execution_count": null,
   "metadata": {},
   "outputs": [],
   "source": []
  },
  {
   "cell_type": "markdown",
   "metadata": {},
   "source": [
    "building a secondary contact model"
   ]
  },
  {
   "cell_type": "code",
   "execution_count": null,
   "metadata": {},
   "outputs": [],
   "source": [
    "splitT = 4.8580e6\n",
    "secT = 2e3 #moment of secondary contact\n",
    "proportion =0.1 #proportion of ancestral population mass migrating into the population that split of at time T\n",
    "\n",
    "population_configurations = [\n",
    "    msprime.PopulationConfiguration(sample_size=sample_size, initial_size=Ne0),\n",
    "    msprime.PopulationConfiguration(sample_size=sample_size, initial_size=Ne1),\n",
    "    ]\n",
    "    \n",
    "#demographic events: specify in the order they occur backwards in time\n",
    "demographic_events = [\n",
    "    msprime.PopulationParametersChange(time=splitT, initial_size=Ne0, population_id=0),\n",
    "    msprime.MassMigration(time=splitT, source=1, destination=0, proportion=1.0),\n",
    "    msprime.MassMigration(time=secT, source=1, destination=0, proportion=proportion)\n",
    "    ]\n",
    "\n",
    "replicates = msprime.simulate(\n",
    "        num_replicates = 1,\n",
    "        length = seqLength, \n",
    "        recombination_rate = recr,\n",
    "        population_configurations = population_configurations,\n",
    "        demographic_events = demographic_events,\n",
    "        mutation_rate = mu)"
   ]
  }
 ],
 "metadata": {
  "kernelspec": {
   "display_name": "slm",
   "language": "python",
   "name": "slm"
  },
  "language_info": {
   "codemirror_mode": {
    "name": "ipython",
    "version": 3
   },
   "file_extension": ".py",
   "mimetype": "text/x-python",
   "name": "python",
   "nbconvert_exporter": "python",
   "pygments_lexer": "ipython3",
   "version": "3.6.7"
  }
 },
 "nbformat": 4,
 "nbformat_minor": 2
}
