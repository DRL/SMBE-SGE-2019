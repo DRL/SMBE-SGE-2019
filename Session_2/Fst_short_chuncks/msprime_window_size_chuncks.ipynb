{
 "cells": [
  {
   "cell_type": "code",
   "execution_count": 1,
   "metadata": {},
   "outputs": [],
   "source": [
    "import msprime, tskit\n",
    "import pandas as pd\n",
    "import seaborn as sns\n",
    "import matplotlib.pyplot as plt\n",
    "import numpy as np\n",
    "%matplotlib inline\n",
    "import Fst_ts_thread_interval as F"
   ]
  },
  {
   "cell_type": "markdown",
   "metadata": {},
   "source": [
    "intro"
   ]
  },
  {
   "cell_type": "code",
   "execution_count": 2,
   "metadata": {},
   "outputs": [],
   "source": [
    "sample_size = 4 #number of samples per deme\n",
    "\n",
    "mig = 3.8866e-7\n",
    "seqLength = 32e3 \n",
    "recr = 1.84675e-8\n",
    "Ne0 = 2.3241e6\n",
    "Ne1 = 9.8922e5 \n",
    "splitT = 4.8580e6\n",
    "mu = 1.9e-9\n",
    "\n",
    "population_configurations = [\n",
    "    msprime.PopulationConfiguration(sample_size=sample_size, initial_size=Ne0),\n",
    "    msprime.PopulationConfiguration(sample_size=sample_size, initial_size=Ne1),\n",
    "    ]\n",
    "    \n",
    "#demographic events: specify in the order they occur backwards in time\n",
    "demographic_events = [\n",
    "    msprime.PopulationParametersChange(time=splitT, initial_size=Ne0, population_id=0),\n",
    "    msprime.MassMigration(time=splitT, source=1, destination=0, proportion=1.0),\n",
    "    ]"
   ]
  },
  {
   "cell_type": "code",
   "execution_count": null,
   "metadata": {},
   "outputs": [],
   "source": [
    "replicates = msprime.simulate(\n",
    "        num_replicates = 1,\n",
    "        length = seqLength, \n",
    "        recombination_rate = recr,\n",
    "        population_configurations = population_configurations,\n",
    "        demographic_events = demographic_events,\n",
    "        migration_matrix = [[0,0],\n",
    "                            [mig,0]],\n",
    "        mutation_rate = mu)"
   ]
  },
  {
   "cell_type": "code",
   "execution_count": null,
   "metadata": {},
   "outputs": [],
   "source": [
    "for index, ts in enumerate(replicates):\n",
    "    msprime.mutate(ts, rate=mu, keep=True)\n",
    "    with open('sim{}.vcf'.format(str(index)), 'w') as vcf_file:\n",
    "        ts.write_vcf(vcf_file, ploidy=2)\n",
    "    ts.dump('sim{}.trees'.format(str(index)))"
   ]
  },
  {
   "cell_type": "markdown",
   "metadata": {},
   "source": [
    "or run all this in in script that can be run on multiple cores\n",
    "change parametes within sim_chuncks.py as desired"
   ]
  },
  {
   "cell_type": "code",
   "execution_count": null,
   "metadata": {},
   "outputs": [],
   "source": [
    "%run sim_chuncks.py"
   ]
  },
  {
   "cell_type": "markdown",
   "metadata": {},
   "source": [
    "run tskit Fst scan and\n",
    "analyse output using script as provided in the Fst_istogram notebook"
   ]
  },
  {
   "cell_type": "code",
   "execution_count": null,
   "metadata": {},
   "outputs": [],
   "source": []
  },
  {
   "cell_type": "markdown",
   "metadata": {},
   "source": [
    "checking the impact of recombination rate variation\n",
    "\n",
    "hapmap is a dataframe with recombination rate estimates (cM/Mb) for our case study\n",
    "We can draw a random sample of those values, run the msprime simulation again and compare this to the outcome we obtained without recombination rate variation"
   ]
  },
  {
   "cell_type": "code",
   "execution_count": 5,
   "metadata": {},
   "outputs": [
    {
     "data": {
      "text/html": [
       "<div>\n",
       "<style scoped>\n",
       "    .dataframe tbody tr th:only-of-type {\n",
       "        vertical-align: middle;\n",
       "    }\n",
       "\n",
       "    .dataframe tbody tr th {\n",
       "        vertical-align: top;\n",
       "    }\n",
       "\n",
       "    .dataframe thead th {\n",
       "        text-align: right;\n",
       "    }\n",
       "</style>\n",
       "<table border=\"1\" class=\"dataframe\">\n",
       "  <thead>\n",
       "    <tr style=\"text-align: right;\">\n",
       "      <th></th>\n",
       "      <th>Start</th>\n",
       "      <th>cM/Mb</th>\n",
       "      <th>cM</th>\n",
       "      <th>Mb</th>\n",
       "      <th>relative length</th>\n",
       "      <th>recombination</th>\n",
       "    </tr>\n",
       "  </thead>\n",
       "  <tbody>\n",
       "    <tr>\n",
       "      <th>0</th>\n",
       "      <td>1</td>\n",
       "      <td>0.000000</td>\n",
       "      <td>0.000</td>\n",
       "      <td>1.352503</td>\n",
       "      <td>0.080487</td>\n",
       "      <td>0.000000</td>\n",
       "    </tr>\n",
       "    <tr>\n",
       "      <th>1</th>\n",
       "      <td>1352504</td>\n",
       "      <td>11.418321</td>\n",
       "      <td>0.401</td>\n",
       "      <td>0.035119</td>\n",
       "      <td>0.002090</td>\n",
       "      <td>0.000003</td>\n",
       "    </tr>\n",
       "    <tr>\n",
       "      <th>2</th>\n",
       "      <td>1387623</td>\n",
       "      <td>84.486971</td>\n",
       "      <td>0.415</td>\n",
       "      <td>0.004912</td>\n",
       "      <td>0.000292</td>\n",
       "      <td>0.000172</td>\n",
       "    </tr>\n",
       "    <tr>\n",
       "      <th>3</th>\n",
       "      <td>1392535</td>\n",
       "      <td>17.491938</td>\n",
       "      <td>0.857</td>\n",
       "      <td>0.048994</td>\n",
       "      <td>0.002916</td>\n",
       "      <td>0.000004</td>\n",
       "    </tr>\n",
       "    <tr>\n",
       "      <th>4</th>\n",
       "      <td>1441529</td>\n",
       "      <td>67.515636</td>\n",
       "      <td>0.896</td>\n",
       "      <td>0.013271</td>\n",
       "      <td>0.000790</td>\n",
       "      <td>0.000051</td>\n",
       "    </tr>\n",
       "  </tbody>\n",
       "</table>\n",
       "</div>"
      ],
      "text/plain": [
       "     Start      cM/Mb     cM        Mb  relative length  recombination\n",
       "0        1   0.000000  0.000  1.352503         0.080487       0.000000\n",
       "1  1352504  11.418321  0.401  0.035119         0.002090       0.000003\n",
       "2  1387623  84.486971  0.415  0.004912         0.000292       0.000172\n",
       "3  1392535  17.491938  0.857  0.048994         0.002916       0.000004\n",
       "4  1441529  67.515636  0.896  0.013271         0.000790       0.000051"
      ]
     },
     "execution_count": 5,
     "metadata": {},
     "output_type": "execute_result"
    }
   ],
   "source": [
    "hapmap = pd.read_csv('hapmap.csv')\n",
    "hapmap.head()"
   ]
  },
  {
   "cell_type": "code",
   "execution_count": null,
   "metadata": {},
   "outputs": [],
   "source": []
  },
  {
   "cell_type": "code",
   "execution_count": null,
   "metadata": {},
   "outputs": [],
   "source": [
    "#simulate replicates with different recombination rates cfr. windows \n",
    "#specify a distribution to draw values from\n",
    "#choice can be weighted by the length of each interval, not necessary when windowwise estimates are given\n",
    "\n",
    "recomb = np.random.choice(hapmap['recombination'],size=20, p=hapmap['relative length'])\n",
    "\n",
    "replicates = [msprime.simulate(\n",
    "        length = seqLength, \n",
    "        recombination_rate = rate,\n",
    "        population_configurations = population_configurations,\n",
    "        demographic_events = demographic_events,\n",
    "        migration_matrix = [[0,0],\n",
    "                            [mig,0]],\n",
    "        mutation_rate = mu) \n",
    "for rate in recomb]"
   ]
  },
  {
   "cell_type": "code",
   "execution_count": null,
   "metadata": {},
   "outputs": [],
   "source": []
  },
  {
   "cell_type": "code",
   "execution_count": null,
   "metadata": {},
   "outputs": [],
   "source": [
    "#results for when half the chromosome is simulated in its entirety "
   ]
  },
  {
   "cell_type": "code",
   "execution_count": null,
   "metadata": {},
   "outputs": [],
   "source": []
  },
  {
   "cell_type": "markdown",
   "metadata": {},
   "source": [
    "building a secondary contact model"
   ]
  },
  {
   "cell_type": "code",
   "execution_count": 14,
   "metadata": {},
   "outputs": [],
   "source": [
    "splitT = 4.8580e6\n",
    "secT = 2e3 #moment of secondary contact\n",
    "proportion =0.1 #proportion of ancestral population mass migrating into the population that split of at time T\n",
    "\n",
    "population_configurations = [\n",
    "    msprime.PopulationConfiguration(sample_size=sample_size, initial_size=Ne0),\n",
    "    msprime.PopulationConfiguration(sample_size=sample_size, initial_size=Ne1),\n",
    "    ]\n",
    "    \n",
    "#demographic events: specify in the order they occur backwards in time\n",
    "demographic_events = [\n",
    "    msprime.MassMigration(time=secT, source=1, destination=0, proportion=proportion),\n",
    "    msprime.PopulationParametersChange(time=splitT, initial_size=Ne0, population_id=0),\n",
    "    msprime.MassMigration(time=splitT, source=1, destination=0, proportion=1.0)\n",
    "    ]\n",
    "\n",
    "reps=20\n",
    "replicates = msprime.simulate(\n",
    "        num_replicates = 20,\n",
    "        length = seqLength, \n",
    "        recombination_rate = recr,\n",
    "        population_configurations = population_configurations,\n",
    "        demographic_events = demographic_events)"
   ]
  },
  {
   "cell_type": "code",
   "execution_count": 15,
   "metadata": {},
   "outputs": [
    {
     "name": "stderr",
     "output_type": "stream",
     "text": [
      "determining windows: 100%|██████████| 1/1 [00:00<00:00,  1.15it/s]\n",
      "calculating tree-wise Fst: 100%|██████████| 13969/13969 [01:00<00:00, 230.38it/s]\n",
      "recombining tree-wise into window-wise Fst values: 100%|██████████| 1/1 [00:00<00:00, 256.34it/s]\n",
      "determining windows: 100%|██████████| 1/1 [00:00<00:00,  1.11it/s]\n",
      "calculating tree-wise Fst: 100%|██████████| 14138/14138 [01:00<00:00, 233.00it/s]\n",
      "recombining tree-wise into window-wise Fst values: 100%|██████████| 1/1 [00:00<00:00, 245.17it/s]\n",
      "determining windows: 100%|██████████| 1/1 [00:00<00:00,  1.15it/s]\n",
      "calculating tree-wise Fst: 100%|█████████▉| 14137/14140 [01:00<00:00, 102.84it/s]\n",
      "recombining tree-wise into window-wise Fst values: 100%|██████████| 1/1 [00:00<00:00, 240.14it/s]\n",
      "determining windows: 100%|██████████| 1/1 [00:00<00:00,  1.10it/s]\n",
      "calculating tree-wise Fst: 100%|██████████| 14670/14670 [01:06<00:00, 220.48it/s]\n",
      "recombining tree-wise into window-wise Fst values: 100%|██████████| 1/1 [00:00<00:00, 255.81it/s]\n",
      "determining windows: 100%|██████████| 1/1 [00:00<00:00,  1.12it/s]\n",
      "calculating tree-wise Fst: 100%|█████████▉| 14857/14858 [01:11<00:00, 103.06it/s]\n",
      "recombining tree-wise into window-wise Fst values: 100%|██████████| 1/1 [00:00<00:00, 210.62it/s]\n",
      "determining windows: 100%|██████████| 1/1 [00:00<00:00,  1.09it/s]\n",
      "calculating tree-wise Fst: 100%|██████████| 14379/14379 [01:03<00:00, 228.13it/s]\n",
      "recombining tree-wise into window-wise Fst values: 100%|██████████| 1/1 [00:00<00:00, 240.80it/s]\n",
      "determining windows: 100%|██████████| 1/1 [00:00<00:00,  1.14it/s]\n",
      "calculating tree-wise Fst: 100%|██████████| 14037/14037 [01:00<00:00, 102.38it/s]\n",
      "recombining tree-wise into window-wise Fst values: 100%|██████████| 1/1 [00:00<00:00, 260.74it/s]\n",
      "determining windows: 100%|██████████| 1/1 [00:00<00:00,  1.13it/s]\n",
      "calculating tree-wise Fst: 100%|██████████| 14833/14833 [01:06<00:00, 222.94it/s]\n",
      "recombining tree-wise into window-wise Fst values: 100%|██████████| 1/1 [00:00<00:00, 237.19it/s]\n",
      "determining windows: 100%|██████████| 1/1 [00:00<00:00,  1.17it/s]\n",
      "calculating tree-wise Fst: 100%|██████████| 14144/14144 [01:00<00:00, 232.56it/s]\n",
      "recombining tree-wise into window-wise Fst values: 100%|██████████| 1/1 [00:00<00:00, 168.12it/s]\n",
      "determining windows: 100%|██████████| 1/1 [00:00<00:00,  1.10it/s]\n",
      "calculating tree-wise Fst: 100%|██████████| 14258/14258 [01:01<00:00, 232.53it/s]\n",
      "recombining tree-wise into window-wise Fst values: 100%|██████████| 1/1 [00:00<00:00, 252.29it/s]\n",
      "determining windows: 100%|██████████| 1/1 [00:00<00:00,  1.17it/s]\n",
      "calculating tree-wise Fst: 100%|██████████| 13902/13902 [00:58<00:00, 237.49it/s]\n",
      "recombining tree-wise into window-wise Fst values: 100%|██████████| 1/1 [00:00<00:00, 300.65it/s]\n",
      "determining windows: 100%|██████████| 1/1 [00:00<00:00,  1.11it/s]\n",
      "calculating tree-wise Fst: 100%|██████████| 14699/14699 [01:08<00:00, 101.83it/s]\n",
      "recombining tree-wise into window-wise Fst values: 100%|██████████| 1/1 [00:00<00:00, 262.13it/s]\n",
      "determining windows: 100%|██████████| 1/1 [00:00<00:00,  1.19it/s]\n",
      "calculating tree-wise Fst: 100%|██████████| 14025/14025 [00:59<00:00, 235.14it/s]\n",
      "recombining tree-wise into window-wise Fst values: 100%|██████████| 1/1 [00:00<00:00, 317.80it/s]\n",
      "determining windows: 100%|██████████| 1/1 [00:00<00:00,  1.08it/s]\n",
      "calculating tree-wise Fst: 100%|██████████| 14394/14394 [01:03<00:00, 101.96it/s]\n",
      "recombining tree-wise into window-wise Fst values: 100%|██████████| 1/1 [00:00<00:00, 236.13it/s]\n",
      "determining windows: 100%|██████████| 1/1 [00:00<00:00,  1.14it/s]\n",
      "calculating tree-wise Fst: 100%|██████████| 14356/14356 [01:03<00:00, 226.60it/s]\n",
      "recombining tree-wise into window-wise Fst values: 100%|██████████| 1/1 [00:00<00:00, 218.58it/s]\n",
      "determining windows: 100%|██████████| 1/1 [00:00<00:00,  1.16it/s]\n",
      "calculating tree-wise Fst: 100%|██████████| 14443/14443 [01:03<00:00, 228.11it/s]\n",
      "recombining tree-wise into window-wise Fst values: 100%|██████████| 1/1 [00:00<00:00, 269.63it/s]\n",
      "determining windows: 100%|██████████| 1/1 [00:00<00:00,  1.14it/s]\n",
      "calculating tree-wise Fst: 100%|██████████| 14356/14356 [01:03<00:00, 226.51it/s]\n",
      "recombining tree-wise into window-wise Fst values: 100%|██████████| 1/1 [00:00<00:00, 270.08it/s]\n",
      "determining windows: 100%|██████████| 1/1 [00:00<00:00,  1.16it/s]\n",
      "calculating tree-wise Fst: 100%|█████████▉| 14467/14468 [01:02<00:00, 109.77it/s]\n",
      "recombining tree-wise into window-wise Fst values: 100%|██████████| 1/1 [00:00<00:00, 236.46it/s]\n",
      "determining windows: 100%|██████████| 1/1 [00:00<00:00,  1.09it/s]\n",
      "calculating tree-wise Fst: 100%|█████████▉| 14887/14888 [01:08<00:00, 218.82it/s]\n",
      "recombining tree-wise into window-wise Fst values: 100%|██████████| 1/1 [00:00<00:00, 263.15it/s]\n",
      "determining windows: 100%|██████████| 1/1 [00:00<00:00,  1.15it/s]\n",
      "calculating tree-wise Fst: 100%|██████████| 13688/13688 [00:57<00:00, 239.12it/s]\n",
      "recombining tree-wise into window-wise Fst values: 100%|██████████| 1/1 [00:00<00:00, 255.69it/s]\n"
     ]
    }
   ],
   "source": [
    "#this step uses the Fst_script, running 20 replicates takes 20 minutes, clearly we need to hope that Jerome comes \n",
    "# up with a more efficient implementation (time cost not due to windowmaking here, but because algorithm does not use)\n",
    "#the fact that trees along the ts are correlated.\n",
    "Fst = np.zeros(reps)\n",
    "for index, ts in enumerate(replicates):\n",
    "    Fst[index] = F.calculate_Fst(ts, windowsize=32e3)[0][0]"
   ]
  }
 ],
 "metadata": {
  "kernelspec": {
   "display_name": "slm",
   "language": "python",
   "name": "slm"
  },
  "language_info": {
   "codemirror_mode": {
    "name": "ipython",
    "version": 3
   },
   "file_extension": ".py",
   "mimetype": "text/x-python",
   "name": "python",
   "nbconvert_exporter": "python",
   "pygments_lexer": "ipython3",
   "version": "3.6.7"
  }
 },
 "nbformat": 4,
 "nbformat_minor": 2
}
