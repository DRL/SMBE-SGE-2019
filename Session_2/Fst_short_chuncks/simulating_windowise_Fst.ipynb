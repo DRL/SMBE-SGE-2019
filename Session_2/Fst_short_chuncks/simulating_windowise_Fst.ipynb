{
 "cells": [
  {
   "cell_type": "markdown",
   "metadata": {},
   "source": [
    "# Simulating null distributions for outlier scans"
   ]
  },
  {
   "cell_type": "code",
   "execution_count": 2,
   "metadata": {},
   "outputs": [],
   "source": [
    "import msprime, tskit\n",
    "import pandas as pd\n",
    "import seaborn as sns\n",
    "import matplotlib.pyplot as plt\n",
    "import numpy as np\n",
    "%matplotlib inline"
   ]
  },
  {
   "cell_type": "markdown",
   "metadata": {},
   "source": [
    "We are interested in understanding the divergence between two species and have been analysing Fst in windows of 32kb for a sample of 2 diploid individuals per species and have observed some tantalizing outliers. Let's (for now) assume that we have concrete information on the background demography and have estimated parameters under very simple null model of divergence with gene flow. An obvious questions is:\n",
    "- How likely windows with extreme Fst outliers given this history (and sample size)?\n"
   ]
  },
  {
   "cell_type": "markdown",
   "metadata": {},
   "source": [
    "## Divergence with constant migration"
   ]
  },
  {
   "cell_type": "markdown",
   "metadata": {},
   "source": [
    "Our cartoon history estimated from genome-wide data (we will give an example of how to do this using GimBL tomorrow) has four parameters: a population split time ($T$ in generations) between pop0 and pop1, a constant rate of unidirectional gene flow ($m$ per generation) and two effective population sizes (we assume that the common ancestral pop has the same effective size as pop0). We assume:\n",
    "\n",
    "- sequence windows of length 32kb, with a per base recombination rate 1.84 10^-8 (average $r$ given the Heliconius map from Davey et al. 2017)\n",
    "\n",
    "- gene flow from pop1 to pop0 only\n",
    "\n",
    "This sets up the sampling configuration and demographic history in msprime:"
   ]
  },
  {
   "cell_type": "code",
   "execution_count": 3,
   "metadata": {},
   "outputs": [],
   "source": [
    "#number of samples (2Xof diploid individuals) per deme:\n",
    "sample_size = 2\n",
    "\n",
    "#Rates for migration, recombination and mutation are unscaled and per generation:\n",
    "mig = 3.8866e-7\n",
    "seqLength = 32e3 \n",
    "recr = 1.84675e-8\n",
    "Ne0 = 2.3241e6\n",
    "Ne1 = 9.8922e5 \n",
    "splitT = 4.8580e6\n",
    "mu = 1.9e-9\n",
    "\n",
    "population_configurations = [\n",
    "    msprime.PopulationConfiguration(sample_size=sample_size, initial_size=Ne0),\n",
    "    msprime.PopulationConfiguration(sample_size=sample_size, initial_size=Ne1),\n",
    "    ]\n",
    "#demographic events are specified in the order they occur backwards in time:\n",
    "# The MassMigration specifies the split between population 0 and 1: \n",
    "# backwards in time all lineages from the smaller population (1) are derived from pop (0)\n",
    "# at time T \n",
    "demographic_events = [\n",
    "    msprime.MassMigration(time=splitT, source=1, destination=0, proportion=1.0),\n",
    "    ]\n",
    "# migration matrix specifies a matrix of pairwise migration rates (backwards in time).\n",
    "#migration_matrix = [[0,0],\n",
    "#                    [mig,0]]"
   ]
  },
  {
   "cell_type": "markdown",
   "metadata": {},
   "source": [
    "We want to simulate 200 replicate windows under this history in msprime. Simulations are pseudorandom, i.e. we start by generating a vector of random seeds."
   ]
  },
  {
   "cell_type": "code",
   "execution_count": 46,
   "metadata": {},
   "outputs": [],
   "source": [
    "num_reps = 50\n",
    "seed = np.random.randint(1, 2**32 - 1, 1)\n",
    "#seed = np.random.randint(1, 2**32 - 1, 1)\n",
    "replicates = msprime.simulate(\n",
    "        num_replicates = num_reps,\n",
    "        length = seqLength, \n",
    "        recombination_rate = recr,\n",
    "        population_configurations = population_configurations,\n",
    "        demographic_events = demographic_events,\n",
    "        migration_matrix = [[0,0],[mig,0]],\n",
    "        mutation_rate = mu,\n",
    "        random_seed=seed)"
   ]
  },
  {
   "cell_type": "markdown",
   "metadata": {},
   "source": [
    "We can sprinkle mutations onto the treesequence and save variants as a vcf file as well as saving the treesequences themselves:"
   ]
  },
  {
   "cell_type": "code",
   "execution_count": 107,
   "metadata": {},
   "outputs": [],
   "source": [
    "for index, ts in enumerate(replicates):\n",
    "#    msprime.mutate(ts, rate=mu, keep=True)\n",
    "    with open('sim{}.vcf'.format(str(index)), 'w') as vcf_file:\n",
    "        ts.write_vcf(vcf_file, ploidy=2)\n",
    "    ts.dump('sim{}.trees'.format(str(index)))"
   ]
  },
  {
   "cell_type": "markdown",
   "metadata": {},
   "source": [
    "We have simulated treesequences with mutations sprinkled on them. A simple way to compute Fst for each replicate window is to compare.\n",
    "\n",
    "We will use the following Fst definition:\n",
    "\n",
    "$F_{st}= \\frac{T_b-T_w}{T_b+T_w}$\n",
    "\n",
    "where $T_w$ and $T_b$ are the average pairwise coalescence times for a pair of lineages sampled within and between species respectively. Therefore an estimator of $F_{st}$ is:\n",
    "\n",
    "$\\hat{F_{st}}= \\frac{d_{xy}-\\pi}{d_{xy}+\\pi}$\n",
    "\n",
    "Note that the above follows from the general definition of $F_{st}$ in terms of expected pairwise coalescence times:\n",
    "\n",
    "$F_{st}= \\frac{T_t-T_w}{T_{t}}$\n",
    "\n",
    "Where $T_t$ is the average for a pairwise sample taken at random. For the case of pops/species we assume that we are equally likely to sample from within and between species, so.lkjlkjl\n",
    "\n",
    "$T_t=(T_b + T_w)/2$"
   ]
  },
  {
   "cell_type": "code",
   "execution_count": 33,
   "metadata": {},
   "outputs": [],
   "source": [
    "def comparisons(p1, p2):\n",
    "    num_sites = p1.shape[0]\n",
    "    num_comparisons = p1.shape[1]\n",
    "    result = []\n",
    "    for i in range(num_comparisons):\n",
    "        p2 = np.roll(p2,1, axis=1)\n",
    "        result.append(np.sum(np.mod(p1 + p2, 2))/num_sites)\n",
    "    return result\n",
    "\n",
    "def Fst(ts):\n",
    "    G = ts.genotype_matrix()\n",
    "    print(G)\n",
    "    p1 = G[:,:2]\n",
    "    print(p1)\n",
    "    p2 = G[:,2:4]\n",
    "    within = (np.mean(comparisons(p1,p1)) + np.mean(comparisons(p2,p2)))/2\n",
    "    between = np.mean(comparisons(p1, p2))\n",
    "    total = np.mean([between, within])\n",
    "    return (total - within)/total"
   ]
  },
  {
   "cell_type": "markdown",
   "metadata": {},
   "source": [
    "We estimate $F_{st}$ for each replicate using the tskit function Fst() and store the results in a numpy array:"
   ]
  },
  {
   "cell_type": "code",
   "execution_count": 117,
   "metadata": {},
   "outputs": [
    {
     "name": "stdout",
     "output_type": "stream",
     "text": [
      "200\n"
     ]
    }
   ],
   "source": [
    "print(num_reps)"
   ]
  },
  {
   "cell_type": "code",
   "execution_count": 26,
   "metadata": {
    "scrolled": true
   },
   "outputs": [
    {
     "data": {
      "text/plain": [
       "(array([[0, 1],\n",
       "        [1, 0],\n",
       "        [1, 0],\n",
       "        [1, 1],\n",
       "        [1, 0],\n",
       "        [0, 1],\n",
       "        [0, 1],\n",
       "        [1, 1],\n",
       "        [0, 0],\n",
       "        [1, 1],\n",
       "        [1, 0],\n",
       "        [1, 1],\n",
       "        [0, 0]], dtype=uint8), array([[0, 1, 0, 0],\n",
       "        [1, 0, 1, 0],\n",
       "        [1, 0, 1, 0],\n",
       "        [1, 1, 1, 0],\n",
       "        [1, 0, 1, 0],\n",
       "        [0, 1, 0, 0],\n",
       "        [0, 1, 0, 1],\n",
       "        [1, 1, 1, 0],\n",
       "        [0, 0, 0, 1],\n",
       "        [1, 1, 1, 0],\n",
       "        [1, 0, 0, 0],\n",
       "        [1, 1, 1, 0],\n",
       "        [0, 0, 0, 1]], dtype=uint8))"
      ]
     },
     "execution_count": 26,
     "metadata": {},
     "output_type": "execute_result"
    }
   ],
   "source": [
    "fstsim = np.zeros(num_reps)\n",
    "ts = msprime.simulate(\n",
    "        length = seqLength/200, \n",
    "        recombination_rate = recr,\n",
    "        population_configurations = population_configurations,\n",
    "        demographic_events = demographic_events,\n",
    "        migration_matrix = [[0,0],[mig,0]],\n",
    "        mutation_rate = mu)\n",
    "G = ts.genotype_matrix()\n",
    "p1 = G[:,:2]\n",
    "p1 = G[:,:2]\n",
    "p1, G\n",
    "#for index, ts in enumerate(replicates):\n",
    "#    fstsim[index] = Fst(ts)\n",
    "#    msprime.mutate(ts, rate=mu, keep=True)\n",
    "#    with open('sim{}.vcf'.format(str(index)), 'w') as vcf_file:\n",
    "#        ts.write_vcf(vcf_file, ploidy=2)\n",
    "#   ts.dump('sim{}.trees'.format(str(index)))\n",
    "#Fst(ts)"
   ]
  },
  {
   "cell_type": "code",
   "execution_count": 43,
   "metadata": {},
   "outputs": [
    {
     "data": {
      "text/plain": [
       "1.0"
      ]
     },
     "execution_count": 43,
     "metadata": {},
     "output_type": "execute_result"
    }
   ],
   "source": [
    "within = np.mean(comparisons(p1,p1))\n",
    "np.mean(comparisons(p1, p2))\n",
    " #   total = np.mean([between, within])\n",
    "  #  return (total - within)/total\n"
   ]
  },
  {
   "cell_type": "code",
   "execution_count": 29,
   "metadata": {},
   "outputs": [
    {
     "name": "stdout",
     "output_type": "stream",
     "text": [
      "0.0\n"
     ]
    }
   ],
   "source": [
    "print(fstsim.mean())"
   ]
  },
  {
   "cell_type": "code",
   "execution_count": null,
   "metadata": {},
   "outputs": [],
   "source": [
    "#histogram for unlinked windows 32kb\n",
    "basic_short = pd.read_csv('basic_short_all.csv')\n",
    "basic_short.drop(basic_short.columns[[0, 1]], axis=1, inplace=True)\n",
    "current_winner_short = pd.read_csv('current_winner_short_all.csv')\n",
    "current_winner_short.drop(current_winner_short.columns[[0, 1]], axis=1, inplace=True)"
   ]
  },
  {
   "cell_type": "code",
   "execution_count": null,
   "metadata": {},
   "outputs": [],
   "source": [
    "current_winner_short.head()"
   ]
  },
  {
   "cell_type": "code",
   "execution_count": null,
   "metadata": {},
   "outputs": [],
   "source": [
    "fig, ax = plt.subplots(figsize=(16,9))\n",
    "sns.distplot(current_winner_short['Fst'], label='current winner', norm_hist=True)\n",
    "sns.distplot(fstsim , label='Fst')\n",
    "plt.legend()\n",
    "ax.set_xlim((0, 0.5))"
   ]
  },
  {
   "cell_type": "markdown",
   "metadata": {},
   "source": [
    "A faster alternative is to compute $F_{st}$ from the tree sequence directly. This ignores the mutational variance in $F_{st}$."
   ]
  },
  {
   "cell_type": "code",
   "execution_count": 70,
   "metadata": {},
   "outputs": [],
   "source": [
    "num_reps = 200\n",
    "seed = np.random.randint(1, 2**32 - 1, 1)\n",
    "#seed = np.random.randint(1, 2**32 - 1, 1)\n",
    "replicates = msprime.simulate(\n",
    "        num_replicates = num_reps,\n",
    "        length = seqLength, \n",
    "        recombination_rate = recr,\n",
    "        population_configurations = population_configurations,\n",
    "        demographic_events = demographic_events,\n",
    "        migration_matrix = [[0,0],[mig,0]],\n",
    "        mutation_rate = mu,\n",
    "        random_seed=seed)"
   ]
  },
  {
   "cell_type": "markdown",
   "metadata": {},
   "source": [
    "We need to explain the awesomenes of the BranchLengthStatCalculator() here! Any summary statistic that can be defined in terms of branch lengths can be computed using this:"
   ]
  },
  {
   "cell_type": "code",
   "execution_count": 71,
   "metadata": {},
   "outputs": [
    {
     "data": {
      "text/plain": [
       "array([0.18245005, 0.2114004 , 0.21405154, 0.23068864, 0.18194492,\n",
       "       0.18544421, 0.22213505, 0.15742033, 0.20241737, 0.16125397,\n",
       "       0.18344511, 0.19141127, 0.15779905, 0.19053403, 0.17453741,\n",
       "       0.19107095, 0.16113604, 0.17209134, 0.18403198, 0.15666508,\n",
       "       0.1618537 , 0.17505167, 0.20692527, 0.10463033, 0.19126468,\n",
       "       0.18602514, 0.18354673, 0.21386861, 0.22210889, 0.29195924,\n",
       "       0.21501449, 0.19380441, 0.17416767, 0.21236201, 0.11810245,\n",
       "       0.14304701, 0.16391651, 0.16031645, 0.15952353, 0.201692  ,\n",
       "       0.22829644, 0.20296956, 0.15850397, 0.12522777, 0.19892917,\n",
       "       0.1417541 , 0.16457411, 0.23969838, 0.2128767 , 0.18636472,\n",
       "       0.1861634 , 0.21865696, 0.1850503 , 0.15217697, 0.14416755,\n",
       "       0.17749132, 0.17342775, 0.19832698, 0.20324567, 0.18199409,\n",
       "       0.16206276, 0.21411472, 0.22040661, 0.18912954, 0.18404902,\n",
       "       0.18504721, 0.16518229, 0.20208676, 0.18273973, 0.21639867,\n",
       "       0.20669597, 0.20631199, 0.1285533 , 0.18470452, 0.1723124 ,\n",
       "       0.15528796, 0.16655294, 0.15310925, 0.18152681, 0.15017361,\n",
       "       0.18486385, 0.15166083, 0.19132004, 0.20549122, 0.15786742,\n",
       "       0.2125666 , 0.18360107, 0.18173662, 0.19013879, 0.15608012,\n",
       "       0.19970467, 0.16662699, 0.18697535, 0.21751761, 0.17122065,\n",
       "       0.1628917 , 0.15948446, 0.15198791, 0.18314119, 0.17858332,\n",
       "       0.16036276, 0.18558432, 0.19437466, 0.13504485, 0.17643049,\n",
       "       0.15965069, 0.16794603, 0.14409591, 0.16663515, 0.19229721,\n",
       "       0.1379749 , 0.18144182, 0.1932849 , 0.11568749, 0.16606614,\n",
       "       0.20023304, 0.17584185, 0.16941831, 0.16853393, 0.18361592,\n",
       "       0.135897  , 0.14601782, 0.17500166, 0.22164735, 0.19340898,\n",
       "       0.20672734, 0.21640634, 0.18415111, 0.20395017, 0.18558579,\n",
       "       0.23186782, 0.14541293, 0.17082332, 0.1674766 , 0.20199249,\n",
       "       0.17649599, 0.18015296, 0.1532303 , 0.1781715 , 0.16424193,\n",
       "       0.18296448, 0.19358158, 0.17362324, 0.1462589 , 0.24180904,\n",
       "       0.28348951, 0.1697964 , 0.17212692, 0.17268777, 0.17790234,\n",
       "       0.19967099, 0.1994165 , 0.20392632, 0.17360515, 0.20437839,\n",
       "       0.15106189, 0.1694817 , 0.14981815, 0.17455105, 0.18063585,\n",
       "       0.14642604, 0.18275783, 0.20503369, 0.24405812, 0.2147808 ,\n",
       "       0.13763343, 0.15050605, 0.17929408, 0.17388541, 0.18265774,\n",
       "       0.20818428, 0.18922125, 0.19547089, 0.20628446, 0.1510485 ,\n",
       "       0.16767238, 0.18728687, 0.15761862, 0.19064568, 0.17635453,\n",
       "       0.14712677, 0.19252031, 0.20844715, 0.27094147, 0.15447454,\n",
       "       0.22901239, 0.1934784 , 0.19136318, 0.16771685, 0.17580916,\n",
       "       0.19176513, 0.22197818, 0.15366905, 0.20981224, 0.21986601,\n",
       "       0.18300723, 0.1507492 , 0.08753085, 0.19185942, 0.1632285 ])"
      ]
     },
     "execution_count": 71,
     "metadata": {},
     "output_type": "execute_result"
    }
   ],
   "source": [
    "def Fst(div_entry):\n",
    "    A = np.mean((div_entry.diagonal()))\n",
    "    B = div_entry[1,0]\n",
    "    return (B-A)/(A+B)\n",
    "\n",
    "def calculate_Fst(ts, samplesets, function=Fst):\n",
    "    winlen = [0,ts.sequence_length]\n",
    "    BranchStat = tskit.BranchLengthStatCalculator(ts)\n",
    "    div_matrix = BranchStat.divergence_matrix(samplesets,winlen)\n",
    "    Fst_result = list(map(function, div_matrix))\n",
    "    return Fst_result\n",
    "\n",
    "fstSims = np.zeros(num_reps)\n",
    "for index, ts in enumerate(replicates):\n",
    "    p1 = list(ts.get_samples(0))\n",
    "    p2 = list(ts.get_samples(1))\n",
    "    fstSims[index] = calculate_Fst(ts,samplesets=[p1,p2])[0]"
   ]
  },
  {
   "cell_type": "code",
   "execution_count": 73,
   "metadata": {},
   "outputs": [],
   "source": [
    "current_winner_short = pd.read_csv('current_winner_short_all.csv')\n",
    "current_winner_short.drop(current_winner_short.columns[[0, 1]], axis=1, inplace=True)"
   ]
  },
  {
   "cell_type": "code",
   "execution_count": 75,
   "metadata": {},
   "outputs": [
    {
     "data": {
      "text/plain": [
       "(0, 0.5)"
      ]
     },
     "execution_count": 75,
     "metadata": {},
     "output_type": "execute_result"
    },
    {
     "data": {
      "image/png": "[encoded data removed]",
      "text/plain": [
       "<Figure size 1152x648 with 1 Axes>"
      ]
     },
     "metadata": {
      "needs_background": "light"
     },
     "output_type": "display_data"
    }
   ],
   "source": [
    "fig, ax = plt.subplots(figsize=(16,9))\n",
    "sns.distplot(current_winner_short['Fst'], label='current winner', norm_hist=True)\n",
    "sns.distplot(fstSims , label='Fst')\n",
    "plt.legend()\n",
    "ax.set_xlim((0, 0.5))"
   ]
  },
  {
   "cell_type": "code",
   "execution_count": 78,
   "metadata": {},
   "outputs": [
    {
     "data": {
      "text/plain": [
       "(0.18188027232511061, 0.19562417742896332)"
      ]
     },
     "execution_count": 78,
     "metadata": {},
     "output_type": "execute_result"
    }
   ],
   "source": [
    "fstSims.mean(), current_winner_short['Fst'].quantile(0.95)"
   ]
  },
  {
   "cell_type": "markdown",
   "metadata": {},
   "source": [
    "or run all this in a script that can be run on multiple cores\n",
    "change parametes within sim_chuncks.py as desired"
   ]
  },
  {
   "cell_type": "code",
   "execution_count": null,
   "metadata": {},
   "outputs": [],
   "source": [
    "%run sim_chuncks.py"
   ]
  },
  {
   "cell_type": "markdown",
   "metadata": {},
   "source": [
    "run tskit Fst scan and\n",
    "analyse output using script as provided in the Fst_istogram notebook"
   ]
  },
  {
   "cell_type": "code",
   "execution_count": null,
   "metadata": {},
   "outputs": [],
   "source": [
    "recomb = abs(np.random.normal(loc=1.846, scale=0.1, size=300))/1e8\n",
    "replicates = msprime.simulate(\n",
    "        num_replicates = 1,\n",
    "        length = seqLength, \n",
    "        recombination_rate = recr,\n",
    "        population_configurations = population_configurations,\n",
    "        demographic_events = demographic_events,\n",
    "        migration_matrix = [[0,0],\n",
    "                            [mig,0]],\n",
    "        mutation_rate = mu)"
   ]
  },
  {
   "cell_type": "code",
   "execution_count": null,
   "metadata": {},
   "outputs": [],
   "source": [
    "fig, ax = plt.subplots(figsize=(16,9))\n",
    "sns.distplot(abs(np.random.normal(loc=1.846, scale=0.1, size=300))/1e8, label='r in 32kb')\n",
    "ax.set_xlim((1.2/1e8, 2.2/1e8))\n",
    "plt.legend()"
   ]
  },
  {
   "cell_type": "code",
   "execution_count": null,
   "metadata": {},
   "outputs": [],
   "source": [
    "#histogram for unlinked windows 32kb\n",
    "basic_short = pd.read_csv('basic_short_all.csv')\n",
    "basic_short.drop(basic_short.columns[[0, 1]], axis=1, inplace=True)\n",
    "current_winner_short = pd.read_csv('current_winner_short_all.csv')\n",
    "current_winner_short.drop(current_winner_short.columns[[0, 1]], axis=1, inplace=True)"
   ]
  },
  {
   "cell_type": "markdown",
   "metadata": {},
   "source": [
    "## Divergence with secondary contact"
   ]
  },
  {
   "cell_type": "markdown",
   "metadata": {},
   "source": [
    "How different is the distribution of $F_{st}$ if we assume that divergence happened in allopatry and has been partially eroded by secondary contact? We assume the same split time $T_{s}$ and $N_e$ as before and a sudden admixture event which transfers a proportion of $f=0.389$ from pop0 to pop1 at time $T_{ad}$. This is specified as another MassMigration event."
   ]
  },
  {
   "cell_type": "code",
   "execution_count": null,
   "metadata": {},
   "outputs": [],
   "source": [
    "T = 4.8580e6\n",
    "#time of secondary admixture\n",
    "adT = 5.0772e4 \n",
    "#proportion of lineages in source migrating into destination that split at time T:\n",
    "proportionf =0.389 \n",
    "\n",
    "population_configurations = [\n",
    "    msprime.PopulationConfiguration(sample_size=sample_size, initial_size=Ne0),\n",
    "    msprime.PopulationConfiguration(sample_size=sample_size, initial_size=Ne1),\n",
    "    ]\n",
    "    \n",
    "#demographic events: specify in the order they occur backwards in time.\n",
    "demographic_events = [\n",
    "    msprime.MassMigration(time=adT, source=1, destination=0, proportion=proportionf),\n",
    "    msprime.PopulationParametersChange(time=T, initial_size=Ne0, population_id=0),\n",
    "    msprime.MassMigration(time=T, source=1, destination=0, proportion=1.0)\n",
    "    ]\n",
    "\n",
    "replicatesAD = msprime.simulate(\n",
    "        num_replicates = num_reps,\n",
    "        length = seqLength, \n",
    "        recombination_rate = recr,\n",
    "        population_configurations = population_configurations,\n",
    "        demographic_events = demographic_events)"
   ]
  },
  {
   "cell_type": "code",
   "execution_count": null,
   "metadata": {},
   "outputs": [],
   "source": [
    "fstsimAD = np.zeros(reps)\n",
    "\n",
    "print(fstsimAD)"
   ]
  },
  {
   "cell_type": "code",
   "execution_count": null,
   "metadata": {},
   "outputs": [],
   "source": [
    "fstsim = np.zeros(reps)\n",
    "for index, ts in enumerate(replicatesAD):\n",
    "    fstsim[index] = Fst(ts)"
   ]
  },
  {
   "cell_type": "markdown",
   "metadata": {},
   "source": [
    "## Recombination rate heterogeneity"
   ]
  },
  {
   "cell_type": "markdown",
   "metadata": {},
   "source": [
    "heli_32kb_Davey2017_rec is a dataframe with recombination rate estimates (cM/Mb) in 32kb windows estimated for Heliconius (Davey et al. 2017 generated three recombination maps for Hmel, Hcyd and the F1, the last column is the mean of these maps)."
   ]
  },
  {
   "cell_type": "code",
   "execution_count": null,
   "metadata": {},
   "outputs": [],
   "source": [
    "hapmap = pd.read_csv('heli_32kb_Davey2017_rec.csv', delimiter='\\t')\n",
    "hapmap.head()\n",
    "#hapmap[hapmap['Chrom']==18]"
   ]
  },
  {
   "cell_type": "markdown",
   "metadata": {},
   "source": [
    "Note that 32kb is the total length of sequence in a window after filtering (in this case only intergenic data). So windows are substantially longer than 32 kb in terms of physical span: "
   ]
  },
  {
   "cell_type": "code",
   "execution_count": null,
   "metadata": {},
   "outputs": [],
   "source": [
    "winspan=(hapmap['end']-hapmap['start'])/1000\n",
    "fig, ax = plt.subplots(figsize=(6,3))\n",
    "sns.distplot(winspan, label='window span')\n",
    "ax.set_xlim((0, 300))\n",
    "print(\"median = \"+ str(winspan.median())+\"kb\")"
   ]
  },
  {
   "cell_type": "code",
   "execution_count": null,
   "metadata": {},
   "outputs": [],
   "source": [
    "print(hapmap['Mean'].mean()/2)\n",
    "\n",
    "fig, ax = plt.subplots(figsize=(6,3))\n",
    "sns.distplot(hapmap['Mean']/2, label='r in 32kb')\n",
    "ax.set_xlim((0, 5.5))\n",
    "plt.legend()"
   ]
  },
  {
   "cell_type": "markdown",
   "metadata": {},
   "source": [
    "We can draw a random sample of those values, run the msprime simulation again and compare this to the outcome we obtained without recombination rate variation.\n",
    "Simulating 100 replicate windows is fast:"
   ]
  },
  {
   "cell_type": "code",
   "execution_count": null,
   "metadata": {},
   "outputs": [],
   "source": [
    "#simulate replicates with different recombination rates cfr. windows \n",
    "#specify a distribution to draw values from\n",
    "recomb = np.random.choice(hapmap['Mean']/2,size=500)"
   ]
  },
  {
   "cell_type": "code",
   "execution_count": null,
   "metadata": {},
   "outputs": [],
   "source": [
    "replicates = [msprime.simulate(\n",
    "        length = seqLength, \n",
    "        recombination_rate = rate/10e8,\n",
    "        population_configurations = population_configurations,\n",
    "        demographic_events = demographic_events,\n",
    "        migration_matrix =  migration_matrix,\n",
    "        mutation_rate = mu) \n",
    "for rate in recomb]"
   ]
  },
  {
   "cell_type": "code",
   "execution_count": null,
   "metadata": {},
   "outputs": [],
   "source": []
  },
  {
   "cell_type": "code",
   "execution_count": null,
   "metadata": {},
   "outputs": [],
   "source": []
  }
 ],
 "metadata": {
  "kernelspec": {
   "display_name": "Python 3",
   "language": "python",
   "name": "python3"
  },
  "language_info": {
   "codemirror_mode": {
    "name": "ipython",
    "version": 3
   },
   "file_extension": ".py",
   "mimetype": "text/x-python",
   "name": "python",
   "nbconvert_exporter": "python",
   "pygments_lexer": "ipython3",
   "version": "3.6.7"
  }
 },
 "nbformat": 4,
 "nbformat_minor": 2
}
