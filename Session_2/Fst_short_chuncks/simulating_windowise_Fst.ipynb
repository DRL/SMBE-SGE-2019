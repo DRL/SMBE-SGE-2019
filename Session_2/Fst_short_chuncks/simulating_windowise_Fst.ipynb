{
 "cells": [
  {
   "cell_type": "markdown",
   "metadata": {},
   "source": [
    "# Simulating null distributions for outlier scans"
   ]
  },
  {
   "cell_type": "code",
   "execution_count": 23,
   "metadata": {},
   "outputs": [
    {
     "ename": "ModuleNotFoundError",
     "evalue": "No module named 'Fst_ts_thread_interval'",
     "output_type": "error",
     "traceback": [
      "\u001b[0;31m---------------------------------------------------------------------------\u001b[0m",
      "\u001b[0;31mModuleNotFoundError\u001b[0m                       Traceback (most recent call last)",
      "\u001b[0;32m<ipython-input-23-0dd31679bf6c>\u001b[0m in \u001b[0;36m<module>\u001b[0;34m\u001b[0m\n\u001b[1;32m      5\u001b[0m \u001b[0;32mimport\u001b[0m \u001b[0mnumpy\u001b[0m \u001b[0;32mas\u001b[0m \u001b[0mnp\u001b[0m\u001b[0;34m\u001b[0m\u001b[0;34m\u001b[0m\u001b[0m\n\u001b[1;32m      6\u001b[0m \u001b[0mget_ipython\u001b[0m\u001b[0;34m(\u001b[0m\u001b[0;34m)\u001b[0m\u001b[0;34m.\u001b[0m\u001b[0mrun_line_magic\u001b[0m\u001b[0;34m(\u001b[0m\u001b[0;34m'matplotlib'\u001b[0m\u001b[0;34m,\u001b[0m \u001b[0;34m'inline'\u001b[0m\u001b[0;34m)\u001b[0m\u001b[0;34m\u001b[0m\u001b[0;34m\u001b[0m\u001b[0m\n\u001b[0;32m----> 7\u001b[0;31m \u001b[0;32mimport\u001b[0m \u001b[0mFst_ts_thread_interval\u001b[0m \u001b[0;32mas\u001b[0m \u001b[0mF\u001b[0m\u001b[0;34m\u001b[0m\u001b[0;34m\u001b[0m\u001b[0m\n\u001b[0m",
      "\u001b[0;31mModuleNotFoundError\u001b[0m: No module named 'Fst_ts_thread_interval'"
     ]
    }
   ],
   "source": [
    "import msprime, tskit\n",
    "import pandas as pd\n",
    "import seaborn as sns\n",
    "import matplotlib.pyplot as plt\n",
    "import numpy as np\n",
    "%matplotlib inline\n",
    "import Fst_ts_thread_interval as F"
   ]
  },
  {
   "cell_type": "markdown",
   "metadata": {},
   "source": [
    "We are interested in understanding the divergence between two species and have been analysing Fst in windows of 32kb for a sample of 2 diploid individuals per species and have observed some tantalizing outliers. Let's (for now) assume that we have concrete information on the background demography and have estimated parameters under very simple null model of divergence with gene flow. An obvious questions is:\n",
    "- How likely windows with extreme Fst outliers given this history (and sample size)?\n"
   ]
  },
  {
   "cell_type": "markdown",
   "metadata": {},
   "source": [
    "## Divergence with constant migration"
   ]
  },
  {
   "cell_type": "markdown",
   "metadata": {},
   "source": [
    "Our cartoon history estimated from genome-wide data (we will give an example of how to do this using GimBL tomorrow) has four parameters: a population split time ($T$ in generations) between pop0 and pop1, a constant rate of unidirectional gene flow ($m$ per generation) and two effective population sizes (we assume that the common ancestral pop has the same effective size as pop0). We assume:\n",
    "\n",
    "- sequence windows of length 32kb, with a per base recombination rate 1.84 10^-8 (average $r$ given the Heliconius map from Davey et al. 2017)\n",
    "\n",
    "- gene flow from pop1 to pop0 only\n",
    "\n",
    "This sets up the sampling configuration and demographic history in msprime:"
   ]
  },
  {
   "cell_type": "code",
   "execution_count": 36,
   "metadata": {},
   "outputs": [],
   "source": [
    "#number of samples (2Xof diploid individuals) per deme:\n",
    "sample_size = 4\n",
    "\n",
    "#Rates for migration, recombination and mutation are unscaled and per generation:\n",
    "mig = 3.8866e-7\n",
    "seqLength = 32e3 \n",
    "recr = 1.84675e-8\n",
    "Ne0 = 2.3241e6\n",
    "Ne1 = 9.8922e5 \n",
    "T = 4.8580e6\n",
    "mu = 1.9e-9\n",
    "\n",
    "population_configurations = [\n",
    "    msprime.PopulationConfiguration(sample_size=sample_size, initial_size=Ne0),\n",
    "    msprime.PopulationConfiguration(sample_size=sample_size, initial_size=Ne1),\n",
    "    ]\n",
    "#demographic events are specified in the order they occur backwards in time:\n",
    "# The MassMigration specifies the split between population 0 and 1: \n",
    "# backwards in time all lineages from the smaller population (1) are derived from pop (0)\n",
    "# at time T \n",
    "demographic_events = [\n",
    "    msprime.PopulationParametersChange(time=T, initial_size=Ne0, population_id=0),\n",
    "    msprime.MassMigration(time=T, source=1, destination=0, proportion=1.0),\n",
    "    msprime.MigrationRateChange(T,0)\n",
    "    ]\n",
    "# migration matrix specifies a matrix of pairwise migration rates (backwards in time).\n",
    "#migration_matrix = [[0,0],\n",
    "#                    [mig,0]]"
   ]
  },
  {
   "cell_type": "markdown",
   "metadata": {},
   "source": [
    "We want to simulate 200 replicate windows under this history in msprime. Simulations are pseudorandom, i.e. we start by generating a vector of random seeds."
   ]
  },
  {
   "cell_type": "code",
   "execution_count": 37,
   "metadata": {},
   "outputs": [],
   "source": [
    "num_reps = 100\n",
    "seed = np.random.randint(1, 2**32 - 1, 1)\n",
    "#seed = np.random.randint(1, 2**32 - 1, 1)\n",
    "replicates = msprime.simulate(\n",
    "        num_replicates = num_reps,\n",
    "        length = seqLength, \n",
    "        recombination_rate = recr,\n",
    "        population_configurations = population_configurations,\n",
    "        demographic_events = demographic_events,\n",
    "        migration_matrix = [[0,0],[mig,0]],\n",
    "        mutation_rate = mu,\n",
    "        random_seed=seed)"
   ]
  },
  {
   "cell_type": "markdown",
   "metadata": {},
   "source": [
    "We can sprinkle mutations onto the treesequence and save variants as a vcf file as well as saving the treesequences themselves:"
   ]
  },
  {
   "cell_type": "code",
   "execution_count": 107,
   "metadata": {},
   "outputs": [],
   "source": [
    "for index, ts in enumerate(replicates):\n",
    "#    msprime.mutate(ts, rate=mu, keep=True)\n",
    "    with open('sim{}.vcf'.format(str(index)), 'w') as vcf_file:\n",
    "        ts.write_vcf(vcf_file, ploidy=2)\n",
    "    ts.dump('sim{}.trees'.format(str(index)))"
   ]
  },
  {
   "cell_type": "markdown",
   "metadata": {},
   "source": [
    "We have simulated treesequences with mutations sprinkled on them. A simple way to compute Fst for each replicate window is to compare.\n",
    "\n",
    "We will use the following Fst definition:\n",
    "\n",
    "$F_{st}= \\frac{T_b-T_w}{T_b+T_W}$\n",
    "\n",
    "\n",
    "where $T_w$ and $T_b$ are the average pairwise coalescence times for a pairs of lineages sampled from within or between the same species respectively.\n",
    "\n",
    "Note: The above follows from a general definition of $F_{st}$ in terms of pairwise coalescence times is: \n",
    "$F_{st}= \\frac{T_t-T_w}{T_{t}}$\n",
    "\n",
    "Where $T_t$  is the average. For a pair of pops. we assume that we are equally likely to sample from within and between species\n",
    " $T_t=(T_b + T_w)/2$"
   ]
  },
  {
   "cell_type": "code",
   "execution_count": 38,
   "metadata": {},
   "outputs": [],
   "source": [
    "def comparisons(p1, p2):\n",
    "    num_sites = p1.shape[0]\n",
    "    num_comparisons = p1.shape[1]\n",
    "    result = []\n",
    "    for i in range(num_comparisons):\n",
    "        p2 = np.roll(p2,1, axis=1)\n",
    "        result.append(np.sum(np.mod(p1+p2, 2))/num_sites)\n",
    "    return result"
   ]
  },
  {
   "cell_type": "code",
   "execution_count": 39,
   "metadata": {},
   "outputs": [],
   "source": [
    "def Fst(ts):\n",
    "    G = ts.genotype_matrix()\n",
    "    p1 = G[:,:4]\n",
    "    p2 = G[:,4:8]\n",
    "    within = (np.mean(comparisons(p1,p1)) + np.mean(comparisons(p2,p2)))/2\n",
    "    between = np.mean(comparisons(p1, p2))\n",
    "    total = np.mean([between, within])\n",
    "    return (total - within)/total"
   ]
  },
  {
   "cell_type": "code",
   "execution_count": 40,
   "metadata": {},
   "outputs": [],
   "source": [
    "fstsim = np.zeros(num_reps)\n",
    "for index, ts in enumerate(replicates):\n",
    "    fstsim[index] = Fst(ts)\n",
    "#    msprime.mutate(ts, rate=mu, keep=True)\n",
    "#    with open('sim{}.vcf'.format(str(index)), 'w') as vcf_file:\n",
    "#        ts.write_vcf(vcf_file, ploidy=2)\n",
    "#   ts.dump('sim{}.trees'.format(str(index)))\n",
    "#Fst(ts)"
   ]
  },
  {
   "cell_type": "code",
   "execution_count": 41,
   "metadata": {},
   "outputs": [
    {
     "name": "stdout",
     "output_type": "stream",
     "text": [
      "0.3158621494799431\n"
     ]
    }
   ],
   "source": [
    "print(fstsim.mean())"
   ]
  },
  {
   "cell_type": "code",
   "execution_count": 42,
   "metadata": {},
   "outputs": [
    {
     "data": {
      "text/plain": [
       "<matplotlib.legend.Legend at 0x7fc132c0d198>"
      ]
     },
     "execution_count": 42,
     "metadata": {},
     "output_type": "execute_result"
    },
    {
     "data": {
      "image/png": "[encoded data removed]",
      "text/plain": [
       "<Figure size 1152x648 with 1 Axes>"
      ]
     },
     "metadata": {
      "needs_background": "light"
     },
     "output_type": "display_data"
    }
   ],
   "source": [
    "fig, ax = plt.subplots(figsize=(16,9))\n",
    "sns.distplot(fstsim , label='Fst')\n",
    "#ax.set_xlim((1.2/1e8, 2.2/1e8))\n",
    "plt.legend()"
   ]
  },
  {
   "cell_type": "code",
   "execution_count": null,
   "metadata": {},
   "outputs": [],
   "source": [
    "Fst = np.zeros(reps)\n",
    "for index, ts in enumerate(replicates):\n",
    "    Fst[index] = F.calculate_Fst(ts, windowsize=32e3)[0][0]"
   ]
  },
  {
   "cell_type": "markdown",
   "metadata": {},
   "source": [
    "or run all this in a script that can be run on multiple cores\n",
    "change parametes within sim_chuncks.py as desired"
   ]
  },
  {
   "cell_type": "code",
   "execution_count": 24,
   "metadata": {},
   "outputs": [
    {
     "ename": "ModuleNotFoundError",
     "evalue": "No module named 'tqdm'",
     "output_type": "error",
     "traceback": [
      "\u001b[0;31m---------------------------------------------------------------------------\u001b[0m",
      "\u001b[0;31mModuleNotFoundError\u001b[0m                       Traceback (most recent call last)",
      "\u001b[0;32m~/Dropbox/Manuscripts/SMBE_session2/SMBE-SGE-2019/Session_2/Fst_short_chuncks/sim_chuncks.py\u001b[0m in \u001b[0;36m<module>\u001b[0;34m\u001b[0m\n\u001b[1;32m      6\u001b[0m \u001b[0;32mimport\u001b[0m \u001b[0mrandom\u001b[0m\u001b[0;34m\u001b[0m\u001b[0;34m\u001b[0m\u001b[0m\n\u001b[1;32m      7\u001b[0m \u001b[0;32mfrom\u001b[0m \u001b[0mmultiprocessing\u001b[0m \u001b[0;32mimport\u001b[0m \u001b[0mPool\u001b[0m\u001b[0;34m\u001b[0m\u001b[0;34m\u001b[0m\u001b[0m\n\u001b[0;32m----> 8\u001b[0;31m \u001b[0;32mfrom\u001b[0m \u001b[0mtqdm\u001b[0m \u001b[0;32mimport\u001b[0m \u001b[0mtqdm\u001b[0m\u001b[0;34m\u001b[0m\u001b[0;34m\u001b[0m\u001b[0m\n\u001b[0m\u001b[1;32m      9\u001b[0m \u001b[0;34m\u001b[0m\u001b[0m\n\u001b[1;32m     10\u001b[0m \u001b[0;32mdef\u001b[0m \u001b[0mrun_simulation\u001b[0m\u001b[0;34m(\u001b[0m\u001b[0mparams\u001b[0m\u001b[0;34m)\u001b[0m\u001b[0;34m:\u001b[0m\u001b[0;34m\u001b[0m\u001b[0;34m\u001b[0m\u001b[0m\n",
      "\u001b[0;31mModuleNotFoundError\u001b[0m: No module named 'tqdm'"
     ]
    }
   ],
   "source": [
    "%run sim_chuncks.py"
   ]
  },
  {
   "cell_type": "markdown",
   "metadata": {},
   "source": [
    "run tskit Fst scan and\n",
    "analyse output using script as provided in the Fst_istogram notebook"
   ]
  },
  {
   "cell_type": "code",
   "execution_count": 36,
   "metadata": {},
   "outputs": [],
   "source": [
    "recomb = abs(np.random.normal(loc=1.846, scale=0.1, size=300))/1e8\n",
    "replicates = msprime.simulate(\n",
    "        num_replicates = 1,\n",
    "        length = seqLength, \n",
    "        recombination_rate = recr,\n",
    "        population_configurations = population_configurations,\n",
    "        demographic_events = demographic_events,\n",
    "        migration_matrix = [[0,0],\n",
    "                            [mig,0]],\n",
    "        mutation_rate = mu)"
   ]
  },
  {
   "cell_type": "code",
   "execution_count": 83,
   "metadata": {},
   "outputs": [
    {
     "data": {
      "text/plain": [
       "<matplotlib.legend.Legend at 0x7f9f815896a0>"
      ]
     },
     "execution_count": 83,
     "metadata": {},
     "output_type": "execute_result"
    },
    {
     "data": {
      "image/png": "[encoded data removed]",
      "text/plain": [
       "<Figure size 1152x648 with 1 Axes>"
      ]
     },
     "metadata": {
      "needs_background": "light"
     },
     "output_type": "display_data"
    }
   ],
   "source": [
    "fig, ax = plt.subplots(figsize=(16,9))\n",
    "sns.distplot(abs(np.random.normal(loc=1.846, scale=0.1, size=300))/1e8, label='r in 32kb')\n",
    "ax.set_xlim((1.2/1e8, 2.2/1e8))\n",
    "plt.legend()"
   ]
  },
  {
   "cell_type": "code",
   "execution_count": 25,
   "metadata": {},
   "outputs": [],
   "source": [
    "#histogram for unlinked windows 32kb\n",
    "basic_short = pd.read_csv('basic_short_all.csv')\n",
    "basic_short.drop(basic_short.columns[[0, 1]], axis=1, inplace=True)\n",
    "current_winner_short = pd.read_csv('current_winner_short_all.csv')\n",
    "current_winner_short.drop(current_winner_short.columns[[0, 1]], axis=1, inplace=True)"
   ]
  },
  {
   "cell_type": "markdown",
   "metadata": {},
   "source": [
    "## Divergence with secondary contact"
   ]
  },
  {
   "cell_type": "markdown",
   "metadata": {},
   "source": [
    "How different is the distribution of $F_{st}$ under a scenario of divergence in allopatry with secondary contact? We assume the same split time $T_{s}$ and $N_e$ as before and a sudden admixture event which transfers a proportion of $f=0.389$ from pop0 to pop1 at time $T_{ad}$:"
   ]
  },
  {
   "cell_type": "code",
   "execution_count": 34,
   "metadata": {},
   "outputs": [
    {
     "ename": "NameError",
     "evalue": "name 'secT' is not defined",
     "output_type": "error",
     "traceback": [
      "\u001b[0;31m---------------------------------------------------------------------------\u001b[0m",
      "\u001b[0;31mNameError\u001b[0m                                 Traceback (most recent call last)",
      "\u001b[0;32m<ipython-input-34-08e630c6f8df>\u001b[0m in \u001b[0;36m<module>\u001b[0;34m\u001b[0m\n\u001b[1;32m     12\u001b[0m \u001b[0;31m#demographic events: specify in the order they occur backwards in time\u001b[0m\u001b[0;34m\u001b[0m\u001b[0;34m\u001b[0m\u001b[0;34m\u001b[0m\u001b[0m\n\u001b[1;32m     13\u001b[0m demographic_events = [\n\u001b[0;32m---> 14\u001b[0;31m     \u001b[0mmsprime\u001b[0m\u001b[0;34m.\u001b[0m\u001b[0mMassMigration\u001b[0m\u001b[0;34m(\u001b[0m\u001b[0mtime\u001b[0m\u001b[0;34m=\u001b[0m\u001b[0msecT\u001b[0m\u001b[0;34m,\u001b[0m \u001b[0msource\u001b[0m\u001b[0;34m=\u001b[0m\u001b[0;36m1\u001b[0m\u001b[0;34m,\u001b[0m \u001b[0mdestination\u001b[0m\u001b[0;34m=\u001b[0m\u001b[0;36m0\u001b[0m\u001b[0;34m,\u001b[0m \u001b[0mproportion\u001b[0m\u001b[0;34m=\u001b[0m\u001b[0mproportionf\u001b[0m\u001b[0;34m)\u001b[0m\u001b[0;34m,\u001b[0m\u001b[0;34m\u001b[0m\u001b[0;34m\u001b[0m\u001b[0m\n\u001b[0m\u001b[1;32m     15\u001b[0m     \u001b[0mmsprime\u001b[0m\u001b[0;34m.\u001b[0m\u001b[0mPopulationParametersChange\u001b[0m\u001b[0;34m(\u001b[0m\u001b[0mtime\u001b[0m\u001b[0;34m=\u001b[0m\u001b[0msplitT\u001b[0m\u001b[0;34m,\u001b[0m \u001b[0minitial_size\u001b[0m\u001b[0;34m=\u001b[0m\u001b[0mNe0\u001b[0m\u001b[0;34m,\u001b[0m \u001b[0mpopulation_id\u001b[0m\u001b[0;34m=\u001b[0m\u001b[0;36m0\u001b[0m\u001b[0;34m)\u001b[0m\u001b[0;34m,\u001b[0m\u001b[0;34m\u001b[0m\u001b[0;34m\u001b[0m\u001b[0m\n\u001b[1;32m     16\u001b[0m     \u001b[0mmsprime\u001b[0m\u001b[0;34m.\u001b[0m\u001b[0mMassMigration\u001b[0m\u001b[0;34m(\u001b[0m\u001b[0mtime\u001b[0m\u001b[0;34m=\u001b[0m\u001b[0msplitT\u001b[0m\u001b[0;34m,\u001b[0m \u001b[0msource\u001b[0m\u001b[0;34m=\u001b[0m\u001b[0;36m1\u001b[0m\u001b[0;34m,\u001b[0m \u001b[0mdestination\u001b[0m\u001b[0;34m=\u001b[0m\u001b[0;36m0\u001b[0m\u001b[0;34m,\u001b[0m \u001b[0mproportion\u001b[0m\u001b[0;34m=\u001b[0m\u001b[0;36m1.0\u001b[0m\u001b[0;34m)\u001b[0m\u001b[0;34m\u001b[0m\u001b[0;34m\u001b[0m\u001b[0m\n",
      "\u001b[0;31mNameError\u001b[0m: name 'secT' is not defined"
     ]
    }
   ],
   "source": [
    "T = 4.8580e6\n",
    "#time of secondary admixture\n",
    "adT = 5.0772e4 \n",
    "#proportion of lineages in source migrating into th that split of at time T\n",
    "proportionf =0.389 \n",
    "\n",
    "population_configurations = [\n",
    "    msprime.PopulationConfiguration(sample_size=sample_size, initial_size=Ne0),\n",
    "    msprime.PopulationConfiguration(sample_size=sample_size, initial_size=Ne1),\n",
    "    ]\n",
    "    \n",
    "#demographic events: specify in the order they occur backwards in time\n",
    "demographic_events = [\n",
    "    msprime.MassMigration(time=secT, source=1, destination=0, proportion=proportionf),\n",
    "    msprime.PopulationParametersChange(time=splitT, initial_size=Ne0, population_id=0),\n",
    "    msprime.MassMigration(time=splitT, source=1, destination=0, proportion=1.0)\n",
    "    ]\n",
    "\n",
    "reps=20\n",
    "replicates = msprime.simulate(\n",
    "        num_replicates = 20,\n",
    "        length = seqLength, \n",
    "        recombination_rate = recr,\n",
    "        population_configurations = population_configurations,\n",
    "        demographic_events = demographic_events)"
   ]
  },
  {
   "cell_type": "code",
   "execution_count": null,
   "metadata": {},
   "outputs": [],
   "source": [
    "fstsim = np.zeros(num_reps)\n",
    "for index, ts in enumerate(replicates):\n",
    "    fstsim[index] = Fst(ts)"
   ]
  },
  {
   "cell_type": "markdown",
   "metadata": {},
   "source": [
    "## Recombination rate heterogeneity"
   ]
  },
  {
   "cell_type": "markdown",
   "metadata": {},
   "source": [
    "heli_32kb_Davey2017_rec is a dataframe with recombination rate estimates (cM/Mb) in 32kb windows estimated for Heliconius (Davey et al. 2017 generated three recombination maps for Hmel, Hcyd and the F1, the last column is the mean of these maps)."
   ]
  },
  {
   "cell_type": "code",
   "execution_count": 54,
   "metadata": {},
   "outputs": [
    {
     "data": {
      "text/html": [
       "<div>\n",
       "<style scoped>\n",
       "    .dataframe tbody tr th:only-of-type {\n",
       "        vertical-align: middle;\n",
       "    }\n",
       "\n",
       "    .dataframe tbody tr th {\n",
       "        vertical-align: top;\n",
       "    }\n",
       "\n",
       "    .dataframe thead th {\n",
       "        text-align: right;\n",
       "    }\n",
       "</style>\n",
       "<table border=\"1\" class=\"dataframe\">\n",
       "  <thead>\n",
       "    <tr style=\"text-align: right;\">\n",
       "      <th></th>\n",
       "      <th>Chrom</th>\n",
       "      <th>start</th>\n",
       "      <th>end</th>\n",
       "      <th>Hmel</th>\n",
       "      <th>Hcyd</th>\n",
       "      <th>F1</th>\n",
       "      <th>Mean</th>\n",
       "    </tr>\n",
       "  </thead>\n",
       "  <tbody>\n",
       "    <tr>\n",
       "      <th>0</th>\n",
       "      <td>1</td>\n",
       "      <td>465</td>\n",
       "      <td>93948</td>\n",
       "      <td>1.6382</td>\n",
       "      <td>3.3865</td>\n",
       "      <td>1.3737</td>\n",
       "      <td>2.1328</td>\n",
       "    </tr>\n",
       "    <tr>\n",
       "      <th>1</th>\n",
       "      <td>1</td>\n",
       "      <td>18722</td>\n",
       "      <td>109081</td>\n",
       "      <td>1.6372</td>\n",
       "      <td>3.3698</td>\n",
       "      <td>1.4416</td>\n",
       "      <td>2.1495</td>\n",
       "    </tr>\n",
       "    <tr>\n",
       "      <th>2</th>\n",
       "      <td>1</td>\n",
       "      <td>39996</td>\n",
       "      <td>116184</td>\n",
       "      <td>1.6364</td>\n",
       "      <td>3.3562</td>\n",
       "      <td>1.4992</td>\n",
       "      <td>2.1639</td>\n",
       "    </tr>\n",
       "    <tr>\n",
       "      <th>3</th>\n",
       "      <td>1</td>\n",
       "      <td>66980</td>\n",
       "      <td>122860</td>\n",
       "      <td>1.6355</td>\n",
       "      <td>3.3415</td>\n",
       "      <td>1.5672</td>\n",
       "      <td>2.1814</td>\n",
       "    </tr>\n",
       "    <tr>\n",
       "      <th>4</th>\n",
       "      <td>1</td>\n",
       "      <td>85341</td>\n",
       "      <td>131077</td>\n",
       "      <td>1.6349</td>\n",
       "      <td>3.3310</td>\n",
       "      <td>1.6206</td>\n",
       "      <td>2.1955</td>\n",
       "    </tr>\n",
       "  </tbody>\n",
       "</table>\n",
       "</div>"
      ],
      "text/plain": [
       "   Chrom  start     end    Hmel    Hcyd      F1    Mean\n",
       "0      1    465   93948  1.6382  3.3865  1.3737  2.1328\n",
       "1      1  18722  109081  1.6372  3.3698  1.4416  2.1495\n",
       "2      1  39996  116184  1.6364  3.3562  1.4992  2.1639\n",
       "3      1  66980  122860  1.6355  3.3415  1.5672  2.1814\n",
       "4      1  85341  131077  1.6349  3.3310  1.6206  2.1955"
      ]
     },
     "execution_count": 54,
     "metadata": {},
     "output_type": "execute_result"
    }
   ],
   "source": [
    "hapmap = pd.read_csv('heli_32kb_Davey2017_rec.csv', delimiter='\\t')\n",
    "hapmap.head()\n",
    "#hapmap[hapmap['Chrom']==18]"
   ]
  },
  {
   "cell_type": "markdown",
   "metadata": {},
   "source": [
    "Note that 32kb is the total length of sequence in a window after filtering (in this case only intergenic data). So windows are substantially longer than 32 kb in terms of physical span: "
   ]
  },
  {
   "cell_type": "code",
   "execution_count": 95,
   "metadata": {},
   "outputs": [
    {
     "name": "stdout",
     "output_type": "stream",
     "text": [
      "median = 70.566kb\n"
     ]
    },
    {
     "data": {
      "image/png": "[encoded data removed]",
      "text/plain": [
       "<Figure size 432x216 with 1 Axes>"
      ]
     },
     "metadata": {
      "needs_background": "light"
     },
     "output_type": "display_data"
    }
   ],
   "source": [
    "winspan=(hapmap['end']-hapmap['start'])/1000\n",
    "fig, ax = plt.subplots(figsize=(6,3))\n",
    "sns.distplot(winspan, label='window span')\n",
    "ax.set_xlim((0, 300))\n",
    "print(\"median = \"+ str(winspan.median())+\"kb\")"
   ]
  },
  {
   "cell_type": "code",
   "execution_count": 89,
   "metadata": {},
   "outputs": [
    {
     "name": "stdout",
     "output_type": "stream",
     "text": [
      "2.015040450200432\n"
     ]
    },
    {
     "data": {
      "text/plain": [
       "<matplotlib.legend.Legend at 0x7f9f812ff898>"
      ]
     },
     "execution_count": 89,
     "metadata": {},
     "output_type": "execute_result"
    },
    {
     "data": {
      "image/png": "[encoded data removed]",
      "text/plain": [
       "<Figure size 432x216 with 1 Axes>"
      ]
     },
     "metadata": {
      "needs_background": "light"
     },
     "output_type": "display_data"
    }
   ],
   "source": [
    "print(hapmap['Mean'].mean()/2)\n",
    "\n",
    "fig, ax = plt.subplots(figsize=(6,3))\n",
    "sns.distplot(hapmap['Mean']/2, label='r in 32kb')\n",
    "ax.set_xlim((0, 5.5))\n",
    "plt.legend()"
   ]
  },
  {
   "cell_type": "markdown",
   "metadata": {},
   "source": [
    "We can draw a random sample of those values, run the msprime simulation again and compare this to the outcome we obtained without recombination rate variation.\n",
    "Simulating 100 replicate windows is fast:"
   ]
  },
  {
   "cell_type": "code",
   "execution_count": 96,
   "metadata": {},
   "outputs": [],
   "source": [
    "#simulate replicates with different recombination rates cfr. windows \n",
    "#specify a distribution to draw values from\n",
    "recomb = np.random.choice(hapmap['Mean']/2,size=500)"
   ]
  },
  {
   "cell_type": "code",
   "execution_count": 98,
   "metadata": {},
   "outputs": [],
   "source": [
    "replicates = [msprime.simulate(\n",
    "        length = seqLength, \n",
    "        recombination_rate = rate/10e8,\n",
    "        population_configurations = population_configurations,\n",
    "        demographic_events = demographic_events,\n",
    "        migration_matrix =  migration_matrix,\n",
    "        mutation_rate = mu) \n",
    "for rate in recomb]"
   ]
  },
  {
   "cell_type": "code",
   "execution_count": null,
   "metadata": {},
   "outputs": [],
   "source": []
  },
  {
   "cell_type": "code",
   "execution_count": null,
   "metadata": {},
   "outputs": [],
   "source": []
  }
 ],
 "metadata": {
  "kernelspec": {
   "display_name": "Python 3",
   "language": "python",
   "name": "python3"
  },
  "language_info": {
   "codemirror_mode": {
    "name": "ipython",
    "version": 3
   },
   "file_extension": ".py",
   "mimetype": "text/x-python",
   "name": "python",
   "nbconvert_exporter": "python",
   "pygments_lexer": "ipython3",
   "version": "3.7.1"
  }
 },
 "nbformat": 4,
 "nbformat_minor": 2
}
