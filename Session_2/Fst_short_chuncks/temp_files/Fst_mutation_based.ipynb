{
 "cells": [
  {
   "cell_type": "code",
   "execution_count": 1,
   "metadata": {},
   "outputs": [],
   "source": [
    "import tskit, msprime\n",
    "import numpy as np\n",
    "import pandas as pd"
   ]
  },
  {
   "cell_type": "code",
   "execution_count": 2,
   "metadata": {},
   "outputs": [],
   "source": [
    "def comparison_within(p1):\n",
    "    num_sites = p1.shape[0]\n",
    "    num_comparisons = p1.shape[1]\n",
    "    result = []\n",
    "    for i in range(num_comparisons):\n",
    "        p2 = np.roll(p1,1, axis=1)\n",
    "        result.append(np.sum(np.mod(p1+p2, 2))/num_sites)\n",
    "    return result"
   ]
  },
  {
   "cell_type": "code",
   "execution_count": 3,
   "metadata": {},
   "outputs": [],
   "source": [
    "def comparison_between(p1,p2):\n",
    "    num_sites = p1.shape[0]\n",
    "    num_comparisons = p1.shape[1]\n",
    "    result = []\n",
    "    for i in range(num_comparisons):\n",
    "        result.append(np.sum(np.mod(p1+p2, 2))/num_sites)\n",
    "        p2 = np.roll(p2,1, axis=1)\n",
    "    return result"
   ]
  },
  {
   "cell_type": "code",
   "execution_count": 14,
   "metadata": {},
   "outputs": [],
   "source": [
    "def Fst(ts):\n",
    "    n = ts.sample_size//2\n",
    "    G = ts.genotype_matrix()\n",
    "    p1 = G[:,:n]\n",
    "    p2 = G[:,n:]\n",
    "    within = (np.mean(comparison_within(p1)) + np.mean(comparison_within(p2)))/2\n",
    "    between = np.mean(comparison_between(p1, p2))\n",
    "    total = np.mean([between, within])\n",
    "    return (total - within)/total"
   ]
  },
  {
   "cell_type": "code",
   "execution_count": 15,
   "metadata": {},
   "outputs": [],
   "source": [
    "#number of samples (2Xof diploid individuals) per deme:\n",
    "sample_size = 4\n",
    "\n",
    "#Rates for migration, recombination and mutation are unscaled and per generation:\n",
    "mig = 3.8866e-7\n",
    "seqLength = 32e3 \n",
    "recr = 1.84675e-8\n",
    "Ne0 = 2.3241e6\n",
    "Ne1 = 9.8922e5 \n",
    "T = 4.8580e6\n",
    "mu = 1.9e-9\n",
    "\n",
    "population_configurations = [\n",
    "    msprime.PopulationConfiguration(sample_size=sample_size, initial_size=Ne0),\n",
    "    msprime.PopulationConfiguration(sample_size=sample_size, initial_size=Ne1),\n",
    "    ]\n",
    "#demographic events are specified in the order they occur backwards in time:\n",
    "# The MassMigration specifies the split between population 0 and 1: \n",
    "# backwards in time all lineages from the smaller population (1) are derived from pop (0)\n",
    "# at time T \n",
    "demographic_events = [\n",
    "    msprime.PopulationParametersChange(time=T, initial_size=Ne0, population_id=0),\n",
    "    msprime.MassMigration(time=T, source=1, destination=0, proportion=1.0),\n",
    "    msprime.MigrationRateChange(T,0)\n",
    "    ]\n",
    "# migration matrix specifies a matrix of pairwise migration rates (backwards in time).\n",
    "#migration_matrix = [[0,0],\n",
    "#                    [mig,0]]"
   ]
  },
  {
   "cell_type": "code",
   "execution_count": 18,
   "metadata": {},
   "outputs": [],
   "source": [
    "num_reps = 100\n",
    "replicates = msprime.simulate(\n",
    "        num_replicates = num_reps,\n",
    "        length = seqLength, \n",
    "        recombination_rate = recr,\n",
    "        population_configurations = population_configurations,\n",
    "        demographic_events = demographic_events,\n",
    "        migration_matrix = [[0,0],[mig,0]],\n",
    "        mutation_rate = mu)"
   ]
  },
  {
   "cell_type": "code",
   "execution_count": 19,
   "metadata": {},
   "outputs": [],
   "source": [
    "fstsim = np.zeros(num_reps)\n",
    "for index, ts in enumerate(replicates):\n",
    "    fstsim[index] = Fst(ts)"
   ]
  },
  {
   "cell_type": "code",
   "execution_count": 20,
   "metadata": {},
   "outputs": [
    {
     "data": {
      "text/plain": [
       "0.18193851575085584"
      ]
     },
     "execution_count": 20,
     "metadata": {},
     "output_type": "execute_result"
    }
   ],
   "source": [
    "np.mean(fstsim)"
   ]
  }
 ],
 "metadata": {
  "kernelspec": {
   "display_name": "slm",
   "language": "python",
   "name": "slm"
  },
  "language_info": {
   "codemirror_mode": {
    "name": "ipython",
    "version": 3
   },
   "file_extension": ".py",
   "mimetype": "text/x-python",
   "name": "python",
   "nbconvert_exporter": "python",
   "pygments_lexer": "ipython3",
   "version": "3.6.7"
  }
 },
 "nbformat": 4,
 "nbformat_minor": 2
}
