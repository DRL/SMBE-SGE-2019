{
 "cells": [
  {
   "cell_type": "markdown",
   "metadata": {},
   "source": [
    "<h5> Linking fwd and bwd simulations </h5>\n",
    "\n",
    "* simulate site under divergent selection using SLiM 3.3 (without bothering about neutral mutations)\n",
    "* this results in a .trees (treesequence) file\n",
    "* recapitate (=add neutral dynamics to make sure all individuals you sample share one common ancestor) .trees by loading it using pyslim and msprime\n",
    "* sprinkle neutral mutations along the treesequence\n",
    "* analyse .trees file using tskit (or spit out a .vcf and use GiMBL)"
   ]
  },
  {
   "cell_type": "code",
   "execution_count": 1,
   "metadata": {},
   "outputs": [],
   "source": [
    "import matplotlib.pyplot as plt\n",
    "%matplotlib inline\n",
    "import seaborn as sns\n",
    "import numpy as np\n",
    "import pyslim, msprime\n",
    "import pandas as pd"
   ]
  },
  {
   "cell_type": "markdown",
   "metadata": {},
   "source": [
    "<h5> parameters </h5>"
   ]
  },
  {
   "cell_type": "code",
   "execution_count": null,
   "metadata": {},
   "outputs": [],
   "source": [
    "mig = 3.8866e-7\n",
    "seqLength = 32e3 # sequence the size of one window\n",
    "recr = 1.84675e-8\n",
    "Ne = 2.3241e6 #Cydno = ancestral\n",
    "Ne_derived = 9.8922e5 #Mel_rosina = derived\n",
    "splitT = 4.8580e6\n",
    "mu = 1.9e-9"
   ]
  },
  {
   "cell_type": "markdown",
   "metadata": {},
   "source": [
    "<h5> paste in slim parameters and run the script </h5>\n",
    "\n",
    "* explain sequence of events within slim"
   ]
  },
  {
   "cell_type": "code",
   "execution_count": null,
   "metadata": {},
   "outputs": [],
   "source": [
    "#paste in the slim script\n",
    "%load sim_fwd.txt"
   ]
  },
  {
   "cell_type": "code",
   "execution_count": null,
   "metadata": {},
   "outputs": [],
   "source": [
    "#set seed and pass to script\n",
    "seed = "
   ]
  },
  {
   "cell_type": "code",
   "execution_count": null,
   "metadata": {},
   "outputs": [],
   "source": [
    "!slim -seed seed sim_fwd.txt"
   ]
  },
  {
   "cell_type": "markdown",
   "metadata": {},
   "source": [
    "<h5> recapitate .trees </h5>"
   ]
  },
  {
   "cell_type": "code",
   "execution_count": null,
   "metadata": {},
   "outputs": [],
   "source": [
    "ts = pyslim.load('sim_fwd.trees')\n",
    "\n",
    "#draw random sample of individuals\n",
    "samplesize = 20\n",
    "subsample = ts.get_samples(samplesize)\n",
    "ts_simple= ts.simplify(subsample)\n",
    "\n",
    "#recapitation\n",
    "# all individuals are already in one ancestral population (split was modelled in SLiM) so no need to\n",
    "# specify a population configuration\n",
    "ts_simple.recapitate(recombination_rate=recombination_rate, Ne=Ne)\n",
    "ts_simple.dump('recap_sim.trees')\n",
    "\n",
    "#add neutral mutations\n",
    "muts_ts = pyslim.SlimTreeSequence(msprime.mutate(ts_simple, rate=mutation_rate, keep=True))\n",
    "#output vcf\n",
    "with open('sim.vcf', 'w') as vcf_file:\n",
    "            ts_simple.write_vcf(vcf_file, ploidy=2)"
   ]
  },
  {
   "cell_type": "markdown",
   "metadata": {},
   "source": [
    "<h5> analyse .trees </h5>"
   ]
  },
  {
   "cell_type": "code",
   "execution_count": null,
   "metadata": {},
   "outputs": [],
   "source": []
  }
 ],
 "metadata": {
  "kernelspec": {
   "display_name": "slm",
   "language": "python",
   "name": "slm"
  },
  "language_info": {
   "codemirror_mode": {
    "name": "ipython",
    "version": 3
   },
   "file_extension": ".py",
   "mimetype": "text/x-python",
   "name": "python",
   "nbconvert_exporter": "python",
   "pygments_lexer": "ipython3",
   "version": "3.6.7"
  }
 },
 "nbformat": 4,
 "nbformat_minor": 2
}
