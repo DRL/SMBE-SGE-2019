{
 "cells": [
  {
   "cell_type": "markdown",
   "metadata": {},
   "source": [
    "# An introduction to simulations with msprime\n",
    "\n",
    "We've split this workshop into three parts:\n",
    " \n",
    " 1. Introduction to tree sequences (30 minutes) (Georgia)\n",
    " 2. Introduction to simulating with `msprime` (30 minutes) (Georgia)\n",
    " 3. Calculating population genetics statistics with simulated datasets (30 minutes) (Jerome)\n",
    " \n",
    "#### Presenter details\n",
    " \n",
    "*Jerome Kelleher* (`jerome.kelleher` at `well.ox.ac.uk`) is a Senior Statistical Programmer at the Big Data Institute and the University of Oxford, UK.\n",
    "\n",
    "*Georgia Tsambos* (`gtsambos` at `student.unimelb.edu.au`) is a PhD student in statistical genetics at Melbourne Integrative Genomics, which is part of the University of Melbourne, Australia.\n",
    "\n",
    "#### Main reference\n",
    "\n",
    "[1] Kelleher, J., Etheridge, A. M., & McVean, G. (2016). Efficient Coalescent Simulation and Genealogical Analysis for Large Sample Sizes. PLOS Computational Biology, 12(5), e1004842. https://doi.org/10.1371/journal.pcbi.1004842\n",
    " \n",
    " #### Creative Commons Licence\n",
    " These materials were designed for SMBE Speciation 2019. They can be re-used, but please say where you got them from!"
   ]
  },
  {
   "cell_type": "markdown",
   "metadata": {},
   "source": [
    "# 1. Introduction to tree sequences\n",
    "\n",
    "This notebook provides a 30 minute introduction to the tree sequence data structure that underlies `msprime`, and shows you how to use basic features of the `tskit` package.\n",
    "\n",
    "### Things we'll cover in this notebook\n",
    " - 1.1 [Why use tree sequences?](#why_use_ts) \n",
    " - 1.2 [Trees](#trees)\n",
    " - 1.3 [Tree sequences](#tree_sequences)\n",
    " - 1.4 [Table encoding](#table_representation)\n",
    " - 1.5 [Storing variation](#variation)\n"
   ]
  },
  {
   "cell_type": "code",
   "execution_count": 1,
   "metadata": {},
   "outputs": [],
   "source": [
    "import tskit"
   ]
  },
  {
   "cell_type": "markdown",
   "metadata": {},
   "source": [
    "<a id='why_use_ts'></a>\n",
    "## 1.1 Why use tree sequences?"
   ]
  },
  {
   "cell_type": "markdown",
   "metadata": {},
   "source": [
    "Genetic sequences are BIG and VERY REPETITIVE:\n",
    "\n",
    "```\n",
    "   ...GTAACGCGATAAGAGATTAGCCCAAAAACACAGACATGGAAATAGCGTA...\n",
    "   ...GTAACGCGATAAGAGATTAGCCCAAAAACACAGACATGGAAATAGCGTA...\n",
    "   ...GTAACGCGATAAGATATTAGCCCAAAAACACAGACATGGAAATAGCGTA...\n",
    "   ...GTAACGCGATAAGATATTAGCCCAAAAACACAGACATGGAAATAGCGTA...\n",
    "   ...GTAACGCGATAAGATATTAGCCCAAAAACACAGACATGGAAATAGCGTA...\n",
    "   ...GTAACGCGATAAGATATTAGCCCAAAAACACAGACATGGTAATAGCGTA...\n",
    "   ...GTAACGCGATAAGATATTAGCCCAAAAACACAGACATGGTAATAGCGTA...\n",
    "```\n",
    "Because of this, you are probably used to storing your data in a compressed format, and decompressing it only when you need to perform analyses or query the data. Doing this can be time-consuming and computationally expensive, however.\n",
    "\n",
    "### The key idea\n",
    "Common haplotypes in a sample are often simply a consequence of some common history. Thus, if you know this history (as we always do in simulations!), storing it directly is often more convenient and efficient than storing the raw haplotypes.  \n",
    "A *tree sequence* is an encoding of a complete genealogy for a sample of genomes at each genomic location  [1].\n",
    "They offer a few potential benefits to population geneticists when compared with traditional genetic file formats:\n",
    "\n",
    "- They can store large simulated datasets extremely compactly. (Often >100 times smaller than VCFs for real-sized datasets!) \n",
    "\n",
    "- As they hold rich detail about the history of the sample, many important processes can be observed directly from the tree structure. So a tree sequence is often more informative than raw genotype/haplotype data, even though it is also more compact.\n",
    "\n",
    "- They can be queried and modified extremely quickly. In later workshops we will see that this enables quick calculation of many important population statistics.\n",
    "\n",
    "In this first part of our workshop, we'll introduce you to tree sequences, and show you how to extract basic information from tree sequence files with the `tskit` package.\n",
    " "
   ]
  },
  {
   "cell_type": "markdown",
   "metadata": {},
   "source": [
    "<a id='trees'></a>\n",
    "## 1.2 Trees\n",
    "\n",
    "At a single nucleotide base, the genealogy of a sample at can be represented by a single tree.\n",
    "\n",
    "The tree consists of *nodes*, which represent the alleles held by different chromosomes in the history of the sample, and *edges*, which represent genealogical relationships between the alleles.\n",
    "\n",
    "Suppose we have a sample of 4 alleles, each from a different DNA sequence, and we wish to understand their history. We could represent this history with a tree like this one:\n",
    "\n",
    "<p><img src=\"pics/simple-tree.png\" alt=\"\" width=\"45%\"/></p>\n",
    " \n",
    "The 4 *sample nodes* are those labelled 0 - 3 at the leaves of the tree. The other nodes are *ancestral nodes*: these are the alleles held by individuals that are ancestral to the sample.\n",
    "\n",
    "The height of the nodes in the tree indicates the age of the node, and an edge joining a pair of nodes is used to indicate that the allele of the lower node is descended from the allele of the upper node."
   ]
  },
  {
   "cell_type": "markdown",
   "metadata": {},
   "source": [
    "<a id='tree_sequences'></a>\n",
    "## 1.3 Tree sequences\n",
    "\n",
    "The sample history encoded by a tree at a single base will typically also apply to some interval of neighbouring bases. However, due to recombinations in the history of the sample, the genealogy will typically be different at more distant locations on the chromosome, and so must be represented by a different tree. Thus, the history of a sample of sequences can be encoded in a sequence of trees - a tree sequence!\n",
    "\n",
    "<p><img src=\"pics/tree-sequence.png\" alt=\"\" width=\"70%\"/></p>\n",
    "\n",
    "The endpoints of the intervals are the locations at which recombination has occurred in the history of the sample. \n",
    "\n",
    "Notice that the adjacent trees look very similar to each other. This makes sense: each recombination should correspond to a single \"tree edit\" (or \"subtree-prune-and-regraft\" operation). Because these recombinations are specific to particular lineages, many genealogical relationships may be unaffected by a given recombination. This means that topological features are often shared over many neighbouring trees.\n"
   ]
  },
  {
   "cell_type": "markdown",
   "metadata": {},
   "source": [
    "### tskit: a toolkit for tree sequences\n",
    "\n",
    "(insert some general blurby words about what tskit is)\n",
    "\n",
    "We'll start by importing the `tskit` package. \n",
    "We'll also need the SVG module to plot our tree sequences nicely."
   ]
  },
  {
   "cell_type": "code",
   "execution_count": 2,
   "metadata": {},
   "outputs": [],
   "source": [
    "import tskit\n",
    "from IPython.display import SVG"
   ]
  },
  {
   "cell_type": "markdown",
   "metadata": {},
   "source": [
    "Tree sequence files can be loaded using the `load` function..."
   ]
  },
  {
   "cell_type": "code",
   "execution_count": 3,
   "metadata": {},
   "outputs": [],
   "source": [
    "ts = tskit.load(\"example-1.trees\")"
   ]
  },
  {
   "cell_type": "markdown",
   "metadata": {},
   "source": [
    "... and plotted using the imported SVG module, as long as they are fairly simple."
   ]
  },
  {
   "cell_type": "code",
   "execution_count": 4,
   "metadata": {},
   "outputs": [
    {
     "name": "stdout",
     "output_type": "stream",
     "text": [
      "Tree on chromosomal interval (0.0, 3.0)\n"
     ]
    },
    {
     "data": {
      "image/svg+xml": [
       "<svg baseProfile=\"full\" height=\"150\" version=\"1.1\" width=\"500\" xmlns=\"http://www.w3.org/2000/svg\" xmlns:ev=\"http://www.w3.org/2001/xml-events\" xmlns:xlink=\"http://www.w3.org/1999/xlink\"><defs/><g id=\"lines\" stroke=\"black\"><line x1=\"83.33333333333333\" x2=\"83.33333333333333\" y1=\"130.0\" y2=\"20.0\"/><line x1=\"83.33333333333333\" x2=\"156.25\" y1=\"20.0\" y2=\"20.0\"/><line x1=\"229.16666666666663\" x2=\"229.16666666666663\" y1=\"47.5\" y2=\"20.0\"/><line x1=\"229.16666666666663\" x2=\"156.25\" y1=\"20.0\" y2=\"20.0\"/><line x1=\"166.66666666666666\" x2=\"166.66666666666666\" y1=\"130.0\" y2=\"47.5\"/><line x1=\"166.66666666666666\" x2=\"229.16666666666663\" y1=\"47.5\" y2=\"47.5\"/><line x1=\"291.66666666666663\" x2=\"291.66666666666663\" y1=\"80.5\" y2=\"47.5\"/><line x1=\"291.66666666666663\" x2=\"229.16666666666663\" y1=\"47.5\" y2=\"47.5\"/><line x1=\"250.0\" x2=\"250.0\" y1=\"130.0\" y2=\"80.5\"/><line x1=\"250.0\" x2=\"291.66666666666663\" y1=\"80.5\" y2=\"80.5\"/><line x1=\"333.3333333333333\" x2=\"333.3333333333333\" y1=\"130.0\" y2=\"80.5\"/><line x1=\"333.3333333333333\" x2=\"291.66666666666663\" y1=\"80.5\" y2=\"80.5\"/></g><g fill=\"black\" id=\"nodes\"><circle cx=\"156.25\" cy=\"20.0\" r=\"3\"/><circle cx=\"83.33333333333333\" cy=\"130.0\" r=\"3\"/><circle cx=\"229.16666666666663\" cy=\"47.5\" r=\"3\"/><circle cx=\"166.66666666666666\" cy=\"130.0\" r=\"3\"/><circle cx=\"291.66666666666663\" cy=\"80.5\" r=\"3\"/><circle cx=\"250.0\" cy=\"130.0\" r=\"3\"/><circle cx=\"333.3333333333333\" cy=\"130.0\" r=\"3\"/></g><g fill=\"red\" id=\"mutations\"/><g font-size=\"14\" text-anchor=\"start\"><text x=\"234.16666666666663\" y=\"42.5\">6</text><text x=\"296.66666666666663\" y=\"75.5\">5</text></g><g font-size=\"14\" text-anchor=\"end\"/><g font-size=\"14\" text-anchor=\"middle\"><text x=\"156.25\" y=\"15.0\">8</text><text x=\"83.33333333333333\" y=\"150.0\">2</text><text x=\"166.66666666666666\" y=\"150.0\">0</text><text x=\"250.0\" y=\"150.0\">1</text><text x=\"333.3333333333333\" y=\"150.0\">3</text></g><g alignment-baseline=\"middle\" font-size=\"14\" font-style=\"italic\" text-anchor=\"start\"/><g alignment-baseline=\"middle\" font-size=\"14\" font-style=\"italic\" text-anchor=\"end\"/></svg>"
      ],
      "text/plain": [
       "<IPython.core.display.SVG object>"
      ]
     },
     "metadata": {},
     "output_type": "display_data"
    },
    {
     "name": "stdout",
     "output_type": "stream",
     "text": [
      "\n",
      "Tree on chromosomal interval (3.0, 7.0)\n"
     ]
    },
    {
     "data": {
      "image/svg+xml": [
       "<svg baseProfile=\"full\" height=\"150\" version=\"1.1\" width=\"500\" xmlns=\"http://www.w3.org/2000/svg\" xmlns:ev=\"http://www.w3.org/2001/xml-events\" xmlns:xlink=\"http://www.w3.org/1999/xlink\"><defs/><g id=\"lines\" stroke=\"black\"><line x1=\"83.33333333333333\" x2=\"83.33333333333333\" y1=\"130.0\" y2=\"20.0\"/><line x1=\"83.33333333333333\" x2=\"156.25\" y1=\"20.0\" y2=\"20.0\"/><line x1=\"229.16666666666663\" x2=\"229.16666666666663\" y1=\"64.0\" y2=\"20.0\"/><line x1=\"229.16666666666663\" x2=\"156.25\" y1=\"20.0\" y2=\"20.0\"/><line x1=\"166.66666666666666\" x2=\"166.66666666666666\" y1=\"130.0\" y2=\"64.0\"/><line x1=\"166.66666666666666\" x2=\"229.16666666666663\" y1=\"64.0\" y2=\"64.0\"/><line x1=\"291.66666666666663\" x2=\"291.66666666666663\" y1=\"89.66666666666666\" y2=\"64.0\"/><line x1=\"291.66666666666663\" x2=\"229.16666666666663\" y1=\"64.0\" y2=\"64.0\"/><line x1=\"250.0\" x2=\"250.0\" y1=\"130.0\" y2=\"89.66666666666666\"/><line x1=\"250.0\" x2=\"291.66666666666663\" y1=\"89.66666666666666\" y2=\"89.66666666666666\"/><line x1=\"333.3333333333333\" x2=\"333.3333333333333\" y1=\"130.0\" y2=\"89.66666666666666\"/><line x1=\"333.3333333333333\" x2=\"291.66666666666663\" y1=\"89.66666666666666\" y2=\"89.66666666666666\"/></g><g fill=\"black\" id=\"nodes\"><circle cx=\"156.25\" cy=\"20.0\" r=\"3\"/><circle cx=\"83.33333333333333\" cy=\"130.0\" r=\"3\"/><circle cx=\"229.16666666666663\" cy=\"64.0\" r=\"3\"/><circle cx=\"166.66666666666666\" cy=\"130.0\" r=\"3\"/><circle cx=\"291.66666666666663\" cy=\"89.66666666666666\" r=\"3\"/><circle cx=\"250.0\" cy=\"130.0\" r=\"3\"/><circle cx=\"333.3333333333333\" cy=\"130.0\" r=\"3\"/></g><g fill=\"red\" id=\"mutations\"/><g font-size=\"14\" text-anchor=\"start\"><text x=\"234.16666666666663\" y=\"59.0\">5</text><text x=\"296.66666666666663\" y=\"84.66666666666666\">4</text></g><g font-size=\"14\" text-anchor=\"end\"/><g font-size=\"14\" text-anchor=\"middle\"><text x=\"156.25\" y=\"15.0\">6</text><text x=\"83.33333333333333\" y=\"150.0\">0</text><text x=\"166.66666666666666\" y=\"150.0\">1</text><text x=\"250.0\" y=\"150.0\">2</text><text x=\"333.3333333333333\" y=\"150.0\">3</text></g><g alignment-baseline=\"middle\" font-size=\"14\" font-style=\"italic\" text-anchor=\"start\"/><g alignment-baseline=\"middle\" font-size=\"14\" font-style=\"italic\" text-anchor=\"end\"/></svg>"
      ],
      "text/plain": [
       "<IPython.core.display.SVG object>"
      ]
     },
     "metadata": {},
     "output_type": "display_data"
    },
    {
     "name": "stdout",
     "output_type": "stream",
     "text": [
      "\n",
      "Tree on chromosomal interval (7.0, 10.0)\n"
     ]
    },
    {
     "data": {
      "image/svg+xml": [
       "<svg baseProfile=\"full\" height=\"150\" version=\"1.1\" width=\"500\" xmlns=\"http://www.w3.org/2000/svg\" xmlns:ev=\"http://www.w3.org/2001/xml-events\" xmlns:xlink=\"http://www.w3.org/1999/xlink\"><defs/><g id=\"lines\" stroke=\"black\"><line x1=\"83.33333333333333\" x2=\"83.33333333333333\" y1=\"130.0\" y2=\"20.0\"/><line x1=\"83.33333333333333\" x2=\"156.25\" y1=\"20.0\" y2=\"20.0\"/><line x1=\"229.16666666666663\" x2=\"229.16666666666663\" y1=\"73.42857142857143\" y2=\"20.0\"/><line x1=\"229.16666666666663\" x2=\"156.25\" y1=\"20.0\" y2=\"20.0\"/><line x1=\"166.66666666666666\" x2=\"166.66666666666666\" y1=\"130.0\" y2=\"73.42857142857143\"/><line x1=\"166.66666666666666\" x2=\"229.16666666666663\" y1=\"73.42857142857143\" y2=\"73.42857142857143\"/><line x1=\"291.66666666666663\" x2=\"291.66666666666663\" y1=\"95.42857142857143\" y2=\"73.42857142857143\"/><line x1=\"291.66666666666663\" x2=\"229.16666666666663\" y1=\"73.42857142857143\" y2=\"73.42857142857143\"/><line x1=\"250.0\" x2=\"250.0\" y1=\"130.0\" y2=\"95.42857142857143\"/><line x1=\"250.0\" x2=\"291.66666666666663\" y1=\"95.42857142857143\" y2=\"95.42857142857143\"/><line x1=\"333.3333333333333\" x2=\"333.3333333333333\" y1=\"130.0\" y2=\"95.42857142857143\"/><line x1=\"333.3333333333333\" x2=\"291.66666666666663\" y1=\"95.42857142857143\" y2=\"95.42857142857143\"/></g><g fill=\"black\" id=\"nodes\"><circle cx=\"156.25\" cy=\"20.0\" r=\"3\"/><circle cx=\"83.33333333333333\" cy=\"130.0\" r=\"3\"/><circle cx=\"229.16666666666663\" cy=\"73.42857142857143\" r=\"3\"/><circle cx=\"166.66666666666666\" cy=\"130.0\" r=\"3\"/><circle cx=\"291.66666666666663\" cy=\"95.42857142857143\" r=\"3\"/><circle cx=\"250.0\" cy=\"130.0\" r=\"3\"/><circle cx=\"333.3333333333333\" cy=\"130.0\" r=\"3\"/></g><g fill=\"red\" id=\"mutations\"/><g font-size=\"14\" text-anchor=\"start\"><text x=\"234.16666666666663\" y=\"68.42857142857143\">5</text><text x=\"296.66666666666663\" y=\"90.42857142857143\">4</text></g><g font-size=\"14\" text-anchor=\"end\"/><g font-size=\"14\" text-anchor=\"middle\"><text x=\"156.25\" y=\"15.0\">7</text><text x=\"83.33333333333333\" y=\"150.0\">0</text><text x=\"166.66666666666666\" y=\"150.0\">1</text><text x=\"250.0\" y=\"150.0\">2</text><text x=\"333.3333333333333\" y=\"150.0\">3</text></g><g alignment-baseline=\"middle\" font-size=\"14\" font-style=\"italic\" text-anchor=\"start\"/><g alignment-baseline=\"middle\" font-size=\"14\" font-style=\"italic\" text-anchor=\"end\"/></svg>"
      ],
      "text/plain": [
       "<IPython.core.display.SVG object>"
      ]
     },
     "metadata": {},
     "output_type": "display_data"
    },
    {
     "name": "stdout",
     "output_type": "stream",
     "text": [
      "\n"
     ]
    }
   ],
   "source": [
    "for tree in ts.trees():\n",
    "    print(\"Tree on chromosomal interval\", tree.interval)\n",
    "    display(SVG(tree.draw(width=500, height=150)))\n",
    "    print()"
   ]
  },
  {
   "cell_type": "markdown",
   "metadata": {},
   "source": [
    "Many key properties of the tree sequence can be queried directly from the tree sequence: for example, the total number of nodes and the total number of edges (a rough measure of the 'size' of the tree sequence which often corresponds to the speed with which tree sequence calculations are likely to run):"
   ]
  },
  {
   "cell_type": "code",
   "execution_count": 5,
   "metadata": {},
   "outputs": [
    {
     "data": {
      "text/plain": [
       "9"
      ]
     },
     "execution_count": 5,
     "metadata": {},
     "output_type": "execute_result"
    }
   ],
   "source": [
    "ts.num_nodes"
   ]
  },
  {
   "cell_type": "code",
   "execution_count": 6,
   "metadata": {},
   "outputs": [
    {
     "data": {
      "text/plain": [
       "11"
      ]
     },
     "execution_count": 6,
     "metadata": {},
     "output_type": "execute_result"
    }
   ],
   "source": [
    "ts.num_edges"
   ]
  },
  {
   "cell_type": "markdown",
   "metadata": {},
   "source": [
    "### Iterating through the trees\n",
    "\n",
    "The trees in the tree sequence can be accessed in a few different different ways.\n",
    "If you wish to access each of the trees sequentially, you can use the `trees()` iterator as we did above.\n",
    "\n",
    "We can also access the tree spanning a given genomic position:"
   ]
  },
  {
   "cell_type": "code",
   "execution_count": 7,
   "metadata": {},
   "outputs": [
    {
     "data": {
      "image/svg+xml": [
       "<svg baseProfile=\"full\" height=\"200\" version=\"1.1\" width=\"200\" xmlns=\"http://www.w3.org/2000/svg\" xmlns:ev=\"http://www.w3.org/2001/xml-events\" xmlns:xlink=\"http://www.w3.org/1999/xlink\"><defs/><g id=\"lines\" stroke=\"black\"><line x1=\"33.333333333333336\" x2=\"33.333333333333336\" y1=\"180.0\" y2=\"20.0\"/><line x1=\"33.333333333333336\" x2=\"62.5\" y1=\"20.0\" y2=\"20.0\"/><line x1=\"91.66666666666667\" x2=\"91.66666666666667\" y1=\"84.0\" y2=\"20.0\"/><line x1=\"91.66666666666667\" x2=\"62.5\" y1=\"20.0\" y2=\"20.0\"/><line x1=\"66.66666666666667\" x2=\"66.66666666666667\" y1=\"180.0\" y2=\"84.0\"/><line x1=\"66.66666666666667\" x2=\"91.66666666666667\" y1=\"84.0\" y2=\"84.0\"/><line x1=\"116.66666666666667\" x2=\"116.66666666666667\" y1=\"121.33333333333331\" y2=\"84.0\"/><line x1=\"116.66666666666667\" x2=\"91.66666666666667\" y1=\"84.0\" y2=\"84.0\"/><line x1=\"100.0\" x2=\"100.0\" y1=\"180.0\" y2=\"121.33333333333331\"/><line x1=\"100.0\" x2=\"116.66666666666667\" y1=\"121.33333333333331\" y2=\"121.33333333333331\"/><line x1=\"133.33333333333334\" x2=\"133.33333333333334\" y1=\"180.0\" y2=\"121.33333333333331\"/><line x1=\"133.33333333333334\" x2=\"116.66666666666667\" y1=\"121.33333333333331\" y2=\"121.33333333333331\"/></g><g fill=\"black\" id=\"nodes\"><circle cx=\"62.5\" cy=\"20.0\" r=\"3\"/><circle cx=\"33.333333333333336\" cy=\"180.0\" r=\"3\"/><circle cx=\"91.66666666666667\" cy=\"84.0\" r=\"3\"/><circle cx=\"66.66666666666667\" cy=\"180.0\" r=\"3\"/><circle cx=\"116.66666666666667\" cy=\"121.33333333333331\" r=\"3\"/><circle cx=\"100.0\" cy=\"180.0\" r=\"3\"/><circle cx=\"133.33333333333334\" cy=\"180.0\" r=\"3\"/></g><g fill=\"red\" id=\"mutations\"/><g font-size=\"14\" text-anchor=\"start\"><text x=\"96.66666666666667\" y=\"79.0\">5</text><text x=\"121.66666666666667\" y=\"116.33333333333331\">4</text></g><g font-size=\"14\" text-anchor=\"end\"/><g font-size=\"14\" text-anchor=\"middle\"><text x=\"62.5\" y=\"15.0\">6</text><text x=\"33.333333333333336\" y=\"200.0\">0</text><text x=\"66.66666666666667\" y=\"200.0\">1</text><text x=\"100.0\" y=\"200.0\">2</text><text x=\"133.33333333333334\" y=\"200.0\">3</text></g><g alignment-baseline=\"middle\" font-size=\"14\" font-style=\"italic\" text-anchor=\"start\"/><g alignment-baseline=\"middle\" font-size=\"14\" font-style=\"italic\" text-anchor=\"end\"/></svg>"
      ],
      "text/plain": [
       "<IPython.core.display.SVG object>"
      ]
     },
     "execution_count": 7,
     "metadata": {},
     "output_type": "execute_result"
    }
   ],
   "source": [
    "SVG(ts.at(6).draw())"
   ]
  },
  {
   "cell_type": "markdown",
   "metadata": {},
   "source": [
    "Many key features of each tree can be accessed in this way (show some useful examples)"
   ]
  },
  {
   "cell_type": "markdown",
   "metadata": {},
   "source": [
    "<a id='table_representation'></a>\n",
    "## 1.4 Table representation\n",
    "\n",
    "It turns out that each tree sequence object can be entirely specified by a set of tables. Instead of storing each tree individually, each individual topological feature is stored as a row in a relevant table.\n",
    "\n",
    "Our example tree sequence can be represented with the following NodeTable and EdgeTable:\n",
    "\n",
    "<p><img src=\"pics/tree-sequence-with-tables.png\" alt=\"\" width=\"40%\"/></p>\n",
    "<p><img src=\"pics/tree-sequence.png\" alt=\"\" width=\"70%\"/></p>\n",
    "\n",
    "There are other tables like Mutations, Sites, Populations, etc. that we will see later in this workshop.\n",
    "\n",
    "Any topological feature that is common to several trees must only be recorded once in the corresponding collection of tables. For instance, all of the trees in our example tree sequence have an edge joining nodes 1 and 5, and this edge is recorded just once in the table.\n",
    "\n",
    "<p><img src=\"pics/tables-with-highlights.png\" alt=\"\" width=\"25%\"/></p>\n",
    "<p><img src=\"pics/tree-sequence-with-highlight.png\" alt=\"\" width=\"70%\"/></p>\n"
   ]
  },
  {
   "cell_type": "markdown",
   "metadata": {},
   "source": [
    "This *succinctness* is one of main reasons why the tree sequence format is so compact!"
   ]
  },
  {
   "cell_type": "markdown",
   "metadata": {},
   "source": [
    "### With tskit: TableCollections"
   ]
  },
  {
   "cell_type": "code",
   "execution_count": 8,
   "metadata": {},
   "outputs": [],
   "source": [
    "tables = ts.tables"
   ]
  },
  {
   "cell_type": "code",
   "execution_count": 9,
   "metadata": {},
   "outputs": [
    {
     "name": "stdout",
     "output_type": "stream",
     "text": [
      "id\tflags\tpopulation\tindividual\ttime\tmetadata\n",
      "0\t1\t-1\t-1\t0.00000000000000\t\n",
      "1\t1\t-1\t-1\t0.00000000000000\t\n",
      "2\t1\t-1\t-1\t0.00000000000000\t\n",
      "3\t1\t-1\t-1\t0.00000000000000\t\n",
      "4\t0\t-1\t-1\t1.10000000000000\t\n",
      "5\t0\t-1\t-1\t1.80000000000000\t\n",
      "6\t0\t-1\t-1\t3.00000000000000\t\n",
      "7\t0\t-1\t-1\t3.50000000000000\t\n",
      "8\t0\t-1\t-1\t4.00000000000000\t\n"
     ]
    }
   ],
   "source": [
    "print(tables.nodes)"
   ]
  },
  {
   "cell_type": "code",
   "execution_count": 10,
   "metadata": {},
   "outputs": [
    {
     "name": "stdout",
     "output_type": "stream",
     "text": [
      "id\tleft\t\tright\t\tparent\tchild\n",
      "0\t3.00000000\t10.00000000\t4\t2\n",
      "1\t3.00000000\t10.00000000\t4\t3\n",
      "2\t0.00000000\t10.00000000\t5\t1\n",
      "3\t0.00000000\t3.00000000\t5\t3\n",
      "4\t3.00000000\t10.00000000\t5\t4\n",
      "5\t0.00000000\t7.00000000\t6\t0\n",
      "6\t0.00000000\t7.00000000\t6\t5\n",
      "7\t7.00000000\t10.00000000\t7\t0\n",
      "8\t7.00000000\t10.00000000\t7\t5\n",
      "9\t0.00000000\t3.00000000\t8\t2\n",
      "10\t0.00000000\t3.00000000\t8\t6\n"
     ]
    }
   ],
   "source": [
    "print(tables.edges)"
   ]
  },
  {
   "cell_type": "markdown",
   "metadata": {},
   "source": [
    "These collections of tables are the 'guts' of the tree sequence format. To modify a tree sequence, you'll have to extract the relevant tables, make changes and convert the tables back into a tree sequence. "
   ]
  },
  {
   "cell_type": "markdown",
   "metadata": {},
   "source": [
    "**Exercise:** Can you modify the following Table Collection until the corresponding tree sequence looks like the one in this plot? (make simple example)"
   ]
  },
  {
   "cell_type": "code",
   "execution_count": null,
   "metadata": {},
   "outputs": [],
   "source": []
  },
  {
   "cell_type": "markdown",
   "metadata": {},
   "source": [
    "<a id='variation'></a>\n",
    "## 1.5 Variation\n",
    " \n",
    "Variation is a consequence of mutations in the history of the sample. Thus, by adding some information about mutations to our tree sequences, we can use them to encode full haplotype data for each of our samples. \n",
    "\n",
    "We need to store the genomic location of each variant site, as well as the lineage of the tree affected by the mutation. (This corresponds to an edge in the tree sequence). The subsample of haplotypes with the mutated type is simply the subset of nodes in the part of the tree that descends from the mutation.\n",
    "\n",
    "<p><img src=\"pics/tree-sequence-with-mutations.png\" alt=\"\" width=\"70%\"/></p>"
   ]
  },
  {
   "cell_type": "markdown",
   "metadata": {},
   "source": [
    "This information is encoded with two extra tables: a site table showing the locations of the variant sites, and a mutations table showing the lineage of the tree affected by the mutation.\n",
    "\n",
    "<p><img src=\"pics/tables-with-mutations.png\" alt=\"\" width=\"70%\"/></p>"
   ]
  },
  {
   "cell_type": "markdown",
   "metadata": {},
   "source": [
    "The mutation and alleles highlighted in pink correspond to the highlighted rows of the site and mutation tables.\n",
    "\n",
    "Note that even if we had 400 or 400 000 samples, we would still only need two rows to store information about the alleles held by the samples at this position!"
   ]
  },
  {
   "cell_type": "markdown",
   "metadata": {},
   "source": [
    "### With tskit: mutations"
   ]
  },
  {
   "cell_type": "markdown",
   "metadata": {},
   "source": [
    "Here's a tree sequence file corresponding to our example above."
   ]
  },
  {
   "cell_type": "code",
   "execution_count": 11,
   "metadata": {},
   "outputs": [
    {
     "name": "stdout",
     "output_type": "stream",
     "text": [
      "Tree on interval (0.0, 3.0)\n"
     ]
    },
    {
     "data": {
      "image/svg+xml": [
       "<svg baseProfile=\"full\" height=\"200\" version=\"1.1\" width=\"500\" xmlns=\"http://www.w3.org/2000/svg\" xmlns:ev=\"http://www.w3.org/2001/xml-events\" xmlns:xlink=\"http://www.w3.org/1999/xlink\"><defs/><g id=\"lines\" stroke=\"black\"><line x1=\"83.33333333333333\" x2=\"83.33333333333333\" y1=\"180.0\" y2=\"20.0\"/><line x1=\"83.33333333333333\" x2=\"156.25\" y1=\"20.0\" y2=\"20.0\"/><line x1=\"229.16666666666663\" x2=\"229.16666666666663\" y1=\"60.0\" y2=\"20.0\"/><line x1=\"229.16666666666663\" x2=\"156.25\" y1=\"20.0\" y2=\"20.0\"/><line x1=\"166.66666666666666\" x2=\"166.66666666666666\" y1=\"180.0\" y2=\"60.0\"/><line x1=\"166.66666666666666\" x2=\"229.16666666666663\" y1=\"60.0\" y2=\"60.0\"/><line x1=\"291.66666666666663\" x2=\"291.66666666666663\" y1=\"108.0\" y2=\"60.0\"/><line x1=\"291.66666666666663\" x2=\"229.16666666666663\" y1=\"60.0\" y2=\"60.0\"/><line x1=\"250.0\" x2=\"250.0\" y1=\"180.0\" y2=\"108.0\"/><line x1=\"250.0\" x2=\"291.66666666666663\" y1=\"108.0\" y2=\"108.0\"/><line x1=\"333.3333333333333\" x2=\"333.3333333333333\" y1=\"180.0\" y2=\"108.0\"/><line x1=\"333.3333333333333\" x2=\"291.66666666666663\" y1=\"108.0\" y2=\"108.0\"/></g><g fill=\"black\" id=\"nodes\"><circle cx=\"156.25\" cy=\"20.0\" r=\"3\"/><circle cx=\"83.33333333333333\" cy=\"180.0\" r=\"3\"/><circle cx=\"229.16666666666663\" cy=\"60.0\" r=\"3\"/><circle cx=\"166.66666666666666\" cy=\"180.0\" r=\"3\"/><circle cx=\"291.66666666666663\" cy=\"108.0\" r=\"3\"/><circle cx=\"250.0\" cy=\"180.0\" r=\"3\"/><circle cx=\"333.3333333333333\" cy=\"180.0\" r=\"3\"/></g><g fill=\"red\" id=\"mutations\"><rect height=\"6\" width=\"6\" x=\"288.66666666666663\" y=\"81.0\"/><rect height=\"6\" width=\"6\" x=\"80.33333333333333\" y=\"97.0\"/></g><g font-size=\"14\" text-anchor=\"start\"><text x=\"234.16666666666663\" y=\"55.0\">6</text><text x=\"296.66666666666663\" y=\"103.0\">5</text></g><g font-size=\"14\" text-anchor=\"end\"/><g font-size=\"14\" text-anchor=\"middle\"><text x=\"156.25\" y=\"15.0\">8</text><text x=\"83.33333333333333\" y=\"200.0\">2</text><text x=\"166.66666666666666\" y=\"200.0\">0</text><text x=\"250.0\" y=\"200.0\">1</text><text x=\"333.3333333333333\" y=\"200.0\">3</text></g><g alignment-baseline=\"middle\" font-size=\"14\" font-style=\"italic\" text-anchor=\"start\"><text x=\"296.66666666666663\" y=\"88.5\">0</text></g><g alignment-baseline=\"middle\" font-size=\"14\" font-style=\"italic\" text-anchor=\"end\"><text x=\"78.33333333333333\" y=\"104.5\">1</text></g></svg>"
      ],
      "text/plain": [
       "<IPython.core.display.SVG object>"
      ]
     },
     "metadata": {},
     "output_type": "display_data"
    },
    {
     "name": "stdout",
     "output_type": "stream",
     "text": [
      "\n",
      "Tree on interval (3.0, 7.0)\n"
     ]
    },
    {
     "data": {
      "image/svg+xml": [
       "<svg baseProfile=\"full\" height=\"200\" version=\"1.1\" width=\"500\" xmlns=\"http://www.w3.org/2000/svg\" xmlns:ev=\"http://www.w3.org/2001/xml-events\" xmlns:xlink=\"http://www.w3.org/1999/xlink\"><defs/><g id=\"lines\" stroke=\"black\"><line x1=\"83.33333333333333\" x2=\"83.33333333333333\" y1=\"180.0\" y2=\"20.0\"/><line x1=\"83.33333333333333\" x2=\"156.25\" y1=\"20.0\" y2=\"20.0\"/><line x1=\"229.16666666666663\" x2=\"229.16666666666663\" y1=\"84.0\" y2=\"20.0\"/><line x1=\"229.16666666666663\" x2=\"156.25\" y1=\"20.0\" y2=\"20.0\"/><line x1=\"166.66666666666666\" x2=\"166.66666666666666\" y1=\"180.0\" y2=\"84.0\"/><line x1=\"166.66666666666666\" x2=\"229.16666666666663\" y1=\"84.0\" y2=\"84.0\"/><line x1=\"291.66666666666663\" x2=\"291.66666666666663\" y1=\"121.33333333333331\" y2=\"84.0\"/><line x1=\"291.66666666666663\" x2=\"229.16666666666663\" y1=\"84.0\" y2=\"84.0\"/><line x1=\"250.0\" x2=\"250.0\" y1=\"180.0\" y2=\"121.33333333333331\"/><line x1=\"250.0\" x2=\"291.66666666666663\" y1=\"121.33333333333331\" y2=\"121.33333333333331\"/><line x1=\"333.3333333333333\" x2=\"333.3333333333333\" y1=\"180.0\" y2=\"121.33333333333331\"/><line x1=\"333.3333333333333\" x2=\"291.66666666666663\" y1=\"121.33333333333331\" y2=\"121.33333333333331\"/></g><g fill=\"black\" id=\"nodes\"><circle cx=\"156.25\" cy=\"20.0\" r=\"3\"/><circle cx=\"83.33333333333333\" cy=\"180.0\" r=\"3\"/><circle cx=\"229.16666666666663\" cy=\"84.0\" r=\"3\"/><circle cx=\"166.66666666666666\" cy=\"180.0\" r=\"3\"/><circle cx=\"291.66666666666663\" cy=\"121.33333333333331\" r=\"3\"/><circle cx=\"250.0\" cy=\"180.0\" r=\"3\"/><circle cx=\"333.3333333333333\" cy=\"180.0\" r=\"3\"/></g><g fill=\"red\" id=\"mutations\"><rect height=\"6\" width=\"6\" x=\"163.66666666666666\" y=\"129.0\"/><rect height=\"6\" width=\"6\" x=\"247.0\" y=\"147.66666666666666\"/><rect height=\"6\" width=\"6\" x=\"288.66666666666663\" y=\"99.66666666666666\"/></g><g font-size=\"14\" text-anchor=\"start\"><text x=\"234.16666666666663\" y=\"79.0\">5</text><text x=\"296.66666666666663\" y=\"116.33333333333331\">4</text></g><g font-size=\"14\" text-anchor=\"end\"/><g font-size=\"14\" text-anchor=\"middle\"><text x=\"156.25\" y=\"15.0\">6</text><text x=\"83.33333333333333\" y=\"200.0\">0</text><text x=\"166.66666666666666\" y=\"200.0\">1</text><text x=\"250.0\" y=\"200.0\">2</text><text x=\"333.3333333333333\" y=\"200.0\">3</text></g><g alignment-baseline=\"middle\" font-size=\"14\" font-style=\"italic\" text-anchor=\"start\"><text x=\"296.66666666666663\" y=\"107.16666666666666\">4</text></g><g alignment-baseline=\"middle\" font-size=\"14\" font-style=\"italic\" text-anchor=\"end\"><text x=\"161.66666666666666\" y=\"136.5\">2</text><text x=\"245.0\" y=\"155.16666666666666\">3</text></g></svg>"
      ],
      "text/plain": [
       "<IPython.core.display.SVG object>"
      ]
     },
     "metadata": {},
     "output_type": "display_data"
    },
    {
     "name": "stdout",
     "output_type": "stream",
     "text": [
      "\n",
      "Tree on interval (7.0, 10.0)\n"
     ]
    },
    {
     "data": {
      "image/svg+xml": [
       "<svg baseProfile=\"full\" height=\"200\" version=\"1.1\" width=\"500\" xmlns=\"http://www.w3.org/2000/svg\" xmlns:ev=\"http://www.w3.org/2001/xml-events\" xmlns:xlink=\"http://www.w3.org/1999/xlink\"><defs/><g id=\"lines\" stroke=\"black\"><line x1=\"83.33333333333333\" x2=\"83.33333333333333\" y1=\"180.0\" y2=\"20.0\"/><line x1=\"83.33333333333333\" x2=\"156.25\" y1=\"20.0\" y2=\"20.0\"/><line x1=\"229.16666666666663\" x2=\"229.16666666666663\" y1=\"97.71428571428571\" y2=\"20.0\"/><line x1=\"229.16666666666663\" x2=\"156.25\" y1=\"20.0\" y2=\"20.0\"/><line x1=\"166.66666666666666\" x2=\"166.66666666666666\" y1=\"180.0\" y2=\"97.71428571428571\"/><line x1=\"166.66666666666666\" x2=\"229.16666666666663\" y1=\"97.71428571428571\" y2=\"97.71428571428571\"/><line x1=\"291.66666666666663\" x2=\"291.66666666666663\" y1=\"129.71428571428572\" y2=\"97.71428571428571\"/><line x1=\"291.66666666666663\" x2=\"229.16666666666663\" y1=\"97.71428571428571\" y2=\"97.71428571428571\"/><line x1=\"250.0\" x2=\"250.0\" y1=\"180.0\" y2=\"129.71428571428572\"/><line x1=\"250.0\" x2=\"291.66666666666663\" y1=\"129.71428571428572\" y2=\"129.71428571428572\"/><line x1=\"333.3333333333333\" x2=\"333.3333333333333\" y1=\"180.0\" y2=\"129.71428571428572\"/><line x1=\"333.3333333333333\" x2=\"291.66666666666663\" y1=\"129.71428571428572\" y2=\"129.71428571428572\"/></g><g fill=\"black\" id=\"nodes\"><circle cx=\"156.25\" cy=\"20.0\" r=\"3\"/><circle cx=\"83.33333333333333\" cy=\"180.0\" r=\"3\"/><circle cx=\"229.16666666666663\" cy=\"97.71428571428571\" r=\"3\"/><circle cx=\"166.66666666666666\" cy=\"180.0\" r=\"3\"/><circle cx=\"291.66666666666663\" cy=\"129.71428571428572\" r=\"3\"/><circle cx=\"250.0\" cy=\"180.0\" r=\"3\"/><circle cx=\"333.3333333333333\" cy=\"180.0\" r=\"3\"/></g><g fill=\"red\" id=\"mutations\"><rect height=\"6\" width=\"6\" x=\"226.16666666666663\" y=\"55.857142857142854\"/></g><g font-size=\"14\" text-anchor=\"start\"><text x=\"234.16666666666663\" y=\"92.71428571428571\">5</text><text x=\"296.66666666666663\" y=\"124.71428571428572\">4</text></g><g font-size=\"14\" text-anchor=\"end\"/><g font-size=\"14\" text-anchor=\"middle\"><text x=\"156.25\" y=\"15.0\">7</text><text x=\"83.33333333333333\" y=\"200.0\">0</text><text x=\"166.66666666666666\" y=\"200.0\">1</text><text x=\"250.0\" y=\"200.0\">2</text><text x=\"333.3333333333333\" y=\"200.0\">3</text></g><g alignment-baseline=\"middle\" font-size=\"14\" font-style=\"italic\" text-anchor=\"start\"><text x=\"234.16666666666663\" y=\"63.357142857142854\">5</text></g><g alignment-baseline=\"middle\" font-size=\"14\" font-style=\"italic\" text-anchor=\"end\"/></svg>"
      ],
      "text/plain": [
       "<IPython.core.display.SVG object>"
      ]
     },
     "metadata": {},
     "output_type": "display_data"
    },
    {
     "name": "stdout",
     "output_type": "stream",
     "text": [
      "\n"
     ]
    }
   ],
   "source": [
    "ts = tskit.load(\"example-2.trees\")\n",
    "\n",
    "for tree in ts.trees():\n",
    "    print(\"Tree on interval\", tree.interval)\n",
    "    display(SVG(tree.draw(width=500)))\n",
    "    print()"
   ]
  },
  {
   "cell_type": "code",
   "execution_count": 12,
   "metadata": {},
   "outputs": [
    {
     "name": "stdout",
     "output_type": "stream",
     "text": [
      "id\tsite\tnode\tderived_state\tparent\tmetadata\n",
      "0\t0\t5\t1\t-1\t\n",
      "1\t1\t2\t1\t-1\t\n",
      "2\t2\t1\t1\t-1\t\n",
      "3\t3\t2\t1\t-1\t\n",
      "4\t4\t4\t1\t-1\t\n",
      "5\t5\t5\t1\t-1\t\n"
     ]
    }
   ],
   "source": [
    "tables = ts.tables\n",
    "print(tables.mutations)"
   ]
  },
  {
   "cell_type": "code",
   "execution_count": 13,
   "metadata": {},
   "outputs": [
    {
     "name": "stdout",
     "output_type": "stream",
     "text": [
      "id\tposition\tancestral_state\tmetadata\n",
      "0\t1.20000000\t0\t\n",
      "1\t2.50000000\t0\t\n",
      "2\t3.30000000\t0\t\n",
      "3\t3.90000000\t0\t\n",
      "4\t6.40000000\t0\t\n",
      "5\t8.40000000\t0\t\n"
     ]
    }
   ],
   "source": [
    "print(tables.sites)"
   ]
  },
  {
   "cell_type": "markdown",
   "metadata": {},
   "source": [
    "Iterating through variants:"
   ]
  },
  {
   "cell_type": "code",
   "execution_count": 14,
   "metadata": {},
   "outputs": [
    {
     "name": "stdout",
     "output_type": "stream",
     "text": [
      "[0 1 0 1]\n",
      "[0 0 1 0]\n",
      "[0 1 0 0]\n",
      "[0 0 1 0]\n",
      "[0 0 1 1]\n",
      "[0 1 1 1]\n"
     ]
    }
   ],
   "source": [
    "for var in ts.variants():\n",
    "    print(var.genotypes)"
   ]
  },
  {
   "cell_type": "markdown",
   "metadata": {},
   "source": [
    "All genotypes at once: (warning: this can be big!)"
   ]
  },
  {
   "cell_type": "code",
   "execution_count": 15,
   "metadata": {},
   "outputs": [
    {
     "data": {
      "text/plain": [
       "array([[0, 1, 0, 1],\n",
       "       [0, 0, 1, 0],\n",
       "       [0, 1, 0, 0],\n",
       "       [0, 0, 1, 0],\n",
       "       [0, 0, 1, 1],\n",
       "       [0, 1, 1, 1]], dtype=uint8)"
      ]
     },
     "execution_count": 15,
     "metadata": {},
     "output_type": "execute_result"
    }
   ],
   "source": [
    "ts.genotype_matrix()"
   ]
  },
  {
   "cell_type": "markdown",
   "metadata": {},
   "source": [
    "**Exercise:** Trees and tree sequence objects have many useful inbuilt methods and attributes. Have a play around with these in the time before the next part of the workshop.\n",
    "\n",
    "See the official documentation for [tree sequences](https://tskit.readthedocs.io/en/latest/python-api.html?highlight=SVG#tskit.TreeSequence) and [trees](https://tskit.readthedocs.io/en/latest/python-api.html?highlight=SVG#tskit.Tree) for a fuller description of these."
   ]
  }
 ],
 "metadata": {
  "kernelspec": {
   "display_name": "Python 3",
   "language": "python",
   "name": "python3"
  },
  "language_info": {
   "codemirror_mode": {
    "name": "ipython",
    "version": 3
   },
   "file_extension": ".py",
   "mimetype": "text/x-python",
   "name": "python",
   "nbconvert_exporter": "python",
   "pygments_lexer": "ipython3",
   "version": "3.7.3"
  }
 },
 "nbformat": 4,
 "nbformat_minor": 2
}
