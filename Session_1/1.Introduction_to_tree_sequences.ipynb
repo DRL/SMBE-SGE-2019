{
 "cells": [
  {
   "cell_type": "markdown",
   "metadata": {},
   "source": [
    "# An introduction to simulations with msprime\n",
    "\n",
    "We've split this first workshop into three parts:\n",
    " \n",
    " 1. Introduction to tree sequences (Georgia)\n",
    " 2. Introduction to simulating with `msprime` (Georgia)\n",
    " 3. Processing simulation results (Jerome)\n",
    " \n",
    "#### Creative Commons Licence\n",
    " These materials were designed for SMBE Speciation 2019. They can be re-used, but please say where you got them from!\n",
    " \n",
    "#### Presenter details\n",
    " \n",
    "*Jerome Kelleher* (`jerome.kelleher` at `well.ox.ac.uk`) is a Senior Statistical Programmer at the Big Data Institute and the University of Oxford, UK.\n",
    "\n",
    "*Georgia Tsambos* (`gtsambos` at `student.unimelb.edu.au`) is a PhD student in statistical genetics at Melbourne Integrative Genomics, which is part of the University of Melbourne, Australia."
   ]
  },
  {
   "cell_type": "markdown",
   "metadata": {},
   "source": [
    "# 1. Introduction to tree sequences\n",
    "\n",
    "This notebook provides a 30 minute introduction to the tree sequence data structure that underlies `msprime`, and shows you how to use basic features of the `tskit` package.\n",
    "\n",
    "### Things we'll cover in this notebook\n",
    " - 1.1 [Why use tree sequences?](#why_use_ts) \n",
    " - 1.2 [Trees](#trees)\n",
    " - 1.3 [Tree sequences](#tree_sequences)\n",
    " - 1.4 [Table encoding](#table_representation)\n",
    " - 1.5 [Storing variation](#variation)\n",
    "\n",
    "#### Main reference\n",
    "\n",
    "[1] Kelleher, J., Etheridge, A. M., & McVean, G. (2016). Efficient Coalescent Simulation and Genealogical Analysis for Large Sample Sizes. PLOS Computational Biology, 12(5), e1004842. https://doi.org/10.1371/journal.pcbi.1004842"
   ]
  },
  {
   "cell_type": "markdown",
   "metadata": {},
   "source": [
    "<a id='why_use_ts'></a>\n",
    "## 1.1 Why use tree sequences?"
   ]
  },
  {
   "cell_type": "markdown",
   "metadata": {},
   "source": [
    "Genetic sequences are BIG and VERY REPETITIVE:\n",
    "\n",
    "```\n",
    "   ...GTAACGCGATAAGAGATTAGCCCAAAAACACAGACATGGAAATAGCGTA...\n",
    "   ...GTAACGCGATAAGAGATTAGCCCAAAAACACAGACATGGAAATAGCGTA...\n",
    "   ...GTAACGCGATAAGATATTAGCCCAAAAACACAGACATGGAAATAGCGTA...\n",
    "   ...GTAACGCGATAAGATATTAGCCCAAAAACACAGACATGGAAATAGCGTA...\n",
    "   ...GTAACGCGATAAGATATTAGCCCAAAAACACAGACATGGAAATAGCGTA...\n",
    "   ...GTAACGCGATAAGATATTAGCCCAAAAACACAGACATGGTAATAGCGTA...\n",
    "   ...GTAACGCGATAAGATATTAGCCCAAAAACACAGACATGGTAATAGCGTA...\n",
    "```\n",
    "Because of this, you are probably used to storing your data in a compressed format, and decompressing it only when you need to perform analyses or query the data. Doing this can be time-consuming and computationally expensive, however.\n",
    "\n",
    "### The key idea\n",
    "Common haplotypes in a sample are often simply a consequence of some common history. So if we know this history (as we always do in simulations!), storing it directly is often more convenient and efficient than storing the raw haplotypes.  \n",
    "A *tree sequence* is an encoding of a complete genealogy for a sample of chromosomes at each chromosomal location  [1].\n",
    "They offer a few benefits to population geneticists compared with traditional genetic file formats:\n",
    "\n",
    "- They can store large simulated datasets extremely compactly. (Often >100 of times smaller than VCFs for real-sized datasets!) \n",
    "\n",
    "- As they hold rich detail about the history of the sample, many important processes can be observed directly from the tree structure. So a tree sequence is often more informative than raw genotype/haplotype data, even though it is also more compact.\n",
    "\n",
    "- They can be queried and modified extremely quickly. In later workshops we will see that this enables quick calculation of many important population statistics.\n",
    "\n",
    "In this first part of our workshop, we'll introduce you to tree sequences, and show you how to extract basic information from tree sequence files with the `tskit` package.\n",
    " "
   ]
  },
  {
   "cell_type": "markdown",
   "metadata": {},
   "source": [
    "<a id='trees'></a>\n",
    "## 1.2 Trees\n",
    "\n",
    "At a single nucleotide base, the genealogy of a sample at can be represented by a single tree.\n",
    "\n",
    "The tree consists of *nodes*, which represent the alleles held by different chromosomes in the history of the sample, and *edges*, which represent genealogical relationships between the alleles.\n",
    "\n",
    "Suppose we have a sample of 4 alleles, each from a different DNA sequence, and we wish to understand their history. We could represent this history with a tree like this one:\n",
    "\n",
    "<p><img src=\"pics/simple-tree.png\" alt=\"\" width=\"45%\"/></p>\n",
    " \n",
    "The 4 *sample nodes* are those labelled 0 - 3 at the leaves of the tree. The other nodes are *ancestral nodes*: these are the alleles held by individuals that are ancestral to the sample.\n",
    "\n",
    "The height of the nodes in the tree indicates the age of the node, and an edge joining a pair of nodes is used to indicate that the allele of the lower node is descended from the allele of the upper node."
   ]
  },
  {
   "cell_type": "markdown",
   "metadata": {},
   "source": [
    "<a id='tree_sequences'></a>\n",
    "## 1.3 Tree sequences\n",
    "\n",
    " - [tskit: a toolkit for tree sequences](#tree_sequences:tskit)\n",
    " - [Iterating through tree sequences](#tree_sequences:iteration)\n",
    "\n",
    "The sample history encoded by a tree at a single base will typically also apply to some interval of neighbouring bases. However, due to recombinations in the history of the sample, the genealogy will typically be different at more distant locations on the chromosome, and so must be represented by a different tree. Thus, the history of a sample of sequences can be encoded in a sequence of trees - *a tree sequence*!\n",
    "\n",
    "<p><img src=\"pics/tree-sequence.png\" alt=\"\" width=\"70%\"/></p>\n",
    "\n",
    "The endpoints of the intervals are the locations where recombination has occurred in the history of the sample. \n",
    "\n",
    "Notice that the adjacent trees look very similar to each other. This makes sense: each recombination should correspond to a single \"tree edit\" (or \"subtree-prune-and-regraft\" operation). Because these recombinations are specific to particular lineages, many genealogical relationships are unaffected by a given recombination. This means that topological features are often shared over many neighbouring trees.\n"
   ]
  },
  {
   "cell_type": "markdown",
   "metadata": {},
   "source": [
    "<a id='tree_sequences:tskit'></a>\n",
    "### tskit: a toolkit for tree sequences\n",
    "\n",
    "`tskit` is a Python package with a bunch of useful tools for working with tree sequences. Online documentation for `tskit`, including installation information, can be found [here](https://tskit.readthedocs.io/en/latest/introduction.html).\n",
    "\n",
    "We'll also need the `SVG` module to plot our tree sequences nicely, and the `io` package for an exercise later on."
   ]
  },
  {
   "cell_type": "code",
   "execution_count": null,
   "metadata": {},
   "outputs": [],
   "source": [
    "import tskit\n",
    "from IPython.display import SVG\n",
    "import io"
   ]
  },
  {
   "cell_type": "markdown",
   "metadata": {},
   "source": [
    "Tree sequence files can be loaded using the `load` function..."
   ]
  },
  {
   "cell_type": "code",
   "execution_count": null,
   "metadata": {},
   "outputs": [],
   "source": [
    "ts = tskit.load(\"example-1.trees\")"
   ]
  },
  {
   "cell_type": "markdown",
   "metadata": {},
   "source": [
    "... and plotted using the imported SVG module, as long as they are fairly simple."
   ]
  },
  {
   "cell_type": "code",
   "execution_count": null,
   "metadata": {},
   "outputs": [],
   "source": [
    "display(SVG(ts.draw_svg()))"
   ]
  },
  {
   "cell_type": "markdown",
   "metadata": {},
   "source": [
    "Many key properties of the tree sequence can be queried directly from the tree sequence: for example, the total number of nodes and the total number of edges (a rough measure of the 'size' of the tree sequence which often corresponds to the speed with which tree sequence calculations are likely to run):"
   ]
  },
  {
   "cell_type": "code",
   "execution_count": null,
   "metadata": {},
   "outputs": [],
   "source": [
    "ts.num_nodes"
   ]
  },
  {
   "cell_type": "code",
   "execution_count": null,
   "metadata": {},
   "outputs": [],
   "source": [
    "ts.num_edges"
   ]
  },
  {
   "cell_type": "markdown",
   "metadata": {},
   "source": [
    "Trees and tree sequence objects have many useful inbuilt methods and attributes. See the official documentation for [tree sequences](https://tskit.readthedocs.io/en/latest/python-api.html?highlight=SVG#tskit.TreeSequence) and [trees](https://tskit.readthedocs.io/en/latest/python-api.html?highlight=SVG#tskit.Tree) for a fuller description of these."
   ]
  },
  {
   "cell_type": "markdown",
   "metadata": {},
   "source": [
    "<a id='tree_sequences:iteration'></a>\n",
    "### Iterating through the trees\n",
    "\n",
    "The trees in the tree sequence can be accessed in a few different different ways.\n",
    "If you wish to access each of the trees sequentially, you can use the `trees()` iterator:"
   ]
  },
  {
   "cell_type": "code",
   "execution_count": null,
   "metadata": {},
   "outputs": [],
   "source": [
    "for tree in ts.trees():\n",
    "    print(\"Tree on interval\", tree.interval)\n",
    "    display(SVG(tree.draw()))\n",
    "    print()"
   ]
  },
  {
   "cell_type": "markdown",
   "metadata": {},
   "source": [
    "We can also access the tree that spans a given genomic position:"
   ]
  },
  {
   "cell_type": "code",
   "execution_count": null,
   "metadata": {},
   "outputs": [],
   "source": [
    "tree_at_loc6 = ts.at(6)\n",
    "SVG(tree_at_loc6.draw())"
   ]
  },
  {
   "cell_type": "markdown",
   "metadata": {},
   "source": [
    "<a id='table_representation'></a>\n",
    "## 1.4 Table representation\n",
    "\n",
    " - [Tables in tskit](#table_representation:tskit)\n",
    "\n",
    "It turns out that each tree sequence object can be entirely specified by a set of tables. Instead of storing each tree individually, each individual topological feature is stored as a row in a relevant table.\n",
    "\n",
    "Our example tree sequence can be represented with the following NodeTable and EdgeTable:\n",
    "\n",
    "<p><img src=\"pics/tree-sequence-with-tables.png\" alt=\"\" width=\"40%\"/></p>\n",
    "<p><img src=\"pics/tree-sequence.png\" alt=\"\" width=\"70%\"/></p>\n",
    "\n",
    "There are other tables like Mutations, Sites, Populations, etc. that we will see later in this workshop.\n",
    "\n",
    "Any topological feature that is common to several trees must only be recorded once in the corresponding collection of tables. For instance, all of the trees in our example tree sequence have an edge joining nodes 1 and 5, and this edge is recorded just once in the table.\n",
    "\n",
    "<p><img src=\"pics/tables-with-highlights.png\" alt=\"\" width=\"25%\"/></p>\n",
    "<p><img src=\"pics/tree-sequence-with-highlights.png\" alt=\"\" width=\"70%\"/></p>\n"
   ]
  },
  {
   "cell_type": "markdown",
   "metadata": {},
   "source": [
    "This *succinctness* is one of main reasons why the tree sequence format is so compact!"
   ]
  },
  {
   "cell_type": "markdown",
   "metadata": {},
   "source": [
    "<a id='table_representation:tskit'></a>\n",
    "### With tskit: TableCollections\n",
    "\n",
    "The set of tables representing a `TreeSequence` object are stored in its `tables` attribute as a `TableCollection` object. See the [official documentation](https://tskit.readthedocs.io/en/latest/python-api.html?highlight=SVG#tables) for more details."
   ]
  },
  {
   "cell_type": "code",
   "execution_count": null,
   "metadata": {},
   "outputs": [],
   "source": [
    "tables = ts.tables\n",
    "print(tables)"
   ]
  },
  {
   "cell_type": "code",
   "execution_count": null,
   "metadata": {},
   "outputs": [],
   "source": [
    "print(tables.nodes)"
   ]
  },
  {
   "cell_type": "code",
   "execution_count": null,
   "metadata": {},
   "outputs": [],
   "source": [
    "print(tables.edges)"
   ]
  },
  {
   "cell_type": "markdown",
   "metadata": {},
   "source": [
    "These collections of tables are the 'guts' of the tree sequence format. If you ever need to modify a tree sequence, you'll have to extract the relevant tables, make changes and convert the tables back into a tree sequence. "
   ]
  },
  {
   "cell_type": "markdown",
   "metadata": {},
   "source": [
    "**Exercise:** Can you modify the following Table Collection until the corresponding tree sequence looks like the one in this plot? \n",
    "\n",
    "<p><img src=\"pics/tree-sequence-exercise.png\" alt=\"\" width=\"50%\"/></p>"
   ]
  },
  {
   "cell_type": "code",
   "execution_count": null,
   "metadata": {},
   "outputs": [],
   "source": [
    "# Modify this code.\n",
    "nodes_ex = io.StringIO(\"\"\"\\\n",
    "id      is_sample   population      time\n",
    "0       1       0               0.0\n",
    "1       1       0               0.0\n",
    "2       1       0               0.0\n",
    "3       1       0               0.0\n",
    "4       1       0               0.0\n",
    "5       0       0               1.0\n",
    "6       0       0               1.5\n",
    "7       0       0               2.0\n",
    "8       0       0               3.0\n",
    "9       0       0               3.5\n",
    "10      0       0               4.0\n",
    "\"\"\")\n",
    "edges_ex = io.StringIO(\"\"\"\\\n",
    "id      left            right           parent  child\n",
    "0       0.00000000      1.00000000      5       0\n",
    "1       0.00000000      1.00000000      5       1\n",
    "2       0.00000000      1.00000000      6       2\n",
    "3       0.00000000      1.00000000      6       3\n",
    "4       0.00000000      0.50000000      7       5\n",
    "5       0.50000000      1.00000000      8       5\n",
    "6       0.50000000      1.00000000      8       6\n",
    "7       0.00000000      0.50000000      9       6\n",
    "8       0.00000000      0.50000000      9       7\n",
    "9       0.50000000      1.00000000      10      8\n",
    "\"\"\")\n",
    "\n",
    "# Load the tree sequence.\n",
    "ts_ex = tskit.load_text(nodes=nodes_ex, edges=edges_ex, strict=False)\n",
    "\n",
    "# Test by plotting it.\n",
    "for tree in ts_ex.trees():\n",
    "    print('Tree on interval:', tree.interval)\n",
    "    display(SVG(tree.draw()))\n",
    "    print()"
   ]
  },
  {
   "cell_type": "markdown",
   "metadata": {},
   "source": [
    "<a id='variation'></a>\n",
    "## 1.5 Variation\n",
    "\n",
    " - [Mutations in tskit](#mutations:tskit)\n",
    " \n",
    "Variation is a consequence of mutations in the history of the sample. Thus, by adding some information about mutations to our tree sequences, we can use them to encode full haplotype data for each of our samples. \n",
    "\n",
    "We need to store the genomic location of each variant site, as well as the lineage of the tree affected by the mutation. (This corresponds to an edge in the tree sequence). The subsample of haplotypes with the mutated type is simply the subset of nodes in the part of the tree that descends from the mutation.\n",
    "\n",
    "<p><img src=\"pics/tree-sequence-with-mutations.png\" alt=\"\" width=\"70%\"/></p>"
   ]
  },
  {
   "cell_type": "markdown",
   "metadata": {},
   "source": [
    "This information is encoded with two extra tables: a site table showing the locations of the variant sites, and a mutations table showing the lineage of the tree affected by the mutation.\n",
    "\n",
    "<p><img src=\"pics/tables-with-mutations.png\" alt=\"\" width=\"70%\"/></p>"
   ]
  },
  {
   "cell_type": "markdown",
   "metadata": {},
   "source": [
    "The mutation and alleles highlighted in pink correspond to the highlighted rows of the site and mutation tables.\n",
    "\n",
    "Note that even if we had 400 or 400 000 samples, we would still only need two rows to store information about the alleles held by the samples at this position!"
   ]
  },
  {
   "cell_type": "markdown",
   "metadata": {},
   "source": [
    "<a id='mutations:tskit'></a>\n",
    "### With tskit: mutations"
   ]
  },
  {
   "cell_type": "markdown",
   "metadata": {},
   "source": [
    "Here's a tree sequence file corresponding to our example above.\n",
    "By default, the `draw` method will plot each mutation on the relevant edge of the relevant tree."
   ]
  },
  {
   "cell_type": "code",
   "execution_count": null,
   "metadata": {},
   "outputs": [],
   "source": [
    "ts = tskit.load(\"example-2.trees\")\n",
    "\n",
    "for tree in ts.trees():\n",
    "    print(\"Tree on interval\", tree.interval)\n",
    "    display(SVG(tree.draw(width=500)))\n",
    "    print()"
   ]
  },
  {
   "cell_type": "markdown",
   "metadata": {},
   "source": [
    "Information about mutations are stored in a `SiteTable` and a `MutationTable`:"
   ]
  },
  {
   "cell_type": "code",
   "execution_count": null,
   "metadata": {},
   "outputs": [],
   "source": [
    "tables = ts.tables\n",
    "print(tables.sites)"
   ]
  },
  {
   "cell_type": "code",
   "execution_count": null,
   "metadata": {},
   "outputs": [],
   "source": [
    "print(tables.mutations)"
   ]
  },
  {
   "cell_type": "markdown",
   "metadata": {},
   "source": [
    "Information about the variants are stored the `variants()` iterator:"
   ]
  },
  {
   "cell_type": "code",
   "execution_count": null,
   "metadata": {},
   "outputs": [],
   "source": [
    "for var in ts.variants():\n",
    "    print(var.genotypes)"
   ]
  },
  {
   "cell_type": "markdown",
   "metadata": {},
   "source": [
    "You can also access all genotypes at once (but beware, this can be big!)"
   ]
  },
  {
   "cell_type": "code",
   "execution_count": null,
   "metadata": {},
   "outputs": [],
   "source": [
    "ts.genotype_matrix()"
   ]
  },
  {
   "cell_type": "markdown",
   "metadata": {},
   "source": [
    "**Exercise:** Trees and tree sequence objects have many useful inbuilt methods and attributes. Have a play around with these in the time before the next part of the workshop.\n",
    "\n",
    "See the official documentation for [tree sequences](https://tskit.readthedocs.io/en/latest/python-api.html?highlight=SVG#tskit.TreeSequence) and [trees](https://tskit.readthedocs.io/en/latest/python-api.html?highlight=SVG#tskit.Tree)."
   ]
  },
  {
   "cell_type": "code",
   "execution_count": null,
   "metadata": {},
   "outputs": [],
   "source": []
  }
 ],
 "metadata": {
  "kernelspec": {
   "display_name": "Python 3",
   "language": "python",
   "name": "python3"
  },
  "language_info": {
   "codemirror_mode": {
    "name": "ipython",
    "version": 3
   },
   "file_extension": ".py",
   "mimetype": "text/x-python",
   "name": "python",
   "nbconvert_exporter": "python",
   "pygments_lexer": "ipython3",
   "version": "3.7.3"
  }
 },
 "nbformat": 4,
 "nbformat_minor": 2
}
