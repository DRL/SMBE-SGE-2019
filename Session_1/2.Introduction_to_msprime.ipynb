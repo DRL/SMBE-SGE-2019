{
 "cells": [
  {
   "cell_type": "markdown",
   "metadata": {},
   "source": [
    "# 2. Introduction to msprime\n",
    "\n",
    "1. Why use msprime?\n",
    "2. Getting started\n",
    "3. Recombination\n",
    "4. Mutation\n",
    "5. Population structure\n",
    "6. Demographic events\n",
    "7. Large simulations\n",
    "8. Exporting to other data formats"
   ]
  },
  {
   "cell_type": "markdown",
   "metadata": {},
   "source": [
    "## 2.1 Why use msprime?"
   ]
  },
  {
   "cell_type": "markdown",
   "metadata": {},
   "source": [
    " - Why use `msprime`?\n",
    " - Simulations - why are they important?\n",
    " - What are some features that good simulations should have?"
   ]
  },
  {
   "cell_type": "markdown",
   "metadata": {},
   "source": [
    "## 2.2 Getting started"
   ]
  },
  {
   "cell_type": "markdown",
   "metadata": {},
   "source": [
    "### Importing msprime"
   ]
  },
  {
   "cell_type": "code",
   "execution_count": 1,
   "metadata": {},
   "outputs": [],
   "source": [
    "import msprime\n",
    "from IPython.display import SVG"
   ]
  },
  {
   "cell_type": "markdown",
   "metadata": {},
   "source": [
    "### A simple simulation"
   ]
  },
  {
   "cell_type": "code",
   "execution_count": 2,
   "metadata": {},
   "outputs": [
    {
     "data": {
      "image/svg+xml": [
       "<svg baseProfile=\"full\" height=\"200\" version=\"1.1\" width=\"300\" xmlns=\"http://www.w3.org/2000/svg\" xmlns:ev=\"http://www.w3.org/2001/xml-events\" xmlns:xlink=\"http://www.w3.org/1999/xlink\"><defs/><g id=\"lines\" stroke=\"black\"><line x1=\"37.5\" x2=\"37.5\" y1=\"180.0\" y2=\"20.0\"/><line x1=\"37.5\" x2=\"79.6875\" y1=\"20.0\" y2=\"20.0\"/><line x1=\"121.875\" x2=\"121.875\" y1=\"127.56393761333715\" y2=\"20.0\"/><line x1=\"121.875\" x2=\"79.6875\" y1=\"20.0\" y2=\"20.0\"/><line x1=\"75.0\" x2=\"75.0\" y1=\"180.0\" y2=\"127.56393761333715\"/><line x1=\"75.0\" x2=\"121.875\" y1=\"127.56393761333715\" y2=\"127.56393761333715\"/><line x1=\"168.75\" x2=\"168.75\" y1=\"160.12066885818226\" y2=\"127.56393761333715\"/><line x1=\"168.75\" x2=\"121.875\" y1=\"127.56393761333715\" y2=\"127.56393761333715\"/><line x1=\"131.25\" x2=\"131.25\" y1=\"163.31525311241566\" y2=\"160.12066885818226\"/><line x1=\"131.25\" x2=\"168.75\" y1=\"160.12066885818226\" y2=\"160.12066885818226\"/><line x1=\"112.5\" x2=\"112.5\" y1=\"180.0\" y2=\"163.31525311241566\"/><line x1=\"112.5\" x2=\"131.25\" y1=\"163.31525311241566\" y2=\"163.31525311241566\"/><line x1=\"150.0\" x2=\"150.0\" y1=\"180.0\" y2=\"163.31525311241566\"/><line x1=\"150.0\" x2=\"131.25\" y1=\"163.31525311241566\" y2=\"163.31525311241566\"/><line x1=\"206.25\" x2=\"206.25\" y1=\"161.0416600897834\" y2=\"160.12066885818226\"/><line x1=\"206.25\" x2=\"168.75\" y1=\"160.12066885818226\" y2=\"160.12066885818226\"/><line x1=\"187.5\" x2=\"187.5\" y1=\"180.0\" y2=\"161.0416600897834\"/><line x1=\"187.5\" x2=\"206.25\" y1=\"161.0416600897834\" y2=\"161.0416600897834\"/><line x1=\"225.0\" x2=\"225.0\" y1=\"180.0\" y2=\"161.0416600897834\"/><line x1=\"225.0\" x2=\"206.25\" y1=\"161.0416600897834\" y2=\"161.0416600897834\"/></g><g fill=\"black\" id=\"nodes\"><circle cx=\"79.6875\" cy=\"20.0\" r=\"3\"/><circle cx=\"37.5\" cy=\"180.0\" r=\"3\"/><circle cx=\"121.875\" cy=\"127.56393761333715\" r=\"3\"/><circle cx=\"75.0\" cy=\"180.0\" r=\"3\"/><circle cx=\"168.75\" cy=\"160.12066885818226\" r=\"3\"/><circle cx=\"131.25\" cy=\"163.31525311241566\" r=\"3\"/><circle cx=\"112.5\" cy=\"180.0\" r=\"3\"/><circle cx=\"150.0\" cy=\"180.0\" r=\"3\"/><circle cx=\"206.25\" cy=\"161.0416600897834\" r=\"3\"/><circle cx=\"187.5\" cy=\"180.0\" r=\"3\"/><circle cx=\"225.0\" cy=\"180.0\" r=\"3\"/></g><g fill=\"red\" id=\"mutations\"/><g font-size=\"14\" text-anchor=\"start\"><text x=\"126.875\" y=\"122.56393761333715\">9</text><text x=\"173.75\" y=\"155.12066885818226\">8</text><text x=\"211.25\" y=\"156.0416600897834\">7</text></g><g font-size=\"14\" text-anchor=\"end\"><text x=\"126.25\" y=\"158.31525311241566\">6</text></g><g font-size=\"14\" text-anchor=\"middle\"><text x=\"79.6875\" y=\"15.0\">10</text><text x=\"37.5\" y=\"200.0\">1</text><text x=\"75.0\" y=\"200.0\">2</text><text x=\"112.5\" y=\"200.0\">0</text><text x=\"150.0\" y=\"200.0\">5</text><text x=\"187.5\" y=\"200.0\">3</text><text x=\"225.0\" y=\"200.0\">4</text></g><g alignment-baseline=\"middle\" font-size=\"14\" font-style=\"italic\" text-anchor=\"start\"/><g alignment-baseline=\"middle\" font-size=\"14\" font-style=\"italic\" text-anchor=\"end\"/></svg>"
      ],
      "text/plain": [
       "<IPython.core.display.SVG object>"
      ]
     },
     "metadata": {},
     "output_type": "display_data"
    }
   ],
   "source": [
    "ts = msprime.simulate(sample_size = 6)\n",
    "\n",
    "for tree in ts.trees():\n",
    "    display(SVG(tree.draw(width=300)))"
   ]
  },
  {
   "cell_type": "markdown",
   "metadata": {},
   "source": [
    "Only a single tree because no recombination as yet.\n",
    "\n",
    "In trees generated by msprime, times are recorded in units of generations.\n",
    "\n",
    "Note non-integer times - this is a feature of coalescent model."
   ]
  },
  {
   "cell_type": "markdown",
   "metadata": {},
   "source": [
    "### Random seeds"
   ]
  },
  {
   "cell_type": "code",
   "execution_count": 3,
   "metadata": {},
   "outputs": [
    {
     "data": {
      "image/svg+xml": [
       "<svg baseProfile=\"full\" height=\"200\" version=\"1.1\" width=\"300\" xmlns=\"http://www.w3.org/2000/svg\" xmlns:ev=\"http://www.w3.org/2001/xml-events\" xmlns:xlink=\"http://www.w3.org/1999/xlink\"><defs/><g id=\"lines\" stroke=\"black\"><line x1=\"37.5\" x2=\"37.5\" y1=\"180.0\" y2=\"20.0\"/><line x1=\"37.5\" x2=\"86.71875\" y1=\"20.0\" y2=\"20.0\"/><line x1=\"135.9375\" x2=\"135.9375\" y1=\"58.8347028264524\" y2=\"20.0\"/><line x1=\"135.9375\" x2=\"86.71875\" y1=\"20.0\" y2=\"20.0\"/><line x1=\"93.75\" x2=\"93.75\" y1=\"162.69398775897568\" y2=\"58.8347028264524\"/><line x1=\"93.75\" x2=\"135.9375\" y1=\"58.8347028264524\" y2=\"58.8347028264524\"/><line x1=\"75.0\" x2=\"75.0\" y1=\"180.0\" y2=\"162.69398775897568\"/><line x1=\"75.0\" x2=\"93.75\" y1=\"162.69398775897568\" y2=\"162.69398775897568\"/><line x1=\"112.5\" x2=\"112.5\" y1=\"180.0\" y2=\"162.69398775897568\"/><line x1=\"112.5\" x2=\"93.75\" y1=\"162.69398775897568\" y2=\"162.69398775897568\"/><line x1=\"178.125\" x2=\"178.125\" y1=\"110.17683905207369\" y2=\"58.8347028264524\"/><line x1=\"178.125\" x2=\"135.9375\" y1=\"58.8347028264524\" y2=\"58.8347028264524\"/><line x1=\"150.0\" x2=\"150.0\" y1=\"180.0\" y2=\"110.17683905207369\"/><line x1=\"150.0\" x2=\"178.125\" y1=\"110.17683905207369\" y2=\"110.17683905207369\"/><line x1=\"206.25\" x2=\"206.25\" y1=\"150.687999383055\" y2=\"110.17683905207369\"/><line x1=\"206.25\" x2=\"178.125\" y1=\"110.17683905207369\" y2=\"110.17683905207369\"/><line x1=\"187.5\" x2=\"187.5\" y1=\"180.0\" y2=\"150.687999383055\"/><line x1=\"187.5\" x2=\"206.25\" y1=\"150.687999383055\" y2=\"150.687999383055\"/><line x1=\"225.0\" x2=\"225.0\" y1=\"180.0\" y2=\"150.687999383055\"/><line x1=\"225.0\" x2=\"206.25\" y1=\"150.687999383055\" y2=\"150.687999383055\"/></g><g fill=\"black\" id=\"nodes\"><circle cx=\"86.71875\" cy=\"20.0\" r=\"3\"/><circle cx=\"37.5\" cy=\"180.0\" r=\"3\"/><circle cx=\"135.9375\" cy=\"58.8347028264524\" r=\"3\"/><circle cx=\"93.75\" cy=\"162.69398775897568\" r=\"3\"/><circle cx=\"75.0\" cy=\"180.0\" r=\"3\"/><circle cx=\"112.5\" cy=\"180.0\" r=\"3\"/><circle cx=\"178.125\" cy=\"110.17683905207369\" r=\"3\"/><circle cx=\"150.0\" cy=\"180.0\" r=\"3\"/><circle cx=\"206.25\" cy=\"150.687999383055\" r=\"3\"/><circle cx=\"187.5\" cy=\"180.0\" r=\"3\"/><circle cx=\"225.0\" cy=\"180.0\" r=\"3\"/></g><g fill=\"red\" id=\"mutations\"/><g font-size=\"14\" text-anchor=\"start\"><text x=\"140.9375\" y=\"53.8347028264524\">9</text><text x=\"183.125\" y=\"105.17683905207369\">8</text><text x=\"211.25\" y=\"145.687999383055\">7</text></g><g font-size=\"14\" text-anchor=\"end\"><text x=\"88.75\" y=\"157.69398775897568\">6</text></g><g font-size=\"14\" text-anchor=\"middle\"><text x=\"86.71875\" y=\"15.0\">10</text><text x=\"37.5\" y=\"200.0\">2</text><text x=\"75.0\" y=\"200.0\">4</text><text x=\"112.5\" y=\"200.0\">5</text><text x=\"150.0\" y=\"200.0\">0</text><text x=\"187.5\" y=\"200.0\">1</text><text x=\"225.0\" y=\"200.0\">3</text></g><g alignment-baseline=\"middle\" font-size=\"14\" font-style=\"italic\" text-anchor=\"start\"/><g alignment-baseline=\"middle\" font-size=\"14\" font-style=\"italic\" text-anchor=\"end\"/></svg>"
      ],
      "text/plain": [
       "<IPython.core.display.SVG object>"
      ]
     },
     "metadata": {},
     "output_type": "display_data"
    }
   ],
   "source": [
    "ts = msprime.simulate(sample_size = 6, random_seed = 10)\n",
    "\n",
    "for tree in ts.trees():\n",
    "    display(SVG(tree.draw(width=300)))"
   ]
  },
  {
   "cell_type": "markdown",
   "metadata": {},
   "source": [
    "## 2.3 Recombination"
   ]
  },
  {
   "cell_type": "code",
   "execution_count": 4,
   "metadata": {},
   "outputs": [
    {
     "name": "stdout",
     "output_type": "stream",
     "text": [
      "Tree on interval (0.0, 181.74732201307717)\n"
     ]
    },
    {
     "data": {
      "image/svg+xml": [
       "<svg baseProfile=\"full\" height=\"200\" version=\"1.1\" width=\"300\" xmlns=\"http://www.w3.org/2000/svg\" xmlns:ev=\"http://www.w3.org/2001/xml-events\" xmlns:xlink=\"http://www.w3.org/1999/xlink\"><defs/><g id=\"lines\" stroke=\"black\"><line x1=\"56.25\" x2=\"56.25\" y1=\"165.72678082222953\" y2=\"20.0\"/><line x1=\"56.25\" x2=\"112.5\" y1=\"20.0\" y2=\"20.0\"/><line x1=\"37.5\" x2=\"37.5\" y1=\"180.0\" y2=\"165.72678082222953\"/><line x1=\"37.5\" x2=\"56.25\" y1=\"165.72678082222953\" y2=\"165.72678082222953\"/><line x1=\"75.0\" x2=\"75.0\" y1=\"180.0\" y2=\"165.72678082222953\"/><line x1=\"75.0\" x2=\"56.25\" y1=\"165.72678082222953\" y2=\"165.72678082222953\"/><line x1=\"168.75\" x2=\"168.75\" y1=\"34.07602149133231\" y2=\"20.0\"/><line x1=\"168.75\" x2=\"112.5\" y1=\"20.0\" y2=\"20.0\"/><line x1=\"131.25\" x2=\"131.25\" y1=\"176.5368217517669\" y2=\"34.07602149133231\"/><line x1=\"131.25\" x2=\"168.75\" y1=\"34.07602149133231\" y2=\"34.07602149133231\"/><line x1=\"112.5\" x2=\"112.5\" y1=\"180.0\" y2=\"176.5368217517669\"/><line x1=\"112.5\" x2=\"131.25\" y1=\"176.5368217517669\" y2=\"176.5368217517669\"/><line x1=\"150.0\" x2=\"150.0\" y1=\"180.0\" y2=\"176.5368217517669\"/><line x1=\"150.0\" x2=\"131.25\" y1=\"176.5368217517669\" y2=\"176.5368217517669\"/><line x1=\"206.25\" x2=\"206.25\" y1=\"175.74221269314023\" y2=\"34.07602149133231\"/><line x1=\"206.25\" x2=\"168.75\" y1=\"34.07602149133231\" y2=\"34.07602149133231\"/><line x1=\"187.5\" x2=\"187.5\" y1=\"180.0\" y2=\"175.74221269314023\"/><line x1=\"187.5\" x2=\"206.25\" y1=\"175.74221269314023\" y2=\"175.74221269314023\"/><line x1=\"225.0\" x2=\"225.0\" y1=\"180.0\" y2=\"175.74221269314023\"/><line x1=\"225.0\" x2=\"206.25\" y1=\"175.74221269314023\" y2=\"175.74221269314023\"/></g><g fill=\"black\" id=\"nodes\"><circle cx=\"112.5\" cy=\"20.0\" r=\"3\"/><circle cx=\"56.25\" cy=\"165.72678082222953\" r=\"3\"/><circle cx=\"37.5\" cy=\"180.0\" r=\"3\"/><circle cx=\"75.0\" cy=\"180.0\" r=\"3\"/><circle cx=\"168.75\" cy=\"34.07602149133231\" r=\"3\"/><circle cx=\"131.25\" cy=\"176.5368217517669\" r=\"3\"/><circle cx=\"112.5\" cy=\"180.0\" r=\"3\"/><circle cx=\"150.0\" cy=\"180.0\" r=\"3\"/><circle cx=\"206.25\" cy=\"175.74221269314023\" r=\"3\"/><circle cx=\"187.5\" cy=\"180.0\" r=\"3\"/><circle cx=\"225.0\" cy=\"180.0\" r=\"3\"/></g><g fill=\"red\" id=\"mutations\"/><g font-size=\"14\" text-anchor=\"start\"><text x=\"173.75\" y=\"29.076021491332313\">10</text><text x=\"211.25\" y=\"170.74221269314023\">7</text></g><g font-size=\"14\" text-anchor=\"end\"><text x=\"51.25\" y=\"160.72678082222953\">8</text><text x=\"126.25\" y=\"171.5368217517669\">6</text></g><g font-size=\"14\" text-anchor=\"middle\"><text x=\"112.5\" y=\"15.0\">11</text><text x=\"37.5\" y=\"200.0\">2</text><text x=\"75.0\" y=\"200.0\">5</text><text x=\"112.5\" y=\"200.0\">0</text><text x=\"150.0\" y=\"200.0\">1</text><text x=\"187.5\" y=\"200.0\">3</text><text x=\"225.0\" y=\"200.0\">4</text></g><g alignment-baseline=\"middle\" font-size=\"14\" font-style=\"italic\" text-anchor=\"start\"/><g alignment-baseline=\"middle\" font-size=\"14\" font-style=\"italic\" text-anchor=\"end\"/></svg>"
      ],
      "text/plain": [
       "<IPython.core.display.SVG object>"
      ]
     },
     "metadata": {},
     "output_type": "display_data"
    },
    {
     "name": "stdout",
     "output_type": "stream",
     "text": [
      "Tree on interval (181.74732201307717, 1000.0)\n"
     ]
    },
    {
     "data": {
      "image/svg+xml": [
       "<svg baseProfile=\"full\" height=\"200\" version=\"1.1\" width=\"300\" xmlns=\"http://www.w3.org/2000/svg\" xmlns:ev=\"http://www.w3.org/2001/xml-events\" xmlns:xlink=\"http://www.w3.org/1999/xlink\"><defs/><g id=\"lines\" stroke=\"black\"><line x1=\"98.4375\" x2=\"98.4375\" y1=\"34.07602149133231\" y2=\"20.0\"/><line x1=\"98.4375\" x2=\"161.71875\" y1=\"20.0\" y2=\"20.0\"/><line x1=\"56.25\" x2=\"56.25\" y1=\"176.5368217517669\" y2=\"34.07602149133231\"/><line x1=\"56.25\" x2=\"98.4375\" y1=\"34.07602149133231\" y2=\"34.07602149133231\"/><line x1=\"37.5\" x2=\"37.5\" y1=\"180.0\" y2=\"176.5368217517669\"/><line x1=\"37.5\" x2=\"56.25\" y1=\"176.5368217517669\" y2=\"176.5368217517669\"/><line x1=\"75.0\" x2=\"75.0\" y1=\"180.0\" y2=\"176.5368217517669\"/><line x1=\"75.0\" x2=\"56.25\" y1=\"176.5368217517669\" y2=\"176.5368217517669\"/><line x1=\"140.625\" x2=\"140.625\" y1=\"105.4666512876907\" y2=\"34.07602149133231\"/><line x1=\"140.625\" x2=\"98.4375\" y1=\"34.07602149133231\" y2=\"34.07602149133231\"/><line x1=\"112.5\" x2=\"112.5\" y1=\"180.0\" y2=\"105.4666512876907\"/><line x1=\"112.5\" x2=\"140.625\" y1=\"105.4666512876907\" y2=\"105.4666512876907\"/><line x1=\"168.75\" x2=\"168.75\" y1=\"175.74221269314023\" y2=\"105.4666512876907\"/><line x1=\"168.75\" x2=\"140.625\" y1=\"105.4666512876907\" y2=\"105.4666512876907\"/><line x1=\"150.0\" x2=\"150.0\" y1=\"180.0\" y2=\"175.74221269314023\"/><line x1=\"150.0\" x2=\"168.75\" y1=\"175.74221269314023\" y2=\"175.74221269314023\"/><line x1=\"187.5\" x2=\"187.5\" y1=\"180.0\" y2=\"175.74221269314023\"/><line x1=\"187.5\" x2=\"168.75\" y1=\"175.74221269314023\" y2=\"175.74221269314023\"/><line x1=\"225.0\" x2=\"225.0\" y1=\"180.0\" y2=\"20.0\"/><line x1=\"225.0\" x2=\"161.71875\" y1=\"20.0\" y2=\"20.0\"/></g><g fill=\"black\" id=\"nodes\"><circle cx=\"161.71875\" cy=\"20.0\" r=\"3\"/><circle cx=\"98.4375\" cy=\"34.07602149133231\" r=\"3\"/><circle cx=\"56.25\" cy=\"176.5368217517669\" r=\"3\"/><circle cx=\"37.5\" cy=\"180.0\" r=\"3\"/><circle cx=\"75.0\" cy=\"180.0\" r=\"3\"/><circle cx=\"140.625\" cy=\"105.4666512876907\" r=\"3\"/><circle cx=\"112.5\" cy=\"180.0\" r=\"3\"/><circle cx=\"168.75\" cy=\"175.74221269314023\" r=\"3\"/><circle cx=\"150.0\" cy=\"180.0\" r=\"3\"/><circle cx=\"187.5\" cy=\"180.0\" r=\"3\"/><circle cx=\"225.0\" cy=\"180.0\" r=\"3\"/></g><g fill=\"red\" id=\"mutations\"/><g font-size=\"14\" text-anchor=\"start\"><text x=\"145.625\" y=\"100.4666512876907\">9</text><text x=\"173.75\" y=\"170.74221269314023\">7</text></g><g font-size=\"14\" text-anchor=\"end\"><text x=\"93.4375\" y=\"29.076021491332313\">10</text><text x=\"51.25\" y=\"171.5368217517669\">6</text></g><g font-size=\"14\" text-anchor=\"middle\"><text x=\"161.71875\" y=\"15.0\">11</text><text x=\"37.5\" y=\"200.0\">0</text><text x=\"75.0\" y=\"200.0\">1</text><text x=\"112.5\" y=\"200.0\">5</text><text x=\"150.0\" y=\"200.0\">3</text><text x=\"187.5\" y=\"200.0\">4</text><text x=\"225.0\" y=\"200.0\">2</text></g><g alignment-baseline=\"middle\" font-size=\"14\" font-style=\"italic\" text-anchor=\"start\"/><g alignment-baseline=\"middle\" font-size=\"14\" font-style=\"italic\" text-anchor=\"end\"/></svg>"
      ],
      "text/plain": [
       "<IPython.core.display.SVG object>"
      ]
     },
     "metadata": {},
     "output_type": "display_data"
    }
   ],
   "source": [
    "ts = msprime.simulate(sample_size = 6, random_seed = 12,\n",
    "                     length = 1000, recombination_rate = 1e-4 )\n",
    "\n",
    "for tree in ts.trees():\n",
    "    print('Tree on interval', tree.interval)\n",
    "    display(SVG(tree.draw(width=300)))"
   ]
  },
  {
   "cell_type": "markdown",
   "metadata": {},
   "source": [
    "## 2.4 Mutation"
   ]
  },
  {
   "cell_type": "code",
   "execution_count": 5,
   "metadata": {},
   "outputs": [
    {
     "name": "stdout",
     "output_type": "stream",
     "text": [
      "Tree on interval (0.0, 181.74732201307717)\n"
     ]
    },
    {
     "data": {
      "image/svg+xml": [
       "<svg baseProfile=\"full\" height=\"200\" version=\"1.1\" width=\"300\" xmlns=\"http://www.w3.org/2000/svg\" xmlns:ev=\"http://www.w3.org/2001/xml-events\" xmlns:xlink=\"http://www.w3.org/1999/xlink\"><defs/><g id=\"lines\" stroke=\"black\"><line x1=\"56.25\" x2=\"56.25\" y1=\"165.72678082222953\" y2=\"20.0\"/><line x1=\"56.25\" x2=\"112.5\" y1=\"20.0\" y2=\"20.0\"/><line x1=\"37.5\" x2=\"37.5\" y1=\"180.0\" y2=\"165.72678082222953\"/><line x1=\"37.5\" x2=\"56.25\" y1=\"165.72678082222953\" y2=\"165.72678082222953\"/><line x1=\"75.0\" x2=\"75.0\" y1=\"180.0\" y2=\"165.72678082222953\"/><line x1=\"75.0\" x2=\"56.25\" y1=\"165.72678082222953\" y2=\"165.72678082222953\"/><line x1=\"168.75\" x2=\"168.75\" y1=\"34.07602149133231\" y2=\"20.0\"/><line x1=\"168.75\" x2=\"112.5\" y1=\"20.0\" y2=\"20.0\"/><line x1=\"131.25\" x2=\"131.25\" y1=\"176.5368217517669\" y2=\"34.07602149133231\"/><line x1=\"131.25\" x2=\"168.75\" y1=\"34.07602149133231\" y2=\"34.07602149133231\"/><line x1=\"112.5\" x2=\"112.5\" y1=\"180.0\" y2=\"176.5368217517669\"/><line x1=\"112.5\" x2=\"131.25\" y1=\"176.5368217517669\" y2=\"176.5368217517669\"/><line x1=\"150.0\" x2=\"150.0\" y1=\"180.0\" y2=\"176.5368217517669\"/><line x1=\"150.0\" x2=\"131.25\" y1=\"176.5368217517669\" y2=\"176.5368217517669\"/><line x1=\"206.25\" x2=\"206.25\" y1=\"175.74221269314023\" y2=\"34.07602149133231\"/><line x1=\"206.25\" x2=\"168.75\" y1=\"34.07602149133231\" y2=\"34.07602149133231\"/><line x1=\"187.5\" x2=\"187.5\" y1=\"180.0\" y2=\"175.74221269314023\"/><line x1=\"187.5\" x2=\"206.25\" y1=\"175.74221269314023\" y2=\"175.74221269314023\"/><line x1=\"225.0\" x2=\"225.0\" y1=\"180.0\" y2=\"175.74221269314023\"/><line x1=\"225.0\" x2=\"206.25\" y1=\"175.74221269314023\" y2=\"175.74221269314023\"/></g><g fill=\"black\" id=\"nodes\"><circle cx=\"112.5\" cy=\"20.0\" r=\"3\"/><circle cx=\"56.25\" cy=\"165.72678082222953\" r=\"3\"/><circle cx=\"37.5\" cy=\"180.0\" r=\"3\"/><circle cx=\"75.0\" cy=\"180.0\" r=\"3\"/><circle cx=\"168.75\" cy=\"34.07602149133231\" r=\"3\"/><circle cx=\"131.25\" cy=\"176.5368217517669\" r=\"3\"/><circle cx=\"112.5\" cy=\"180.0\" r=\"3\"/><circle cx=\"150.0\" cy=\"180.0\" r=\"3\"/><circle cx=\"206.25\" cy=\"175.74221269314023\" r=\"3\"/><circle cx=\"187.5\" cy=\"180.0\" r=\"3\"/><circle cx=\"225.0\" cy=\"180.0\" r=\"3\"/></g><g fill=\"red\" id=\"mutations\"><rect height=\"6\" width=\"6\" x=\"203.25\" y=\"101.90911709223627\"/><rect height=\"6\" width=\"6\" x=\"53.25\" y=\"89.86339041111476\"/></g><g font-size=\"14\" text-anchor=\"start\"><text x=\"173.75\" y=\"29.076021491332313\">10</text><text x=\"211.25\" y=\"170.74221269314023\">7</text></g><g font-size=\"14\" text-anchor=\"end\"><text x=\"51.25\" y=\"160.72678082222953\">8</text><text x=\"126.25\" y=\"171.5368217517669\">6</text></g><g font-size=\"14\" text-anchor=\"middle\"><text x=\"112.5\" y=\"15.0\">11</text><text x=\"37.5\" y=\"200.0\">2</text><text x=\"75.0\" y=\"200.0\">5</text><text x=\"112.5\" y=\"200.0\">0</text><text x=\"150.0\" y=\"200.0\">1</text><text x=\"187.5\" y=\"200.0\">3</text><text x=\"225.0\" y=\"200.0\">4</text></g><g alignment-baseline=\"middle\" font-size=\"14\" font-style=\"italic\" text-anchor=\"start\"><text x=\"211.25\" y=\"109.40911709223627\">0</text></g><g alignment-baseline=\"middle\" font-size=\"14\" font-style=\"italic\" text-anchor=\"end\"><text x=\"51.25\" y=\"97.36339041111476\">1</text></g></svg>"
      ],
      "text/plain": [
       "<IPython.core.display.SVG object>"
      ]
     },
     "metadata": {},
     "output_type": "display_data"
    },
    {
     "name": "stdout",
     "output_type": "stream",
     "text": [
      "Tree on interval (181.74732201307717, 1000.0)\n"
     ]
    },
    {
     "data": {
      "image/svg+xml": [
       "<svg baseProfile=\"full\" height=\"200\" version=\"1.1\" width=\"300\" xmlns=\"http://www.w3.org/2000/svg\" xmlns:ev=\"http://www.w3.org/2001/xml-events\" xmlns:xlink=\"http://www.w3.org/1999/xlink\"><defs/><g id=\"lines\" stroke=\"black\"><line x1=\"98.4375\" x2=\"98.4375\" y1=\"34.07602149133231\" y2=\"20.0\"/><line x1=\"98.4375\" x2=\"161.71875\" y1=\"20.0\" y2=\"20.0\"/><line x1=\"56.25\" x2=\"56.25\" y1=\"176.5368217517669\" y2=\"34.07602149133231\"/><line x1=\"56.25\" x2=\"98.4375\" y1=\"34.07602149133231\" y2=\"34.07602149133231\"/><line x1=\"37.5\" x2=\"37.5\" y1=\"180.0\" y2=\"176.5368217517669\"/><line x1=\"37.5\" x2=\"56.25\" y1=\"176.5368217517669\" y2=\"176.5368217517669\"/><line x1=\"75.0\" x2=\"75.0\" y1=\"180.0\" y2=\"176.5368217517669\"/><line x1=\"75.0\" x2=\"56.25\" y1=\"176.5368217517669\" y2=\"176.5368217517669\"/><line x1=\"140.625\" x2=\"140.625\" y1=\"105.4666512876907\" y2=\"34.07602149133231\"/><line x1=\"140.625\" x2=\"98.4375\" y1=\"34.07602149133231\" y2=\"34.07602149133231\"/><line x1=\"112.5\" x2=\"112.5\" y1=\"180.0\" y2=\"105.4666512876907\"/><line x1=\"112.5\" x2=\"140.625\" y1=\"105.4666512876907\" y2=\"105.4666512876907\"/><line x1=\"168.75\" x2=\"168.75\" y1=\"175.74221269314023\" y2=\"105.4666512876907\"/><line x1=\"168.75\" x2=\"140.625\" y1=\"105.4666512876907\" y2=\"105.4666512876907\"/><line x1=\"150.0\" x2=\"150.0\" y1=\"180.0\" y2=\"175.74221269314023\"/><line x1=\"150.0\" x2=\"168.75\" y1=\"175.74221269314023\" y2=\"175.74221269314023\"/><line x1=\"187.5\" x2=\"187.5\" y1=\"180.0\" y2=\"175.74221269314023\"/><line x1=\"187.5\" x2=\"168.75\" y1=\"175.74221269314023\" y2=\"175.74221269314023\"/><line x1=\"225.0\" x2=\"225.0\" y1=\"180.0\" y2=\"20.0\"/><line x1=\"225.0\" x2=\"161.71875\" y1=\"20.0\" y2=\"20.0\"/></g><g fill=\"black\" id=\"nodes\"><circle cx=\"161.71875\" cy=\"20.0\" r=\"3\"/><circle cx=\"98.4375\" cy=\"34.07602149133231\" r=\"3\"/><circle cx=\"56.25\" cy=\"176.5368217517669\" r=\"3\"/><circle cx=\"37.5\" cy=\"180.0\" r=\"3\"/><circle cx=\"75.0\" cy=\"180.0\" r=\"3\"/><circle cx=\"140.625\" cy=\"105.4666512876907\" r=\"3\"/><circle cx=\"112.5\" cy=\"180.0\" r=\"3\"/><circle cx=\"168.75\" cy=\"175.74221269314023\" r=\"3\"/><circle cx=\"150.0\" cy=\"180.0\" r=\"3\"/><circle cx=\"187.5\" cy=\"180.0\" r=\"3\"/><circle cx=\"225.0\" cy=\"180.0\" r=\"3\"/></g><g fill=\"red\" id=\"mutations\"><rect height=\"6\" width=\"6\" x=\"53.25\" y=\"137.92162168665826\"/><rect height=\"6\" width=\"6\" x=\"53.25\" y=\"102.3064216215496\"/><rect height=\"6\" width=\"6\" x=\"53.25\" y=\"66.69122155644095\"/><rect height=\"6\" width=\"6\" x=\"95.4375\" y=\"24.038010745666156\"/><rect height=\"6\" width=\"6\" x=\"184.5\" y=\"174.87110634657012\"/><rect height=\"6\" width=\"6\" x=\"222.0\" y=\"123.66666666666666\"/><rect height=\"6\" width=\"6\" x=\"222.0\" y=\"70.33333333333333\"/><rect height=\"6\" width=\"6\" x=\"109.5\" y=\"139.73332564384535\"/></g><g font-size=\"14\" text-anchor=\"start\"><text x=\"145.625\" y=\"100.4666512876907\">9</text><text x=\"173.75\" y=\"170.74221269314023\">7</text></g><g font-size=\"14\" text-anchor=\"end\"><text x=\"93.4375\" y=\"29.076021491332313\">10</text><text x=\"51.25\" y=\"171.5368217517669\">6</text></g><g font-size=\"14\" text-anchor=\"middle\"><text x=\"161.71875\" y=\"15.0\">11</text><text x=\"37.5\" y=\"200.0\">0</text><text x=\"75.0\" y=\"200.0\">1</text><text x=\"112.5\" y=\"200.0\">5</text><text x=\"150.0\" y=\"200.0\">3</text><text x=\"187.5\" y=\"200.0\">4</text><text x=\"225.0\" y=\"200.0\">2</text></g><g alignment-baseline=\"middle\" font-size=\"14\" font-style=\"italic\" text-anchor=\"start\"><text x=\"192.5\" y=\"182.37110634657012\">4</text><text x=\"230.0\" y=\"131.16666666666666\">6</text><text x=\"230.0\" y=\"77.83333333333333\">9</text></g><g alignment-baseline=\"middle\" font-size=\"14\" font-style=\"italic\" text-anchor=\"end\"><text x=\"51.25\" y=\"145.42162168665826\">2</text><text x=\"51.25\" y=\"109.8064216215496\">5</text><text x=\"51.25\" y=\"74.19122155644095\">7</text><text x=\"93.4375\" y=\"31.538010745666156\">3</text><text x=\"107.5\" y=\"147.23332564384535\">8</text></g></svg>"
      ],
      "text/plain": [
       "<IPython.core.display.SVG object>"
      ]
     },
     "metadata": {},
     "output_type": "display_data"
    }
   ],
   "source": [
    "ts = msprime.simulate(sample_size = 6, random_seed = 12,\n",
    "                     length = 1000, recombination_rate = 1e-4,\n",
    "                     mutation_rate = 7e-4)\n",
    "\n",
    "for tree in ts.trees():\n",
    "    print('Tree on interval', tree.interval)\n",
    "    display(SVG(tree.draw(width=300)))"
   ]
  },
  {
   "cell_type": "code",
   "execution_count": 6,
   "metadata": {},
   "outputs": [
    {
     "name": "stdout",
     "output_type": "stream",
     "text": [
      "id\tsite\tnode\tderived_state\tparent\tmetadata\n",
      "0\t0\t7\t1\t-1\t\n",
      "1\t1\t8\t1\t-1\t\n",
      "2\t2\t6\t1\t-1\t\n",
      "3\t3\t10\t1\t-1\t\n",
      "4\t4\t4\t1\t-1\t\n",
      "5\t5\t6\t1\t-1\t\n",
      "6\t6\t2\t1\t-1\t\n",
      "7\t7\t6\t1\t-1\t\n",
      "8\t8\t5\t1\t-1\t\n",
      "9\t9\t2\t1\t-1\t\n"
     ]
    }
   ],
   "source": [
    "print(ts.tables.mutations)"
   ]
  },
  {
   "cell_type": "code",
   "execution_count": 7,
   "metadata": {},
   "outputs": [
    {
     "name": "stdout",
     "output_type": "stream",
     "text": [
      "[0 0 0 1 1 0]\n",
      "[0 0 1 0 0 1]\n",
      "[1 1 0 0 0 0]\n",
      "[1 1 0 1 1 1]\n",
      "[0 0 0 0 1 0]\n",
      "[1 1 0 0 0 0]\n",
      "[0 0 1 0 0 0]\n",
      "[1 1 0 0 0 0]\n",
      "[0 0 0 0 0 1]\n",
      "[0 0 1 0 0 0]\n"
     ]
    }
   ],
   "source": [
    "for var in ts.variants():\n",
    "    print(var.genotypes)"
   ]
  },
  {
   "cell_type": "code",
   "execution_count": 8,
   "metadata": {},
   "outputs": [
    {
     "data": {
      "text/plain": [
       "array([[0, 0, 0, 1, 1, 0],\n",
       "       [0, 0, 1, 0, 0, 1],\n",
       "       [1, 1, 0, 0, 0, 0],\n",
       "       [1, 1, 0, 1, 1, 1],\n",
       "       [0, 0, 0, 0, 1, 0],\n",
       "       [1, 1, 0, 0, 0, 0],\n",
       "       [0, 0, 1, 0, 0, 0],\n",
       "       [1, 1, 0, 0, 0, 0],\n",
       "       [0, 0, 0, 0, 0, 1],\n",
       "       [0, 0, 1, 0, 0, 0]], dtype=uint8)"
      ]
     },
     "execution_count": 8,
     "metadata": {},
     "output_type": "execute_result"
    }
   ],
   "source": [
    "ts.genotype_matrix()"
   ]
  },
  {
   "cell_type": "markdown",
   "metadata": {},
   "source": [
    "## 2.5 Populations and population structure\n",
    "\n",
    "### PopulationConfiguration objects"
   ]
  },
  {
   "cell_type": "markdown",
   "metadata": {},
   "source": [
    "## 2.6 Demographic events"
   ]
  },
  {
   "cell_type": "markdown",
   "metadata": {},
   "source": [
    "### Migrations"
   ]
  },
  {
   "cell_type": "markdown",
   "metadata": {},
   "source": [
    "### Population size changes"
   ]
  },
  {
   "cell_type": "markdown",
   "metadata": {},
   "source": [
    "### Using the Demography Debugger"
   ]
  },
  {
   "cell_type": "markdown",
   "metadata": {},
   "source": [
    "## 2.7 Large simulations"
   ]
  },
  {
   "cell_type": "markdown",
   "metadata": {},
   "source": [
    "### Replicate simulations"
   ]
  },
  {
   "cell_type": "markdown",
   "metadata": {},
   "source": [
    "## 2.8 Exporting data into other formats"
   ]
  },
  {
   "cell_type": "code",
   "execution_count": null,
   "metadata": {},
   "outputs": [],
   "source": []
  }
 ],
 "metadata": {
  "kernelspec": {
   "display_name": "Python 3",
   "language": "python",
   "name": "python3"
  },
  "language_info": {
   "codemirror_mode": {
    "name": "ipython",
    "version": 3
   },
   "file_extension": ".py",
   "mimetype": "text/x-python",
   "name": "python",
   "nbconvert_exporter": "python",
   "pygments_lexer": "ipython3",
   "version": "3.7.1"
  }
 },
 "nbformat": 4,
 "nbformat_minor": 2
}
