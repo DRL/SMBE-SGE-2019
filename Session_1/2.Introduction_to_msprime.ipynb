{
 "cells": [
  {
   "cell_type": "markdown",
   "metadata": {},
   "source": [
    "# 2. Introduction to msprime\n",
    "\n",
    "1. [Why use msprime?](#why_use_msprime)\n",
    "2. [Getting started](#getting_started)\n",
    "3. [Recombination](#recombination)\n",
    "4. [Mutation](#mutation)\n",
    "5. [Population structure](#population_structure)\n",
    "6. [Migration](#migration)\n",
    "7. [Changing population sizes or growth rates](#change_pop_size_and_growth)\n",
    "8. [The demography debugger](#demography_debugger)"
   ]
  },
  {
   "cell_type": "markdown",
   "metadata": {},
   "source": [
    "<a id='why_use_msprime'></a>\n",
    "## 2.1 Why use msprime?"
   ]
  },
  {
   "cell_type": "markdown",
   "metadata": {},
   "source": [
    "This notebook introduces `msprime` [[1](https://msprime.readthedocs.io/en/stable/introduction.html)], an reimplementation of Hudson's `ms` program [[2](http://home.uchicago.edu/~rhudson1/source/mksamples.html)] for simulating genomic datasets under the coalescent model with recombination. msprime is capable of simulating sample sizes far larger than any other simulators, and is generally extremely efficient. Because it simulates datasets with the tree sequence structure, extracting statistics from the simulations is generally also extremely quick. We will see that it can easily simulate chromosome-sized regions for hundreds of thousands of samples, allowing us to explore the influence of various historical scenarios on observed patterns of genetic variation and inheritance on a scale that was previously impossible.\n",
    " \n",
    "### The coalescent model with recombination\n",
    " \n",
    "*The coalescent* [3] is a model of the historical processes that generate genetic variation and genealogies. We are lucky to have many readable guides to coalescent theory today; one that is freely available online is [[4](https://github.com/cooplab/popgen-notes)].\n",
    " \n",
    "The coalescent model makes a few assumptions that are important to keep in mind:\n",
    " - infinite sites: no site acquires more than one mutation.\n",
    " - Random mating within populations\n",
    " - Small sample sizes relative to population\n",
    " - No selection\n",
    " \n",
    "### Other references\n",
    "\n",
    "[1] Kelleher, J., Etheridge, A. M., & McVean, G. (2016). Efficient Coalescent Simulation and Genealogical Analysis for Large Sample Sizes. PLOS Computational Biology, 12(5), e1004842. https://doi.org/10.1371/journal.pcbi.1004842\n",
    "\n",
    "[2] Hudson, R. R. (2002) Generating samples under a Wright-Fisher neutral model. Bioinformatics 18:337-8.\n",
    "\n",
    "[3] Kingman JFC. The coalescent. Stoch Proc Appl. 1982; 13(3):235–248. doi: 10.1016/0304-4149(82) 90011-4\n",
    "\n",
    "[4] Coop, G. Population and Quantitative Genetics. (March 2019). Available online at [https://github.com/cooplab/popgen-notes](https://github.com/cooplab/popgen-notes)."
   ]
  },
  {
   "cell_type": "markdown",
   "metadata": {},
   "source": [
    "<a id='getting_started'></a>\n",
    "## 2.2 Getting started"
   ]
  },
  {
   "cell_type": "code",
   "execution_count": 1,
   "metadata": {},
   "outputs": [],
   "source": [
    "import msprime\n",
    "import numpy as np\n",
    "from IPython.display import SVG"
   ]
  },
  {
   "cell_type": "markdown",
   "metadata": {},
   "source": [
    "### A simple simulation\n",
    "\n",
    "The minimal input into msprime is a sample size. Let's simulate a small sample of 6 chromosomes to start off with. We'll use this to illustrate some basic features of msprime simulations.\n",
    "\n",
    "The `simulate` function returns a `TreeSequence` object, which provides a very efficient way to access the correlated trees in simulations involving recombination. "
   ]
  },
  {
   "cell_type": "code",
   "execution_count": 2,
   "metadata": {},
   "outputs": [],
   "source": [
    "ts = msprime.simulate(sample_size = 6, random_seed = 1)"
   ]
  },
  {
   "cell_type": "code",
   "execution_count": 3,
   "metadata": {},
   "outputs": [
    {
     "name": "stdout",
     "output_type": "stream",
     "text": [
      "Number of trees in tree sequence: 1\n",
      "Length of simulated sequence: 1.0\n"
     ]
    },
    {
     "data": {
      "image/svg+xml": [
       "<svg baseProfile=\"full\" height=\"200\" version=\"1.1\" width=\"300\" xmlns=\"http://www.w3.org/2000/svg\" xmlns:ev=\"http://www.w3.org/2001/xml-events\" xmlns:xlink=\"http://www.w3.org/1999/xlink\"><defs/><g id=\"lines\" stroke=\"black\"><line x1=\"65.625\" x2=\"65.625\" y1=\"106.07864115350088\" y2=\"20.0\"/><line x1=\"65.625\" x2=\"121.875\" y1=\"20.0\" y2=\"20.0\"/><line x1=\"37.5\" x2=\"37.5\" y1=\"180.0\" y2=\"106.07864115350088\"/><line x1=\"37.5\" x2=\"65.625\" y1=\"106.07864115350088\" y2=\"106.07864115350088\"/><line x1=\"93.75\" x2=\"93.75\" y1=\"171.29895525210136\" y2=\"106.07864115350088\"/><line x1=\"93.75\" x2=\"65.625\" y1=\"106.07864115350088\" y2=\"106.07864115350088\"/><line x1=\"75.0\" x2=\"75.0\" y1=\"180.0\" y2=\"171.29895525210136\"/><line x1=\"75.0\" x2=\"93.75\" y1=\"171.29895525210136\" y2=\"171.29895525210136\"/><line x1=\"112.5\" x2=\"112.5\" y1=\"180.0\" y2=\"171.29895525210136\"/><line x1=\"112.5\" x2=\"93.75\" y1=\"171.29895525210136\" y2=\"171.29895525210136\"/><line x1=\"178.125\" x2=\"178.125\" y1=\"69.85340868841467\" y2=\"20.0\"/><line x1=\"178.125\" x2=\"121.875\" y1=\"20.0\" y2=\"20.0\"/><line x1=\"150.0\" x2=\"150.0\" y1=\"180.0\" y2=\"69.85340868841467\"/><line x1=\"150.0\" x2=\"178.125\" y1=\"69.85340868841467\" y2=\"69.85340868841467\"/><line x1=\"206.25\" x2=\"206.25\" y1=\"91.56579272320691\" y2=\"69.85340868841467\"/><line x1=\"206.25\" x2=\"178.125\" y1=\"69.85340868841467\" y2=\"69.85340868841467\"/><line x1=\"187.5\" x2=\"187.5\" y1=\"180.0\" y2=\"91.56579272320691\"/><line x1=\"187.5\" x2=\"206.25\" y1=\"91.56579272320691\" y2=\"91.56579272320691\"/><line x1=\"225.0\" x2=\"225.0\" y1=\"180.0\" y2=\"91.56579272320691\"/><line x1=\"225.0\" x2=\"206.25\" y1=\"91.56579272320691\" y2=\"91.56579272320691\"/></g><g fill=\"black\" id=\"nodes\"><circle cx=\"121.875\" cy=\"20.0\" r=\"3\"/><circle cx=\"65.625\" cy=\"106.07864115350088\" r=\"3\"/><circle cx=\"37.5\" cy=\"180.0\" r=\"3\"/><circle cx=\"93.75\" cy=\"171.29895525210136\" r=\"3\"/><circle cx=\"75.0\" cy=\"180.0\" r=\"3\"/><circle cx=\"112.5\" cy=\"180.0\" r=\"3\"/><circle cx=\"178.125\" cy=\"69.85340868841467\" r=\"3\"/><circle cx=\"150.0\" cy=\"180.0\" r=\"3\"/><circle cx=\"206.25\" cy=\"91.56579272320691\" r=\"3\"/><circle cx=\"187.5\" cy=\"180.0\" r=\"3\"/><circle cx=\"225.0\" cy=\"180.0\" r=\"3\"/></g><g fill=\"red\" id=\"mutations\"/><g font-size=\"14\" text-anchor=\"start\"><text x=\"98.75\" y=\"166.29895525210136\">6</text><text x=\"183.125\" y=\"64.85340868841467\">9</text><text x=\"211.25\" y=\"86.56579272320691\">8</text></g><g font-size=\"14\" text-anchor=\"end\"><text x=\"60.625\" y=\"101.07864115350088\">7</text></g><g font-size=\"14\" text-anchor=\"middle\"><text x=\"121.875\" y=\"15.0\">10</text><text x=\"37.5\" y=\"200.0\">5</text><text x=\"75.0\" y=\"200.0\">0</text><text x=\"112.5\" y=\"200.0\">2</text><text x=\"150.0\" y=\"200.0\">3</text><text x=\"187.5\" y=\"200.0\">1</text><text x=\"225.0\" y=\"200.0\">4</text></g><g alignment-baseline=\"middle\" font-size=\"14\" font-style=\"italic\" text-anchor=\"start\"/><g alignment-baseline=\"middle\" font-size=\"14\" font-style=\"italic\" text-anchor=\"end\"/></svg>"
      ],
      "text/plain": [
       "<IPython.core.display.SVG object>"
      ]
     },
     "metadata": {},
     "output_type": "display_data"
    }
   ],
   "source": [
    "print(\"Number of trees in tree sequence:\", ts.num_trees)\n",
    "print(\"Length of simulated sequence:\", ts.sequence_length)\n",
    "display(SVG(ts.first().draw(width=300)))"
   ]
  },
  {
   "cell_type": "markdown",
   "metadata": {},
   "source": [
    "Notice that there is only a single tree in our simulated tree sequence. This is because we have not yet provided a value for the `recombination_rate`, and it defaults to zero."
   ]
  },
  {
   "cell_type": "markdown",
   "metadata": {},
   "source": [
    "### Sequence length\n",
    "\n",
    "Because we also haven't specified a sequence length, our simulated sequence will have length 1. "
   ]
  },
  {
   "cell_type": "code",
   "execution_count": 4,
   "metadata": {},
   "outputs": [
    {
     "data": {
      "text/plain": [
       "1.0"
      ]
     },
     "execution_count": 4,
     "metadata": {},
     "output_type": "execute_result"
    }
   ],
   "source": [
    "ts.sequence_length"
   ]
  },
  {
   "cell_type": "markdown",
   "metadata": {},
   "source": [
    "It is usually most convenient to set the sequence length to be the number of nucleotide bases in the desired simulated sequence. We use the `length` input to specify this."
   ]
  },
  {
   "cell_type": "code",
   "execution_count": 5,
   "metadata": {},
   "outputs": [
    {
     "name": "stdout",
     "output_type": "stream",
     "text": [
      "Length of simulated sequence: 1000.0\n"
     ]
    }
   ],
   "source": [
    "ts = msprime.simulate(sample_size = 6, random_seed = 1, length = 1000)\n",
    "print(\"Length of simulated sequence:\", ts.sequence_length)"
   ]
  },
  {
   "cell_type": "markdown",
   "metadata": {},
   "source": [
    "### Effective population sizes and times in msprime\n",
    "\n",
    "Recall that each tree sequence has an equivalent representation as a set of tables. Let's have a look at some of these tables now to get a sense of the timescale over which we have just simulated."
   ]
  },
  {
   "cell_type": "code",
   "execution_count": 6,
   "metadata": {},
   "outputs": [
    {
     "name": "stdout",
     "output_type": "stream",
     "text": [
      "id\tflags\tpopulation\tindividual\ttime\tmetadata\n",
      "0\t1\t0\t-1\t0.00000000000000\t\n",
      "1\t1\t0\t-1\t0.00000000000000\t\n",
      "2\t1\t0\t-1\t0.00000000000000\t\n",
      "3\t1\t0\t-1\t0.00000000000000\t\n",
      "4\t1\t0\t-1\t0.00000000000000\t\n",
      "5\t1\t0\t-1\t0.00000000000000\t\n",
      "6\t0\t0\t-1\t0.07194744353492\t\n",
      "7\t0\t0\t-1\t0.61124301112428\t\n",
      "8\t0\t0\t-1\t0.73124726040958\t\n",
      "9\t0\t0\t-1\t0.91078323219376\t\n",
      "10\t0\t0\t-1\t1.32301250012150\t\n"
     ]
    }
   ],
   "source": [
    "print(ts.tables.nodes)"
   ]
  },
  {
   "cell_type": "markdown",
   "metadata": {},
   "source": [
    "The first six nodes with `time = 0.0` correspond to the samples. \n",
    "All other nodes correspond to *ancestors* of the samples, and so have positive times. \n",
    "The reason why the node times in our simple example are so small is because, by default, msprime assumes a constant (diploid) effective population size of Ne = 1, which is equivalent to measuring time in units of Ne generations.\n",
    "\n",
    "While this scaling can be useful when comparing simulations against analytic results from coalescent theory, it's often simpler to think of time in units of *generations backwards-in-time*.\n",
    "We can do this be specifying our desired effective population size using the `Ne` input into `simulate`:"
   ]
  },
  {
   "cell_type": "code",
   "execution_count": 7,
   "metadata": {},
   "outputs": [
    {
     "name": "stdout",
     "output_type": "stream",
     "text": [
      "id\tflags\tpopulation\tindividual\ttime\tmetadata\n",
      "0\t1\t0\t-1\t0.00000000000000\t\n",
      "1\t1\t0\t-1\t0.00000000000000\t\n",
      "2\t1\t0\t-1\t0.00000000000000\t\n",
      "3\t1\t0\t-1\t0.00000000000000\t\n",
      "4\t1\t0\t-1\t0.00000000000000\t\n",
      "5\t1\t0\t-1\t0.00000000000000\t\n",
      "6\t0\t0\t-1\t719.47443534915067\t\n",
      "7\t0\t0\t-1\t6112.43011124283566\t\n",
      "8\t0\t0\t-1\t7312.47260409581213\t\n",
      "9\t0\t0\t-1\t9107.83232193760159\t\n",
      "10\t0\t0\t-1\t13230.12500121500307\t\n"
     ]
    }
   ],
   "source": [
    "ts = msprime.simulate(sample_size = 6, random_seed = 1, Ne = 10000)\n",
    "print(ts.tables.nodes)"
   ]
  },
  {
   "cell_type": "markdown",
   "metadata": {},
   "source": [
    "Recall that under the coalescent model, each simulated ancestral node represents a *coalescence event* at which two lineages converge. These coalescences should occur less frequently in a larger population. As expected, rescaling our effective population size has also rescaled our coalescence times by the same factor!\n",
    "\n",
    "Hopefully, you can already see that simulations with `msprime` can help us clarify our intuition about how the coalescent model works."
   ]
  },
  {
   "cell_type": "markdown",
   "metadata": {},
   "source": [
    "### Random seeds\n",
    "\n",
    "In general, running the same `msprime` commands multiple times will produce different outputs.\n",
    "To ensure the same output, you can specify a random seed. "
   ]
  },
  {
   "cell_type": "code",
   "execution_count": 8,
   "metadata": {},
   "outputs": [
    {
     "data": {
      "image/svg+xml": [
       "<svg baseProfile=\"full\" height=\"200\" version=\"1.1\" width=\"300\" xmlns=\"http://www.w3.org/2000/svg\" xmlns:ev=\"http://www.w3.org/2001/xml-events\" xmlns:xlink=\"http://www.w3.org/1999/xlink\"><defs/><g id=\"lines\" stroke=\"black\"><line x1=\"37.5\" x2=\"37.5\" y1=\"180.0\" y2=\"20.0\"/><line x1=\"37.5\" x2=\"86.71875\" y1=\"20.0\" y2=\"20.0\"/><line x1=\"135.9375\" x2=\"135.9375\" y1=\"58.8347028264524\" y2=\"20.0\"/><line x1=\"135.9375\" x2=\"86.71875\" y1=\"20.0\" y2=\"20.0\"/><line x1=\"93.75\" x2=\"93.75\" y1=\"162.69398775897568\" y2=\"58.8347028264524\"/><line x1=\"93.75\" x2=\"135.9375\" y1=\"58.8347028264524\" y2=\"58.8347028264524\"/><line x1=\"75.0\" x2=\"75.0\" y1=\"180.0\" y2=\"162.69398775897568\"/><line x1=\"75.0\" x2=\"93.75\" y1=\"162.69398775897568\" y2=\"162.69398775897568\"/><line x1=\"112.5\" x2=\"112.5\" y1=\"180.0\" y2=\"162.69398775897568\"/><line x1=\"112.5\" x2=\"93.75\" y1=\"162.69398775897568\" y2=\"162.69398775897568\"/><line x1=\"178.125\" x2=\"178.125\" y1=\"110.17683905207366\" y2=\"58.8347028264524\"/><line x1=\"178.125\" x2=\"135.9375\" y1=\"58.8347028264524\" y2=\"58.8347028264524\"/><line x1=\"150.0\" x2=\"150.0\" y1=\"180.0\" y2=\"110.17683905207366\"/><line x1=\"150.0\" x2=\"178.125\" y1=\"110.17683905207366\" y2=\"110.17683905207366\"/><line x1=\"206.25\" x2=\"206.25\" y1=\"150.687999383055\" y2=\"110.17683905207366\"/><line x1=\"206.25\" x2=\"178.125\" y1=\"110.17683905207366\" y2=\"110.17683905207366\"/><line x1=\"187.5\" x2=\"187.5\" y1=\"180.0\" y2=\"150.687999383055\"/><line x1=\"187.5\" x2=\"206.25\" y1=\"150.687999383055\" y2=\"150.687999383055\"/><line x1=\"225.0\" x2=\"225.0\" y1=\"180.0\" y2=\"150.687999383055\"/><line x1=\"225.0\" x2=\"206.25\" y1=\"150.687999383055\" y2=\"150.687999383055\"/></g><g fill=\"black\" id=\"nodes\"><circle cx=\"86.71875\" cy=\"20.0\" r=\"3\"/><circle cx=\"37.5\" cy=\"180.0\" r=\"3\"/><circle cx=\"135.9375\" cy=\"58.8347028264524\" r=\"3\"/><circle cx=\"93.75\" cy=\"162.69398775897568\" r=\"3\"/><circle cx=\"75.0\" cy=\"180.0\" r=\"3\"/><circle cx=\"112.5\" cy=\"180.0\" r=\"3\"/><circle cx=\"178.125\" cy=\"110.17683905207366\" r=\"3\"/><circle cx=\"150.0\" cy=\"180.0\" r=\"3\"/><circle cx=\"206.25\" cy=\"150.687999383055\" r=\"3\"/><circle cx=\"187.5\" cy=\"180.0\" r=\"3\"/><circle cx=\"225.0\" cy=\"180.0\" r=\"3\"/></g><g fill=\"red\" id=\"mutations\"/><g font-size=\"14\" text-anchor=\"start\"><text x=\"140.9375\" y=\"53.8347028264524\">9</text><text x=\"183.125\" y=\"105.17683905207366\">8</text><text x=\"211.25\" y=\"145.687999383055\">7</text></g><g font-size=\"14\" text-anchor=\"end\"><text x=\"88.75\" y=\"157.69398775897568\">6</text></g><g font-size=\"14\" text-anchor=\"middle\"><text x=\"86.71875\" y=\"15.0\">10</text><text x=\"37.5\" y=\"200.0\">2</text><text x=\"75.0\" y=\"200.0\">4</text><text x=\"112.5\" y=\"200.0\">5</text><text x=\"150.0\" y=\"200.0\">0</text><text x=\"187.5\" y=\"200.0\">1</text><text x=\"225.0\" y=\"200.0\">3</text></g><g alignment-baseline=\"middle\" font-size=\"14\" font-style=\"italic\" text-anchor=\"start\"/><g alignment-baseline=\"middle\" font-size=\"14\" font-style=\"italic\" text-anchor=\"end\"/></svg>"
      ],
      "text/plain": [
       "<IPython.core.display.SVG object>"
      ]
     },
     "metadata": {},
     "output_type": "display_data"
    }
   ],
   "source": [
    "ts = msprime.simulate(sample_size = 6, random_seed = 10,  Ne = 10000)\n",
    "\n",
    "for tree in ts.trees():\n",
    "    display(SVG(tree.draw(width=300)))"
   ]
  },
  {
   "cell_type": "markdown",
   "metadata": {},
   "source": [
    "<a id='recombination'></a>\n",
    "## 2.3 Recombination\n",
    "\n",
    "We can simulate entire chromosome-sized sequences with msprime. To do this, we will often want to add in a model of recombination.\n",
    "\n",
    "### Uniform recombination\n",
    "\n",
    "To simulate with a constant recombination rate, we specify two extra inputs to `simulate`: a sequence `length` (most easily specified as a number of bases) and a `recombination_rate` (specified as the rate of crossovers per unit of length per generation)."
   ]
  },
  {
   "cell_type": "code",
   "execution_count": 9,
   "metadata": {},
   "outputs": [
    {
     "name": "stdout",
     "output_type": "stream",
     "text": [
      "Tree on interval (0.0, 181.74732201307717)\n"
     ]
    },
    {
     "data": {
      "image/svg+xml": [
       "<svg baseProfile=\"full\" height=\"200\" version=\"1.1\" width=\"300\" xmlns=\"http://www.w3.org/2000/svg\" xmlns:ev=\"http://www.w3.org/2001/xml-events\" xmlns:xlink=\"http://www.w3.org/1999/xlink\"><defs/><g id=\"lines\" stroke=\"black\"><line x1=\"56.25\" x2=\"56.25\" y1=\"165.72678082222953\" y2=\"20.0\"/><line x1=\"56.25\" x2=\"112.5\" y1=\"20.0\" y2=\"20.0\"/><line x1=\"37.5\" x2=\"37.5\" y1=\"180.0\" y2=\"165.72678082222953\"/><line x1=\"37.5\" x2=\"56.25\" y1=\"165.72678082222953\" y2=\"165.72678082222953\"/><line x1=\"75.0\" x2=\"75.0\" y1=\"180.0\" y2=\"165.72678082222953\"/><line x1=\"75.0\" x2=\"56.25\" y1=\"165.72678082222953\" y2=\"165.72678082222953\"/><line x1=\"168.75\" x2=\"168.75\" y1=\"34.07602149133231\" y2=\"20.0\"/><line x1=\"168.75\" x2=\"112.5\" y1=\"20.0\" y2=\"20.0\"/><line x1=\"131.25\" x2=\"131.25\" y1=\"176.5368217517669\" y2=\"34.07602149133231\"/><line x1=\"131.25\" x2=\"168.75\" y1=\"34.07602149133231\" y2=\"34.07602149133231\"/><line x1=\"112.5\" x2=\"112.5\" y1=\"180.0\" y2=\"176.5368217517669\"/><line x1=\"112.5\" x2=\"131.25\" y1=\"176.5368217517669\" y2=\"176.5368217517669\"/><line x1=\"150.0\" x2=\"150.0\" y1=\"180.0\" y2=\"176.5368217517669\"/><line x1=\"150.0\" x2=\"131.25\" y1=\"176.5368217517669\" y2=\"176.5368217517669\"/><line x1=\"206.25\" x2=\"206.25\" y1=\"175.74221269314023\" y2=\"34.07602149133231\"/><line x1=\"206.25\" x2=\"168.75\" y1=\"34.07602149133231\" y2=\"34.07602149133231\"/><line x1=\"187.5\" x2=\"187.5\" y1=\"180.0\" y2=\"175.74221269314023\"/><line x1=\"187.5\" x2=\"206.25\" y1=\"175.74221269314023\" y2=\"175.74221269314023\"/><line x1=\"225.0\" x2=\"225.0\" y1=\"180.0\" y2=\"175.74221269314023\"/><line x1=\"225.0\" x2=\"206.25\" y1=\"175.74221269314023\" y2=\"175.74221269314023\"/></g><g fill=\"black\" id=\"nodes\"><circle cx=\"112.5\" cy=\"20.0\" r=\"3\"/><circle cx=\"56.25\" cy=\"165.72678082222953\" r=\"3\"/><circle cx=\"37.5\" cy=\"180.0\" r=\"3\"/><circle cx=\"75.0\" cy=\"180.0\" r=\"3\"/><circle cx=\"168.75\" cy=\"34.07602149133231\" r=\"3\"/><circle cx=\"131.25\" cy=\"176.5368217517669\" r=\"3\"/><circle cx=\"112.5\" cy=\"180.0\" r=\"3\"/><circle cx=\"150.0\" cy=\"180.0\" r=\"3\"/><circle cx=\"206.25\" cy=\"175.74221269314023\" r=\"3\"/><circle cx=\"187.5\" cy=\"180.0\" r=\"3\"/><circle cx=\"225.0\" cy=\"180.0\" r=\"3\"/></g><g fill=\"red\" id=\"mutations\"/><g font-size=\"14\" text-anchor=\"start\"><text x=\"173.75\" y=\"29.076021491332313\">10</text><text x=\"211.25\" y=\"170.74221269314023\">7</text></g><g font-size=\"14\" text-anchor=\"end\"><text x=\"51.25\" y=\"160.72678082222953\">8</text><text x=\"126.25\" y=\"171.5368217517669\">6</text></g><g font-size=\"14\" text-anchor=\"middle\"><text x=\"112.5\" y=\"15.0\">11</text><text x=\"37.5\" y=\"200.0\">2</text><text x=\"75.0\" y=\"200.0\">5</text><text x=\"112.5\" y=\"200.0\">0</text><text x=\"150.0\" y=\"200.0\">1</text><text x=\"187.5\" y=\"200.0\">3</text><text x=\"225.0\" y=\"200.0\">4</text></g><g alignment-baseline=\"middle\" font-size=\"14\" font-style=\"italic\" text-anchor=\"start\"/><g alignment-baseline=\"middle\" font-size=\"14\" font-style=\"italic\" text-anchor=\"end\"/></svg>"
      ],
      "text/plain": [
       "<IPython.core.display.SVG object>"
      ]
     },
     "metadata": {},
     "output_type": "display_data"
    },
    {
     "name": "stdout",
     "output_type": "stream",
     "text": [
      "Tree on interval (181.74732201307717, 1000.0)\n"
     ]
    },
    {
     "data": {
      "image/svg+xml": [
       "<svg baseProfile=\"full\" height=\"200\" version=\"1.1\" width=\"300\" xmlns=\"http://www.w3.org/2000/svg\" xmlns:ev=\"http://www.w3.org/2001/xml-events\" xmlns:xlink=\"http://www.w3.org/1999/xlink\"><defs/><g id=\"lines\" stroke=\"black\"><line x1=\"98.4375\" x2=\"98.4375\" y1=\"34.07602149133231\" y2=\"20.0\"/><line x1=\"98.4375\" x2=\"161.71875\" y1=\"20.0\" y2=\"20.0\"/><line x1=\"56.25\" x2=\"56.25\" y1=\"176.5368217517669\" y2=\"34.07602149133231\"/><line x1=\"56.25\" x2=\"98.4375\" y1=\"34.07602149133231\" y2=\"34.07602149133231\"/><line x1=\"37.5\" x2=\"37.5\" y1=\"180.0\" y2=\"176.5368217517669\"/><line x1=\"37.5\" x2=\"56.25\" y1=\"176.5368217517669\" y2=\"176.5368217517669\"/><line x1=\"75.0\" x2=\"75.0\" y1=\"180.0\" y2=\"176.5368217517669\"/><line x1=\"75.0\" x2=\"56.25\" y1=\"176.5368217517669\" y2=\"176.5368217517669\"/><line x1=\"140.625\" x2=\"140.625\" y1=\"105.4666512876907\" y2=\"34.07602149133231\"/><line x1=\"140.625\" x2=\"98.4375\" y1=\"34.07602149133231\" y2=\"34.07602149133231\"/><line x1=\"112.5\" x2=\"112.5\" y1=\"180.0\" y2=\"105.4666512876907\"/><line x1=\"112.5\" x2=\"140.625\" y1=\"105.4666512876907\" y2=\"105.4666512876907\"/><line x1=\"168.75\" x2=\"168.75\" y1=\"175.74221269314023\" y2=\"105.4666512876907\"/><line x1=\"168.75\" x2=\"140.625\" y1=\"105.4666512876907\" y2=\"105.4666512876907\"/><line x1=\"150.0\" x2=\"150.0\" y1=\"180.0\" y2=\"175.74221269314023\"/><line x1=\"150.0\" x2=\"168.75\" y1=\"175.74221269314023\" y2=\"175.74221269314023\"/><line x1=\"187.5\" x2=\"187.5\" y1=\"180.0\" y2=\"175.74221269314023\"/><line x1=\"187.5\" x2=\"168.75\" y1=\"175.74221269314023\" y2=\"175.74221269314023\"/><line x1=\"225.0\" x2=\"225.0\" y1=\"180.0\" y2=\"20.0\"/><line x1=\"225.0\" x2=\"161.71875\" y1=\"20.0\" y2=\"20.0\"/></g><g fill=\"black\" id=\"nodes\"><circle cx=\"161.71875\" cy=\"20.0\" r=\"3\"/><circle cx=\"98.4375\" cy=\"34.07602149133231\" r=\"3\"/><circle cx=\"56.25\" cy=\"176.5368217517669\" r=\"3\"/><circle cx=\"37.5\" cy=\"180.0\" r=\"3\"/><circle cx=\"75.0\" cy=\"180.0\" r=\"3\"/><circle cx=\"140.625\" cy=\"105.4666512876907\" r=\"3\"/><circle cx=\"112.5\" cy=\"180.0\" r=\"3\"/><circle cx=\"168.75\" cy=\"175.74221269314023\" r=\"3\"/><circle cx=\"150.0\" cy=\"180.0\" r=\"3\"/><circle cx=\"187.5\" cy=\"180.0\" r=\"3\"/><circle cx=\"225.0\" cy=\"180.0\" r=\"3\"/></g><g fill=\"red\" id=\"mutations\"/><g font-size=\"14\" text-anchor=\"start\"><text x=\"145.625\" y=\"100.4666512876907\">9</text><text x=\"173.75\" y=\"170.74221269314023\">7</text></g><g font-size=\"14\" text-anchor=\"end\"><text x=\"93.4375\" y=\"29.076021491332313\">10</text><text x=\"51.25\" y=\"171.5368217517669\">6</text></g><g font-size=\"14\" text-anchor=\"middle\"><text x=\"161.71875\" y=\"15.0\">11</text><text x=\"37.5\" y=\"200.0\">0</text><text x=\"75.0\" y=\"200.0\">1</text><text x=\"112.5\" y=\"200.0\">5</text><text x=\"150.0\" y=\"200.0\">3</text><text x=\"187.5\" y=\"200.0\">4</text><text x=\"225.0\" y=\"200.0\">2</text></g><g alignment-baseline=\"middle\" font-size=\"14\" font-style=\"italic\" text-anchor=\"start\"/><g alignment-baseline=\"middle\" font-size=\"14\" font-style=\"italic\" text-anchor=\"end\"/></svg>"
      ],
      "text/plain": [
       "<IPython.core.display.SVG object>"
      ]
     },
     "metadata": {},
     "output_type": "display_data"
    }
   ],
   "source": [
    "ts = msprime.simulate(sample_size = 6, random_seed = 12, length = 1000, recombination_rate = 1e-4 )\n",
    "\n",
    "for tree in ts.trees():\n",
    "    print('Tree on interval', tree.interval)\n",
    "    display(SVG(tree.draw(width=300)))"
   ]
  },
  {
   "cell_type": "markdown",
   "metadata": {},
   "source": [
    "### Non-uniform recombination\n",
    "\n",
    "It's also possible to simulate under a variable rate of recombination.\n",
    "To do this, we can specify an external recombination map given as a `RecombinationMap` object.\n",
    "See the [msprime documentation](https://msprime.readthedocs.io/en/stable/api.html?highlight=RecombinationMap#msprime.RecombinationMap) for more information about these objects."
   ]
  },
  {
   "cell_type": "code",
   "execution_count": 10,
   "metadata": {},
   "outputs": [],
   "source": [
    "# Making a simple RecombinationMap object.\n",
    "map_positions = [i*100 for i in range(0, 11)]\n",
    "map_rates = [0, 1e-4, 5e-4, 1e-4, 0, 0, 0, 5e-4, 6e-4, 1e-4, 0]\n",
    "my_map = msprime.RecombinationMap(map_positions, map_rates)\n",
    "\n",
    "# Simulating with the recombination map.\n",
    "ts = msprime.simulate(sample_size = 6, random_seed = 12, recombination_map = my_map)"
   ]
  },
  {
   "cell_type": "markdown",
   "metadata": {},
   "source": [
    "<a id='mutation'></a>\n",
    "## 2.4 Mutation\n",
    "\n",
    "To simulate genetic variation, we'll need to add some mutations to our tree sequences. Mutations are generated in msprime by sprinkling mutations over the branches of trees at a rate specified by the `mutation_rate` input to `simulate`. "
   ]
  },
  {
   "cell_type": "code",
   "execution_count": 11,
   "metadata": {},
   "outputs": [
    {
     "name": "stdout",
     "output_type": "stream",
     "text": [
      "Tree on interval (0.0, 181.74732201307717)\n"
     ]
    },
    {
     "data": {
      "image/svg+xml": [
       "<svg baseProfile=\"full\" height=\"200\" version=\"1.1\" width=\"300\" xmlns=\"http://www.w3.org/2000/svg\" xmlns:ev=\"http://www.w3.org/2001/xml-events\" xmlns:xlink=\"http://www.w3.org/1999/xlink\"><defs/><g id=\"lines\" stroke=\"black\"><line x1=\"56.25\" x2=\"56.25\" y1=\"165.72678082222953\" y2=\"20.0\"/><line x1=\"56.25\" x2=\"112.5\" y1=\"20.0\" y2=\"20.0\"/><line x1=\"37.5\" x2=\"37.5\" y1=\"180.0\" y2=\"165.72678082222953\"/><line x1=\"37.5\" x2=\"56.25\" y1=\"165.72678082222953\" y2=\"165.72678082222953\"/><line x1=\"75.0\" x2=\"75.0\" y1=\"180.0\" y2=\"165.72678082222953\"/><line x1=\"75.0\" x2=\"56.25\" y1=\"165.72678082222953\" y2=\"165.72678082222953\"/><line x1=\"168.75\" x2=\"168.75\" y1=\"34.07602149133231\" y2=\"20.0\"/><line x1=\"168.75\" x2=\"112.5\" y1=\"20.0\" y2=\"20.0\"/><line x1=\"131.25\" x2=\"131.25\" y1=\"176.5368217517669\" y2=\"34.07602149133231\"/><line x1=\"131.25\" x2=\"168.75\" y1=\"34.07602149133231\" y2=\"34.07602149133231\"/><line x1=\"112.5\" x2=\"112.5\" y1=\"180.0\" y2=\"176.5368217517669\"/><line x1=\"112.5\" x2=\"131.25\" y1=\"176.5368217517669\" y2=\"176.5368217517669\"/><line x1=\"150.0\" x2=\"150.0\" y1=\"180.0\" y2=\"176.5368217517669\"/><line x1=\"150.0\" x2=\"131.25\" y1=\"176.5368217517669\" y2=\"176.5368217517669\"/><line x1=\"206.25\" x2=\"206.25\" y1=\"175.74221269314023\" y2=\"34.07602149133231\"/><line x1=\"206.25\" x2=\"168.75\" y1=\"34.07602149133231\" y2=\"34.07602149133231\"/><line x1=\"187.5\" x2=\"187.5\" y1=\"180.0\" y2=\"175.74221269314023\"/><line x1=\"187.5\" x2=\"206.25\" y1=\"175.74221269314023\" y2=\"175.74221269314023\"/><line x1=\"225.0\" x2=\"225.0\" y1=\"180.0\" y2=\"175.74221269314023\"/><line x1=\"225.0\" x2=\"206.25\" y1=\"175.74221269314023\" y2=\"175.74221269314023\"/></g><g fill=\"black\" id=\"nodes\"><circle cx=\"112.5\" cy=\"20.0\" r=\"3\"/><circle cx=\"56.25\" cy=\"165.72678082222953\" r=\"3\"/><circle cx=\"37.5\" cy=\"180.0\" r=\"3\"/><circle cx=\"75.0\" cy=\"180.0\" r=\"3\"/><circle cx=\"168.75\" cy=\"34.07602149133231\" r=\"3\"/><circle cx=\"131.25\" cy=\"176.5368217517669\" r=\"3\"/><circle cx=\"112.5\" cy=\"180.0\" r=\"3\"/><circle cx=\"150.0\" cy=\"180.0\" r=\"3\"/><circle cx=\"206.25\" cy=\"175.74221269314023\" r=\"3\"/><circle cx=\"187.5\" cy=\"180.0\" r=\"3\"/><circle cx=\"225.0\" cy=\"180.0\" r=\"3\"/></g><g fill=\"red\" id=\"mutations\"><rect height=\"6\" width=\"6\" x=\"203.25\" y=\"101.90911709223627\"/><rect height=\"6\" width=\"6\" x=\"53.25\" y=\"89.86339041111476\"/></g><g font-size=\"14\" text-anchor=\"start\"><text x=\"173.75\" y=\"29.076021491332313\">10</text><text x=\"211.25\" y=\"170.74221269314023\">7</text></g><g font-size=\"14\" text-anchor=\"end\"><text x=\"51.25\" y=\"160.72678082222953\">8</text><text x=\"126.25\" y=\"171.5368217517669\">6</text></g><g font-size=\"14\" text-anchor=\"middle\"><text x=\"112.5\" y=\"15.0\">11</text><text x=\"37.5\" y=\"200.0\">2</text><text x=\"75.0\" y=\"200.0\">5</text><text x=\"112.5\" y=\"200.0\">0</text><text x=\"150.0\" y=\"200.0\">1</text><text x=\"187.5\" y=\"200.0\">3</text><text x=\"225.0\" y=\"200.0\">4</text></g><g alignment-baseline=\"middle\" font-size=\"14\" font-style=\"italic\" text-anchor=\"start\"><text x=\"211.25\" y=\"109.40911709223627\">0</text></g><g alignment-baseline=\"middle\" font-size=\"14\" font-style=\"italic\" text-anchor=\"end\"><text x=\"51.25\" y=\"97.36339041111476\">1</text></g></svg>"
      ],
      "text/plain": [
       "<IPython.core.display.SVG object>"
      ]
     },
     "metadata": {},
     "output_type": "display_data"
    },
    {
     "name": "stdout",
     "output_type": "stream",
     "text": [
      "Tree on interval (181.74732201307717, 1000.0)\n"
     ]
    },
    {
     "data": {
      "image/svg+xml": [
       "<svg baseProfile=\"full\" height=\"200\" version=\"1.1\" width=\"300\" xmlns=\"http://www.w3.org/2000/svg\" xmlns:ev=\"http://www.w3.org/2001/xml-events\" xmlns:xlink=\"http://www.w3.org/1999/xlink\"><defs/><g id=\"lines\" stroke=\"black\"><line x1=\"98.4375\" x2=\"98.4375\" y1=\"34.07602149133231\" y2=\"20.0\"/><line x1=\"98.4375\" x2=\"161.71875\" y1=\"20.0\" y2=\"20.0\"/><line x1=\"56.25\" x2=\"56.25\" y1=\"176.5368217517669\" y2=\"34.07602149133231\"/><line x1=\"56.25\" x2=\"98.4375\" y1=\"34.07602149133231\" y2=\"34.07602149133231\"/><line x1=\"37.5\" x2=\"37.5\" y1=\"180.0\" y2=\"176.5368217517669\"/><line x1=\"37.5\" x2=\"56.25\" y1=\"176.5368217517669\" y2=\"176.5368217517669\"/><line x1=\"75.0\" x2=\"75.0\" y1=\"180.0\" y2=\"176.5368217517669\"/><line x1=\"75.0\" x2=\"56.25\" y1=\"176.5368217517669\" y2=\"176.5368217517669\"/><line x1=\"140.625\" x2=\"140.625\" y1=\"105.4666512876907\" y2=\"34.07602149133231\"/><line x1=\"140.625\" x2=\"98.4375\" y1=\"34.07602149133231\" y2=\"34.07602149133231\"/><line x1=\"112.5\" x2=\"112.5\" y1=\"180.0\" y2=\"105.4666512876907\"/><line x1=\"112.5\" x2=\"140.625\" y1=\"105.4666512876907\" y2=\"105.4666512876907\"/><line x1=\"168.75\" x2=\"168.75\" y1=\"175.74221269314023\" y2=\"105.4666512876907\"/><line x1=\"168.75\" x2=\"140.625\" y1=\"105.4666512876907\" y2=\"105.4666512876907\"/><line x1=\"150.0\" x2=\"150.0\" y1=\"180.0\" y2=\"175.74221269314023\"/><line x1=\"150.0\" x2=\"168.75\" y1=\"175.74221269314023\" y2=\"175.74221269314023\"/><line x1=\"187.5\" x2=\"187.5\" y1=\"180.0\" y2=\"175.74221269314023\"/><line x1=\"187.5\" x2=\"168.75\" y1=\"175.74221269314023\" y2=\"175.74221269314023\"/><line x1=\"225.0\" x2=\"225.0\" y1=\"180.0\" y2=\"20.0\"/><line x1=\"225.0\" x2=\"161.71875\" y1=\"20.0\" y2=\"20.0\"/></g><g fill=\"black\" id=\"nodes\"><circle cx=\"161.71875\" cy=\"20.0\" r=\"3\"/><circle cx=\"98.4375\" cy=\"34.07602149133231\" r=\"3\"/><circle cx=\"56.25\" cy=\"176.5368217517669\" r=\"3\"/><circle cx=\"37.5\" cy=\"180.0\" r=\"3\"/><circle cx=\"75.0\" cy=\"180.0\" r=\"3\"/><circle cx=\"140.625\" cy=\"105.4666512876907\" r=\"3\"/><circle cx=\"112.5\" cy=\"180.0\" r=\"3\"/><circle cx=\"168.75\" cy=\"175.74221269314023\" r=\"3\"/><circle cx=\"150.0\" cy=\"180.0\" r=\"3\"/><circle cx=\"187.5\" cy=\"180.0\" r=\"3\"/><circle cx=\"225.0\" cy=\"180.0\" r=\"3\"/></g><g fill=\"red\" id=\"mutations\"><rect height=\"6\" width=\"6\" x=\"53.25\" y=\"137.92162168665826\"/><rect height=\"6\" width=\"6\" x=\"53.25\" y=\"102.3064216215496\"/><rect height=\"6\" width=\"6\" x=\"53.25\" y=\"66.69122155644095\"/><rect height=\"6\" width=\"6\" x=\"95.4375\" y=\"24.038010745666156\"/><rect height=\"6\" width=\"6\" x=\"184.5\" y=\"174.87110634657012\"/><rect height=\"6\" width=\"6\" x=\"222.0\" y=\"123.66666666666666\"/><rect height=\"6\" width=\"6\" x=\"222.0\" y=\"70.33333333333333\"/><rect height=\"6\" width=\"6\" x=\"109.5\" y=\"139.73332564384535\"/></g><g font-size=\"14\" text-anchor=\"start\"><text x=\"145.625\" y=\"100.4666512876907\">9</text><text x=\"173.75\" y=\"170.74221269314023\">7</text></g><g font-size=\"14\" text-anchor=\"end\"><text x=\"93.4375\" y=\"29.076021491332313\">10</text><text x=\"51.25\" y=\"171.5368217517669\">6</text></g><g font-size=\"14\" text-anchor=\"middle\"><text x=\"161.71875\" y=\"15.0\">11</text><text x=\"37.5\" y=\"200.0\">0</text><text x=\"75.0\" y=\"200.0\">1</text><text x=\"112.5\" y=\"200.0\">5</text><text x=\"150.0\" y=\"200.0\">3</text><text x=\"187.5\" y=\"200.0\">4</text><text x=\"225.0\" y=\"200.0\">2</text></g><g alignment-baseline=\"middle\" font-size=\"14\" font-style=\"italic\" text-anchor=\"start\"><text x=\"192.5\" y=\"182.37110634657012\">4</text><text x=\"230.0\" y=\"131.16666666666666\">6</text><text x=\"230.0\" y=\"77.83333333333333\">9</text></g><g alignment-baseline=\"middle\" font-size=\"14\" font-style=\"italic\" text-anchor=\"end\"><text x=\"51.25\" y=\"145.42162168665826\">2</text><text x=\"51.25\" y=\"109.8064216215496\">5</text><text x=\"51.25\" y=\"74.19122155644095\">7</text><text x=\"93.4375\" y=\"31.538010745666156\">3</text><text x=\"107.5\" y=\"147.23332564384535\">8</text></g></svg>"
      ],
      "text/plain": [
       "<IPython.core.display.SVG object>"
      ]
     },
     "metadata": {},
     "output_type": "display_data"
    }
   ],
   "source": [
    "ts = msprime.simulate(sample_size = 6, random_seed = 12, length = 1000, recombination_rate = 1e-4, mutation_rate = 7e-4)\n",
    "\n",
    "for tree in ts.trees():\n",
    "    print('Tree on interval', tree.interval)\n",
    "    display(SVG(tree.draw(width=300)))"
   ]
  },
  {
   "cell_type": "markdown",
   "metadata": {},
   "source": [
    "The mutations are generated under the infinite sites model, and so each mutation occurs at a unique (floating point) point position along the simulated sequence. "
   ]
  },
  {
   "cell_type": "markdown",
   "metadata": {},
   "source": [
    "### Accessing the simulated variants\n",
    "\n",
    "We may want to directly analyse the sequence data that results from simulations.\n",
    "The most efficient way to do this is with the `variants()` method, which returns an iterator over all the mutated sites. Each variant contains a reference to the site object, as well as the alleles and the observed sequences for each sample in the genotypes field:"
   ]
  },
  {
   "cell_type": "code",
   "execution_count": 12,
   "metadata": {},
   "outputs": [
    {
     "name": "stdout",
     "output_type": "stream",
     "text": [
      "Site ID\t Site position\t\t Alleles\t Genotypes\t\n",
      "0\t127.69973140085281\t('0', '1')\t[0 0 0 1 1 0]\n",
      "1\t139.48664451133118\t('0', '1')\t[0 0 1 0 0 1]\n",
      "2\t289.5867882762104\t('0', '1')\t[1 1 0 0 0 0]\n",
      "3\t406.6403051838279\t('0', '1')\t[1 1 0 1 1 1]\n",
      "4\t456.05092123150826\t('0', '1')\t[0 0 0 0 1 0]\n",
      "5\t471.22978256084025\t('0', '1')\t[1 1 0 0 0 0]\n",
      "6\t692.8133055495289\t('0', '1')\t[0 0 1 0 0 0]\n",
      "7\t816.1682989448309\t('0', '1')\t[1 1 0 0 0 0]\n",
      "8\t953.5049363062362\t('0', '1')\t[0 0 0 0 0 1]\n",
      "9\t982.0459640208176\t('0', '1')\t[0 0 1 0 0 0]\n"
     ]
    }
   ],
   "source": [
    "print('Site ID\\t', 'Site position\\t\\t', 'Alleles\\t', 'Genotypes\\t')\n",
    "for var in ts.variants():\n",
    "    print(var.site.id, var.site.position, var.alleles, var.genotypes, sep=\"\\t\")"
   ]
  },
  {
   "cell_type": "markdown",
   "metadata": {},
   "source": [
    "Note that `var.alleles[var.genotypes[j]]` gives the allele of sample ID j at variant `var`.\n",
    "By default, `msprime` labels the wildtype allele `'0'` and the mutated type allele `'1'`.\n",
    "\n",
    "(Can these be changed to explicitly show nucleotide bases somehow?)"
   ]
  },
  {
   "cell_type": "markdown",
   "metadata": {},
   "source": [
    "If we want a numpy array containing all sample genotypes at all variant sites, we can get it using the `genotype_matrix()` method:"
   ]
  },
  {
   "cell_type": "code",
   "execution_count": 13,
   "metadata": {},
   "outputs": [
    {
     "data": {
      "text/plain": [
       "array([[0, 0, 0, 1, 1, 0],\n",
       "       [0, 0, 1, 0, 0, 1],\n",
       "       [1, 1, 0, 0, 0, 0],\n",
       "       [1, 1, 0, 1, 1, 1],\n",
       "       [0, 0, 0, 0, 1, 0],\n",
       "       [1, 1, 0, 0, 0, 0],\n",
       "       [0, 0, 1, 0, 0, 0],\n",
       "       [1, 1, 0, 0, 0, 0],\n",
       "       [0, 0, 0, 0, 0, 1],\n",
       "       [0, 0, 1, 0, 0, 0]], dtype=uint8)"
      ]
     },
     "execution_count": 13,
     "metadata": {},
     "output_type": "execute_result"
    }
   ],
   "source": [
    "ts.genotype_matrix()"
   ]
  },
  {
   "cell_type": "markdown",
   "metadata": {},
   "source": [
    "Beware that this matrix might be very big (bigger than the tree sequence it's extracted from, in most realistically-sized simulations!)"
   ]
  },
  {
   "cell_type": "markdown",
   "metadata": {},
   "source": [
    "<a id='population_structure'></a>\n",
    "## 2.5 Population structure\n",
    "\n",
    "So far, we've been simulating samples from a single population of a constant size, which isn't particularly exciting!\n",
    "One of the strengths of msprime is that it can be used to specify quite complicated models of demography and population history with a simple Python API. \n",
    "We'll see how to do this now.\n",
    "\n",
    "### Population configurations\n",
    "\n",
    "msprime supports simulation from multiple discrete populations, each of which is initialized with a `PopulationConfiguration` object.\n",
    "For each population, you can specify a sample size, an effective population size at time = 0 and an exponential growth rate.\n",
    "\n",
    "Say we wanted to simulate three sequences each from two populations with a constant effective population size of 500."
   ]
  },
  {
   "cell_type": "code",
   "execution_count": 14,
   "metadata": {},
   "outputs": [],
   "source": [
    "pop0 = msprime.PopulationConfiguration(sample_size=3, initial_size = 500, growth_rate = 0.00)\n",
    "pop1 = msprime.PopulationConfiguration(sample_size=3, initial_size = 500, growth_rate = 0.00)"
   ]
  },
  {
   "cell_type": "markdown",
   "metadata": {},
   "source": [
    "You can give these to msprime as a list of `population_configurations`. (Note that we no longer need to specify `Ne` as we have provided a separate size for each population)."
   ]
  },
  {
   "cell_type": "code",
   "execution_count": 15,
   "metadata": {},
   "outputs": [],
   "source": [
    "# ts = msprime.simulate(population_configurations = [pop0, pop1], random_seed = 12, length = 1000, \n",
    "#                       recombination_rate = 1e-4, mutation_rate = 7e-4)"
   ]
  },
  {
   "cell_type": "markdown",
   "metadata": {},
   "source": [
    "However, this simulation will run forever unless we also specify some migration between the groups!"
   ]
  },
  {
   "cell_type": "markdown",
   "metadata": {},
   "source": [
    "<a id='migration'></a>\n",
    "## 2.6 Migrations\n",
    "\n",
    "With msprime, you can specify continual rates of migrations between populations, as well as one-off mass migrations.\n",
    "\n",
    "### Constant migration\n",
    "\n",
    "\n",
    "<p><img src=\"pics/population-structure-1.png\" alt=\"\" width=\"50%\"/></p>\n",
    "\n",
    "Migration rates between the populations can be specified as the elements of an *N* by *N*  numpy array, and given to `simulate` via the `migration_matrix` input. The diagonal elements of this array must each be 0, and `M[i][j]` specifies the fraction of population `i` that consists of new migrants from population `j` in each generation.\n",
    "\n",
    "For instance, this migration matrix specifies that in each generation, 5% of population 0 consists of migrants from population 1, and 2% of population 1 consists of migrants from population 0."
   ]
  },
  {
   "cell_type": "code",
   "execution_count": 16,
   "metadata": {},
   "outputs": [],
   "source": [
    "M = np.array([\n",
    "[0, 0.05],\n",
    "[0.02, 0]])"
   ]
  },
  {
   "cell_type": "code",
   "execution_count": 17,
   "metadata": {},
   "outputs": [],
   "source": [
    "ts = msprime.simulate(population_configurations = [pop0, pop1], migration_matrix = M, length = 1000, \n",
    "                     random_seed = 17, recombination_rate = 1e-6)"
   ]
  },
  {
   "cell_type": "markdown",
   "metadata": {},
   "source": [
    "One consequence of specifying PopulationConfigurations is that each of the simulated nodes will now belong to one of our specified populations:"
   ]
  },
  {
   "cell_type": "code",
   "execution_count": 18,
   "metadata": {},
   "outputs": [
    {
     "name": "stdout",
     "output_type": "stream",
     "text": [
      "id\tflags\tpopulation\tindividual\ttime\tmetadata\n",
      "0\t1\t0\t-1\t0.00000000000000\t\n",
      "1\t1\t0\t-1\t0.00000000000000\t\n",
      "2\t1\t0\t-1\t0.00000000000000\t\n",
      "3\t1\t1\t-1\t0.00000000000000\t\n",
      "4\t1\t1\t-1\t0.00000000000000\t\n",
      "5\t1\t1\t-1\t0.00000000000000\t\n",
      "6\t0\t0\t-1\t11.88714489632197\t\n",
      "7\t0\t1\t-1\t224.72850970133027\t\n",
      "8\t0\t1\t-1\t506.90932379996059\t\n",
      "9\t0\t1\t-1\t511.57254860439127\t\n",
      "10\t0\t1\t-1\t784.83535186047050\t\n",
      "11\t0\t1\t-1\t1072.51298319552620\t\n",
      "12\t0\t1\t-1\t1996.87609920001410\t\n",
      "13\t0\t1\t-1\t2117.29937132254372\t\n",
      "14\t0\t1\t-1\t2142.22807873149350\t\n",
      "15\t0\t1\t-1\t3708.68788078834223\t\n"
     ]
    }
   ],
   "source": [
    "print(ts.tables.nodes)"
   ]
  },
  {
   "cell_type": "code",
   "execution_count": 19,
   "metadata": {},
   "outputs": [
    {
     "name": "stdout",
     "output_type": "stream",
     "text": [
      "Tree on interval: (0.0, 50.87349192492512)\n"
     ]
    },
    {
     "data": {
      "image/svg+xml": [
       "<svg baseProfile=\"full\" height=\"200\" version=\"1.1\" width=\"200\" xmlns=\"http://www.w3.org/2000/svg\" xmlns:ev=\"http://www.w3.org/2001/xml-events\" xmlns:xlink=\"http://www.w3.org/1999/xlink\"><defs/><g id=\"lines\" stroke=\"black\"><line x1=\"43.75\" x2=\"43.75\" y1=\"139.01017203346072\" y2=\"20.0\"/><line x1=\"43.75\" x2=\"81.25\" y1=\"20.0\" y2=\"20.0\"/><line x1=\"25.0\" x2=\"25.0\" y1=\"180.0\" y2=\"139.01017203346072\"/><line x1=\"25.0\" x2=\"43.75\" y1=\"139.01017203346072\" y2=\"139.01017203346072\"/><line x1=\"62.5\" x2=\"62.5\" y1=\"161.99359411101284\" y2=\"139.01017203346072\"/><line x1=\"62.5\" x2=\"43.75\" y1=\"139.01017203346072\" y2=\"139.01017203346072\"/><line x1=\"50.0\" x2=\"50.0\" y1=\"180.0\" y2=\"161.99359411101284\"/><line x1=\"50.0\" x2=\"62.5\" y1=\"161.99359411101284\" y2=\"161.99359411101284\"/><line x1=\"75.0\" x2=\"75.0\" y1=\"180.0\" y2=\"161.99359411101284\"/><line x1=\"75.0\" x2=\"62.5\" y1=\"161.99359411101284\" y2=\"161.99359411101284\"/><line x1=\"118.75\" x2=\"118.75\" y1=\"117.11494851984935\" y2=\"20.0\"/><line x1=\"118.75\" x2=\"81.25\" y1=\"20.0\" y2=\"20.0\"/><line x1=\"100.0\" x2=\"100.0\" y1=\"180.0\" y2=\"117.11494851984935\"/><line x1=\"100.0\" x2=\"118.75\" y1=\"117.11494851984935\" y2=\"117.11494851984935\"/><line x1=\"137.5\" x2=\"137.5\" y1=\"179.0475407141317\" y2=\"117.11494851984935\"/><line x1=\"137.5\" x2=\"118.75\" y1=\"117.11494851984935\" y2=\"117.11494851984935\"/><line x1=\"125.0\" x2=\"125.0\" y1=\"180.0\" y2=\"179.0475407141317\"/><line x1=\"125.0\" x2=\"137.5\" y1=\"179.0475407141317\" y2=\"179.0475407141317\"/><line x1=\"150.0\" x2=\"150.0\" y1=\"180.0\" y2=\"179.0475407141317\"/><line x1=\"150.0\" x2=\"137.5\" y1=\"179.0475407141317\" y2=\"179.0475407141317\"/></g><g fill=\"black\" id=\"nodes\"><circle cx=\"81.25\" cy=\"20.0\" fill=\"blue\" r=\"3\"/><circle cx=\"43.75\" cy=\"139.01017203346072\" fill=\"blue\" r=\"3\"/><circle cx=\"25.0\" cy=\"180.0\" fill=\"red\" r=\"3\"/><circle cx=\"62.5\" cy=\"161.99359411101284\" fill=\"blue\" r=\"3\"/><circle cx=\"50.0\" cy=\"180.0\" fill=\"red\" r=\"3\"/><circle cx=\"75.0\" cy=\"180.0\" fill=\"blue\" r=\"3\"/><circle cx=\"118.75\" cy=\"117.11494851984935\" fill=\"blue\" r=\"3\"/><circle cx=\"100.0\" cy=\"180.0\" fill=\"blue\" r=\"3\"/><circle cx=\"137.5\" cy=\"179.0475407141317\" fill=\"red\" r=\"3\"/><circle cx=\"125.0\" cy=\"180.0\" fill=\"red\" r=\"3\"/><circle cx=\"150.0\" cy=\"180.0\" fill=\"blue\" r=\"3\"/></g><g fill=\"red\" id=\"mutations\"/><g font-size=\"14\" text-anchor=\"start\"><text x=\"67.5\" y=\"156.99359411101284\">7</text><text x=\"123.75\" y=\"112.11494851984935\">10</text><text x=\"142.5\" y=\"174.0475407141317\">6</text></g><g font-size=\"14\" text-anchor=\"end\"><text x=\"38.75\" y=\"134.01017203346072\">9</text></g><g font-size=\"14\" text-anchor=\"middle\"><text x=\"81.25\" y=\"15.0\">12</text><text x=\"25.0\" y=\"200.0\">0</text><text x=\"50.0\" y=\"200.0\">1</text><text x=\"75.0\" y=\"200.0\">5</text><text x=\"100.0\" y=\"200.0\">3</text><text x=\"125.0\" y=\"200.0\">2</text><text x=\"150.0\" y=\"200.0\">4</text></g><g alignment-baseline=\"middle\" font-size=\"14\" font-style=\"italic\" text-anchor=\"start\"/><g alignment-baseline=\"middle\" font-size=\"14\" font-style=\"italic\" text-anchor=\"end\"/></svg>"
      ],
      "text/plain": [
       "<IPython.core.display.SVG object>"
      ]
     },
     "metadata": {},
     "output_type": "display_data"
    },
    {
     "name": "stdout",
     "output_type": "stream",
     "text": [
      "Tree on interval: (50.87349192492512, 365.4655284167886)\n"
     ]
    },
    {
     "data": {
      "image/svg+xml": [
       "<svg baseProfile=\"full\" height=\"200\" version=\"1.1\" width=\"200\" xmlns=\"http://www.w3.org/2000/svg\" xmlns:ev=\"http://www.w3.org/2001/xml-events\" xmlns:xlink=\"http://www.w3.org/1999/xlink\"><defs/><g id=\"lines\" stroke=\"black\"><line x1=\"43.75\" x2=\"43.75\" y1=\"141.34150470862556\" y2=\"20.0\"/><line x1=\"43.75\" x2=\"81.25\" y1=\"20.0\" y2=\"20.0\"/><line x1=\"25.0\" x2=\"25.0\" y1=\"180.0\" y2=\"141.34150470862556\"/><line x1=\"25.0\" x2=\"43.75\" y1=\"141.34150470862556\" y2=\"141.34150470862556\"/><line x1=\"62.5\" x2=\"62.5\" y1=\"163.01772435243626\" y2=\"141.34150470862556\"/><line x1=\"62.5\" x2=\"43.75\" y1=\"141.34150470862556\" y2=\"141.34150470862556\"/><line x1=\"50.0\" x2=\"50.0\" y1=\"180.0\" y2=\"163.01772435243626\"/><line x1=\"50.0\" x2=\"62.5\" y1=\"163.01772435243626\" y2=\"163.01772435243626\"/><line x1=\"75.0\" x2=\"75.0\" y1=\"180.0\" y2=\"163.01772435243626\"/><line x1=\"75.0\" x2=\"62.5\" y1=\"163.01772435243626\" y2=\"163.01772435243626\"/><line x1=\"118.75\" x2=\"118.75\" y1=\"120.69159137413936\" y2=\"20.0\"/><line x1=\"118.75\" x2=\"81.25\" y1=\"20.0\" y2=\"20.0\"/><line x1=\"100.0\" x2=\"100.0\" y1=\"180.0\" y2=\"120.69159137413936\"/><line x1=\"100.0\" x2=\"118.75\" y1=\"120.69159137413936\" y2=\"120.69159137413936\"/><line x1=\"137.5\" x2=\"137.5\" y1=\"179.10171267739833\" y2=\"120.69159137413936\"/><line x1=\"137.5\" x2=\"118.75\" y1=\"120.69159137413936\" y2=\"120.69159137413936\"/><line x1=\"125.0\" x2=\"125.0\" y1=\"180.0\" y2=\"179.10171267739833\"/><line x1=\"125.0\" x2=\"137.5\" y1=\"179.10171267739833\" y2=\"179.10171267739833\"/><line x1=\"150.0\" x2=\"150.0\" y1=\"180.0\" y2=\"179.10171267739833\"/><line x1=\"150.0\" x2=\"137.5\" y1=\"179.10171267739833\" y2=\"179.10171267739833\"/></g><g fill=\"black\" id=\"nodes\"><circle cx=\"81.25\" cy=\"20.0\" fill=\"blue\" r=\"3\"/><circle cx=\"43.75\" cy=\"141.34150470862556\" fill=\"blue\" r=\"3\"/><circle cx=\"25.0\" cy=\"180.0\" fill=\"red\" r=\"3\"/><circle cx=\"62.5\" cy=\"163.01772435243626\" fill=\"blue\" r=\"3\"/><circle cx=\"50.0\" cy=\"180.0\" fill=\"red\" r=\"3\"/><circle cx=\"75.0\" cy=\"180.0\" fill=\"blue\" r=\"3\"/><circle cx=\"118.75\" cy=\"120.69159137413936\" fill=\"blue\" r=\"3\"/><circle cx=\"100.0\" cy=\"180.0\" fill=\"blue\" r=\"3\"/><circle cx=\"137.5\" cy=\"179.10171267739833\" fill=\"red\" r=\"3\"/><circle cx=\"125.0\" cy=\"180.0\" fill=\"red\" r=\"3\"/><circle cx=\"150.0\" cy=\"180.0\" fill=\"blue\" r=\"3\"/></g><g fill=\"red\" id=\"mutations\"/><g font-size=\"14\" text-anchor=\"start\"><text x=\"67.5\" y=\"158.01772435243626\">7</text><text x=\"123.75\" y=\"115.69159137413936\">10</text><text x=\"142.5\" y=\"174.10171267739833\">6</text></g><g font-size=\"14\" text-anchor=\"end\"><text x=\"38.75\" y=\"136.34150470862556\">9</text></g><g font-size=\"14\" text-anchor=\"middle\"><text x=\"81.25\" y=\"15.0\">13</text><text x=\"25.0\" y=\"200.0\">0</text><text x=\"50.0\" y=\"200.0\">1</text><text x=\"75.0\" y=\"200.0\">5</text><text x=\"100.0\" y=\"200.0\">3</text><text x=\"125.0\" y=\"200.0\">2</text><text x=\"150.0\" y=\"200.0\">4</text></g><g alignment-baseline=\"middle\" font-size=\"14\" font-style=\"italic\" text-anchor=\"start\"/><g alignment-baseline=\"middle\" font-size=\"14\" font-style=\"italic\" text-anchor=\"end\"/></svg>"
      ],
      "text/plain": [
       "<IPython.core.display.SVG object>"
      ]
     },
     "metadata": {},
     "output_type": "display_data"
    },
    {
     "name": "stdout",
     "output_type": "stream",
     "text": [
      "Tree on interval: (365.4655284167886, 558.1932856138314)\n"
     ]
    },
    {
     "data": {
      "image/svg+xml": [
       "<svg baseProfile=\"full\" height=\"200\" version=\"1.1\" width=\"200\" xmlns=\"http://www.w3.org/2000/svg\" xmlns:ev=\"http://www.w3.org/2001/xml-events\" xmlns:xlink=\"http://www.w3.org/1999/xlink\"><defs/><g id=\"lines\" stroke=\"black\"><line x1=\"43.75\" x2=\"43.75\" y1=\"141.34150470862556\" y2=\"20.0\"/><line x1=\"43.75\" x2=\"81.25\" y1=\"20.0\" y2=\"20.0\"/><line x1=\"25.0\" x2=\"25.0\" y1=\"180.0\" y2=\"141.34150470862556\"/><line x1=\"25.0\" x2=\"43.75\" y1=\"141.34150470862556\" y2=\"141.34150470862556\"/><line x1=\"62.5\" x2=\"62.5\" y1=\"163.01772435243626\" y2=\"141.34150470862556\"/><line x1=\"62.5\" x2=\"43.75\" y1=\"141.34150470862556\" y2=\"141.34150470862556\"/><line x1=\"50.0\" x2=\"50.0\" y1=\"180.0\" y2=\"163.01772435243626\"/><line x1=\"50.0\" x2=\"62.5\" y1=\"163.01772435243626\" y2=\"163.01772435243626\"/><line x1=\"75.0\" x2=\"75.0\" y1=\"180.0\" y2=\"163.01772435243626\"/><line x1=\"75.0\" x2=\"62.5\" y1=\"163.01772435243626\" y2=\"163.01772435243626\"/><line x1=\"118.75\" x2=\"118.75\" y1=\"98.95237884848794\" y2=\"20.0\"/><line x1=\"118.75\" x2=\"81.25\" y1=\"20.0\" y2=\"20.0\"/><line x1=\"100.0\" x2=\"100.0\" y1=\"180.0\" y2=\"98.95237884848794\"/><line x1=\"100.0\" x2=\"118.75\" y1=\"98.95237884848794\" y2=\"98.95237884848794\"/><line x1=\"137.5\" x2=\"137.5\" y1=\"179.10171267739833\" y2=\"98.95237884848794\"/><line x1=\"137.5\" x2=\"118.75\" y1=\"98.95237884848794\" y2=\"98.95237884848794\"/><line x1=\"125.0\" x2=\"125.0\" y1=\"180.0\" y2=\"179.10171267739833\"/><line x1=\"125.0\" x2=\"137.5\" y1=\"179.10171267739833\" y2=\"179.10171267739833\"/><line x1=\"150.0\" x2=\"150.0\" y1=\"180.0\" y2=\"179.10171267739833\"/><line x1=\"150.0\" x2=\"137.5\" y1=\"179.10171267739833\" y2=\"179.10171267739833\"/></g><g fill=\"black\" id=\"nodes\"><circle cx=\"81.25\" cy=\"20.0\" fill=\"blue\" r=\"3\"/><circle cx=\"43.75\" cy=\"141.34150470862556\" fill=\"blue\" r=\"3\"/><circle cx=\"25.0\" cy=\"180.0\" fill=\"red\" r=\"3\"/><circle cx=\"62.5\" cy=\"163.01772435243626\" fill=\"blue\" r=\"3\"/><circle cx=\"50.0\" cy=\"180.0\" fill=\"red\" r=\"3\"/><circle cx=\"75.0\" cy=\"180.0\" fill=\"blue\" r=\"3\"/><circle cx=\"118.75\" cy=\"98.95237884848794\" fill=\"blue\" r=\"3\"/><circle cx=\"100.0\" cy=\"180.0\" fill=\"blue\" r=\"3\"/><circle cx=\"137.5\" cy=\"179.10171267739833\" fill=\"red\" r=\"3\"/><circle cx=\"125.0\" cy=\"180.0\" fill=\"red\" r=\"3\"/><circle cx=\"150.0\" cy=\"180.0\" fill=\"blue\" r=\"3\"/></g><g fill=\"red\" id=\"mutations\"/><g font-size=\"14\" text-anchor=\"start\"><text x=\"67.5\" y=\"158.01772435243626\">7</text><text x=\"123.75\" y=\"93.95237884848794\">11</text><text x=\"142.5\" y=\"174.10171267739833\">6</text></g><g font-size=\"14\" text-anchor=\"end\"><text x=\"38.75\" y=\"136.34150470862556\">9</text></g><g font-size=\"14\" text-anchor=\"middle\"><text x=\"81.25\" y=\"15.0\">13</text><text x=\"25.0\" y=\"200.0\">0</text><text x=\"50.0\" y=\"200.0\">1</text><text x=\"75.0\" y=\"200.0\">5</text><text x=\"100.0\" y=\"200.0\">3</text><text x=\"125.0\" y=\"200.0\">2</text><text x=\"150.0\" y=\"200.0\">4</text></g><g alignment-baseline=\"middle\" font-size=\"14\" font-style=\"italic\" text-anchor=\"start\"/><g alignment-baseline=\"middle\" font-size=\"14\" font-style=\"italic\" text-anchor=\"end\"/></svg>"
      ],
      "text/plain": [
       "<IPython.core.display.SVG object>"
      ]
     },
     "metadata": {},
     "output_type": "display_data"
    },
    {
     "name": "stdout",
     "output_type": "stream",
     "text": [
      "Tree on interval: (558.1932856138314, 754.3368171328532)\n"
     ]
    },
    {
     "data": {
      "image/svg+xml": [
       "<svg baseProfile=\"full\" height=\"200\" version=\"1.1\" width=\"200\" xmlns=\"http://www.w3.org/2000/svg\" xmlns:ev=\"http://www.w3.org/2001/xml-events\" xmlns:xlink=\"http://www.w3.org/1999/xlink\"><defs/><g id=\"lines\" stroke=\"black\"><line x1=\"43.75\" x2=\"43.75\" y1=\"157.92976642744503\" y2=\"20.0\"/><line x1=\"43.75\" x2=\"81.25\" y1=\"20.0\" y2=\"20.0\"/><line x1=\"25.0\" x2=\"25.0\" y1=\"180.0\" y2=\"157.92976642744503\"/><line x1=\"25.0\" x2=\"43.75\" y1=\"157.92976642744503\" y2=\"157.92976642744503\"/><line x1=\"62.5\" x2=\"62.5\" y1=\"170.304775514145\" y2=\"157.92976642744503\"/><line x1=\"62.5\" x2=\"43.75\" y1=\"157.92976642744503\" y2=\"157.92976642744503\"/><line x1=\"50.0\" x2=\"50.0\" y1=\"180.0\" y2=\"170.304775514145\"/><line x1=\"50.0\" x2=\"62.5\" y1=\"170.304775514145\" y2=\"170.304775514145\"/><line x1=\"75.0\" x2=\"75.0\" y1=\"180.0\" y2=\"170.304775514145\"/><line x1=\"75.0\" x2=\"62.5\" y1=\"170.304775514145\" y2=\"170.304775514145\"/><line x1=\"118.75\" x2=\"118.75\" y1=\"133.7297063470309\" y2=\"20.0\"/><line x1=\"118.75\" x2=\"81.25\" y1=\"20.0\" y2=\"20.0\"/><line x1=\"100.0\" x2=\"100.0\" y1=\"180.0\" y2=\"133.7297063470309\"/><line x1=\"100.0\" x2=\"118.75\" y1=\"133.7297063470309\" y2=\"133.7297063470309\"/><line x1=\"137.5\" x2=\"137.5\" y1=\"179.487165476161\" y2=\"133.7297063470309\"/><line x1=\"137.5\" x2=\"118.75\" y1=\"133.7297063470309\" y2=\"133.7297063470309\"/><line x1=\"125.0\" x2=\"125.0\" y1=\"180.0\" y2=\"179.487165476161\"/><line x1=\"125.0\" x2=\"137.5\" y1=\"179.487165476161\" y2=\"179.487165476161\"/><line x1=\"150.0\" x2=\"150.0\" y1=\"180.0\" y2=\"179.487165476161\"/><line x1=\"150.0\" x2=\"137.5\" y1=\"179.487165476161\" y2=\"179.487165476161\"/></g><g fill=\"black\" id=\"nodes\"><circle cx=\"81.25\" cy=\"20.0\" fill=\"blue\" r=\"3\"/><circle cx=\"43.75\" cy=\"157.92976642744503\" fill=\"blue\" r=\"3\"/><circle cx=\"25.0\" cy=\"180.0\" fill=\"red\" r=\"3\"/><circle cx=\"62.5\" cy=\"170.304775514145\" fill=\"blue\" r=\"3\"/><circle cx=\"50.0\" cy=\"180.0\" fill=\"red\" r=\"3\"/><circle cx=\"75.0\" cy=\"180.0\" fill=\"blue\" r=\"3\"/><circle cx=\"118.75\" cy=\"133.7297063470309\" fill=\"blue\" r=\"3\"/><circle cx=\"100.0\" cy=\"180.0\" fill=\"blue\" r=\"3\"/><circle cx=\"137.5\" cy=\"179.487165476161\" fill=\"red\" r=\"3\"/><circle cx=\"125.0\" cy=\"180.0\" fill=\"red\" r=\"3\"/><circle cx=\"150.0\" cy=\"180.0\" fill=\"blue\" r=\"3\"/></g><g fill=\"red\" id=\"mutations\"/><g font-size=\"14\" text-anchor=\"start\"><text x=\"67.5\" y=\"165.304775514145\">7</text><text x=\"123.75\" y=\"128.7297063470309\">11</text><text x=\"142.5\" y=\"174.487165476161\">6</text></g><g font-size=\"14\" text-anchor=\"end\"><text x=\"38.75\" y=\"152.92976642744503\">9</text></g><g font-size=\"14\" text-anchor=\"middle\"><text x=\"81.25\" y=\"15.0\">15</text><text x=\"25.0\" y=\"200.0\">0</text><text x=\"50.0\" y=\"200.0\">1</text><text x=\"75.0\" y=\"200.0\">5</text><text x=\"100.0\" y=\"200.0\">3</text><text x=\"125.0\" y=\"200.0\">2</text><text x=\"150.0\" y=\"200.0\">4</text></g><g alignment-baseline=\"middle\" font-size=\"14\" font-style=\"italic\" text-anchor=\"start\"/><g alignment-baseline=\"middle\" font-size=\"14\" font-style=\"italic\" text-anchor=\"end\"/></svg>"
      ],
      "text/plain": [
       "<IPython.core.display.SVG object>"
      ]
     },
     "metadata": {},
     "output_type": "display_data"
    },
    {
     "name": "stdout",
     "output_type": "stream",
     "text": [
      "Tree on interval: (754.3368171328532, 755.8673305334215)\n"
     ]
    },
    {
     "data": {
      "image/svg+xml": [
       "<svg baseProfile=\"full\" height=\"200\" version=\"1.1\" width=\"200\" xmlns=\"http://www.w3.org/2000/svg\" xmlns:ev=\"http://www.w3.org/2001/xml-events\" xmlns:xlink=\"http://www.w3.org/1999/xlink\"><defs/><g id=\"lines\" stroke=\"black\"><line x1=\"56.25\" x2=\"56.25\" y1=\"157.92976642744503\" y2=\"20.0\"/><line x1=\"56.25\" x2=\"103.125\" y1=\"20.0\" y2=\"20.0\"/><line x1=\"25.0\" x2=\"25.0\" y1=\"180.0\" y2=\"157.92976642744503\"/><line x1=\"25.0\" x2=\"56.25\" y1=\"157.92976642744503\" y2=\"157.92976642744503\"/><line x1=\"87.5\" x2=\"87.5\" y1=\"158.1309470046982\" y2=\"157.92976642744503\"/><line x1=\"87.5\" x2=\"56.25\" y1=\"157.92976642744503\" y2=\"157.92976642744503\"/><line x1=\"62.5\" x2=\"62.5\" y1=\"179.487165476161\" y2=\"158.1309470046982\"/><line x1=\"62.5\" x2=\"87.5\" y1=\"158.1309470046982\" y2=\"158.1309470046982\"/><line x1=\"50.0\" x2=\"50.0\" y1=\"180.0\" y2=\"179.487165476161\"/><line x1=\"50.0\" x2=\"62.5\" y1=\"179.487165476161\" y2=\"179.487165476161\"/><line x1=\"75.0\" x2=\"75.0\" y1=\"180.0\" y2=\"179.487165476161\"/><line x1=\"75.0\" x2=\"62.5\" y1=\"179.487165476161\" y2=\"179.487165476161\"/><line x1=\"112.5\" x2=\"112.5\" y1=\"170.304775514145\" y2=\"158.1309470046982\"/><line x1=\"112.5\" x2=\"87.5\" y1=\"158.1309470046982\" y2=\"158.1309470046982\"/><line x1=\"100.0\" x2=\"100.0\" y1=\"180.0\" y2=\"170.304775514145\"/><line x1=\"100.0\" x2=\"112.5\" y1=\"170.304775514145\" y2=\"170.304775514145\"/><line x1=\"125.0\" x2=\"125.0\" y1=\"180.0\" y2=\"170.304775514145\"/><line x1=\"125.0\" x2=\"112.5\" y1=\"170.304775514145\" y2=\"170.304775514145\"/><line x1=\"150.0\" x2=\"150.0\" y1=\"180.0\" y2=\"20.0\"/><line x1=\"150.0\" x2=\"103.125\" y1=\"20.0\" y2=\"20.0\"/></g><g fill=\"black\" id=\"nodes\"><circle cx=\"103.125\" cy=\"20.0\" fill=\"blue\" r=\"3\"/><circle cx=\"56.25\" cy=\"157.92976642744503\" fill=\"blue\" r=\"3\"/><circle cx=\"25.0\" cy=\"180.0\" fill=\"red\" r=\"3\"/><circle cx=\"87.5\" cy=\"158.1309470046982\" fill=\"blue\" r=\"3\"/><circle cx=\"62.5\" cy=\"179.487165476161\" fill=\"red\" r=\"3\"/><circle cx=\"50.0\" cy=\"180.0\" fill=\"red\" r=\"3\"/><circle cx=\"75.0\" cy=\"180.0\" fill=\"blue\" r=\"3\"/><circle cx=\"112.5\" cy=\"170.304775514145\" fill=\"blue\" r=\"3\"/><circle cx=\"100.0\" cy=\"180.0\" fill=\"red\" r=\"3\"/><circle cx=\"125.0\" cy=\"180.0\" fill=\"blue\" r=\"3\"/><circle cx=\"150.0\" cy=\"180.0\" fill=\"blue\" r=\"3\"/></g><g fill=\"red\" id=\"mutations\"/><g font-size=\"14\" text-anchor=\"start\"><text x=\"92.5\" y=\"153.1309470046982\">8</text><text x=\"117.5\" y=\"165.304775514145\">7</text></g><g font-size=\"14\" text-anchor=\"end\"><text x=\"51.25\" y=\"152.92976642744503\">9</text><text x=\"57.5\" y=\"174.487165476161\">6</text></g><g font-size=\"14\" text-anchor=\"middle\"><text x=\"103.125\" y=\"15.0\">15</text><text x=\"25.0\" y=\"200.0\">0</text><text x=\"50.0\" y=\"200.0\">2</text><text x=\"75.0\" y=\"200.0\">4</text><text x=\"100.0\" y=\"200.0\">1</text><text x=\"125.0\" y=\"200.0\">5</text><text x=\"150.0\" y=\"200.0\">3</text></g><g alignment-baseline=\"middle\" font-size=\"14\" font-style=\"italic\" text-anchor=\"start\"/><g alignment-baseline=\"middle\" font-size=\"14\" font-style=\"italic\" text-anchor=\"end\"/></svg>"
      ],
      "text/plain": [
       "<IPython.core.display.SVG object>"
      ]
     },
     "metadata": {},
     "output_type": "display_data"
    },
    {
     "name": "stdout",
     "output_type": "stream",
     "text": [
      "Tree on interval: (755.8673305334215, 890.9437884322703)\n"
     ]
    },
    {
     "data": {
      "image/svg+xml": [
       "<svg baseProfile=\"full\" height=\"200\" version=\"1.1\" width=\"200\" xmlns=\"http://www.w3.org/2000/svg\" xmlns:ev=\"http://www.w3.org/2001/xml-events\" xmlns:xlink=\"http://www.w3.org/1999/xlink\"><defs/><g id=\"lines\" stroke=\"black\"><line x1=\"25.0\" x2=\"25.0\" y1=\"180.0\" y2=\"20.0\"/><line x1=\"25.0\" x2=\"53.125\" y1=\"20.0\" y2=\"20.0\"/><line x1=\"81.25\" x2=\"81.25\" y1=\"141.79136638654717\" y2=\"20.0\"/><line x1=\"81.25\" x2=\"53.125\" y1=\"20.0\" y2=\"20.0\"/><line x1=\"50.0\" x2=\"50.0\" y1=\"180.0\" y2=\"141.79136638654717\"/><line x1=\"50.0\" x2=\"81.25\" y1=\"141.79136638654717\" y2=\"141.79136638654717\"/><line x1=\"112.5\" x2=\"112.5\" y1=\"142.13965608366976\" y2=\"141.79136638654717\"/><line x1=\"112.5\" x2=\"81.25\" y1=\"141.79136638654717\" y2=\"141.79136638654717\"/><line x1=\"87.5\" x2=\"87.5\" y1=\"179.11216587893026\" y2=\"142.13965608366976\"/><line x1=\"87.5\" x2=\"112.5\" y1=\"142.13965608366976\" y2=\"142.13965608366976\"/><line x1=\"75.0\" x2=\"75.0\" y1=\"180.0\" y2=\"179.11216587893026\"/><line x1=\"75.0\" x2=\"87.5\" y1=\"179.11216587893026\" y2=\"179.11216587893026\"/><line x1=\"100.0\" x2=\"100.0\" y1=\"180.0\" y2=\"179.11216587893026\"/><line x1=\"100.0\" x2=\"87.5\" y1=\"179.11216587893026\" y2=\"179.11216587893026\"/><line x1=\"137.5\" x2=\"137.5\" y1=\"163.21534391729926\" y2=\"142.13965608366976\"/><line x1=\"137.5\" x2=\"112.5\" y1=\"142.13965608366976\" y2=\"142.13965608366976\"/><line x1=\"125.0\" x2=\"125.0\" y1=\"180.0\" y2=\"163.21534391729926\"/><line x1=\"125.0\" x2=\"137.5\" y1=\"163.21534391729926\" y2=\"163.21534391729926\"/><line x1=\"150.0\" x2=\"150.0\" y1=\"180.0\" y2=\"163.21534391729926\"/><line x1=\"150.0\" x2=\"137.5\" y1=\"163.21534391729926\" y2=\"163.21534391729926\"/></g><g fill=\"black\" id=\"nodes\"><circle cx=\"53.125\" cy=\"20.0\" fill=\"blue\" r=\"3\"/><circle cx=\"25.0\" cy=\"180.0\" fill=\"blue\" r=\"3\"/><circle cx=\"81.25\" cy=\"141.79136638654717\" fill=\"blue\" r=\"3\"/><circle cx=\"50.0\" cy=\"180.0\" fill=\"red\" r=\"3\"/><circle cx=\"112.5\" cy=\"142.13965608366976\" fill=\"blue\" r=\"3\"/><circle cx=\"87.5\" cy=\"179.11216587893026\" fill=\"red\" r=\"3\"/><circle cx=\"75.0\" cy=\"180.0\" fill=\"red\" r=\"3\"/><circle cx=\"100.0\" cy=\"180.0\" fill=\"blue\" r=\"3\"/><circle cx=\"137.5\" cy=\"163.21534391729926\" fill=\"blue\" r=\"3\"/><circle cx=\"125.0\" cy=\"180.0\" fill=\"red\" r=\"3\"/><circle cx=\"150.0\" cy=\"180.0\" fill=\"blue\" r=\"3\"/></g><g fill=\"red\" id=\"mutations\"/><g font-size=\"14\" text-anchor=\"start\"><text x=\"86.25\" y=\"136.79136638654717\">9</text><text x=\"117.5\" y=\"137.13965608366976\">8</text><text x=\"142.5\" y=\"158.21534391729926\">7</text></g><g font-size=\"14\" text-anchor=\"end\"><text x=\"82.5\" y=\"174.11216587893026\">6</text></g><g font-size=\"14\" text-anchor=\"middle\"><text x=\"53.125\" y=\"15.0\">14</text><text x=\"25.0\" y=\"200.0\">3</text><text x=\"50.0\" y=\"200.0\">0</text><text x=\"75.0\" y=\"200.0\">2</text><text x=\"100.0\" y=\"200.0\">4</text><text x=\"125.0\" y=\"200.0\">1</text><text x=\"150.0\" y=\"200.0\">5</text></g><g alignment-baseline=\"middle\" font-size=\"14\" font-style=\"italic\" text-anchor=\"start\"/><g alignment-baseline=\"middle\" font-size=\"14\" font-style=\"italic\" text-anchor=\"end\"/></svg>"
      ],
      "text/plain": [
       "<IPython.core.display.SVG object>"
      ]
     },
     "metadata": {},
     "output_type": "display_data"
    },
    {
     "name": "stdout",
     "output_type": "stream",
     "text": [
      "Tree on interval: (890.9437884322703, 1000.0)\n"
     ]
    },
    {
     "data": {
      "image/svg+xml": [
       "<svg baseProfile=\"full\" height=\"200\" version=\"1.1\" width=\"200\" xmlns=\"http://www.w3.org/2000/svg\" xmlns:ev=\"http://www.w3.org/2001/xml-events\" xmlns:xlink=\"http://www.w3.org/1999/xlink\"><defs/><g id=\"lines\" stroke=\"black\"><line x1=\"25.0\" x2=\"25.0\" y1=\"180.0\" y2=\"20.0\"/><line x1=\"25.0\" x2=\"53.125\" y1=\"20.0\" y2=\"20.0\"/><line x1=\"81.25\" x2=\"81.25\" y1=\"157.92976642744503\" y2=\"20.0\"/><line x1=\"81.25\" x2=\"53.125\" y1=\"20.0\" y2=\"20.0\"/><line x1=\"50.0\" x2=\"50.0\" y1=\"180.0\" y2=\"157.92976642744503\"/><line x1=\"50.0\" x2=\"81.25\" y1=\"157.92976642744503\" y2=\"157.92976642744503\"/><line x1=\"112.5\" x2=\"112.5\" y1=\"158.1309470046982\" y2=\"157.92976642744503\"/><line x1=\"112.5\" x2=\"81.25\" y1=\"157.92976642744503\" y2=\"157.92976642744503\"/><line x1=\"87.5\" x2=\"87.5\" y1=\"179.487165476161\" y2=\"158.1309470046982\"/><line x1=\"87.5\" x2=\"112.5\" y1=\"158.1309470046982\" y2=\"158.1309470046982\"/><line x1=\"75.0\" x2=\"75.0\" y1=\"180.0\" y2=\"179.487165476161\"/><line x1=\"75.0\" x2=\"87.5\" y1=\"179.487165476161\" y2=\"179.487165476161\"/><line x1=\"100.0\" x2=\"100.0\" y1=\"180.0\" y2=\"179.487165476161\"/><line x1=\"100.0\" x2=\"87.5\" y1=\"179.487165476161\" y2=\"179.487165476161\"/><line x1=\"137.5\" x2=\"137.5\" y1=\"170.304775514145\" y2=\"158.1309470046982\"/><line x1=\"137.5\" x2=\"112.5\" y1=\"158.1309470046982\" y2=\"158.1309470046982\"/><line x1=\"125.0\" x2=\"125.0\" y1=\"180.0\" y2=\"170.304775514145\"/><line x1=\"125.0\" x2=\"137.5\" y1=\"170.304775514145\" y2=\"170.304775514145\"/><line x1=\"150.0\" x2=\"150.0\" y1=\"180.0\" y2=\"170.304775514145\"/><line x1=\"150.0\" x2=\"137.5\" y1=\"170.304775514145\" y2=\"170.304775514145\"/></g><g fill=\"black\" id=\"nodes\"><circle cx=\"53.125\" cy=\"20.0\" fill=\"blue\" r=\"3\"/><circle cx=\"25.0\" cy=\"180.0\" fill=\"blue\" r=\"3\"/><circle cx=\"81.25\" cy=\"157.92976642744503\" fill=\"blue\" r=\"3\"/><circle cx=\"50.0\" cy=\"180.0\" fill=\"red\" r=\"3\"/><circle cx=\"112.5\" cy=\"158.1309470046982\" fill=\"blue\" r=\"3\"/><circle cx=\"87.5\" cy=\"179.487165476161\" fill=\"red\" r=\"3\"/><circle cx=\"75.0\" cy=\"180.0\" fill=\"red\" r=\"3\"/><circle cx=\"100.0\" cy=\"180.0\" fill=\"blue\" r=\"3\"/><circle cx=\"137.5\" cy=\"170.304775514145\" fill=\"blue\" r=\"3\"/><circle cx=\"125.0\" cy=\"180.0\" fill=\"red\" r=\"3\"/><circle cx=\"150.0\" cy=\"180.0\" fill=\"blue\" r=\"3\"/></g><g fill=\"red\" id=\"mutations\"/><g font-size=\"14\" text-anchor=\"start\"><text x=\"86.25\" y=\"152.92976642744503\">9</text><text x=\"117.5\" y=\"153.1309470046982\">8</text><text x=\"142.5\" y=\"165.304775514145\">7</text></g><g font-size=\"14\" text-anchor=\"end\"><text x=\"82.5\" y=\"174.487165476161\">6</text></g><g font-size=\"14\" text-anchor=\"middle\"><text x=\"53.125\" y=\"15.0\">15</text><text x=\"25.0\" y=\"200.0\">3</text><text x=\"50.0\" y=\"200.0\">0</text><text x=\"75.0\" y=\"200.0\">2</text><text x=\"100.0\" y=\"200.0\">4</text><text x=\"125.0\" y=\"200.0\">1</text><text x=\"150.0\" y=\"200.0\">5</text></g><g alignment-baseline=\"middle\" font-size=\"14\" font-style=\"italic\" text-anchor=\"start\"/><g alignment-baseline=\"middle\" font-size=\"14\" font-style=\"italic\" text-anchor=\"end\"/></svg>"
      ],
      "text/plain": [
       "<IPython.core.display.SVG object>"
      ]
     },
     "metadata": {},
     "output_type": "display_data"
    }
   ],
   "source": [
    "colour_map = {0:\"red\", 1:\"blue\"}\n",
    "node_colours = {u.id: colour_map[u.population] for u in ts.nodes()}\n",
    "\n",
    "for tree in ts.trees():\n",
    "    print(\"Tree on interval:\", tree.interval)\n",
    "    display(SVG(tree.draw(node_colours=node_colours)))"
   ]
  },
  {
   "cell_type": "markdown",
   "metadata": {},
   "source": [
    "More coalescences are happening in population 1 than population 0. \n",
    "This makes sense given that population 1 is specifying more migrants to population 0 than vice versa."
   ]
  },
  {
   "cell_type": "markdown",
   "metadata": {},
   "source": [
    "### Changing the migration rate\n",
    "\n",
    "<p><img src=\"pics/population-structure-2.png\" alt=\"\" width=\"50%\"/></p>\n",
    "\n",
    "We can change any of the migration rates at any time in the simulation.\n",
    "To do this, we just need to add a `MigrationRateChange` object specifying the index of the migration matrix to be changed, the time of the change and the new migration rate.\n",
    "\n",
    "For instance, say we wanted to specify that in each generation prior to time = 100, 1% of population 0 consisted of migrants from population 1."
   ]
  },
  {
   "cell_type": "code",
   "execution_count": 20,
   "metadata": {},
   "outputs": [],
   "source": [
    "migration_rate_change = msprime.MigrationRateChange(time = 100, rate = 0.01, matrix_index=(0, 1))"
   ]
  },
  {
   "cell_type": "markdown",
   "metadata": {},
   "source": [
    "A list of these changes can be supplied to `simulate` via the `demographic events` input:\n",
    "(If there is more than 1 change, ensure they are ordered by backwards-time!)"
   ]
  },
  {
   "cell_type": "code",
   "execution_count": 21,
   "metadata": {},
   "outputs": [],
   "source": [
    "ts = msprime.simulate(\n",
    "    population_configurations = [pop0, pop1], \n",
    "    migration_matrix = M, \n",
    "    length = 1000, \n",
    "    demographic_events = [migration_rate_change], \n",
    "    random_seed = 25, \n",
    "    recombination_rate = 1e-6)"
   ]
  },
  {
   "cell_type": "markdown",
   "metadata": {},
   "source": [
    "#### Exercise: \n",
    "\n",
    "<p><img src=\"pics/population-structure-exercise-1.png\" alt=\"\" width=\"50%\"/></p>\n",
    "\n",
    "In the code below, we have specified an two-population island model. Can you turn this into a three-population island model? \n",
    "If you get time, try to plot the tree sequence."
   ]
  },
  {
   "cell_type": "code",
   "execution_count": 22,
   "metadata": {},
   "outputs": [],
   "source": [
    "pop_configs_ex = [\n",
    "    msprime.PopulationConfiguration(sample_size=3, initial_size = 500, growth_rate = 0),\n",
    "    msprime.PopulationConfiguration(sample_size=3, initial_size = 500, growth_rate = 0)]\n",
    "\n",
    "migration_rates_ex = np.array([\n",
    "[0, 0.05],\n",
    "[0.02, 0]])\n",
    "\n",
    "demographic_events_ex = [\n",
    "    msprime.MigrationRateChange(time = 100, rate = 0.01, matrix_index=(0, 1))]\n",
    "\n",
    "# Simulate!\n",
    "ts_ex = msprime.simulate(\n",
    "    population_configurations = pop_configs_ex, \n",
    "    migration_matrix = migration_rates_ex, \n",
    "    length = 1000, \n",
    "    demographic_events = demographic_events_ex, \n",
    "    recombination_rate = 1e-6\n",
    ")"
   ]
  },
  {
   "cell_type": "markdown",
   "metadata": {},
   "source": [
    "### Mass migration\n",
    "\n",
    "`MassMigration` objects are used to specify one-off events in which some fraction of a population moves into another population. \n",
    "These are useful for specifying divergence and admixture events.\n",
    "\n",
    "You'll need to provide the time of the event in generations, as well as the ID of the `source` and `dest`ination populations, as well as a migration proportion (which defaults to 1.0).\n",
    "Note that these are viewed as backwards-in-time events, so `source` is the population that receives migrants from `dest`.\n",
    "\n",
    "<p><img src=\"pics/population-structure-3.png\" alt=\"\" width=\"50%\"/></p>\n",
    "\n",
    "For example, the following specifies that 50 generations ago, 30% of population 0 was a migrant from population 1."
   ]
  },
  {
   "cell_type": "code",
   "execution_count": 23,
   "metadata": {},
   "outputs": [],
   "source": [
    "admixture_event  = msprime.MassMigration(time = 50, source = 0, dest = 1, proportion = 0.3)"
   ]
  },
  {
   "cell_type": "markdown",
   "metadata": {},
   "source": [
    "Any `MassMigration`s can be added into the list of `demographic_events` supplied to `simulate`."
   ]
  },
  {
   "cell_type": "code",
   "execution_count": 24,
   "metadata": {},
   "outputs": [],
   "source": [
    "ts = msprime.simulate(population_configurations = [pop0, pop1], migration_matrix = M, \n",
    "                      demographic_events = [admixture_event],\n",
    "                      random_seed = 12, length = 1000, recombination_rate = 1e-4, mutation_rate = 7e-4)"
   ]
  },
  {
   "cell_type": "markdown",
   "metadata": {},
   "source": [
    "`MassMigration` objects can also be used to specify divergence events, but we must take some care.\n",
    "\n",
    "The following specifies that 200 generations ago, 100% of population 1 was a migrant from population 0."
   ]
  },
  {
   "cell_type": "code",
   "execution_count": 25,
   "metadata": {},
   "outputs": [],
   "source": [
    "divergence_event = msprime.MassMigration(time = 200, source = 1, dest = 0, proportion = 1)"
   ]
  },
  {
   "cell_type": "markdown",
   "metadata": {},
   "source": [
    "We'll add this to our list of `demographic_events`."
   ]
  },
  {
   "cell_type": "code",
   "execution_count": 26,
   "metadata": {},
   "outputs": [],
   "source": [
    "ts = msprime.simulate(population_configurations = [pop0, pop1], migration_matrix = M, \n",
    "                      demographic_events = [admixture_event, divergence_event],\n",
    "                      random_seed = 14, length = 1000, recombination_rate = 1e-6)"
   ]
  },
  {
   "cell_type": "markdown",
   "metadata": {},
   "source": [
    "However, when we look at the population IDs corresponding to the the nodes from more than 200 generations ago, there are still some nodes from both populations. \n",
    "This is not what what we'd expect to see if we'd correctly simulated a divergence event!"
   ]
  },
  {
   "cell_type": "code",
   "execution_count": 27,
   "metadata": {},
   "outputs": [
    {
     "data": {
      "text/plain": [
       "[0, 0, 0, 0, 1, 1, 1, 1]"
      ]
     },
     "execution_count": 27,
     "metadata": {},
     "output_type": "execute_result"
    }
   ],
   "source": [
    "[u.population for u in ts.nodes() if u.time > 200]"
   ]
  },
  {
   "cell_type": "markdown",
   "metadata": {},
   "source": [
    "The reason is that at present, we are simulating a situation in which population 1 exists prior to generation 200, but is completely replaced by migrants from population 0 at time = 200. And because we've specified a migration matrix, there will still be some migrants from population 0 to population 1 in prior generations. \n",
    "\n",
    "<p><img src=\"pics/population-structure-4.png\" alt=\"\" width=\"50%\"/></p>\n",
    "\n",
    "We can fix this by also specifying that prior to time = 200, population 1 had no migration from population 0. "
   ]
  },
  {
   "cell_type": "code",
   "execution_count": 28,
   "metadata": {},
   "outputs": [],
   "source": [
    "divergence_rate_change = msprime.MigrationRateChange(time = 200, rate = 0, matrix_index=None)"
   ]
  },
  {
   "cell_type": "code",
   "execution_count": 29,
   "metadata": {},
   "outputs": [],
   "source": [
    "ts = msprime.simulate(population_configurations = [pop0, pop1], migration_matrix = M, \n",
    "                      demographic_events = [admixture_event, divergence_event, divergence_rate_change],\n",
    "                      random_seed = 14, length = 1000, recombination_rate = 1e-6)"
   ]
  },
  {
   "cell_type": "markdown",
   "metadata": {},
   "source": [
    "Now all ancestral nodes prior to generation 200 are exclusively from population 0. Hooray!\n",
    "\n",
    "<p><img src=\"pics/population-structure-5.png\" alt=\"\" width=\"50%\"/></p>"
   ]
  },
  {
   "cell_type": "code",
   "execution_count": 30,
   "metadata": {},
   "outputs": [
    {
     "data": {
      "text/plain": [
       "[0, 0, 0, 0, 0, 0, 0, 0]"
      ]
     },
     "execution_count": 30,
     "metadata": {},
     "output_type": "execute_result"
    }
   ],
   "source": [
    "[u.population for u in ts.nodes() if u.time > 200]"
   ]
  },
  {
   "cell_type": "code",
   "execution_count": 31,
   "metadata": {},
   "outputs": [
    {
     "data": {
      "image/svg+xml": [
       "<svg baseProfile=\"full\" height=\"200\" version=\"1.1\" width=\"200\" xmlns=\"http://www.w3.org/2000/svg\" xmlns:ev=\"http://www.w3.org/2001/xml-events\" xmlns:xlink=\"http://www.w3.org/1999/xlink\"><defs/><g id=\"lines\" stroke=\"black\"><line x1=\"46.875\" x2=\"46.875\" y1=\"124.51302133911037\" y2=\"20.0\"/><line x1=\"46.875\" x2=\"92.1875\" y1=\"20.0\" y2=\"20.0\"/><line x1=\"25.0\" x2=\"25.0\" y1=\"180.0\" y2=\"124.51302133911037\"/><line x1=\"25.0\" x2=\"46.875\" y1=\"124.51302133911037\" y2=\"124.51302133911037\"/><line x1=\"68.75\" x2=\"68.75\" y1=\"127.90931678183216\" y2=\"124.51302133911037\"/><line x1=\"68.75\" x2=\"46.875\" y1=\"124.51302133911037\" y2=\"124.51302133911037\"/><line x1=\"50.0\" x2=\"50.0\" y1=\"180.0\" y2=\"127.90931678183216\"/><line x1=\"50.0\" x2=\"68.75\" y1=\"127.90931678183216\" y2=\"127.90931678183216\"/><line x1=\"87.5\" x2=\"87.5\" y1=\"142.6170997109273\" y2=\"127.90931678183216\"/><line x1=\"87.5\" x2=\"68.75\" y1=\"127.90931678183216\" y2=\"127.90931678183216\"/><line x1=\"75.0\" x2=\"75.0\" y1=\"180.0\" y2=\"142.6170997109273\"/><line x1=\"75.0\" x2=\"87.5\" y1=\"142.6170997109273\" y2=\"142.6170997109273\"/><line x1=\"100.0\" x2=\"100.0\" y1=\"180.0\" y2=\"142.6170997109273\"/><line x1=\"100.0\" x2=\"87.5\" y1=\"142.6170997109273\" y2=\"142.6170997109273\"/><line x1=\"137.5\" x2=\"137.5\" y1=\"112.26914556233078\" y2=\"20.0\"/><line x1=\"137.5\" x2=\"92.1875\" y1=\"20.0\" y2=\"20.0\"/><line x1=\"125.0\" x2=\"125.0\" y1=\"180.0\" y2=\"112.26914556233078\"/><line x1=\"125.0\" x2=\"137.5\" y1=\"112.26914556233078\" y2=\"112.26914556233078\"/><line x1=\"150.0\" x2=\"150.0\" y1=\"180.0\" y2=\"112.26914556233078\"/><line x1=\"150.0\" x2=\"137.5\" y1=\"112.26914556233078\" y2=\"112.26914556233078\"/></g><g fill=\"black\" id=\"nodes\"><circle cx=\"92.1875\" cy=\"20.0\" fill=\"red\" r=\"3\"/><circle cx=\"46.875\" cy=\"124.51302133911037\" fill=\"red\" r=\"3\"/><circle cx=\"25.0\" cy=\"180.0\" fill=\"red\" r=\"3\"/><circle cx=\"68.75\" cy=\"127.90931678183216\" fill=\"red\" r=\"3\"/><circle cx=\"50.0\" cy=\"180.0\" fill=\"red\" r=\"3\"/><circle cx=\"87.5\" cy=\"142.6170997109273\" fill=\"blue\" r=\"3\"/><circle cx=\"75.0\" cy=\"180.0\" fill=\"red\" r=\"3\"/><circle cx=\"100.0\" cy=\"180.0\" fill=\"blue\" r=\"3\"/><circle cx=\"137.5\" cy=\"112.26914556233078\" fill=\"red\" r=\"3\"/><circle cx=\"125.0\" cy=\"180.0\" fill=\"blue\" r=\"3\"/><circle cx=\"150.0\" cy=\"180.0\" fill=\"blue\" r=\"3\"/></g><g fill=\"red\" id=\"mutations\"/><g font-size=\"14\" text-anchor=\"start\"><text x=\"73.75\" y=\"122.90931678183216\">8</text><text x=\"92.5\" y=\"137.6170997109273\">6</text><text x=\"142.5\" y=\"107.26914556233078\">10</text></g><g font-size=\"14\" text-anchor=\"end\"><text x=\"41.875\" y=\"119.51302133911037\">9</text></g><g font-size=\"14\" text-anchor=\"middle\"><text x=\"92.1875\" y=\"15.0\">13</text><text x=\"25.0\" y=\"200.0\">0</text><text x=\"50.0\" y=\"200.0\">1</text><text x=\"75.0\" y=\"200.0\">2</text><text x=\"100.0\" y=\"200.0\">5</text><text x=\"125.0\" y=\"200.0\">3</text><text x=\"150.0\" y=\"200.0\">4</text></g><g alignment-baseline=\"middle\" font-size=\"14\" font-style=\"italic\" text-anchor=\"start\"/><g alignment-baseline=\"middle\" font-size=\"14\" font-style=\"italic\" text-anchor=\"end\"/></svg>"
      ],
      "text/plain": [
       "<IPython.core.display.SVG object>"
      ]
     },
     "metadata": {},
     "output_type": "display_data"
    },
    {
     "data": {
      "image/svg+xml": [
       "<svg baseProfile=\"full\" height=\"200\" version=\"1.1\" width=\"200\" xmlns=\"http://www.w3.org/2000/svg\" xmlns:ev=\"http://www.w3.org/2001/xml-events\" xmlns:xlink=\"http://www.w3.org/1999/xlink\"><defs/><g id=\"lines\" stroke=\"black\"><line x1=\"46.875\" x2=\"46.875\" y1=\"121.84655106654509\" y2=\"20.0\"/><line x1=\"46.875\" x2=\"92.1875\" y1=\"20.0\" y2=\"20.0\"/><line x1=\"25.0\" x2=\"25.0\" y1=\"180.0\" y2=\"121.84655106654509\"/><line x1=\"25.0\" x2=\"46.875\" y1=\"121.84655106654509\" y2=\"121.84655106654509\"/><line x1=\"68.75\" x2=\"68.75\" y1=\"125.40605815014956\" y2=\"121.84655106654509\"/><line x1=\"68.75\" x2=\"46.875\" y1=\"121.84655106654509\" y2=\"121.84655106654509\"/><line x1=\"50.0\" x2=\"50.0\" y1=\"180.0\" y2=\"125.40605815014956\"/><line x1=\"50.0\" x2=\"68.75\" y1=\"125.40605815014956\" y2=\"125.40605815014956\"/><line x1=\"87.5\" x2=\"87.5\" y1=\"140.82063512177956\" y2=\"125.40605815014956\"/><line x1=\"87.5\" x2=\"68.75\" y1=\"125.40605815014956\" y2=\"125.40605815014956\"/><line x1=\"75.0\" x2=\"75.0\" y1=\"180.0\" y2=\"140.82063512177956\"/><line x1=\"75.0\" x2=\"87.5\" y1=\"140.82063512177956\" y2=\"140.82063512177956\"/><line x1=\"100.0\" x2=\"100.0\" y1=\"180.0\" y2=\"140.82063512177956\"/><line x1=\"100.0\" x2=\"87.5\" y1=\"140.82063512177956\" y2=\"140.82063512177956\"/><line x1=\"137.5\" x2=\"137.5\" y1=\"109.01428623763684\" y2=\"20.0\"/><line x1=\"137.5\" x2=\"92.1875\" y1=\"20.0\" y2=\"20.0\"/><line x1=\"125.0\" x2=\"125.0\" y1=\"180.0\" y2=\"109.01428623763684\"/><line x1=\"125.0\" x2=\"137.5\" y1=\"109.01428623763684\" y2=\"109.01428623763684\"/><line x1=\"150.0\" x2=\"150.0\" y1=\"180.0\" y2=\"109.01428623763684\"/><line x1=\"150.0\" x2=\"137.5\" y1=\"109.01428623763684\" y2=\"109.01428623763684\"/></g><g fill=\"black\" id=\"nodes\"><circle cx=\"92.1875\" cy=\"20.0\" fill=\"red\" r=\"3\"/><circle cx=\"46.875\" cy=\"121.84655106654509\" fill=\"red\" r=\"3\"/><circle cx=\"25.0\" cy=\"180.0\" fill=\"red\" r=\"3\"/><circle cx=\"68.75\" cy=\"125.40605815014956\" fill=\"red\" r=\"3\"/><circle cx=\"50.0\" cy=\"180.0\" fill=\"red\" r=\"3\"/><circle cx=\"87.5\" cy=\"140.82063512177956\" fill=\"blue\" r=\"3\"/><circle cx=\"75.0\" cy=\"180.0\" fill=\"red\" r=\"3\"/><circle cx=\"100.0\" cy=\"180.0\" fill=\"blue\" r=\"3\"/><circle cx=\"137.5\" cy=\"109.01428623763684\" fill=\"red\" r=\"3\"/><circle cx=\"125.0\" cy=\"180.0\" fill=\"blue\" r=\"3\"/><circle cx=\"150.0\" cy=\"180.0\" fill=\"blue\" r=\"3\"/></g><g fill=\"red\" id=\"mutations\"/><g font-size=\"14\" text-anchor=\"start\"><text x=\"73.75\" y=\"120.40605815014956\">8</text><text x=\"92.5\" y=\"135.82063512177956\">6</text><text x=\"142.5\" y=\"104.01428623763684\">10</text></g><g font-size=\"14\" text-anchor=\"end\"><text x=\"41.875\" y=\"116.84655106654509\">9</text></g><g font-size=\"14\" text-anchor=\"middle\"><text x=\"92.1875\" y=\"15.0\">11</text><text x=\"25.0\" y=\"200.0\">0</text><text x=\"50.0\" y=\"200.0\">1</text><text x=\"75.0\" y=\"200.0\">2</text><text x=\"100.0\" y=\"200.0\">5</text><text x=\"125.0\" y=\"200.0\">3</text><text x=\"150.0\" y=\"200.0\">4</text></g><g alignment-baseline=\"middle\" font-size=\"14\" font-style=\"italic\" text-anchor=\"start\"/><g alignment-baseline=\"middle\" font-size=\"14\" font-style=\"italic\" text-anchor=\"end\"/></svg>"
      ],
      "text/plain": [
       "<IPython.core.display.SVG object>"
      ]
     },
     "metadata": {},
     "output_type": "display_data"
    },
    {
     "data": {
      "image/svg+xml": [
       "<svg baseProfile=\"full\" height=\"200\" version=\"1.1\" width=\"200\" xmlns=\"http://www.w3.org/2000/svg\" xmlns:ev=\"http://www.w3.org/2001/xml-events\" xmlns:xlink=\"http://www.w3.org/1999/xlink\"><defs/><g id=\"lines\" stroke=\"black\"><line x1=\"56.25\" x2=\"56.25\" y1=\"121.84655106654509\" y2=\"20.0\"/><line x1=\"56.25\" x2=\"103.125\" y1=\"20.0\" y2=\"20.0\"/><line x1=\"25.0\" x2=\"25.0\" y1=\"180.0\" y2=\"121.84655106654509\"/><line x1=\"25.0\" x2=\"56.25\" y1=\"121.84655106654509\" y2=\"121.84655106654509\"/><line x1=\"87.5\" x2=\"87.5\" y1=\"125.40605815014956\" y2=\"121.84655106654509\"/><line x1=\"87.5\" x2=\"56.25\" y1=\"121.84655106654509\" y2=\"121.84655106654509\"/><line x1=\"62.5\" x2=\"62.5\" y1=\"140.82063512177956\" y2=\"125.40605815014956\"/><line x1=\"62.5\" x2=\"87.5\" y1=\"125.40605815014956\" y2=\"125.40605815014956\"/><line x1=\"50.0\" x2=\"50.0\" y1=\"180.0\" y2=\"140.82063512177956\"/><line x1=\"50.0\" x2=\"62.5\" y1=\"140.82063512177956\" y2=\"140.82063512177956\"/><line x1=\"75.0\" x2=\"75.0\" y1=\"180.0\" y2=\"140.82063512177956\"/><line x1=\"75.0\" x2=\"62.5\" y1=\"140.82063512177956\" y2=\"140.82063512177956\"/><line x1=\"112.5\" x2=\"112.5\" y1=\"131.04013412797147\" y2=\"125.40605815014956\"/><line x1=\"112.5\" x2=\"87.5\" y1=\"125.40605815014956\" y2=\"125.40605815014956\"/><line x1=\"100.0\" x2=\"100.0\" y1=\"180.0\" y2=\"131.04013412797147\"/><line x1=\"100.0\" x2=\"112.5\" y1=\"131.04013412797147\" y2=\"131.04013412797147\"/><line x1=\"125.0\" x2=\"125.0\" y1=\"180.0\" y2=\"131.04013412797147\"/><line x1=\"125.0\" x2=\"112.5\" y1=\"131.04013412797147\" y2=\"131.04013412797147\"/><line x1=\"150.0\" x2=\"150.0\" y1=\"180.0\" y2=\"20.0\"/><line x1=\"150.0\" x2=\"103.125\" y1=\"20.0\" y2=\"20.0\"/></g><g fill=\"black\" id=\"nodes\"><circle cx=\"103.125\" cy=\"20.0\" fill=\"red\" r=\"3\"/><circle cx=\"56.25\" cy=\"121.84655106654509\" fill=\"red\" r=\"3\"/><circle cx=\"25.0\" cy=\"180.0\" fill=\"red\" r=\"3\"/><circle cx=\"87.5\" cy=\"125.40605815014956\" fill=\"red\" r=\"3\"/><circle cx=\"62.5\" cy=\"140.82063512177956\" fill=\"blue\" r=\"3\"/><circle cx=\"50.0\" cy=\"180.0\" fill=\"red\" r=\"3\"/><circle cx=\"75.0\" cy=\"180.0\" fill=\"blue\" r=\"3\"/><circle cx=\"112.5\" cy=\"131.04013412797147\" fill=\"red\" r=\"3\"/><circle cx=\"100.0\" cy=\"180.0\" fill=\"red\" r=\"3\"/><circle cx=\"125.0\" cy=\"180.0\" fill=\"blue\" r=\"3\"/><circle cx=\"150.0\" cy=\"180.0\" fill=\"blue\" r=\"3\"/></g><g fill=\"red\" id=\"mutations\"/><g font-size=\"14\" text-anchor=\"start\"><text x=\"92.5\" y=\"120.40605815014956\">8</text><text x=\"117.5\" y=\"126.04013412797147\">7</text></g><g font-size=\"14\" text-anchor=\"end\"><text x=\"51.25\" y=\"116.84655106654509\">9</text><text x=\"57.5\" y=\"135.82063512177956\">6</text></g><g font-size=\"14\" text-anchor=\"middle\"><text x=\"103.125\" y=\"15.0\">11</text><text x=\"25.0\" y=\"200.0\">0</text><text x=\"50.0\" y=\"200.0\">2</text><text x=\"75.0\" y=\"200.0\">5</text><text x=\"100.0\" y=\"200.0\">1</text><text x=\"125.0\" y=\"200.0\">4</text><text x=\"150.0\" y=\"200.0\">3</text></g><g alignment-baseline=\"middle\" font-size=\"14\" font-style=\"italic\" text-anchor=\"start\"/><g alignment-baseline=\"middle\" font-size=\"14\" font-style=\"italic\" text-anchor=\"end\"/></svg>"
      ],
      "text/plain": [
       "<IPython.core.display.SVG object>"
      ]
     },
     "metadata": {},
     "output_type": "display_data"
    },
    {
     "data": {
      "image/svg+xml": [
       "<svg baseProfile=\"full\" height=\"200\" version=\"1.1\" width=\"200\" xmlns=\"http://www.w3.org/2000/svg\" xmlns:ev=\"http://www.w3.org/2001/xml-events\" xmlns:xlink=\"http://www.w3.org/1999/xlink\"><defs/><g id=\"lines\" stroke=\"black\"><line x1=\"25.0\" x2=\"25.0\" y1=\"180.0\" y2=\"20.0\"/><line x1=\"25.0\" x2=\"69.53125\" y1=\"20.0\" y2=\"20.0\"/><line x1=\"114.0625\" x2=\"114.0625\" y1=\"96.10188951900939\" y2=\"20.0\"/><line x1=\"114.0625\" x2=\"69.53125\" y1=\"20.0\" y2=\"20.0\"/><line x1=\"78.125\" x2=\"78.125\" y1=\"149.50647197831472\" y2=\"96.10188951900939\"/><line x1=\"78.125\" x2=\"114.0625\" y1=\"96.10188951900939\" y2=\"96.10188951900939\"/><line x1=\"50.0\" x2=\"50.0\" y1=\"180.0\" y2=\"149.50647197831472\"/><line x1=\"50.0\" x2=\"78.125\" y1=\"149.50647197831472\" y2=\"149.50647197831472\"/><line x1=\"106.25\" x2=\"106.25\" y1=\"151.37294646930295\" y2=\"149.50647197831472\"/><line x1=\"106.25\" x2=\"78.125\" y1=\"149.50647197831472\" y2=\"149.50647197831472\"/><line x1=\"87.5\" x2=\"87.5\" y1=\"159.45578323045012\" y2=\"151.37294646930295\"/><line x1=\"87.5\" x2=\"106.25\" y1=\"151.37294646930295\" y2=\"151.37294646930295\"/><line x1=\"75.0\" x2=\"75.0\" y1=\"180.0\" y2=\"159.45578323045012\"/><line x1=\"75.0\" x2=\"87.5\" y1=\"159.45578323045012\" y2=\"159.45578323045012\"/><line x1=\"100.0\" x2=\"100.0\" y1=\"180.0\" y2=\"159.45578323045012\"/><line x1=\"100.0\" x2=\"87.5\" y1=\"159.45578323045012\" y2=\"159.45578323045012\"/><line x1=\"125.0\" x2=\"125.0\" y1=\"180.0\" y2=\"151.37294646930295\"/><line x1=\"125.0\" x2=\"106.25\" y1=\"151.37294646930295\" y2=\"151.37294646930295\"/><line x1=\"150.0\" x2=\"150.0\" y1=\"180.0\" y2=\"96.10188951900939\"/><line x1=\"150.0\" x2=\"114.0625\" y1=\"96.10188951900939\" y2=\"96.10188951900939\"/></g><g fill=\"black\" id=\"nodes\"><circle cx=\"69.53125\" cy=\"20.0\" fill=\"red\" r=\"3\"/><circle cx=\"25.0\" cy=\"180.0\" fill=\"blue\" r=\"3\"/><circle cx=\"114.0625\" cy=\"96.10188951900939\" fill=\"red\" r=\"3\"/><circle cx=\"78.125\" cy=\"149.50647197831472\" fill=\"red\" r=\"3\"/><circle cx=\"50.0\" cy=\"180.0\" fill=\"red\" r=\"3\"/><circle cx=\"106.25\" cy=\"151.37294646930295\" fill=\"red\" r=\"3\"/><circle cx=\"87.5\" cy=\"159.45578323045012\" fill=\"blue\" r=\"3\"/><circle cx=\"75.0\" cy=\"180.0\" fill=\"red\" r=\"3\"/><circle cx=\"100.0\" cy=\"180.0\" fill=\"blue\" r=\"3\"/><circle cx=\"125.0\" cy=\"180.0\" fill=\"red\" r=\"3\"/><circle cx=\"150.0\" cy=\"180.0\" fill=\"blue\" r=\"3\"/></g><g fill=\"red\" id=\"mutations\"/><g font-size=\"14\" text-anchor=\"start\"><text x=\"119.0625\" y=\"91.10188951900939\">11</text><text x=\"111.25\" y=\"146.37294646930295\">8</text></g><g font-size=\"14\" text-anchor=\"end\"><text x=\"73.125\" y=\"144.50647197831472\">9</text><text x=\"82.5\" y=\"154.45578323045012\">6</text></g><g font-size=\"14\" text-anchor=\"middle\"><text x=\"69.53125\" y=\"15.0\">14</text><text x=\"25.0\" y=\"200.0\">4</text><text x=\"50.0\" y=\"200.0\">0</text><text x=\"75.0\" y=\"200.0\">2</text><text x=\"100.0\" y=\"200.0\">5</text><text x=\"125.0\" y=\"200.0\">1</text><text x=\"150.0\" y=\"200.0\">3</text></g><g alignment-baseline=\"middle\" font-size=\"14\" font-style=\"italic\" text-anchor=\"start\"/><g alignment-baseline=\"middle\" font-size=\"14\" font-style=\"italic\" text-anchor=\"end\"/></svg>"
      ],
      "text/plain": [
       "<IPython.core.display.SVG object>"
      ]
     },
     "metadata": {},
     "output_type": "display_data"
    },
    {
     "data": {
      "image/svg+xml": [
       "<svg baseProfile=\"full\" height=\"200\" version=\"1.1\" width=\"200\" xmlns=\"http://www.w3.org/2000/svg\" xmlns:ev=\"http://www.w3.org/2001/xml-events\" xmlns:xlink=\"http://www.w3.org/1999/xlink\"><defs/><g id=\"lines\" stroke=\"black\"><line x1=\"25.0\" x2=\"25.0\" y1=\"180.0\" y2=\"20.0\"/><line x1=\"25.0\" x2=\"53.125\" y1=\"20.0\" y2=\"20.0\"/><line x1=\"81.25\" x2=\"81.25\" y1=\"96.10188951900939\" y2=\"20.0\"/><line x1=\"81.25\" x2=\"53.125\" y1=\"20.0\" y2=\"20.0\"/><line x1=\"50.0\" x2=\"50.0\" y1=\"180.0\" y2=\"96.10188951900939\"/><line x1=\"50.0\" x2=\"81.25\" y1=\"96.10188951900939\" y2=\"96.10188951900939\"/><line x1=\"112.5\" x2=\"112.5\" y1=\"151.37294646930295\" y2=\"96.10188951900939\"/><line x1=\"112.5\" x2=\"81.25\" y1=\"96.10188951900939\" y2=\"96.10188951900939\"/><line x1=\"87.5\" x2=\"87.5\" y1=\"159.45578323045012\" y2=\"151.37294646930295\"/><line x1=\"87.5\" x2=\"112.5\" y1=\"151.37294646930295\" y2=\"151.37294646930295\"/><line x1=\"75.0\" x2=\"75.0\" y1=\"180.0\" y2=\"159.45578323045012\"/><line x1=\"75.0\" x2=\"87.5\" y1=\"159.45578323045012\" y2=\"159.45578323045012\"/><line x1=\"100.0\" x2=\"100.0\" y1=\"180.0\" y2=\"159.45578323045012\"/><line x1=\"100.0\" x2=\"87.5\" y1=\"159.45578323045012\" y2=\"159.45578323045012\"/><line x1=\"137.5\" x2=\"137.5\" y1=\"154.32724852458793\" y2=\"151.37294646930295\"/><line x1=\"137.5\" x2=\"112.5\" y1=\"151.37294646930295\" y2=\"151.37294646930295\"/><line x1=\"125.0\" x2=\"125.0\" y1=\"180.0\" y2=\"154.32724852458793\"/><line x1=\"125.0\" x2=\"137.5\" y1=\"154.32724852458793\" y2=\"154.32724852458793\"/><line x1=\"150.0\" x2=\"150.0\" y1=\"180.0\" y2=\"154.32724852458793\"/><line x1=\"150.0\" x2=\"137.5\" y1=\"154.32724852458793\" y2=\"154.32724852458793\"/></g><g fill=\"black\" id=\"nodes\"><circle cx=\"53.125\" cy=\"20.0\" fill=\"red\" r=\"3\"/><circle cx=\"25.0\" cy=\"180.0\" fill=\"blue\" r=\"3\"/><circle cx=\"81.25\" cy=\"96.10188951900939\" fill=\"red\" r=\"3\"/><circle cx=\"50.0\" cy=\"180.0\" fill=\"blue\" r=\"3\"/><circle cx=\"112.5\" cy=\"151.37294646930295\" fill=\"red\" r=\"3\"/><circle cx=\"87.5\" cy=\"159.45578323045012\" fill=\"blue\" r=\"3\"/><circle cx=\"75.0\" cy=\"180.0\" fill=\"red\" r=\"3\"/><circle cx=\"100.0\" cy=\"180.0\" fill=\"blue\" r=\"3\"/><circle cx=\"137.5\" cy=\"154.32724852458793\" fill=\"red\" r=\"3\"/><circle cx=\"125.0\" cy=\"180.0\" fill=\"red\" r=\"3\"/><circle cx=\"150.0\" cy=\"180.0\" fill=\"red\" r=\"3\"/></g><g fill=\"red\" id=\"mutations\"/><g font-size=\"14\" text-anchor=\"start\"><text x=\"86.25\" y=\"91.10188951900939\">11</text><text x=\"117.5\" y=\"146.37294646930295\">8</text><text x=\"142.5\" y=\"149.32724852458793\">7</text></g><g font-size=\"14\" text-anchor=\"end\"><text x=\"82.5\" y=\"154.45578323045012\">6</text></g><g font-size=\"14\" text-anchor=\"middle\"><text x=\"53.125\" y=\"15.0\">14</text><text x=\"25.0\" y=\"200.0\">4</text><text x=\"50.0\" y=\"200.0\">3</text><text x=\"75.0\" y=\"200.0\">2</text><text x=\"100.0\" y=\"200.0\">5</text><text x=\"125.0\" y=\"200.0\">0</text><text x=\"150.0\" y=\"200.0\">1</text></g><g alignment-baseline=\"middle\" font-size=\"14\" font-style=\"italic\" text-anchor=\"start\"/><g alignment-baseline=\"middle\" font-size=\"14\" font-style=\"italic\" text-anchor=\"end\"/></svg>"
      ],
      "text/plain": [
       "<IPython.core.display.SVG object>"
      ]
     },
     "metadata": {},
     "output_type": "display_data"
    },
    {
     "data": {
      "image/svg+xml": [
       "<svg baseProfile=\"full\" height=\"200\" version=\"1.1\" width=\"200\" xmlns=\"http://www.w3.org/2000/svg\" xmlns:ev=\"http://www.w3.org/2001/xml-events\" xmlns:xlink=\"http://www.w3.org/1999/xlink\"><defs/><g id=\"lines\" stroke=\"black\"><line x1=\"25.0\" x2=\"25.0\" y1=\"180.0\" y2=\"20.0\"/><line x1=\"25.0\" x2=\"53.125\" y1=\"20.0\" y2=\"20.0\"/><line x1=\"81.25\" x2=\"81.25\" y1=\"94.63199385909068\" y2=\"20.0\"/><line x1=\"81.25\" x2=\"53.125\" y1=\"20.0\" y2=\"20.0\"/><line x1=\"50.0\" x2=\"50.0\" y1=\"180.0\" y2=\"94.63199385909068\"/><line x1=\"50.0\" x2=\"81.25\" y1=\"94.63199385909068\" y2=\"94.63199385909068\"/><line x1=\"112.5\" x2=\"112.5\" y1=\"151.37294646930295\" y2=\"94.63199385909068\"/><line x1=\"112.5\" x2=\"81.25\" y1=\"94.63199385909068\" y2=\"94.63199385909068\"/><line x1=\"87.5\" x2=\"87.5\" y1=\"159.45578323045012\" y2=\"151.37294646930295\"/><line x1=\"87.5\" x2=\"112.5\" y1=\"151.37294646930295\" y2=\"151.37294646930295\"/><line x1=\"75.0\" x2=\"75.0\" y1=\"180.0\" y2=\"159.45578323045012\"/><line x1=\"75.0\" x2=\"87.5\" y1=\"159.45578323045012\" y2=\"159.45578323045012\"/><line x1=\"100.0\" x2=\"100.0\" y1=\"180.0\" y2=\"159.45578323045012\"/><line x1=\"100.0\" x2=\"87.5\" y1=\"159.45578323045012\" y2=\"159.45578323045012\"/><line x1=\"137.5\" x2=\"137.5\" y1=\"154.32724852458793\" y2=\"151.37294646930295\"/><line x1=\"137.5\" x2=\"112.5\" y1=\"151.37294646930295\" y2=\"151.37294646930295\"/><line x1=\"125.0\" x2=\"125.0\" y1=\"180.0\" y2=\"154.32724852458793\"/><line x1=\"125.0\" x2=\"137.5\" y1=\"154.32724852458793\" y2=\"154.32724852458793\"/><line x1=\"150.0\" x2=\"150.0\" y1=\"180.0\" y2=\"154.32724852458793\"/><line x1=\"150.0\" x2=\"137.5\" y1=\"154.32724852458793\" y2=\"154.32724852458793\"/></g><g fill=\"black\" id=\"nodes\"><circle cx=\"53.125\" cy=\"20.0\" fill=\"red\" r=\"3\"/><circle cx=\"25.0\" cy=\"180.0\" fill=\"blue\" r=\"3\"/><circle cx=\"81.25\" cy=\"94.63199385909068\" fill=\"red\" r=\"3\"/><circle cx=\"50.0\" cy=\"180.0\" fill=\"blue\" r=\"3\"/><circle cx=\"112.5\" cy=\"151.37294646930295\" fill=\"red\" r=\"3\"/><circle cx=\"87.5\" cy=\"159.45578323045012\" fill=\"blue\" r=\"3\"/><circle cx=\"75.0\" cy=\"180.0\" fill=\"red\" r=\"3\"/><circle cx=\"100.0\" cy=\"180.0\" fill=\"blue\" r=\"3\"/><circle cx=\"137.5\" cy=\"154.32724852458793\" fill=\"red\" r=\"3\"/><circle cx=\"125.0\" cy=\"180.0\" fill=\"red\" r=\"3\"/><circle cx=\"150.0\" cy=\"180.0\" fill=\"red\" r=\"3\"/></g><g fill=\"red\" id=\"mutations\"/><g font-size=\"14\" text-anchor=\"start\"><text x=\"86.25\" y=\"89.63199385909068\">12</text><text x=\"117.5\" y=\"146.37294646930295\">8</text><text x=\"142.5\" y=\"149.32724852458793\">7</text></g><g font-size=\"14\" text-anchor=\"end\"><text x=\"82.5\" y=\"154.45578323045012\">6</text></g><g font-size=\"14\" text-anchor=\"middle\"><text x=\"53.125\" y=\"15.0\">14</text><text x=\"25.0\" y=\"200.0\">4</text><text x=\"50.0\" y=\"200.0\">3</text><text x=\"75.0\" y=\"200.0\">2</text><text x=\"100.0\" y=\"200.0\">5</text><text x=\"125.0\" y=\"200.0\">0</text><text x=\"150.0\" y=\"200.0\">1</text></g><g alignment-baseline=\"middle\" font-size=\"14\" font-style=\"italic\" text-anchor=\"start\"/><g alignment-baseline=\"middle\" font-size=\"14\" font-style=\"italic\" text-anchor=\"end\"/></svg>"
      ],
      "text/plain": [
       "<IPython.core.display.SVG object>"
      ]
     },
     "metadata": {},
     "output_type": "display_data"
    }
   ],
   "source": [
    "colour_map = {0:\"red\", 1:\"blue\"}\n",
    "node_colours = {u.id: colour_map[u.population] for u in ts.nodes()}\n",
    "\n",
    "for tree in ts.trees():\n",
    "    display(SVG(tree.draw(node_colours=node_colours)))"
   ]
  },
  {
   "cell_type": "markdown",
   "metadata": {},
   "source": [
    "<a id='change_pop_size_and_growth'></a>\n",
    "## 2.7 Changing population sizes or growth rates\n",
    "\n",
    "<p><img src=\"pics/population-structure-6.png\" alt=\"\" width=\"50%\"/></p>\n",
    "\n",
    "We may wish to specify changes to rates of population growth, or sudden changes in population size at a particular time. Both of these can be specified with `PopulationParametersChange` objects in the list of `demographic_events`."
   ]
  },
  {
   "cell_type": "code",
   "execution_count": 32,
   "metadata": {},
   "outputs": [],
   "source": [
    "# Bottleneck in Population 0 between 50 - 150 generations ago.\n",
    "pop0_bottleneck_ends = msprime.PopulationParametersChange(\n",
    "    time = 50, initial_size = 250, population = 0)\n",
    "pop0_bottleneck_starts = msprime.PopulationParametersChange(\n",
    "    time = 150, initial_size = 500, population = 0)\n",
    "\n",
    "# Exponential growth in Population 1 starting 50 generations ago.\n",
    "pop1_recent_growth = msprime.PopulationParametersChange(\n",
    "    time = 100, growth_rate = 0.01, population = 1)"
   ]
  },
  {
   "cell_type": "code",
   "execution_count": 33,
   "metadata": {},
   "outputs": [],
   "source": [
    "ts = msprime.simulate(\n",
    "    population_configurations = [pop0, pop1], migration_matrix = M, length = 1000,\n",
    "    demographic_events = [pop0_bottleneck_ends, pop1_recent_growth, pop0_bottleneck_starts],\n",
    "    random_seed = 17, recombination_rate = 1e-6)"
   ]
  },
  {
   "cell_type": "markdown",
   "metadata": {},
   "source": [
    "<a id='demography_debugger'></a>\n",
    "## 2.8 Using the Demography Debugger\n",
    "\n",
    "As we've seen, it's pretty easy to make mistakes when specifying demography!\n",
    "\n",
    "To help you spot these, `msprime` provides a debugger that prints out your population history in a more human-readable form. It's good to get into the habit of running this debugger before running your simulations."
   ]
  },
  {
   "cell_type": "code",
   "execution_count": 34,
   "metadata": {},
   "outputs": [
    {
     "name": "stdout",
     "output_type": "stream",
     "text": [
      "============================\n",
      "Epoch: 0 -- 50.0 generations\n",
      "============================\n",
      "     start     end      growth_rate |     0        1    \n",
      "   -------- --------       -------- | -------- -------- \n",
      "0 |   500      500                0 |     0      0.05   \n",
      "1 |   500      500                0 |   0.02       0    \n",
      "\n",
      "Events @ generation 50.0\n",
      "   - Mass migration: lineages move from 0 to 1 with probability 0.3\n",
      "================================\n",
      "Epoch: 50.0 -- 200.0 generations\n",
      "================================\n",
      "     start     end      growth_rate |     0        1    \n",
      "   -------- --------       -------- | -------- -------- \n",
      "0 |   500      500                0 |     0      0.05   \n",
      "1 |   500      500                0 |   0.02       0    \n",
      "\n",
      "Events @ generation 200.0\n",
      "   - Mass migration: lineages move from 1 to 0 with probability 1\n",
      "   - Migration rate change to 0 everywhere\n",
      "===============================\n",
      "Epoch: 200.0 -- inf generations\n",
      "===============================\n",
      "     start     end      growth_rate |     0        1    \n",
      "   -------- --------       -------- | -------- -------- \n",
      "0 |   500      500                0 |     0        0    \n",
      "1 |   500      500                0 |     0        0    \n",
      "\n"
     ]
    }
   ],
   "source": [
    "my_history = msprime.DemographyDebugger(\n",
    "    population_configurations=[pop0, pop1], migration_matrix = M, \n",
    "    demographic_events=[admixture_event, divergence_event, divergence_rate_change])\n",
    "\n",
    "my_history.print_history()"
   ]
  },
  {
   "cell_type": "code",
   "execution_count": null,
   "metadata": {},
   "outputs": [],
   "source": []
  },
  {
   "cell_type": "markdown",
   "metadata": {},
   "source": [
    "#### Exercising: simulating population divergence\n",
    "\n",
    "<p><img src=\"pics/population-structure-exercise-2.png\" alt=\"\" width=\"50%\"/></p>\n",
    "\n",
    "The code below specifies a simulation of two populations in which population 1 diverges from population 0 at time 200.\n",
    "\n",
    "Can you add a third population, population 2, that diverges from population 1 at time 150?"
   ]
  },
  {
   "cell_type": "code",
   "execution_count": 35,
   "metadata": {},
   "outputs": [],
   "source": [
    "pop_configs_ex = [\n",
    "    msprime.PopulationConfiguration(sample_size=3, initial_size = 500, growth_rate = 0.01),\n",
    "    msprime.PopulationConfiguration(sample_size=3, initial_size = 500, growth_rate = 0.01)]\n",
    "\n",
    "migration_rates_ex = np.array([\n",
    "[0, 0],\n",
    "[0, 0]])\n",
    "\n",
    "demographic_events_ex = [\n",
    "    msprime.MassMigration(time = 200, source = 1, dest = 0, proportion = 1)]\n",
    "\n",
    "# Simulate!\n",
    "ts_ex = msprime.simulate(\n",
    "    population_configurations = pop_configs_ex, \n",
    "    migration_matrix = migration_rates_ex, \n",
    "    length = 1000, \n",
    "    demographic_events = demographic_events_ex, \n",
    "    recombination_rate = 1e-6\n",
    ")"
   ]
  },
  {
   "cell_type": "code",
   "execution_count": null,
   "metadata": {},
   "outputs": [],
   "source": []
  }
 ],
 "metadata": {
  "kernelspec": {
   "display_name": "Python 3",
   "language": "python",
   "name": "python3"
  },
  "language_info": {
   "codemirror_mode": {
    "name": "ipython",
    "version": 3
   },
   "file_extension": ".py",
   "mimetype": "text/x-python",
   "name": "python",
   "nbconvert_exporter": "python",
   "pygments_lexer": "ipython3",
   "version": "3.7.3"
  }
 },
 "nbformat": 4,
 "nbformat_minor": 2
}
