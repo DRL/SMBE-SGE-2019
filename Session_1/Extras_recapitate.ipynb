{
 "cells": [
  {
   "cell_type": "code",
   "execution_count": null,
   "metadata": {},
   "outputs": [],
   "source": [
    "import os, subprocess, msprime, pyslim, tskit\n",
    "import numpy as np \n",
    "import matplotlib.pyplot as plt"
   ]
  },
  {
   "cell_type": "markdown",
   "metadata": {},
   "source": [
    "This notebook briefly introduces the powerful `recapitate` functionality of SLiM/msprime available in the `pyslim` package, as shown in Example 4 of this paper:\n",
    "\n",
    "https://onlinelibrary.wiley.com/doi/full/10.1111/1755-0998.12968\n",
    "\n",
    "Galloway, J., Messer, P. W., Haller, B. C., Kelleher, J., & Ralph, P. L. (2018). Tree-sequence recording in SLiM opens new horizons for forward-time simulation of whole genomes. Molecular Ecology Resources, (November 2018), 552–566. https://doi.org/10.1111/1755-0998.12968\n",
    "\n",
    "> In many applications one wishes to execute a non-neutral forward simulation beginning with an equilibrium amount of extant neutral genetic diversity, and the simulation needed to generate that pre-existing diversity, typically called the model “burn-in”, can take quite a long time – often much longer than it takes to execute the non-neutral portion of the simulation. For a model with a long chromosome or large population size, this burn-in can be so long as to limit the practical scale of the simulations that can be conducted. One solution to this is a “hybrid” approach, in which a forward simulation is initialized with the result of a (much faster) coalescent simulation (similar to Bhaskar 2014).\n",
    "\n",
    "Here is a SLiM script. It is:\n",
    "\n",
    " - simulating a tree sequence \n",
    " - holding a whole population, size 100 000\n",
    " - creating exactly one v strongly selected mutation at a site halfway through the simulated sequence\n",
    " - simulating forward-in-time until the mutation sweeps to fixation, or until 100 000 generations have passed (whichever happens first).\n"
   ]
  },
  {
   "cell_type": "code",
   "execution_count": null,
   "metadata": {},
   "outputs": [],
   "source": [
    "slim_script = '''\n",
    "initialize() { \n",
    "    initializeTreeSeq(); \n",
    "    initializeMutationRate(0); \n",
    "    initializeMutationType(\"m2\", 0.5, \"f\", 1.0); // fitness coeff = 1.0\n",
    "    m2.convertToSubstitution = F; \n",
    "    initializeGenomicElementType(\"g1\", m2, 1); \n",
    "    initializeGenomicElement(g1, 0, 1e6 - 1); \n",
    "    initializeRecombinationRate(3e-10);\n",
    "} \n",
    "\n",
    "1 late() { \n",
    "    sim.addSubpop(\"p1\", 100000);\n",
    "}\n",
    "\n",
    "100 late() { \n",
    "    sample(p1.genomes, 1).addNewDrawnMutation(m2, 5e5);\n",
    "}\n",
    "\n",
    "100:10000 late() { \n",
    "    mut = sim.mutationsOfType(m2); \n",
    "    if (mut.size() != 1) \n",
    "        stop(sim.generation + \": LOST\");\n",
    "    else if (sum(sim.mutationFrequencies(NULL, mut)) == 1.0)\n",
    "    { \n",
    "        sim.treeSeqOutput(\"ex4_TS_decap.trees\"); \n",
    "        sim.simulationFinished();\n",
    "    } \n",
    "}\n",
    "'''\n",
    "\n",
    "slim_file = open(\"slim_script.slim\", \"w\")\n",
    "slim_file.writelines(slim_script)\n",
    "slim_file.close()"
   ]
  },
  {
   "cell_type": "code",
   "execution_count": null,
   "metadata": {},
   "outputs": [],
   "source": [
    "%%time\n",
    "# slim_run = subprocess.check_call([\"slim\", \"slim_script.slim\"])\n",
    "slim_run = os.system(\"slim slim_script.slim\")"
   ]
  },
  {
   "cell_type": "markdown",
   "metadata": {},
   "source": [
    "The command above is equivalent to running this in the terminal:\n",
    "```\n",
    "slim slim_script.slim \n",
    "```\n",
    "After some time you should have a SLiM-generated tree-sequence file called `ex4_TS_decap.trees`.\n",
    "We'll load this using the `load` function in pyslim, and then use the `recapitate` method:"
   ]
  },
  {
   "cell_type": "code",
   "execution_count": null,
   "metadata": {},
   "outputs": [],
   "source": [
    "# Run the SLiM model and load the resulting .trees file \n",
    "ts = pyslim.load(\"ex4_TS_decap.trees\")"
   ]
  },
  {
   "cell_type": "code",
   "execution_count": null,
   "metadata": {},
   "outputs": [],
   "source": [
    "%%time\n",
    "\n",
    "# Recapitate\n",
    "recap = ts.recapitate(recombination_rate=3e-10, Ne=1e5, random_seed=131) "
   ]
  },
  {
   "cell_type": "markdown",
   "metadata": {},
   "source": [
    "What do we expect to see? The region surrounding the selected locus should be younger, and so have smaller tree heights.\n",
    "\n",
    "Indeed, this is what we see:"
   ]
  },
  {
   "cell_type": "code",
   "execution_count": null,
   "metadata": {},
   "outputs": [],
   "source": [
    "# Plot tree heights after recapitation.\n",
    "plt.hlines(100000, xmin=breakpoints[0], xmax=breakpoints[-1], linestyle='dashed',color='gray')\n",
    "# plt.vlines(500000, ymin=-150000, ymax=1200000, linestyle='dashed', color='gray')\n",
    "breakpoints = list(recap.breakpoints())[:-1]\n",
    "heights = []\n",
    "for tree in recap.trees():\n",
    "    root_node = tree.root\n",
    "    root_time = recap.node(root_node).time\n",
    "    heights.append(root_time)\n",
    "plt.step(breakpoints, heights, where='post') \n",
    "plt.show()"
   ]
  },
  {
   "cell_type": "markdown",
   "metadata": {},
   "source": [
    "## What have we saved?\n",
    "\n",
    "Our simulation took about 1 min (SLiM) + 0.5 sec (msprime).\n",
    "\n",
    "What if we'd only used SLiM instead?\n",
    "\n",
    "> Simulating the neutral burn‐in period in SLiM instead, with neutral mutations occurring at a rate of μ =10−7, would take an estimated 114.7 hr.\n",
    "\n",
    "```(⌐■_■) ヽ(°◇° )ノ ヽ(°◇° )ノ ヽ(°◇° )ノ ヽ(°◇° )ノ```"
   ]
  },
  {
   "cell_type": "code",
   "execution_count": null,
   "metadata": {},
   "outputs": [],
   "source": []
  }
 ],
 "metadata": {
  "kernelspec": {
   "display_name": "Python 3",
   "language": "python",
   "name": "python3"
  },
  "language_info": {
   "codemirror_mode": {
    "name": "ipython",
    "version": 3
   },
   "file_extension": ".py",
   "mimetype": "text/x-python",
   "name": "python",
   "nbconvert_exporter": "python",
   "pygments_lexer": "ipython3",
   "version": "3.7.3"
  }
 },
 "nbformat": 4,
 "nbformat_minor": 2
}
