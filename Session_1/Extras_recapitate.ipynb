{
 "cells": [
  {
   "cell_type": "code",
   "execution_count": 1,
   "metadata": {},
   "outputs": [],
   "source": [
    "import os, subprocess, msprime, pyslim, tskit\n",
    "import numpy as np \n",
    "import matplotlib.pyplot as plt"
   ]
  },
  {
   "cell_type": "markdown",
   "metadata": {},
   "source": [
    "This notebook briefly introduces the powerful `recapitate` functionality of SLiM/msprime, as shown in Example 4 of this:\n",
    "\n",
    "https://onlinelibrary.wiley.com/doi/full/10.1111/1755-0998.12968\n",
    "\n",
    "Galloway, J., Messer, P. W., Haller, B. C., Kelleher, J., & Ralph, P. L. (2018). Tree-sequence recording in SLiM opens new horizons for forward-time simulation of whole genomes. Molecular Ecology Resources, (November 2018), 552–566. https://doi.org/10.1111/1755-0998.12968\n",
    "\n",
    "This SLiM script is doing the following:\n",
    "\n",
    " - simulating a tree sequence \n",
    " - holding a whole population, size 100 000\n",
    " - containing exactly one v strongly selected locus halfway through the simulated sequence\n",
    " \n",
    "> Simulating the neutral burn‐in period in SLiM instead, with neutral mutations occurring at a rate of μ =10−7, would take an estimated 114.7 hr.'"
   ]
  },
  {
   "cell_type": "code",
   "execution_count": 2,
   "metadata": {},
   "outputs": [],
   "source": [
    "slim_script = '''\n",
    "initialize() { \n",
    "    initializeTreeSeq(); \n",
    "    initializeMutationRate(0); \n",
    "    initializeMutationType(\"m2\", 0.5, \"f\", 1.0); // selection  coeff = 1.0\n",
    "    m2.convertToSubstitution = F; \n",
    "    initializeGenomicElementType(\"g1\", m2, 1); \n",
    "    initializeGenomicElement(g1, 0, 1e6 - 1); \n",
    "    initializeRecombinationRate(3e-10);\n",
    "} \n",
    "\n",
    "1 late() { \n",
    "    sim.addSubpop(\"p1\", 100000);\n",
    "}\n",
    "\n",
    "100 late() { \n",
    "    sample(p1.genomes, 1).addNewDrawnMutation(m2, 5e5);\n",
    "}\n",
    "\n",
    "100:10000 late() { \n",
    "    mut = sim.mutationsOfType(m2); \n",
    "    if (mut.size() != 1) \n",
    "        stop(sim.generation + \": LOST\");\n",
    "    else if (sum(sim.mutationFrequencies(NULL, mut)) == 1.0)\n",
    "    { \n",
    "        sim.treeSeqOutput(\"ex4_TS_decap.trees\"); \n",
    "        sim.simulationFinished();\n",
    "    } \n",
    "}\n",
    "'''\n",
    "\n",
    "slim_file = open(\"slim_script.slim\", \"w\")\n",
    "slim_file.writelines(slim_script)\n",
    "slim_file.close()"
   ]
  },
  {
   "cell_type": "code",
   "execution_count": 3,
   "metadata": {},
   "outputs": [
    {
     "name": "stdout",
     "output_type": "stream",
     "text": [
      "CPU times: user 3.45 ms, sys: 2.5 ms, total: 5.95 ms\n",
      "Wall time: 2min 1s\n"
     ]
    }
   ],
   "source": [
    "%%time\n",
    "slim_run = os.system(\"slim slim_script.slim\")"
   ]
  },
  {
   "cell_type": "markdown",
   "metadata": {},
   "source": [
    "Above is equivalent to running this in the terminal:\n",
    "```\n",
    "slim slim_script.slim \n",
    "```\n",
    "After some time you should have a SLiM-generated tree-sequence file called `ex4_TS_decap.trees`:"
   ]
  },
  {
   "cell_type": "code",
   "execution_count": 4,
   "metadata": {},
   "outputs": [],
   "source": [
    "# Run the SLiM model and load the resulting .trees file \n",
    "# subprocess.check_output([\"slim\", \"-m\", \"-s\", \"2\", \"ex4_TS.slim\"]) \n",
    "ts = pyslim.load(\"ex4_TS_decap.trees\")\n",
    "# no simplify!\n",
    "\n",
    "# Recapitate\n",
    "recap = ts.recapitate(recombination_rate=3e-10, Ne=1e5, random_seed=131) \n",
    "recap.dump(\"ex4_TS_recap-1.trees\")"
   ]
  },
  {
   "cell_type": "code",
   "execution_count": 5,
   "metadata": {},
   "outputs": [],
   "source": [
    "# Run the SLiM model and load the resulting .trees file \n",
    "ts = pyslim.load(\"ex4_TS_decap.trees\")\n",
    "\n",
    "# Recapitate\n",
    "recap = ts.recapitate(recombination_rate=3e-10, Ne=1e5, random_seed=131) \n",
    "recap.dump(\"ex4_TS_recap.trees\")"
   ]
  },
  {
   "cell_type": "code",
   "execution_count": 6,
   "metadata": {},
   "outputs": [
    {
     "data": {
      "image/png": "[encoded data removed]",
      "text/plain": [
       "<Figure size 432x288 with 1 Axes>"
      ]
     },
     "metadata": {
      "needs_background": "light"
     },
     "output_type": "display_data"
    }
   ],
   "source": [
    "# Plot tree heights after recapitation \n",
    "breakpoints = list(recap.breakpoints())[:-1]\n",
    "heights = []\n",
    "for tree in recap.trees():\n",
    "    root_node = tree.root\n",
    "    root_time = recap.node(root_node).time\n",
    "    heights.append(root_time)\n",
    "plt.step(breakpoints, heights, where='post') \n",
    "plt.show()"
   ]
  },
  {
   "cell_type": "code",
   "execution_count": 7,
   "metadata": {},
   "outputs": [
    {
     "ename": "ValueError",
     "evalue": "More than one root exists. Use tree.roots instead",
     "output_type": "error",
     "traceback": [
      "\u001b[0;31m---------------------------------------------------------------------------\u001b[0m",
      "\u001b[0;31mValueError\u001b[0m                                Traceback (most recent call last)",
      "\u001b[0;32m<ipython-input-7-c12ee305f2da>\u001b[0m in \u001b[0;36m<module>\u001b[0;34m\u001b[0m\n\u001b[0;32m----> 1\u001b[0;31m \u001b[0mts\u001b[0m\u001b[0;34m.\u001b[0m\u001b[0mnode\u001b[0m\u001b[0;34m(\u001b[0m\u001b[0mts\u001b[0m\u001b[0;34m.\u001b[0m\u001b[0mfirst\u001b[0m\u001b[0;34m(\u001b[0m\u001b[0;34m)\u001b[0m\u001b[0;34m.\u001b[0m\u001b[0mroot\u001b[0m\u001b[0;34m)\u001b[0m\u001b[0;34m.\u001b[0m\u001b[0mtime\u001b[0m\u001b[0;34m\u001b[0m\u001b[0;34m\u001b[0m\u001b[0m\n\u001b[0m",
      "\u001b[0;32m/usr/local/lib/python3.7/site-packages/tskit/trees.py\u001b[0m in \u001b[0;36mroot\u001b[0;34m(self)\u001b[0m\n\u001b[1;32m    881\u001b[0m         \u001b[0mroot\u001b[0m \u001b[0;34m=\u001b[0m \u001b[0mself\u001b[0m\u001b[0;34m.\u001b[0m\u001b[0mleft_root\u001b[0m\u001b[0;34m\u001b[0m\u001b[0;34m\u001b[0m\u001b[0m\n\u001b[1;32m    882\u001b[0m         \u001b[0;32mif\u001b[0m \u001b[0mroot\u001b[0m \u001b[0;34m!=\u001b[0m \u001b[0mNULL\u001b[0m \u001b[0;32mand\u001b[0m \u001b[0mself\u001b[0m\u001b[0;34m.\u001b[0m\u001b[0mright_sib\u001b[0m\u001b[0;34m(\u001b[0m\u001b[0mroot\u001b[0m\u001b[0;34m)\u001b[0m \u001b[0;34m!=\u001b[0m \u001b[0mNULL\u001b[0m\u001b[0;34m:\u001b[0m\u001b[0;34m\u001b[0m\u001b[0;34m\u001b[0m\u001b[0m\n\u001b[0;32m--> 883\u001b[0;31m             \u001b[0;32mraise\u001b[0m \u001b[0mValueError\u001b[0m\u001b[0;34m(\u001b[0m\u001b[0;34m\"More than one root exists. Use tree.roots instead\"\u001b[0m\u001b[0;34m)\u001b[0m\u001b[0;34m\u001b[0m\u001b[0;34m\u001b[0m\u001b[0m\n\u001b[0m\u001b[1;32m    884\u001b[0m         \u001b[0;32mreturn\u001b[0m \u001b[0mroot\u001b[0m\u001b[0;34m\u001b[0m\u001b[0;34m\u001b[0m\u001b[0m\n\u001b[1;32m    885\u001b[0m \u001b[0;34m\u001b[0m\u001b[0m\n",
      "\u001b[0;31mValueError\u001b[0m: More than one root exists. Use tree.roots instead"
     ]
    }
   ],
   "source": [
    "ts.node(ts.first().root).time"
   ]
  },
  {
   "cell_type": "code",
   "execution_count": null,
   "metadata": {},
   "outputs": [],
   "source": []
  }
 ],
 "metadata": {
  "kernelspec": {
   "display_name": "Python 3",
   "language": "python",
   "name": "python3"
  },
  "language_info": {
   "codemirror_mode": {
    "name": "ipython",
    "version": 3
   },
   "file_extension": ".py",
   "mimetype": "text/x-python",
   "name": "python",
   "nbconvert_exporter": "python",
   "pygments_lexer": "ipython3",
   "version": "3.7.3"
  }
 },
 "nbformat": 4,
 "nbformat_minor": 2
}
